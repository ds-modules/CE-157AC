{
 "cells": [
  {
   "cell_type": "markdown",
   "metadata": {},
   "source": [
    "# CE 157AC Spring 2018\n",
    "## Assignment: Problem Set #1\n",
    "\n",
    "**Due:**  Friday, March 2, 2019 at 11:59 pm\n",
    "<br>\n",
    "*Submit via bCourses*\n",
    "<br>\n",
    "*Estimated Time: 60 minutes*"
   ]
  },
  {
   "cell_type": "markdown",
   "metadata": {},
   "source": [
    "*Note: If you want the option of partial-credit (in case you make calculation errors) you should include a clean, simple pdf of your data in the same file as your assignment*"
   ]
  },
  {
   "cell_type": "code",
   "execution_count": 1,
   "metadata": {},
   "outputs": [],
   "source": [
    "from datascience import *\n",
    "import hashlib\n",
    "import numpy as np"
   ]
  },
  {
   "cell_type": "markdown",
   "metadata": {},
   "source": [
    "## Part 1\n",
    "\n",
    "### Create a map of pollution in the San Francisco Bay Area\n",
    "\n",
    "1. Go to the Environmental Protection Agency’s EJView website: https://ejscreen.epa.gov/mapper/\n",
    "\n",
    "2. Enter a city in the Bay Area (e.g., Berkeley, CA), click search, and wait for the map to load. If you have trouble getting a map to load, try using a different web browser.\n",
    "\n",
    "3. Under “Add Maps” choose the following options:\n",
    "    - Additional Maps &rarr; Sites reporting to EPA &rarr; Toxic Releases (*These are based off of TRI (Toxic Release Inventory) sites*)\n",
    "    - More Demographics &rarr; 2012-2016 ACS\n",
    "        - **Category** : Population\n",
    "        - **Variable** : Minority Population\n",
    "        - **Method**  : Quantile *The percent of the population that is not Non-Hispanic White.*\n",
    "\n",
    "4. Use the arrows to zoom and pan across the areas the way you would with Google Maps. You can also increase the level of transparency of the demographic information for more clarity."
   ]
  },
  {
   "cell_type": "markdown",
   "metadata": {},
   "source": [
    "#### Question 1A\n",
    "What do you notice about the distribution of facilities emitting toxins in relation to community demographic makeup in the SF Bay Area? Notice that the markers for TRI facilities will symbolize more than one facility when you zoom out (click on them to see how many). [2-3 sentences]"
   ]
  },
  {
   "cell_type": "markdown",
   "metadata": {},
   "source": [
    "**Answer:**\n",
    "YOUR ANSWER HERE"
   ]
  },
  {
   "cell_type": "markdown",
   "metadata": {},
   "source": [
    "Under “Add Maps”, explore some of the other options. \n",
    "\n",
    "Click on the (i) next to each option to get more information about the data source. \n",
    "\n",
    "Use the print tool (or screenshots) to create **two maps** that together tell a story about pollution and community characteristics that you find particularly interesting or compelling. \n",
    "\n",
    "Now, we are going to add your two maps to this notebook. First, we'll need to upload the screenshots into your datahub. To do this, click the upload button on the top right-hand corner of the datahub file browser. Then select your files and upload them to datahub. \n",
    "![Demo](demo.png)\n",
    "Once both images have been uploaded, you can display them below by replacing the \"...\" with the filenames.png. Make sure to give them appropriate and descriptive titles."
   ]
  },
  {
   "cell_type": "markdown",
   "metadata": {},
   "source": [
    "###### Displaying maps (double click on this cell)\n",
    "\n",
    "**Map 1 Title**\n",
    "![Map1](...)\n",
    "\n",
    "**Map 2 Title**\n",
    "![Map2](...)"
   ]
  },
  {
   "cell_type": "markdown",
   "metadata": {},
   "source": [
    "#### Question 1B\n",
    "\n",
    "What pattern do you observe between the variables you’ve chosen to map? What do you find interesting about the pattern? [2 maps and 2-3 sentences of explanation for each]"
   ]
  },
  {
   "cell_type": "markdown",
   "metadata": {},
   "source": [
    "**Answer:**\n",
    "YOUR ANSWER HERE"
   ]
  },
  {
   "cell_type": "markdown",
   "metadata": {},
   "source": [
    "## Part 2\n",
    "\n",
    "### Calculate average toxic releases by poverty status\n",
    "\n",
    "The data relevant to this exploration is represented as a table shown below. We'll be using some simple Python to manipulate the data in ways that allows us to identify averages, proportions and more. You may remember some of the commands we will use from your introduction to Python notebook, but for a refresher we have a short demo below. The data comes from the EPA’s Toxic Release Inventory (TRI), which collects information on the emissions to air, water and land of major industrial facilities. The EPA has multiplied the pounds emitted by a toxicity factor that is higher for more toxic chemicals. The number of people living in poverty comes from the 2010 Census."
   ]
  },
  {
   "cell_type": "markdown",
   "metadata": {},
   "source": [
    "|Column    | Definition|\n",
    "|---------------|-------------------|\n",
    "| zipcode       | The zip code of the industrial facility (Integer)                                                             \n",
    "| releases      | Toxicity-weighted pounds of chemicals released to air or water from all TRI facilities within a one kilometer radius of the zip code (String)|\n",
    "| below_poverty | Number of people below the poverty line (String)|\n",
    "| above_poverty | Number of people above the poverty line (String)|"
   ]
  },
  {
   "cell_type": "code",
   "execution_count": 2,
   "metadata": {},
   "outputs": [
    {
     "data": {
      "text/html": [
       "<table border=\"1\" class=\"dataframe\">\n",
       "    <thead>\n",
       "        <tr>\n",
       "            <th>zipcode</th> <th>releases</th> <th>below_poverty</th> <th>above_poverty</th>\n",
       "        </tr>\n",
       "    </thead>\n",
       "    <tbody>\n",
       "        <tr>\n",
       "            <td>94509     </td> <td>1413711  </td> <td>23415        </td> <td>39024        </td>\n",
       "        </tr>\n",
       "        <tr>\n",
       "            <td>94518     </td> <td>56366    </td> <td>5864         </td> <td>20914        </td>\n",
       "        </tr>\n",
       "        <tr>\n",
       "            <td>94520     </td> <td>59481    </td> <td>16520        </td> <td>20688        </td>\n",
       "        </tr>\n",
       "        <tr>\n",
       "            <td>94525     </td> <td>21304051 </td> <td>691          </td> <td>2436         </td>\n",
       "        </tr>\n",
       "        <tr>\n",
       "            <td>94547     </td> <td>501841   </td> <td>2987         </td> <td>21105        </td>\n",
       "        </tr>\n",
       "        <tr>\n",
       "            <td>94553     </td> <td>246758929</td> <td>10213        </td> <td>36852        </td>\n",
       "        </tr>\n",
       "        <tr>\n",
       "            <td>94561     </td> <td>94268    </td> <td>9640         </td> <td>26875        </td>\n",
       "        </tr>\n",
       "        <tr>\n",
       "            <td>94565     </td> <td>16758112 </td> <td>34872        </td> <td>49769        </td>\n",
       "        </tr>\n",
       "        <tr>\n",
       "            <td>94572     </td> <td>175500572</td> <td>2614         </td> <td>6070         </td>\n",
       "        </tr>\n",
       "        <tr>\n",
       "            <td>94801     </td> <td>121104930</td> <td>15109        </td> <td>14286        </td>\n",
       "        </tr>\n",
       "        <tr>\n",
       "            <td>94804     </td> <td>302805   </td> <td>15424        </td> <td>23135        </td>\n",
       "        </tr>\n",
       "        <tr>\n",
       "            <td>all others</td> <td>0        </td> <td>103370       </td> <td>540406       </td>\n",
       "        </tr>\n",
       "    </tbody>\n",
       "</table>"
      ],
      "text/plain": [
       "<IPython.core.display.HTML object>"
      ]
     },
     "metadata": {},
     "output_type": "display_data"
    }
   ],
   "source": [
    "# read in table\n",
    "data = Table.read_table('TRI_data.csv')\n",
    "data.show(100)"
   ]
  },
  {
   "cell_type": "markdown",
   "metadata": {},
   "source": [
    "###### Manipulating Python Tables\n",
    "The above is how Python displays tables, it is pretty similar to how you might usually see data displayed (in an Excel or Google sheet) and what we come to learn is that Python tables can become intuitive to use and are powerful tools!\n",
    "\n",
    "###### A Brief Reminder on Python\n",
    "Some of the key things we'll want to do is access particular elements in the table at various row by column intersections (cells) and apply some mathematical operations to columns."
   ]
  },
  {
   "cell_type": "code",
   "execution_count": 3,
   "metadata": {},
   "outputs": [
    {
     "data": {
      "text/plain": [
       "array([  1413711,     56366,     59481,  21304051,    501841, 246758929,\n",
       "           94268,  16758112, 175500572, 121104930,    302805,         0])"
      ]
     },
     "execution_count": 3,
     "metadata": {},
     "output_type": "execute_result"
    }
   ],
   "source": [
    "releases = data.column(\"releases\") #returns an array of all the values in the 'releases' column\n",
    "releases"
   ]
  },
  {
   "cell_type": "markdown",
   "metadata": {},
   "source": [
    "###### Applying Mathematical Operations to Arrays\n",
    "You can also use simple math functions such as + - * / on these arrays to manipulate the values within them. For example:\n"
   ]
  },
  {
   "cell_type": "code",
   "execution_count": 4,
   "metadata": {},
   "outputs": [
    {
     "ename": "NameError",
     "evalue": "name 'np' is not defined",
     "output_type": "error",
     "traceback": [
      "\u001b[0;31m---------------------------------------------------------------------------\u001b[0m",
      "\u001b[0;31mNameError\u001b[0m                                 Traceback (most recent call last)",
      "\u001b[0;32m<ipython-input-4-2d1d5fc9b98a>\u001b[0m in \u001b[0;36m<module>\u001b[0;34m\u001b[0m\n\u001b[0;32m----> 1\u001b[0;31m \u001b[0mnp\u001b[0m\u001b[0;34m.\u001b[0m\u001b[0marray\u001b[0m\u001b[0;34m(\u001b[0m\u001b[0;34m[\u001b[0m\u001b[0;36m1\u001b[0m\u001b[0;34m,\u001b[0m \u001b[0;36m2\u001b[0m\u001b[0;34m,\u001b[0m \u001b[0;36m4\u001b[0m\u001b[0;34m]\u001b[0m\u001b[0;34m)\u001b[0m \u001b[0;34m+\u001b[0m \u001b[0;36m10\u001b[0m\u001b[0;34m\u001b[0m\u001b[0;34m\u001b[0m\u001b[0m\n\u001b[0m",
      "\u001b[0;31mNameError\u001b[0m: name 'np' is not defined"
     ]
    }
   ],
   "source": [
    "np.array([1, 2, 4]) + 10"
   ]
  },
  {
   "cell_type": "code",
   "execution_count": 5,
   "metadata": {},
   "outputs": [
    {
     "name": "stdout",
     "output_type": "stream",
     "text": [
      "[  141371100     5636600     5948100  2130405100    50184100 24675892900\n",
      "     9426800  1675811200 17550057200 12110493000    30280500           0]\n"
     ]
    }
   ],
   "source": [
    "print(releases * 100)"
   ]
  },
  {
   "cell_type": "markdown",
   "metadata": {},
   "source": [
    "Another very helpful mathematical operation for arrays is a method called *sum*. *sum* is a function that takes in a single argument, an array in this case, and returns the sum of all of the values of that argument, here is an example of sum being used:"
   ]
  },
  {
   "cell_type": "code",
   "execution_count": null,
   "metadata": {},
   "outputs": [],
   "source": [
    "print(\"This is the sum of all the values in releases: \" + str(sum(releases)))\n",
    "\n",
    "print(\"This is the sum of all the values in the array [1,2,3,4,5]: \" + str(sum([1, 2, 3, 4, 5])))"
   ]
  },
  {
   "cell_type": "markdown",
   "metadata": {},
   "source": [
    "###### Accessing Elements\n",
    "\n",
    "In order to access elements, we need to know where to find it in the table. Python uses what is called zero-indexing to number off the positions of the elements in an array. Zero-indexing means that the first element in an array is at \"index\" 0 and the last element in the array will be at the \"index\" of the full length of the array -1. Here's an example to help understand how to access elements. "
   ]
  },
  {
   "cell_type": "markdown",
   "metadata": {},
   "source": [
    "![AccessingElements](http://codelikethis.com/lessons/ruby_basics/array_indexing.png)"
   ]
  },
  {
   "cell_type": "markdown",
   "metadata": {},
   "source": [
    "You can access particular values of arrays using the *index* notation. Which looks like the following:"
   ]
  },
  {
   "cell_type": "code",
   "execution_count": null,
   "metadata": {},
   "outputs": [],
   "source": [
    "firstelem = releases[0]\n",
    "lastelem = releases[11]\n",
    "print(firstelem)\n",
    "print(lastelem)"
   ]
  },
  {
   "cell_type": "markdown",
   "metadata": {},
   "source": [
    "Now, using what you know about Python, an how to mathematically manipulate arrays, try answering the questions in parts 2A and 2B."
   ]
  },
  {
   "cell_type": "markdown",
   "metadata": {},
   "source": [
    "#### Question 2A\n",
    "\n",
    "Calculate the proportion of poor and non-poor residents that have no toxic chemicals being emitted near their zip code. Apply the following formula one at a time for each:<br><br>\n",
    "\n",
    " $Proportion \\:with \\:zero \\:emissions = \\frac{number \\:of \\:people \\:with \\:zero \\:emissions}{N}$\n",
    "      <br><br>\n",
    "      *Proportion with zero emissions, poor:*"
   ]
  },
  {
   "cell_type": "code",
   "execution_count": null,
   "metadata": {},
   "outputs": [],
   "source": [
    "prop_poor = ... #YOUR CODE HERE"
   ]
  },
  {
   "cell_type": "markdown",
   "metadata": {},
   "source": [
    "*<br>Proportion with zero emissions, non-poor:*"
   ]
  },
  {
   "cell_type": "code",
   "execution_count": null,
   "metadata": {},
   "outputs": [],
   "source": [
    "prop_nonpoor = ... #YOUR CODE HERE"
   ]
  },
  {
   "cell_type": "code",
   "execution_count": null,
   "metadata": {},
   "outputs": [],
   "source": [
    "#RUN THIS CELL#\n",
    "\n",
    "#Check answer for prop_poor\n",
    "assert(hashlib.md5(str(prop_poor)[:8].encode()).hexdigest() == \"a173641598a8725830213696eae151c4\")\n",
    "#Check answer for prop_nonpoor\n",
    "assert(hashlib.md5(str(prop_nonpoor)[:8].encode()).hexdigest() == \"c948b629eceb6b7e6d0f60d489539f31\")"
   ]
  },
  {
   "cell_type": "markdown",
   "metadata": {},
   "source": [
    "#### Question 2B\n",
    "\n",
    "   b)  What is the average level of toxicity-weighted pounds for a Contra Costa resident? Apply the following formula for the poor and non-poor groups separately, where i refers to the zip code and N is the number of zip codes with emissions:<br><br>\n",
    "    $Average = \\frac{1}{N} \\sum_{i=0}^{i=N}(pounds_{i} \\times people_{i}) = \\frac{1}{N} \\times ((pounds_{1} \\times people_{1}) \\:+ \\:(pounds_{2} \\times people_{2}) \\:+ \\:...etc.)$\n",
    "    <br><br>\n",
    "*Average toxicity-weighted pounds, poor:*\n"
   ]
  },
  {
   "cell_type": "code",
   "execution_count": null,
   "metadata": {},
   "outputs": [],
   "source": [
    "avg_toxic_poor = ... #YOUR CODE HERE"
   ]
  },
  {
   "cell_type": "markdown",
   "metadata": {},
   "source": [
    "*Average toxicity-weighted pounds, non-poor:*"
   ]
  },
  {
   "cell_type": "code",
   "execution_count": null,
   "metadata": {},
   "outputs": [],
   "source": [
    "avg_toxic_nonpoor = ... #YOUR CODE HERE"
   ]
  },
  {
   "cell_type": "code",
   "execution_count": null,
   "metadata": {},
   "outputs": [],
   "source": [
    "#RUN THIS CELL#\n",
    "\n",
    "#Check answer for avg_toxic_poor\n",
    "assert(hashlib.md5(str(avg_toxic_poor)[:8].encode()).hexdigest() == '2b52ad9b6a7fe4f736a5ee9d36ad88e4')\n",
    "#Check answer for avg_toxic_nonpoor\n",
    "assert(hashlib.md5(str(avg_toxic_nonpoor)[:8].encode()).hexdigest() == '1e892757fc5a0b6facd9f02fb6be87af')"
   ]
  },
  {
   "cell_type": "markdown",
   "metadata": {},
   "source": [
    "#### Question 2C\n",
    "\n",
    "Look at the documentation for the TRI dataset: http://www2.epa.gov/toxics-release-inventory-tri-program/basics-tri-reporting\n",
    "\n",
    "Describe one limitation of this dataset that might make it inaccurate or incomplete in terms of capturing the true number of toxic chemicals emitted in a neighborhood. [1-2 sentences]"
   ]
  },
  {
   "cell_type": "markdown",
   "metadata": {},
   "source": [
    "**Answer:**\n",
    "YOUR ANSWER HERE"
   ]
  },
  {
   "cell_type": "markdown",
   "metadata": {},
   "source": [
    "## A Brief Survey\n",
    "\n",
    "Before we get started, we wanted to know a little bit about you, your reasons for taking this course, and your familiarity with Data Science and programming. Please follow the link posted below:\n",
    "\n",
    "[Survey Link](https://tinyurl.com/ybsh8qlc)\n",
    "\n",
    "Alternatively, please copy and paste this link into your URL bar: https://tinyurl.com/ybsh8qlc"
   ]
  },
  {
   "cell_type": "markdown",
   "metadata": {},
   "source": [
    "## Conclusion\n",
    "In this problem set we took a look at how we can identify points of interest in data by mapping them, and that helps us tell a story about the data that we'll be studying throughout this course. A familiarity with how we can use technical skills such as mapping, graphing and data analysis will allow us to take a more comprehensive look at the connections in our data and tie our non-technical curriculum to the ever growing need for technical analysis. \n",
    "\n",
    "It will be crucial to remember some of the key skills learned in this notebook. \n",
    "1. How to find relevant and comprehensive data\n",
    "2. Identifying trends/hypotheses from data visualizations\n",
    "3. Basic data analysis in Python"
   ]
  },
  {
   "cell_type": "markdown",
   "metadata": {},
   "source": [
    "## Saving the Notebook as an HTML\n",
    "Congrats on finishing your first notebook! As usual, you will be submitting this notebook as an HTML file. To turn in this lab assignment follow the steps below:\n",
    "\n",
    "1. In the toolbar above, click on File &rarr; Download as &rarr; HTML\n",
    "2. The file should have been saved in an HTML format in your downloads folder.\n",
    "3. Click to open in a web browser of your choice to make sure that everything looks okay."
   ]
  },
  {
   "cell_type": "code",
   "execution_count": null,
   "metadata": {},
   "outputs": [],
   "source": []
  }
 ],
 "metadata": {
  "kernelspec": {
   "display_name": "Python 3",
   "language": "python",
   "name": "python3"
  },
  "language_info": {
   "codemirror_mode": {
    "name": "ipython",
    "version": 3
   },
   "file_extension": ".py",
   "mimetype": "text/x-python",
   "name": "python",
   "nbconvert_exporter": "python",
   "pygments_lexer": "ipython3",
   "version": "3.6.7"
  }
 },
 "nbformat": 4,
 "nbformat_minor": 2
}

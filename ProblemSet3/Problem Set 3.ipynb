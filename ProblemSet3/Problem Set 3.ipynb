{
 "cells": [
  {
   "cell_type": "markdown",
   "metadata": {},
   "source": [
    "# E 157AC Spring 2019\n",
    "\n",
    "## Assignment: Problem Set 3\n",
    "**Due:** Friday, April 5, 2019 at 11:59 pm\n",
    "<br>\n",
    "*Submit via bCourses*"
   ]
  },
  {
   "cell_type": "markdown",
   "metadata": {},
   "source": [
    "**Before you begin, run the following cell to load the packages needed for the rest of the notebook**"
   ]
  },
  {
   "cell_type": "code",
   "execution_count": 1,
   "metadata": {},
   "outputs": [],
   "source": [
    "# RUN THIS CELL or the notebook will not work properly\n",
    "from datascience import *\n",
    "import numpy as np\n",
    "import matplotlib\n",
    "%matplotlib inline\n",
    "import matplotlib.pyplot as plt\n",
    "import pandas as pd\n",
    "from scipy import stats"
   ]
  },
  {
   "cell_type": "markdown",
   "metadata": {},
   "source": [
    "## Introduction <a id='section0'></a>\n",
    "\n",
    "In this assignment, you will dive into some publicly available data on climate change, economic growth, and human development in an attempt to understand a little about the complex relationships between these parameters. \n",
    "\n",
    "With each chart you create, be sure to label your axes, create a chart title, and provide a simple regression line (including the $R^2$ value). Note that you don’t need a chart legend if you only have one set of data. Remember - presentation is important! Also remember that a robust analysis would use far more in depth statistics, in particular focusing on each component of your regression model, both the size of the effect of each component as well as the significance, but for the purposes of this problem set linear regression slopes and $R^2$ values will do."
   ]
  },
  {
   "cell_type": "markdown",
   "metadata": {},
   "source": [
    "The data is in a table named `problem_set` (Run the next cell to see what it looks like)."
   ]
  },
  {
   "cell_type": "code",
   "execution_count": 2,
   "metadata": {},
   "outputs": [
    {
     "data": {
      "text/html": [
       "<table border=\"1\" class=\"dataframe\">\n",
       "    <thead>\n",
       "        <tr>\n",
       "            <th>countries</th> <th>co2_cummulative</th> <th>ghg_cummulative</th> <th>ghg_2010</th> <th>co2_2011</th> <th>change_1971_2011</th> <th>change_1990_2011</th> <th>total_footprint</th> <th>pop_2010</th> <th>gdp_ppp_2010</th> <th>hdi_2011</th> <th>hdi_change_1990_2011</th> <th>gender_inequality_2012</th> <th>maternal_2010</th>\n",
       "        </tr>\n",
       "    </thead>\n",
       "    <tbody>\n",
       "        <tr>\n",
       "            <td>Afghanistan      </td> <td>72.4           </td> <td>349.34         </td> <td>24.94   </td> <td>nan     </td> <td>nan             </td> <td>nan             </td> <td>nan            </td> <td>2.83978e+07</td> <td>33596       </td> <td>0.371   </td> <td>50.81               </td> <td>0.712                 </td> <td>460          </td>\n",
       "        </tr>\n",
       "        <tr>\n",
       "            <td>Albania          </td> <td>227.9          </td> <td>143.81         </td> <td>6.57    </td> <td>3.9     </td> <td>-0.3            </td> <td>-38             </td> <td>5.4            </td> <td>3.15014e+06</td> <td>24545       </td> <td>0.748   </td> <td>13.16               </td> <td>0.251                 </td> <td>27           </td>\n",
       "        </tr>\n",
       "        <tr>\n",
       "            <td>Algeria          </td> <td>2272.4         </td> <td>2618.81        </td> <td>169.42  </td> <td>103.9   </td> <td>1064.8          </td> <td>97              </td> <td>nan            </td> <td>3.70628e+07</td> <td>269075      </td> <td>0.711   </td> <td>26.51               </td> <td>0.391                 </td> <td>97           </td>\n",
       "        </tr>\n",
       "        <tr>\n",
       "            <td>Angola           </td> <td>305.3          </td> <td>3300.97        </td> <td>219.84  </td> <td>15.7    </td> <td>845.5           </td> <td>292             </td> <td>nan            </td> <td>1.95491e+07</td> <td>98686       </td> <td>0.504   </td> <td>nan                 </td> <td>nan                   </td> <td>450          </td>\n",
       "        </tr>\n",
       "        <tr>\n",
       "            <td>Antigua & Barbuda</td> <td>16.6           </td> <td>14.17          </td> <td>1.2     </td> <td>nan     </td> <td>nan             </td> <td>nan             </td> <td>nan            </td> <td>87233      </td> <td>1541        </td> <td>0.759   </td> <td>nan                 </td> <td>nan                   </td> <td>nan          </td>\n",
       "        </tr>\n",
       "        <tr>\n",
       "            <td>Argentina        </td> <td>5894.8         </td> <td>6308.23        </td> <td>359.01  </td> <td>183.6   </td> <td>121.8           </td> <td>83.8            </td> <td>165.5          </td> <td>4.03742e+07</td> <td>580427      </td> <td>0.81    </td> <td>15.55               </td> <td>0.38                  </td> <td>77           </td>\n",
       "        </tr>\n",
       "        <tr>\n",
       "            <td>Armenia          </td> <td>505.6          </td> <td>183.45         </td> <td>13.43   </td> <td>4.7     </td> <td>nan             </td> <td>-77.2           </td> <td>6              </td> <td>2.9635e+06 </td> <td>15153       </td> <td>0.726   </td> <td>15.61               </td> <td>0.34                  </td> <td>30           </td>\n",
       "        </tr>\n",
       "        <tr>\n",
       "            <td>Australia        </td> <td>13108.5        </td> <td>10252.5        </td> <td>587.53  </td> <td>396.8   </td> <td>175.3           </td> <td>52.6            </td> <td>297            </td> <td>2.20653e+07</td> <td>763921      </td> <td>0.936   </td> <td>6.36                </td> <td>0.115                 </td> <td>7            </td>\n",
       "        </tr>\n",
       "        <tr>\n",
       "            <td>Austria          </td> <td>4541.9         </td> <td>1712.92        </td> <td>84.28   </td> <td>68.5    </td> <td>40.6            </td> <td>21.4            </td> <td>99.8           </td> <td>8.38977e+06</td> <td>296268      </td> <td>0.894   </td> <td>12.17               </td> <td>0.102                 </td> <td>4            </td>\n",
       "        </tr>\n",
       "        <tr>\n",
       "            <td>Azerbaijan       </td> <td>2323.7         </td> <td>1218.83        </td> <td>64.21   </td> <td>26.8    </td> <td>nan             </td> <td>-51.3           </td> <td>30.3           </td> <td>9.05433e+06</td> <td>80696       </td> <td>0.732   </td> <td>nan                 </td> <td>0.323                 </td> <td>43           </td>\n",
       "        </tr>\n",
       "    </tbody>\n",
       "</table>\n",
       "<p>... (176 rows omitted)</p>"
      ],
      "text/plain": [
       "countries         | co2_cummulative | ghg_cummulative | ghg_2010 | co2_2011 | change_1971_2011 | change_1990_2011 | total_footprint | pop_2010    | gdp_ppp_2010 | hdi_2011 | hdi_change_1990_2011 | gender_inequality_2012 | maternal_2010\n",
       "Afghanistan       | 72.4            | 349.34          | 24.94    | nan      | nan              | nan              | nan             | 2.83978e+07 | 33596        | 0.371    | 50.81                | 0.712                  | 460\n",
       "Albania           | 227.9           | 143.81          | 6.57     | 3.9      | -0.3             | -38              | 5.4             | 3.15014e+06 | 24545        | 0.748    | 13.16                | 0.251                  | 27\n",
       "Algeria           | 2272.4          | 2618.81         | 169.42   | 103.9    | 1064.8           | 97               | nan             | 3.70628e+07 | 269075       | 0.711    | 26.51                | 0.391                  | 97\n",
       "Angola            | 305.3           | 3300.97         | 219.84   | 15.7     | 845.5            | 292              | nan             | 1.95491e+07 | 98686        | 0.504    | nan                  | nan                    | 450\n",
       "Antigua & Barbuda | 16.6            | 14.17           | 1.2      | nan      | nan              | nan              | nan             | 87233       | 1541         | 0.759    | nan                  | nan                    | nan\n",
       "Argentina         | 5894.8          | 6308.23         | 359.01   | 183.6    | 121.8            | 83.8             | 165.5           | 4.03742e+07 | 580427       | 0.81     | 15.55                | 0.38                   | 77\n",
       "Armenia           | 505.6           | 183.45          | 13.43    | 4.7      | nan              | -77.2            | 6               | 2.9635e+06  | 15153        | 0.726    | 15.61                | 0.34                   | 30\n",
       "Australia         | 13108.5         | 10252.5         | 587.53   | 396.8    | 175.3            | 52.6             | 297             | 2.20653e+07 | 763921       | 0.936    | 6.36                 | 0.115                  | 7\n",
       "Austria           | 4541.9          | 1712.92         | 84.28    | 68.5     | 40.6             | 21.4             | 99.8            | 8.38977e+06 | 296268       | 0.894    | 12.17                | 0.102                  | 4\n",
       "Azerbaijan        | 2323.7          | 1218.83         | 64.21    | 26.8     | nan              | -51.3            | 30.3            | 9.05433e+06 | 80696        | 0.732    | nan                  | 0.323                  | 43\n",
       "... (176 rows omitted)"
      ]
     },
     "execution_count": 2,
     "metadata": {},
     "output_type": "execute_result"
    }
   ],
   "source": [
    "problem_set = Table.read_table('data/ps3data.csv')\n",
    "problem_set"
   ]
  },
  {
   "cell_type": "markdown",
   "metadata": {},
   "source": [
    "Note that some values in the table are listed as `nan`. This means that the entry is missing, incorrect, or unknown (Welcome to the \"real world\"). You will soon see how the presence of `nan` values can impact your graphs and regression outputs."
   ]
  },
  {
   "cell_type": "markdown",
   "metadata": {},
   "source": [
    "Here's a list of all the column labels contained in the table:"
   ]
  },
  {
   "cell_type": "code",
   "execution_count": 3,
   "metadata": {},
   "outputs": [
    {
     "data": {
      "text/plain": [
       "('countries',\n",
       " 'co2_cummulative',\n",
       " 'ghg_cummulative',\n",
       " 'ghg_2010',\n",
       " 'co2_2011',\n",
       " 'change_1971_2011',\n",
       " 'change_1990_2011',\n",
       " 'total_footprint',\n",
       " 'pop_2010',\n",
       " 'gdp_ppp_2010',\n",
       " 'hdi_2011',\n",
       " 'hdi_change_1990_2011',\n",
       " 'gender_inequality_2012',\n",
       " 'maternal_2010')"
      ]
     },
     "execution_count": 3,
     "metadata": {},
     "output_type": "execute_result"
    }
   ],
   "source": [
    "problem_set.labels"
   ]
  },
  {
   "cell_type": "markdown",
   "metadata": {},
   "source": [
    "### Data Dictionary<a id='section8'></a>\n",
    "\n",
    "The table belows shows what each column in our data describes. "
   ]
  },
  {
   "cell_type": "markdown",
   "metadata": {},
   "source": [
    "|Column Name   | Description |\n",
    "|--------------|---------|\n",
    "|countries|Name of country|\n",
    "|co2_cumulative |Historical Emissions A Cumulative CO2 emission from energy, 1850-2007 (million tonnes) |\n",
    "|ghg_cumulative | Historical Emissions B Cumulative GHG Emissions, 1990-2010 (million tonnes CO2 equivalent) |\n",
    "|ghg_2010| Current GHG Emissions Total GHG Emissions, 2010 (million tonnes CO2 equivalent)|\n",
    "|co2_2011|Current CO2 Emissions CO2 emissions from fossil fuel combustion, 2011 (million tonnes) |\n",
    "|change_1971_2011|Change from 1971–2011 (%) |\n",
    "|change_1990_2011|Change from 1990–2011 (%) |\n",
    "|total_footprint|Total carbon footprint Footprint of all goods and services consumed (million tonnes CO2 equivalent) |\n",
    "|pop_2010|Population 2010|\n",
    "|gdp_ppp_2010|GDP-PPP 2010 (Million $ (2005))|\n",
    "|hdi_2011|HDI, 2011 |\n",
    "|hdi_change_1990_2011|HDI Change from 1990-2011 (%) |\n",
    "|gender_inequality_2012|Gender Inequality Index Value, 2012 |\n",
    "|maternal_2010|Maternal Mortality Ratio, 2010 |"
   ]
  },
  {
   "cell_type": "markdown",
   "metadata": {},
   "source": [
    "## Plotting <a id='section1'></a>\n",
    "\n",
    "#### Scatter Plots\n",
    "We've defined the following function `scatter` for you to use. You don't have to know exactly how it is implemented, but be sure to understand what it does and how it is used."
   ]
  },
  {
   "cell_type": "code",
   "execution_count": 4,
   "metadata": {},
   "outputs": [],
   "source": [
    "def scatter(x, y, x_label, y_label, title, fit_line=False):\n",
    "    \"\"\"\n",
    "    Generate a scatter plot using x and y\n",
    "\n",
    "    Arguments:\n",
    "    x -- an array of x-values\n",
    "    y -- an array of y-values\n",
    "    \n",
    "    Example Usage:\n",
    "    x = problem_set.column(\"column 1\")\n",
    "    y = problem_set.column(\"column 2\")\n",
    "    p1= scatter(x,y, \"column 1\", \"column 2\", \"title of graph\", False) \n",
    "    \"\"\"\n",
    "    plt.figure(figsize=(8, 6))\n",
    "    # Create a scatterplot of x and y columns\n",
    "    plt.scatter(x,y, color='b', label='original data',alpha=0.2)\n",
    "    \n",
    "    if fit_line == True:\n",
    "        # Perform linear regression\n",
    "        slope, intercept, r_value, p_value, std_err = stats.linregress(x, y)\n",
    "        \n",
    "        # Plot the best-fit line\n",
    "        plt.plot(x, slope*x + intercept, 'r', label='fitted line')\n",
    "        \n",
    "        # Output the equation for the regression line\n",
    "        print(\"regression line : y=\" + str(slope) +\"x + \" + str(intercept))\n",
    "        print(\"correlation: \" + str(r_value))\n",
    "        print(\"R^2: %f\" % r_value**2)\n",
    "        \n",
    "    # Label the graph\n",
    "    plt.xlabel(x_label)\n",
    "    plt.ylabel(y_label)\n",
    "    plt.title(title)"
   ]
  },
  {
   "cell_type": "markdown",
   "metadata": {},
   "source": [
    "Using `scatter()`, you're able to take any two columns of a table, and plot them quite easily! For example, let's plot the Current GHG Emissions, 2010 vs. Population (2010):"
   ]
  },
  {
   "cell_type": "code",
   "execution_count": 5,
   "metadata": {
    "scrolled": false
   },
   "outputs": [
    {
     "data": {
      "image/png": "[encoded data removed]",
      "text/plain": [
       "<Figure size 576x432 with 1 Axes>"
      ]
     },
     "metadata": {
      "needs_background": "light"
     },
     "output_type": "display_data"
    }
   ],
   "source": [
    "x_col = problem_set.column(\"pop_2010\")\n",
    "y_col = problem_set.column(\"ghg_2010\")\n",
    "scatter(x_col, y_col, x_label=\"Population 2010\", y_label=\"Current GHG Emissions, 2010\", \n",
    "        title=\"Current GHG Emissions, 2010 vs. Population (2010)\", \n",
    "        fit_line=False)"
   ]
  },
  {
   "cell_type": "markdown",
   "metadata": {},
   "source": [
    "It looks the scatter function only plots the points where the x and y values are not `nan`. For simply plotting on a scatter plot, this will not present any issues. However, let's see what happens if we perform linear regression on the data points and try to fit a regression line through the points. "
   ]
  },
  {
   "cell_type": "markdown",
   "metadata": {},
   "source": [
    "#### Linear Regression\n",
    "If you wish to add a line of best fit to your graph, simply set the `fit_line` parameter to True."
   ]
  },
  {
   "cell_type": "code",
   "execution_count": 6,
   "metadata": {},
   "outputs": [
    {
     "name": "stdout",
     "output_type": "stream",
     "text": [
      "regression line : y=nanx + nan\n",
      "correlation: nan\n",
      "R^2: nan\n"
     ]
    },
    {
     "data": {
      "image/png": "[encoded data removed]",
      "text/plain": [
       "<Figure size 576x432 with 1 Axes>"
      ]
     },
     "metadata": {
      "needs_background": "light"
     },
     "output_type": "display_data"
    }
   ],
   "source": [
    "scatter(x_col, y_col, x_label=\"Population 2010\", y_label=\"Current GHG Emissions, 2010\", \n",
    "        title=\"Current GHG Emissions, 2010 vs. Population (2010)\", \n",
    "        fit_line=True)"
   ]
  },
  {
   "cell_type": "markdown",
   "metadata": {},
   "source": [
    "What happened here? Why is the line of best fit not displayed? **Hint:** look at the regression line equation above the graph."
   ]
  },
  {
   "cell_type": "markdown",
   "metadata": {},
   "source": [
    "#### Cleaning the data\n",
    "\n",
    "If you guessed that `nan` values are throwing off the results of performing linear regression on the data points, you would be correct. This means we will have to clean the data by making sure that the coordinates of every point (x, y) are not `nan`. We've defined a function for you that cleans the data. Again, don't worry about the implementation, but make sure you know what it is doing and how to use it."
   ]
  },
  {
   "cell_type": "code",
   "execution_count": 7,
   "metadata": {},
   "outputs": [],
   "source": [
    "def clean(x_values, y_values):\n",
    "    \"\"\"\n",
    "    Goes through corresponding pairs of x and y values. \n",
    "    Only keeps the coordinates where x and y are both not nan \n",
    "\n",
    "    Arguments:\n",
    "    x_values -- an array of x-values\n",
    "    y_values -- an array of y-values\n",
    "    \n",
    "    Example Usage:\n",
    "    x = problem_set.column(\"column 1\")\n",
    "    y = problem_set.column(\"column 2\")\n",
    "    cleaned_x, cleaned_y = clean(x, y)\n",
    "    \"\"\"\n",
    "    \n",
    "    cleaned_coordinates = []\n",
    "    \n",
    "    # Make sure x_values and y_values are the same length\n",
    "    assert len(x_values) == len(y_values)\n",
    "    \n",
    "    # Loops through every x, y pair\n",
    "    for x, y in zip(x_col,y_col):\n",
    "        # If x or y is nan, drop the coordinate\n",
    "        if np.isnan(x) or np.isnan(y):\n",
    "            continue\n",
    "        else:\n",
    "            cleaned_coordinates.append((x, y))\n",
    "    \n",
    "    cleaned_x_values, cleaned_y_values = zip(*cleaned_coordinates)\n",
    "    \n",
    "    # Return 2 arrays\n",
    "    return np.array(cleaned_x_values), np.array(cleaned_y_values)"
   ]
  },
  {
   "cell_type": "markdown",
   "metadata": {},
   "source": [
    "Now let's try graphing that regression line again after cleaning our two columns."
   ]
  },
  {
   "cell_type": "code",
   "execution_count": 8,
   "metadata": {},
   "outputs": [
    {
     "name": "stdout",
     "output_type": "stream",
     "text": [
      "regression line : y=4.180958507053573e-06x + 18.599525981810302\n",
      "correlation: 0.7825246821971606\n",
      "R^2: 0.612345\n"
     ]
    },
    {
     "data": {
      "image/png": "[encoded data removed]",
      "text/plain": [
       "<Figure size 576x432 with 1 Axes>"
      ]
     },
     "metadata": {
      "needs_background": "light"
     },
     "output_type": "display_data"
    }
   ],
   "source": [
    "x_col = problem_set.column(\"pop_2010\")\n",
    "y_col = problem_set.column(\"co2_2011\")\n",
    "\n",
    "clean_x, clean_y = clean(x_col, y_col)\n",
    "\n",
    "scatter(clean_x, clean_y, x_label=\"Population 2010\", y_label=\"Current GHG Emissions, 2010\", \n",
    "        title=\"Current GHG Emissions, 2010 vs. Population 2010\", \n",
    "        fit_line=True)"
   ]
  },
  {
   "cell_type": "markdown",
   "metadata": {},
   "source": [
    "## Problem 1\n",
    "\n",
    "### Question 1a\n",
    "Make a chart of Total GHG Emissions, 2010 vs GDP."
   ]
  },
  {
   "cell_type": "code",
   "execution_count": null,
   "metadata": {},
   "outputs": [],
   "source": [
    "# YOUR CODE HERE"
   ]
  },
  {
   "cell_type": "markdown",
   "metadata": {},
   "source": [
    "### Question 1b\n",
    "Explain your result in 2-3 sentences."
   ]
  },
  {
   "cell_type": "markdown",
   "metadata": {},
   "source": [
    "**Answer:** YOUR ANSWER HERE"
   ]
  },
  {
   "cell_type": "markdown",
   "metadata": {},
   "source": [
    "## Problem 2\n",
    "\n",
    "\n",
    "### Question 2a\n",
    "\n",
    "Make a chart of Per-Capita Total GHG Emissions, 2010 vs. HDI."
   ]
  },
  {
   "cell_type": "code",
   "execution_count": null,
   "metadata": {},
   "outputs": [],
   "source": [
    "# YOUR CODE HERE"
   ]
  },
  {
   "cell_type": "markdown",
   "metadata": {},
   "source": [
    "### Question 2b\n",
    "Explain your result in 2-3 sentences."
   ]
  },
  {
   "cell_type": "markdown",
   "metadata": {},
   "source": [
    "**Answer:**\n",
    "YOUR ANSWER HERE"
   ]
  },
  {
   "cell_type": "markdown",
   "metadata": {},
   "source": [
    "## Problem 3\n",
    "\n",
    "#### Sorting and Ranking\n",
    "Often"
   ]
  },
  {
   "cell_type": "markdown",
   "metadata": {},
   "source": [
    "### Question 3a\n",
    "Make a chart of Cumulative CO2 Emissions from Energy (1850-2007) Rank vs. HDI Rank."
   ]
  },
  {
   "cell_type": "code",
   "execution_count": null,
   "metadata": {},
   "outputs": [],
   "source": [
    "# YOUR CODE HERE"
   ]
  },
  {
   "cell_type": "markdown",
   "metadata": {},
   "source": [
    "### Question 3b\n",
    "Explain your result in 2-3 sentences."
   ]
  },
  {
   "cell_type": "markdown",
   "metadata": {},
   "source": [
    "**Answer:**\n",
    "YOUR ANSWER HERE"
   ]
  },
  {
   "cell_type": "markdown",
   "metadata": {},
   "source": [
    "## Problem 4\n",
    "\n",
    "\n",
    "### Question 4a\n",
    "\n",
    "Make a chart of Cumulative CO2 Emissions from Energy (1850-2007) Per Capita Rank vs. HDI Rank."
   ]
  },
  {
   "cell_type": "code",
   "execution_count": null,
   "metadata": {},
   "outputs": [],
   "source": [
    "# YOUR CODE HERE"
   ]
  },
  {
   "cell_type": "markdown",
   "metadata": {},
   "source": [
    "### Question 4b\n",
    "Explain your result in 2-3 sentences."
   ]
  },
  {
   "cell_type": "markdown",
   "metadata": {},
   "source": [
    "**Answer:**\n",
    "YOUR ANSWER HERE"
   ]
  },
  {
   "cell_type": "markdown",
   "metadata": {},
   "source": []
  },
  {
   "cell_type": "markdown",
   "metadata": {},
   "source": [
    "## Problem 5\n",
    "\n",
    "### Question 5a\n",
    "Which country has the highest Total GHG Emissions in 2010?"
   ]
  },
  {
   "cell_type": "code",
   "execution_count": null,
   "metadata": {},
   "outputs": [],
   "source": [
    "# YOUR CODE HERE"
   ]
  },
  {
   "cell_type": "markdown",
   "metadata": {},
   "source": [
    "**Answer:**\n",
    "YOUR ANSWER HERE"
   ]
  },
  {
   "cell_type": "markdown",
   "metadata": {},
   "source": [
    "### Question 5b\n",
    "Where do they rank on the per-capita scale?\n",
    "<br>\n",
    "**Hint:** Create a new column for Total GHG Emissions per capita."
   ]
  },
  {
   "cell_type": "code",
   "execution_count": null,
   "metadata": {},
   "outputs": [],
   "source": [
    "# YOUR CODE HERE"
   ]
  },
  {
   "cell_type": "markdown",
   "metadata": {},
   "source": [
    "**Answer:**\n",
    "YOUR ANSWER HERE"
   ]
  },
  {
   "cell_type": "markdown",
   "metadata": {},
   "source": [
    "### Question 5c\n",
    "Which country has the highest Total GHG Emissions per-capita?"
   ]
  },
  {
   "cell_type": "code",
   "execution_count": null,
   "metadata": {},
   "outputs": [],
   "source": [
    "# YOUR CODE HERE"
   ]
  },
  {
   "cell_type": "markdown",
   "metadata": {},
   "source": [
    "**Answer:**\n",
    "YOUR ANSWER HERE"
   ]
  },
  {
   "cell_type": "markdown",
   "metadata": {},
   "source": [
    "## Problem 6\n",
    "\n",
    "### Question 6a\n",
    "Which country has the highest “Footprint of all goods and services consumed”?"
   ]
  },
  {
   "cell_type": "code",
   "execution_count": null,
   "metadata": {},
   "outputs": [],
   "source": [
    "# YOUR CODE HERE"
   ]
  },
  {
   "cell_type": "markdown",
   "metadata": {},
   "source": [
    "**Answer:**\n",
    "YOUR ANSWER HERE"
   ]
  },
  {
   "cell_type": "markdown",
   "metadata": {},
   "source": [
    "### Question 6b\n",
    "Which has the highest per-capita? "
   ]
  },
  {
   "cell_type": "code",
   "execution_count": null,
   "metadata": {},
   "outputs": [],
   "source": [
    "# YOUR CODE HERE"
   ]
  },
  {
   "cell_type": "markdown",
   "metadata": {},
   "source": [
    "**Answer:**\n",
    "YOUR ANSWER HERE"
   ]
  },
  {
   "cell_type": "markdown",
   "metadata": {},
   "source": [
    "## Problem 7\n",
    "\n",
    "Go to www.gapminder.org/tools. Create an animated graph that tells you something interesting about climate change (CO2 Emissions should be on one axis). \n",
    "* Note: you can change an axis by clicking on the axis label and selecting a new measure from the various options.\n",
    "\n",
    "### Question 7a\n",
    "**Use the print tool (or screenshots) to create an image of one year** (be careful – sometimes the most recent data doesn’t include many countries, so take a screenshot that includes most of the world) and include that with your assignment. Replace the words \"Graph Title\" with something more informative.\n",
    "\n",
    "Upload it to Jupyter and display the screenshot in the next cell (Double click on the cell below (the \"markdown cell\") and replace the three dots (…) with the file name of the screenshot. Don’t forget to upload your screenshot to your data hub first!). Feel free to refer to Problem Set 1 for instructions on how to upload files to Jupyter."
   ]
  },
  {
   "cell_type": "markdown",
   "metadata": {},
   "source": [
    "**Graph Title**\n",
    "![Graph](...)"
   ]
  },
  {
   "cell_type": "markdown",
   "metadata": {},
   "source": [
    "### Question 7b\n",
    "\n",
    "Explain your results in 2-4 sentences."
   ]
  },
  {
   "cell_type": "markdown",
   "metadata": {},
   "source": [
    "**Answer:**\n",
    "YOUR ANSWER HERE"
   ]
  },
  {
   "cell_type": "markdown",
   "metadata": {},
   "source": [
    "## Problem 8\n",
    "Reflect on your findings.\n",
    "\n",
    "### Question 8a\n",
    "Do you think per-capita or total national emissions are the more appropriate way to do carbon accounting, and why?"
   ]
  },
  {
   "cell_type": "markdown",
   "metadata": {},
   "source": [
    "**Answer:**\n",
    "YOUR ANSWER HERE"
   ]
  },
  {
   "cell_type": "markdown",
   "metadata": {},
   "source": [
    "### Question 8b\n",
    "Do you think accounting should be based on what a country emits within its boundaries, or what a country consumes, including emissions from the production of goods elsewhere?"
   ]
  },
  {
   "cell_type": "markdown",
   "metadata": {},
   "source": [
    "**Answer:**\n",
    "YOUR ANSWER HERE"
   ]
  },
  {
   "cell_type": "markdown",
   "metadata": {},
   "source": [
    "### Question 8c\n",
    "\n",
    "**Select one choice and explain.** Do you think countries should reduce their emissions in proportion to:\n",
    "* (A) Their past emissions\n",
    "* (B) Their level of development & capacity to reduce\n",
    "* (C) The degree to which they will be impacted by climate change\n",
    "* (D) A combination of these, or something else"
   ]
  },
  {
   "cell_type": "markdown",
   "metadata": {},
   "source": [
    "**Answer:**\n",
    "YOUR ANSWER HERE"
   ]
  },
  {
   "cell_type": "markdown",
   "metadata": {},
   "source": [
    "# Final Survey <a id='section7'></a>\n",
    "\n",
    "Congrats! You've finished the final Jupyter Notebook assignment! The Division of Data Sciences and Information would like to ask you to please fill this survey out as a part of your assignment. We would like to improve the module for future semesters, and would really appreciate it if you took the time to fill this out so we can better serve you!\n",
    "\n",
    "Please make sure you are logged into your Berkeley (.edu) email address to access the form.\n",
    "### [Survey Link](https://goo.gl/forms/FqSRIYCzAAOfZ5Bv2)\n",
    "\n",
    "Alternatively, please copy and paste this link into your URL bar: https://goo.gl/forms/FqSRIYCzAAOfZ5Bv2"
   ]
  },
  {
   "cell_type": "markdown",
   "metadata": {},
   "source": [
    "## Saving the Notebook as an PDF\n",
    "\n",
    "Congrats on finishing this notebook! As before, you will be submitting this notebook as an PDF file. To turn in this assignment follow the steps below:\n",
    "\n",
    "1. **Important:** Click the Save icon located at the far left on the top toolbar. Make sure to do this before following the next steps.\n",
    "2. Save the webpage as a PDF.\n",
    "    * For Chrome users:\n",
    "        1. Click on the rightmost button on the top toolbar\n",
    "        2. In the drop down, click \"Print\"\n",
    "        3. For \"Destination\", choose \"Save as PDF\"\n",
    "    * For Firefox users:\n",
    "        1. Click on the rightmost button on the top toolbar\n",
    "        2. In the drop down, click \"Print\"\n",
    "        3. Click Print and set the destination as \"Adobe PDF\" or \"Microsoft Print to PDF\"\n",
    "5. Once the file downloads, open it using a PDF reader to make sure that everything looks okay.\n",
    "6. If any pages are omitted from the output PDF, make sure that the images that you have uploaded to Jupyter are displaying properly in the notebook and that the correct filenames are specified. **Issues in converting the notebook to PDF format usually happen when an image in the notebook is not displayed/embedded properly.**\n",
    "7. Submit to the Problem Set 3 Assignment on bCourses."
   ]
  }
 ],
 "metadata": {
  "kernelspec": {
   "display_name": "Python 3",
   "language": "python",
   "name": "python3"
  },
  "language_info": {
   "codemirror_mode": {
    "name": "ipython",
    "version": 3
   },
   "file_extension": ".py",
   "mimetype": "text/x-python",
   "name": "python",
   "nbconvert_exporter": "python",
   "pygments_lexer": "ipython3",
   "version": "3.6.7"
  }
 },
 "nbformat": 4,
 "nbformat_minor": 2
}

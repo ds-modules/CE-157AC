{
 "cells": [
  {
   "cell_type": "markdown",
   "metadata": {},
   "source": [
    "--writing helper code to run computations and produce the relevant graphs from the data on the dataset\n",
    "(some small functions and code chunks that the students can use)\n",
    "--make sure that the students have some chance of writing their own code to answer those questions\n",
    "\n",
    "I wanted to give some guidance on cleaning the data:\n",
    "--I realize that the excel spreadsheet isn't the best form of data to work with in pandas, so I recommend first copying all the data to an excel spreadsheet and saving it as a .csv.\n",
    "\n",
    "--This allows you to delete the empty space columns (the columns dividing the different tables on the original excel data) on the spreadsheet before loading it into pandas. \n",
    "In addition, a lot of values will appear as ##### when you first copy them into excel, but if you click on the entry, it will have a numerical value inside.\n",
    "\n",
    "--Generally, make the data as tidy as possible (on the spreadsheet) before loading it into pandas, but its ok to have missing values in the csv file. For the ##### values however, try to fill in these with the correct population number from the original data (there's only a small handful, mostly in the population column).\n",
    "\n",
    "--IMPORTANT: be sure to change each of the column names to something smaller and more manageable. For example, the first column is currently named “Historical Emissions A Source: WRI, 2011 (Climate Analysis Indicators Tool v8) Cumulative CO2 emissions from energy, 1850–2007 (million tonnes)” which is extremely difficult to type in order to select that column. A better name could be just “CO2_emissions”\n",
    "\n",
    "--If pandas yells at you when you try to load the .csv (with some error such as \"can't decode byte at position 0x484\"), then try passing in encoding =\"ISO-8859-1\" as one of the arguments to the read_csv() function.\n",
    "\n",
    "Hopefully, after you do the steps above, when you load the data, you won't have to do so much cleaning when you finally load the data. (I think you’ll still have to drop those “Unnamed:num” columns). More importantly, the students will be much less intimidated looking at the code.\n",
    "\n",
    "My next suggestion is to create a markdown table at the beginning of the notebook specifying each variable name “CO2_emissions” on the left side and what that variable stands for “Historical Emissions …” (the full name from the original excel spreadsheet). This table will be a good reference for the students later in the notebook. (edited)\n",
    "\n",
    "I wanted to ask when you’d be free this week to have a quick meeting? I think it would be great to meet up in person and discuss these steps. Unfortunately, I can't make it to OH today, but I'm free to meet from 12-5:30pm today, and after 3:30pm tomorrow. Let me know if any of those times work for you"
   ]
  },
  {
   "cell_type": "markdown",
   "metadata": {},
   "source": [
    "# CE-157 Problem Set 3\n",
    "\n",
    "Hey everyone! Just run the 3 cells below and continue onwards! They're just needed to run the initial code needed to run the rest of the functions in this problem set."
   ]
  },
  {
   "cell_type": "code",
   "execution_count": 1,
   "metadata": {},
   "outputs": [],
   "source": [
    "import matplotlib\n",
    "matplotlib.use('Agg')\n",
    "%matplotlib inline\n",
    "import matplotlib.pyplot as plt\n",
    "plt.style.use('fivethirtyeight')\n",
    "from datascience import *\n",
    "import pandas as pd\n",
    "import numpy as np\n",
    "import xlrd"
   ]
  },
  {
   "cell_type": "code",
   "execution_count": 219,
   "metadata": {},
   "outputs": [],
   "source": [
    "temp = Table.read_table(\"ProblemSet3_DataCleaned.csv\").relabeled('Unnamed: 0', 'Countries')\n",
    "problem_set = Table()\n",
    "for name in temp.labels:\n",
    "    if name == 'Population 2010' or name == 'Historical Emissions A\\nCumulative CO2 emissions from energy, 1850–2007 (million tonnes)':\n",
    "        array = make_array()\n",
    "        for entry in temp.column(name):\n",
    "            array = np.append(array, float(entry.replace(\",\",\"\")))\n",
    "        problem_set = problem_set.with_column(name, array)#temp.apply(lambda x: float(x.replace(',', '')), column_name))\n",
    "    else:\n",
    "        problem_set = problem_set.with_column(name, temp.column(name))"
   ]
  },
  {
   "cell_type": "markdown",
   "metadata": {},
   "source": [
    "### Shortcuts for column names:"
   ]
  },
  {
   "cell_type": "code",
   "execution_count": 220,
   "metadata": {},
   "outputs": [],
   "source": [
    "countries = 'Countries'\n",
    "co2_cummulative = 'Historical Emissions A\\nCumulative CO2 emissions from energy, 1850–2007 (million tonnes)'\n",
    "ghg_cummulative = 'Historical Emissions B\\nCumulative GHG Emissions, 1990-2010  (million tonnes CO2 equivalent)'\n",
    "ghg_2010 = 'Current GHG Emissions\\nTotal GHG Emissions, 2010  (million tonnes CO2 equivalent)'\n",
    "co2_2011 = 'Current CO2 Emissions\\nCO2 emissions from fossil fuel combustion, 2011 (million tonnes)'\n",
    "change_1971_2011 = 'Change from 1971–2011 (%)'\n",
    "change_1990_2011 = 'Change from 1990–2011 (%)'\n",
    "total_footprint = 'Total carbon footprint\\nFootprint of all goods and services consumed (million tonnes CO2 equivalent)'\n",
    "pop_2010 = 'Population 2010'\n",
    "gdp_ppp_2010 = 'GDP-PPP 2010 (Million $ (2005))'\n",
    "hdi_2011 = 'HDI, 2011'\n",
    "hdi_change_1990_2011 = 'HDI Change from 1990-2011 (%)'\n",
    "gender_inequality_2012 = 'Gender Inequality Index Value, 2012'\n",
    "maternal_2010 = 'Maternal Mortality Ratio, 2010'"
   ]
  },
  {
   "cell_type": "code",
   "execution_count": 221,
   "metadata": {},
   "outputs": [],
   "source": [
    "table_names = [countries, co2_cummulative, ghg_cummulative, ghg_2010, co2_2011, change_1971_2011, change_1990_2011, total_footprint, \n",
    "               pop_2010, gdp_ppp_2010, hdi_2011, hdi_change_1990_2011, gender_inequality_2012, maternal_2010]"
   ]
  },
  {
   "cell_type": "markdown",
   "metadata": {},
   "source": [
    "Column Name: Historical Emissions A Cumulative CO2 emission from energy, 1850-2007 (million tonnes) <br>\n",
    "Shortcut: \"co2_emissions\"\n",
    "\n",
    "Historical Emissions B Cumulative GHG Emissions, 1990-2010 (million tonnes CO2 equivalent) <br>\n",
    "Shortcut: \"ghg_emissions\"\n",
    "\n",
    "Current GHG Emissions Total GHG Emissions, 2010 (million tonnes CO2 equivalent) <br>\n",
    "Shortcut: \"ghg_2010_emissions\"\n",
    "\n",
    "Current CO2 Emissions CO2 emissions from fossil fuel combustion, 2011 (million tonnes) <br>\n",
    "Shortcut: \"co2_2011_emissions\"\n",
    "\n",
    "Change from 1971–2011 (%) <br>\n",
    "Shortcut: \"change_1971_2011\"\n",
    "\n",
    "Change from 1990–2011 (%) <br>\n",
    "Shortcut: \"change_1990_2011\"\n",
    "\n",
    "Total carbon footprint Footprint of all goods and services consumed (million tonnes CO2 equivalent) <br>\n",
    "Shortcut: \"total_footprint\"\n",
    "\n",
    "Population 2010 <br>\n",
    "Shortcut: \"pop_2010\"\n",
    "\n",
    "GDP-PPP 2010 (Million $ (2005)) <br>\n",
    "Shortcut: \"gdp-ppp_2010\"\n",
    "\n",
    "HDI, 2011 <br>\n",
    "Shortcut: \"hdi_2011\"\n",
    "\n",
    "HDI Change from 1990-2011 (%) <br>\n",
    "Shortcut: \"hdi_change_1990_2011\"\n",
    "\n",
    "Gender Inequality Index Value, 2012 <br>\n",
    "Shortcut: \"gender_inequality_2012\"\n",
    "\n",
    "Maternal Mortality Ratio, 2010 <br>\n",
    "Shortcut: \"maternal_2010\""
   ]
  },
  {
   "cell_type": "markdown",
   "metadata": {},
   "source": [
    "#### Alright! Let's begin!\n",
    "\n",
    "In this problem set, you will dive into some publicly available data on climate change, economic growth, and human development in an attempt to understand a little about the complex relationships between these parameters. With each chart you create, be sure to label your axes, create a chart title, and provide a simple regression line (including the R2 value). Note that you don’t need a chart legend if you only have one set of data. Remember – presentation is important! Also remember that a robust analysis would use far more in depth statistics, in particular focusing on each component of your regression model, both the size of the effect of each component as well as the significance, but for the purposes of this problem set linear regression slopes and R2 values will do.\n",
    "\n",
    "The data is in a table named \"problem_set\" (Run the next cell to see what it looks like)."
   ]
  },
  {
   "cell_type": "code",
   "execution_count": 3,
   "metadata": {},
   "outputs": [
    {
     "data": {
      "text/html": [
       "<table border=\"1\" class=\"dataframe\">\n",
       "    <thead>\n",
       "        <tr>\n",
       "            <th>Country</th> <th>Historical Emissions A\n",
       "Source: WRI, 2011\n",
       "(Climate Analysis Indicators Tool v8)\n",
       "Cumulative CO2 emissions from energy, 1850–2007 (million tonnes)\n",
       "</th> <th>Historical Emissions B\n",
       "Source: WRI, 2014\n",
       "(Climate Analysis Indicators Tool 2.0)\n",
       "Cumulative GHG Emissions, 1990-2010  (million tonnes CO2 equivalent)\n",
       "</th> <th>Current GHG Emissions\n",
       "Source: WRI, 2014\n",
       "(Climate Analysis Indicators Tool 2.0)\n",
       "Total GHG Emissions, 2010  (million tonnes CO2 equivalent)\n",
       "</th> <th>Current CO2 Emissions\n",
       "Source: IEA, 2013\n",
       "(CO2 Emissions from Fuel Combustion, 2013 Highlights)\n",
       "CO2 emissions from fossil fuel combustion, 2011 (million tonnes)\n",
       "</th> <th>Change from 1971–2011 (%)\n",
       "</th> <th>Change from 1990–2011 (%)\n",
       "</th> <th>Total carbon footprint\n",
       "Source: Peters et al, 2011\n",
       "(PNAS)\n",
       "Footprint of all goods and services consumed (million tonnes CO2 equivalent)\n",
       "</th> <th></th> <th>Source: WRI, 2014\n",
       "(Climate Analysis Indicators Tool 2.0)\n",
       "Population 2010\n",
       "</th> <th>GDP-PPP 2010 (Million $ (2005))\n",
       "</th> <th>\n",
       "</th> <th>Total carbon footprint.1\n",
       "Source: UNHDP, 2014\n",
       "(Human Development Reports)\n",
       "HDI, 2011\n",
       "</th> <th>\n",
       "HDI Change from 1990-2011 (%)\n",
       "</th> <th>\n",
       "Gender Inequality Index Value, 2012\n",
       "</th> <th>\n",
       "Maternal Mortality Ratio, 2010\n",
       "</th>\n",
       "        </tr>\n",
       "    </thead>\n",
       "    <tbody>\n",
       "        <tr>\n",
       "            <td>Afghanistan      </td> <td>72.4                                                                                                                                            </td> <td>349.34234819                                                                                                                                         </td> <td>24.9378183                                                                                                                                </td> <td>                                                                                                                                                               </td> <td>                          </td> <td>                          </td> <td>                                                                                                                                      </td> <td>    </td> <td>28397812.0                                                               </td> <td>33595.89494                     </td> <td>    </td> <td>0.371                                                                              </td> <td>50.81300813008131              </td> <td>0.712                                </td> <td>460.0                           </td>\n",
       "        </tr>\n",
       "        <tr>\n",
       "            <td>Albania          </td> <td>227.9                                                                                                                                           </td> <td>143.80923995999999                                                                                                                                   </td> <td>6.56747754                                                                                                                                </td> <td>3.872173                                                                                                                                                       </td> <td>-0.344532062302469        </td> <td>-38.029952665129116       </td> <td>5.36655937086411                                                                                                                      </td> <td>    </td> <td>3150143.0                                                                </td> <td>24545.14398                     </td> <td>    </td> <td>0.748                                                                              </td> <td>13.16187594553706              </td> <td>0.251                                </td> <td>27.0                            </td>\n",
       "        </tr>\n",
       "        <tr>\n",
       "            <td>Algeria          </td> <td>2272.4                                                                                                                                          </td> <td>2618.807043                                                                                                                                          </td> <td>169.4218605                                                                                                                               </td> <td>103.878773                                                                                                                                                     </td> <td>1064.7801333794405        </td> <td>97.00504231144794         </td> <td>                                                                                                                                      </td> <td>    </td> <td>37062820.0                                                               </td> <td>269074.5719                     </td> <td>    </td> <td>0.711                                                                              </td> <td>26.512455516014217             </td> <td>0.391                                </td> <td>97.0                            </td>\n",
       "        </tr>\n",
       "        <tr>\n",
       "            <td>Angola           </td> <td>305.3                                                                                                                                           </td> <td>3300.9745847                                                                                                                                         </td> <td>219.8435836                                                                                                                               </td> <td>15.719235                                                                                                                                                      </td> <td>845.5150510825533         </td> <td>291.96607483225927        </td> <td>                                                                                                                                      </td> <td>    </td> <td>19549124.0                                                               </td> <td>98686.19045                     </td> <td>    </td> <td>0.504                                                                              </td> <td>                               </td> <td>                                     </td> <td>450.0                           </td>\n",
       "        </tr>\n",
       "        <tr>\n",
       "            <td>Antigua & Barbuda</td> <td>16.6                                                                                                                                            </td> <td>14.166335613                                                                                                                                         </td> <td>1.203421037                                                                                                                               </td> <td>                                                                                                                                                               </td> <td>                          </td> <td>                          </td> <td>                                                                                                                                      </td> <td>    </td> <td>87233.0                                                                  </td> <td>1541.000517                     </td> <td>    </td> <td>0.759                                                                              </td> <td>                               </td> <td>                                     </td> <td>                                </td>\n",
       "        </tr>\n",
       "        <tr>\n",
       "            <td>Argentina        </td> <td>5894.8                                                                                                                                          </td> <td>6308.229589799999                                                                                                                                    </td> <td>359.0118969                                                                                                                               </td> <td>183.564551                                                                                                                                                     </td> <td>121.76281969580972        </td> <td>83.82239867862651         </td> <td>165.457784557464                                                                                                                      </td> <td>    </td> <td>40374224.0                                                               </td> <td>580427.4306                     </td> <td>    </td> <td>0.81                                                                               </td> <td>15.54921540656207              </td> <td>0.38                                 </td> <td>77.0                            </td>\n",
       "        </tr>\n",
       "        <tr>\n",
       "            <td>Armenia          </td> <td>505.6                                                                                                                                           </td> <td>183.454326817                                                                                                                                        </td> <td>13.4266625                                                                                                                                </td> <td>4.663286                                                                                                                                                       </td> <td>                          </td> <td>-77.2090896481657         </td> <td>6.01209693357893                                                                                                                      </td> <td>    </td> <td>2963496.0                                                                </td> <td>15152.61947                     </td> <td>    </td> <td>0.726                                                                              </td> <td>15.60509554140127              </td> <td>0.34                                 </td> <td>30.0                            </td>\n",
       "        </tr>\n",
       "        <tr>\n",
       "            <td>Australia        </td> <td>13108.5                                                                                                                                         </td> <td>10252.545315800002                                                                                                                                   </td> <td>587.5260417                                                                                                                               </td> <td>396.76749                                                                                                                                                      </td> <td>175.2692807536658         </td> <td>52.59047516359997         </td> <td>296.955754060111                                                                                                                      </td> <td>    </td> <td>22065300.0                                                               </td> <td>763921.0601                     </td> <td>    </td> <td>0.936                                                                              </td> <td>6.3636363636363695             </td> <td>0.115                                </td> <td>7.0                             </td>\n",
       "        </tr>\n",
       "        <tr>\n",
       "            <td>Austria          </td> <td>4541.9                                                                                                                                          </td> <td>1712.9249392400002                                                                                                                                   </td> <td>84.2764363                                                                                                                                </td> <td>68.4891                                                                                                                                                        </td> <td>40.619967480614896        </td> <td>21.35376232968831         </td> <td>99.8307870789066                                                                                                                      </td> <td>    </td> <td>8389771.0                                                                </td> <td>296268.1013                     </td> <td>    </td> <td>0.894                                                                              </td> <td>12.170639899623586             </td> <td>0.102                                </td> <td>4.0                             </td>\n",
       "        </tr>\n",
       "        <tr>\n",
       "            <td>Azerbaijan       </td> <td>2323.7                                                                                                                                          </td> <td>1218.82671986                                                                                                                                        </td> <td>64.21001445                                                                                                                               </td> <td>26.791025                                                                                                                                                      </td> <td>                          </td> <td>-51.29347774807037        </td> <td>30.2649660329915                                                                                                                      </td> <td>    </td> <td>9054332.0                                                                </td> <td>80695.56139                     </td> <td>    </td> <td>0.732                                                                              </td> <td>                               </td> <td>0.323                                </td> <td>43.0                            </td>\n",
       "        </tr>\n",
       "    </tbody>\n",
       "</table>\n",
       "<p>... (176 rows omitted)</p>"
      ],
      "text/plain": [
       "Country           | Historical Emissions A\n",
       "Source: WRI, 2011\n",
       "(Climate Analysis Indicators Tool v8)\n",
       "Cumulative CO2 emissions from energy, 1850–2007 (million tonnes)\n",
       " | Historical Emissions B\n",
       "Source: WRI, 2014\n",
       "(Climate Analysis Indicators Tool 2.0)\n",
       "Cumulative GHG Emissions, 1990-2010  (million tonnes CO2 equivalent)\n",
       " | Current GHG Emissions\n",
       "Source: WRI, 2014\n",
       "(Climate Analysis Indicators Tool 2.0)\n",
       "Total GHG Emissions, 2010  (million tonnes CO2 equivalent)\n",
       " | Current CO2 Emissions\n",
       "Source: IEA, 2013\n",
       "(CO2 Emissions from Fuel Combustion, 2013 Highlights)\n",
       "CO2 emissions from fossil fuel combustion, 2011 (million tonnes)\n",
       " | Change from 1971–2011 (%)\n",
       " | Change from 1990–2011 (%)\n",
       " | Total carbon footprint\n",
       "Source: Peters et al, 2011\n",
       "(PNAS)\n",
       "Footprint of all goods and services consumed (million tonnes CO2 equivalent)\n",
       " |      | Source: WRI, 2014\n",
       "(Climate Analysis Indicators Tool 2.0)\n",
       "Population 2010\n",
       " | GDP-PPP 2010 (Million $ (2005))\n",
       " | \n",
       "    | Total carbon footprint.1\n",
       "Source: UNHDP, 2014\n",
       "(Human Development Reports)\n",
       "HDI, 2011\n",
       " | \n",
       "HDI Change from 1990-2011 (%)\n",
       " | \n",
       "Gender Inequality Index Value, 2012\n",
       " | \n",
       "Maternal Mortality Ratio, 2010\n",
       "Afghanistan       | 72.4                                                                                                                                             | 349.34234819                                                                                                                                          | 24.9378183                                                                                                                                 |                                                                                                                                                                 |                            |                            |                                                                                                                                        |      | 28397812.0                                                                | 33595.89494                      |      | 0.371                                                                               | 50.81300813008131               | 0.712                                 | 460.0\n",
       "Albania           | 227.9                                                                                                                                            | 143.80923995999999                                                                                                                                    | 6.56747754                                                                                                                                 | 3.872173                                                                                                                                                        | -0.344532062302469         | -38.029952665129116        | 5.36655937086411                                                                                                                       |      | 3150143.0                                                                 | 24545.14398                      |      | 0.748                                                                               | 13.16187594553706               | 0.251                                 | 27.0\n",
       "Algeria           | 2272.4                                                                                                                                           | 2618.807043                                                                                                                                           | 169.4218605                                                                                                                                | 103.878773                                                                                                                                                      | 1064.7801333794405         | 97.00504231144794          |                                                                                                                                        |      | 37062820.0                                                                | 269074.5719                      |      | 0.711                                                                               | 26.512455516014217              | 0.391                                 | 97.0\n",
       "Angola            | 305.3                                                                                                                                            | 3300.9745847                                                                                                                                          | 219.8435836                                                                                                                                | 15.719235                                                                                                                                                       | 845.5150510825533          | 291.96607483225927         |                                                                                                                                        |      | 19549124.0                                                                | 98686.19045                      |      | 0.504                                                                               |                                 |                                       | 450.0\n",
       "Antigua & Barbuda | 16.6                                                                                                                                             | 14.166335613                                                                                                                                          | 1.203421037                                                                                                                                |                                                                                                                                                                 |                            |                            |                                                                                                                                        |      | 87233.0                                                                   | 1541.000517                      |      | 0.759                                                                               |                                 |                                       |\n",
       "Argentina         | 5894.8                                                                                                                                           | 6308.229589799999                                                                                                                                     | 359.0118969                                                                                                                                | 183.564551                                                                                                                                                      | 121.76281969580972         | 83.82239867862651          | 165.457784557464                                                                                                                       |      | 40374224.0                                                                | 580427.4306                      |      | 0.81                                                                                | 15.54921540656207               | 0.38                                  | 77.0\n",
       "Armenia           | 505.6                                                                                                                                            | 183.454326817                                                                                                                                         | 13.4266625                                                                                                                                 | 4.663286                                                                                                                                                        |                            | -77.2090896481657          | 6.01209693357893                                                                                                                       |      | 2963496.0                                                                 | 15152.61947                      |      | 0.726                                                                               | 15.60509554140127               | 0.34                                  | 30.0\n",
       "Australia         | 13108.5                                                                                                                                          | 10252.545315800002                                                                                                                                    | 587.5260417                                                                                                                                | 396.76749                                                                                                                                                       | 175.2692807536658          | 52.59047516359997          | 296.955754060111                                                                                                                       |      | 22065300.0                                                                | 763921.0601                      |      | 0.936                                                                               | 6.3636363636363695              | 0.115                                 | 7.0\n",
       "Austria           | 4541.9                                                                                                                                           | 1712.9249392400002                                                                                                                                    | 84.2764363                                                                                                                                 | 68.4891                                                                                                                                                         | 40.619967480614896         | 21.35376232968831          | 99.8307870789066                                                                                                                       |      | 8389771.0                                                                 | 296268.1013                      |      | 0.894                                                                               | 12.170639899623586              | 0.102                                 | 4.0\n",
       "Azerbaijan        | 2323.7                                                                                                                                           | 1218.82671986                                                                                                                                         | 64.21001445                                                                                                                                | 26.791025                                                                                                                                                       |                            | -51.29347774807037         | 30.2649660329915                                                                                                                       |      | 9054332.0                                                                 | 80695.56139                      |      | 0.732                                                                               |                                 | 0.323                                 | 43.0\n",
       "... (176 rows omitted)"
      ]
     },
     "execution_count": 3,
     "metadata": {},
     "output_type": "execute_result"
    }
   ],
   "source": [
    "problem_set"
   ]
  },
  {
   "cell_type": "markdown",
   "metadata": {},
   "source": [
    "Note that there are missing data! (welcome to the ‘real world’). If, when your calculations, you don't exclude (i.e. delete) these, you will possibly run across some errors, and some meaningless results! (For example, if you were to try to calculate the \"Per-Capita CO2 Emission from Fossil Fuel Consumption\" of Afghanistan, you would get a result of zero because the emission data is missing. If you plotted this and used it to determine your linear regression, your regression would obviously be meaningless.)\n",
    "\n",
    "<img src=\"error_pic.png\" height='50' width='850'>\n",
    "\n",
    "So, in order to avoid these issues, we've created a function to remove all the non-integers from the columns! The function is in the cell below."
   ]
  },
  {
   "cell_type": "code",
   "execution_count": null,
   "metadata": {},
   "outputs": [],
   "source": [
    "def clean(x, y):\n",
    "    \"\"\"\n",
    "    Takes in two column indices of \"problem_set\", x and y, in that respective order. Returns a list with two lists\n",
    "    composed of the two column indices from the table \"problem_set\".\n",
    "    \"\"\"\n",
    "    combined, x, y = list(zip(problem_set[x], problem_set[y])), [], []\n",
    "    for pair in combined:\n",
    "        if pair[0] != \"\" and pair[1] != \"\":\n",
    "            x.append(pair[0])\n",
    "            y.append(pair[1])\n",
    "    return [x, y]"
   ]
  },
  {
   "cell_type": "markdown",
   "metadata": {},
   "source": [
    "### IMPORTANT\n",
    "\n",
    "When getting your results from the clean function, make sure to index into the 0th element ([0]) to get the x-values, and index into the 1st element([1]) to get the y-values.\n",
    "\n",
    "For example, clean(0, 1) returns the valid data points between the first two columns in the problem_set table. If we set result to equal clean(0, 1) (result = clean(0, 1)), then we can get the x-column with result[0] and the y-column with result[1].\n",
    "\n",
    "With the function \"clean\" above, you should be able to perform any graphing you may be asked to do.\n",
    "\n",
    "When you explain your graphs below, do not describe them but instead interpret and explain them. Are there any correlations (or lack of)? Is there anything else that we may learn from the graph?\n",
    "\n",
    "Finally, the scatter plots you are asked to create are written below using the standard convention of dependent vs. independent (i.e. “plot Y vs. X”)."
   ]
  },
  {
   "cell_type": "markdown",
   "metadata": {},
   "source": [
    "### A quick tutorial on how to plot with Numpy and Matplotlib\n",
    "\n",
    "When plotting with Numpy and Matplotlib, there are a few functions that come in quite handy:\n",
    "   - Plot\n",
    "   - Scatter\n",
    "   \n",
    "Using plot, you're able to take any two columns of a table, and plot them quite easily! For example, if I wanted to plot, I could do:"
   ]
  },
  {
   "cell_type": "code",
   "execution_count": null,
   "metadata": {},
   "outputs": [],
   "source": [
    "# # plt.scatter(np.asarray(clean(1,2)[0]), np.asarray(clean(1,2)[1]))\n",
    "# # x = np.random.rand(10)\n",
    "# # y = np.random.rand(10)\n",
    "# # print(type(x))\n",
    "# # plt.scatter(x, y)\n",
    "# x = np.asarray(clean(1,2)[0][:10])\n",
    "# # print(type(z))\n",
    "# y = np.asarray(clean(1,2)[1][:10])\n",
    "# plt.yticks(np.arange(0, 10000, 1000))\n",
    "# plt.scatter(x, y)"
   ]
  },
  {
   "cell_type": "code",
   "execution_count": null,
   "metadata": {},
   "outputs": [],
   "source": [
    "def standard_units(x):\n",
    "    \"Convert any array of numbers to standard units.\"\n",
    "    return (x - np.average(x))/np.std(x)  \n",
    "\n",
    "def correlation(t, label_x, label_y):\n",
    "    \"Determines the correlation between the x and y variables\"\n",
    "    x_in_standard_units = standard_units(t.column(label_x))\n",
    "    y_in_standard_units = standard_units(t.column(label_y))\n",
    "    return np.average(x_in_standard_units * y_in_standard_units)"
   ]
  },
  {
   "cell_type": "markdown",
   "metadata": {},
   "source": [
    "1) Make a chart of Total GHG Emissions, 2010 vs. GDP\t\n",
    "a) Explain your result in 2-3 sentences.\n",
    "\n",
    "2) Make a chart of Per-Capita Total GHG Emissions, 2010 vs. HDI\n",
    "a) Explain your result in 2-3 sentences.\n",
    "\n",
    "3) Make a chart of Cumulative CO2 Emissions from Energy (1850-2007) Rank vs. HDI Rank   \n",
    "a) Explain your result in 2-3 sentences.\t\n",
    "\n",
    "4) Make a chart of Cumulative CO2 Emissions from Energy (1850-2007) Per Capita Rank vs. HDI Rank   \n",
    "a) Explain your result in 2-3 sentences.\n",
    "\n",
    "5) Which country has the highest Total GHG Emissions in 2010? Where do they rank on the per-capita scale? Which country has the highest per-capita?\n",
    "\n",
    "6) Which country has the highest “Footprint of all goods and services consumed”? Which has the highest per-capita?\n",
    "\n",
    "7) Go to www.gapminder.org/tools. Create an animated graph that tells you something interesting about climate change (CO2 Emissions should be on one axis). Note you can change an axis by clicking on the axis label and selecting a new measure from the various options. Take a screenshot of one year (be careful – sometimes the most recent data doesn’t include many countries, so take a screenshot that includes most of the world) and include that with your assignment.\n",
    "a) Explain your result in 2-4 sentences.\n",
    "\n",
    "8) Reflect on your findings.\n",
    "a) Do you think per-capita or total national emissions are the more appropriate way to do carbon accounting, and why?\n",
    "b) Do you think accounting should be based on what a country emits within its boundaries, or what a country consumes, including emissions from the production of goods elsewhere?\n",
    "c) Do you think countries should reduce their emissions in proportion to i) their past emissions; ii) their level of development & capacity to reduce; iii) the degree to which they will be impacted by climate change; iv) a combination of these, or something else (explain)?"
   ]
  },
  {
   "cell_type": "code",
   "execution_count": null,
   "metadata": {},
   "outputs": [],
   "source": []
  }
 ],
 "metadata": {
  "kernelspec": {
   "display_name": "Python 3",
   "language": "python",
   "name": "python3"
  },
  "language_info": {
   "codemirror_mode": {
    "name": "ipython",
    "version": 3
   },
   "file_extension": ".py",
   "mimetype": "text/x-python",
   "name": "python",
   "nbconvert_exporter": "python",
   "pygments_lexer": "ipython3",
   "version": "3.6.5"
  }
 },
 "nbformat": 4,
 "nbformat_minor": 2
}

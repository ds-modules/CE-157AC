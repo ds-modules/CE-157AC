{
 "cells": [
  {
   "cell_type": "markdown",
   "metadata": {},
   "source": [
    "# CE-157 Problem Set 3\n",
    "\n",
    "Run the 4 cells below and continue onwards! They're just needed to run the initial code needed to run the rest of the functions in this problem set."
   ]
  },
  {
   "cell_type": "code",
   "execution_count": 1,
   "metadata": {},
   "outputs": [],
   "source": [
    "import matplotlib\n",
    "matplotlib.use('Agg')\n",
    "%matplotlib inline\n",
    "import matplotlib.pyplot as plt\n",
    "from datascience import *\n",
    "import numpy as np"
   ]
  },
  {
   "cell_type": "code",
   "execution_count": 2,
   "metadata": {},
   "outputs": [],
   "source": [
    "temp = Table.read_table(\"ProblemSet3Data.csv\").relabeled('Unnamed: 0', 'Countries')\n",
    "problem_set = Table()\n",
    "for name in temp.labels:\n",
    "    if name == 'Population 2010' or name == 'Historical Emissions A\\nCumulative CO2 emissions from energy, 1850–2007 (million tonnes)':\n",
    "        array = make_array()\n",
    "        for entry in temp.column(name):\n",
    "            array = np.append(array, float(entry.replace(\",\",\"\")))\n",
    "        problem_set = problem_set.with_column(name, array)#temp.apply(lambda x: float(x.replace(',', '')), column_name))\n",
    "    else:\n",
    "        problem_set = problem_set.with_column(name, temp.column(name))"
   ]
  },
  {
   "cell_type": "code",
   "execution_count": 4,
   "metadata": {},
   "outputs": [],
   "source": [
    "old_names = ['Countries', 'co2_emissions', 'ghg_emissions', 'ghg_2010 emissions', 'co2_2011_emissions', 'change_1971_2011', 'change_1990_2011', 'total_footprint', 'pop_2010', 'gdp_ppp_2010', 'hdi_2011', 'hdi_change_1990_2011', 'gender_inequality_2012', 'maternal_2010']\n",
    "new_names = ['countries', 'co2_cummulative', 'ghg_cummulative', 'ghg_2010', 'co2_2011', 'change_1971_2011', 'change_1990_2011', 'total_footprint', 'pop_2010', 'gdp_ppp_2010', 'hdi_2011', 'hdi_change_1990_2011', 'gender_inequality_2012', 'maternal_2010']"
   ]
  },
  {
   "cell_type": "code",
   "execution_count": 5,
   "metadata": {},
   "outputs": [
    {
     "data": {
      "text/html": [
       "<table border=\"1\" class=\"dataframe\">\n",
       "    <thead>\n",
       "        <tr>\n",
       "            <th>countries</th> <th>co2_cummulative</th> <th>ghg_cummulative</th> <th>ghg_2010</th> <th>co2_2011</th> <th>change_1971_2011</th> <th>change_1990_2011</th> <th>total_footprint</th> <th>pop_2010</th> <th>gdp_ppp_2010</th> <th>hdi_2011</th> <th>hdi_change_1990_2011</th> <th>gender_inequality_2012</th> <th>maternal_2010</th>\n",
       "        </tr>\n",
       "    </thead>\n",
       "    <tbody>\n",
       "        <tr>\n",
       "            <td>Afghanistan      </td> <td>72.4           </td> <td>349.34         </td> <td>24.94   </td> <td>nan     </td> <td>nan             </td> <td>nan             </td> <td>nan            </td> <td>28,397,812</td> <td>33596       </td> <td>0.371   </td> <td>50.81               </td> <td>0.712                 </td> <td>460          </td>\n",
       "        </tr>\n",
       "        <tr>\n",
       "            <td>Albania          </td> <td>227.9          </td> <td>143.81         </td> <td>6.57    </td> <td>  3.9   </td> <td>-0.3            </td> <td>-38             </td> <td>5.4            </td> <td>3,150,143 </td> <td>24545       </td> <td>0.748   </td> <td>13.16               </td> <td>0.251                 </td> <td>27           </td>\n",
       "        </tr>\n",
       "        <tr>\n",
       "            <td>Algeria          </td> <td>2,272.40       </td> <td>2618.81        </td> <td>169.42  </td> <td>  103.9 </td> <td>1064.8          </td> <td>97              </td> <td>nan            </td> <td>37,062,820</td> <td>269075      </td> <td>0.711   </td> <td>26.51               </td> <td>0.391                 </td> <td>97           </td>\n",
       "        </tr>\n",
       "        <tr>\n",
       "            <td>Angola           </td> <td>305.3          </td> <td>3300.97        </td> <td>219.84  </td> <td>  15.7  </td> <td>845.5           </td> <td>292             </td> <td>nan            </td> <td>19,549,124</td> <td>98686       </td> <td>0.504   </td> <td>nan                 </td> <td>nan                   </td> <td>450          </td>\n",
       "        </tr>\n",
       "        <tr>\n",
       "            <td>Antigua & Barbuda</td> <td>16.6           </td> <td>14.17          </td> <td>1.2     </td> <td>nan     </td> <td>nan             </td> <td>nan             </td> <td>nan            </td> <td>87,233    </td> <td>1541        </td> <td>0.759   </td> <td>nan                 </td> <td>nan                   </td> <td>nan          </td>\n",
       "        </tr>\n",
       "        <tr>\n",
       "            <td>Argentina        </td> <td>5,894.80       </td> <td>6308.23        </td> <td>359.01  </td> <td>  183.6 </td> <td>121.8           </td> <td>83.8            </td> <td>165.5          </td> <td>40,374,224</td> <td>580427      </td> <td>0.81    </td> <td>15.55               </td> <td>0.38                  </td> <td>77           </td>\n",
       "        </tr>\n",
       "        <tr>\n",
       "            <td>Armenia          </td> <td>505.6          </td> <td>183.45         </td> <td>13.43   </td> <td>  4.7   </td> <td>nan             </td> <td>-77.2           </td> <td>6              </td> <td>2,963,496 </td> <td>15153       </td> <td>0.726   </td> <td>15.61               </td> <td>0.34                  </td> <td>30           </td>\n",
       "        </tr>\n",
       "        <tr>\n",
       "            <td>Australia        </td> <td>13,108.50      </td> <td>10252.5        </td> <td>587.53  </td> <td>  396.8 </td> <td>175.3           </td> <td>52.6            </td> <td>297            </td> <td>22,065,300</td> <td>763921      </td> <td>0.936   </td> <td>6.36                </td> <td>0.115                 </td> <td>7            </td>\n",
       "        </tr>\n",
       "        <tr>\n",
       "            <td>Austria          </td> <td>4,541.90       </td> <td>1712.92        </td> <td>84.28   </td> <td>  68.5  </td> <td>40.6            </td> <td>21.4            </td> <td>99.8           </td> <td>8,389,771 </td> <td>296268      </td> <td>0.894   </td> <td>12.17               </td> <td>0.102                 </td> <td>4            </td>\n",
       "        </tr>\n",
       "        <tr>\n",
       "            <td>Azerbaijan       </td> <td>2,323.70       </td> <td>1218.83        </td> <td>64.21   </td> <td>  26.8  </td> <td>nan             </td> <td>-51.3           </td> <td>30.3           </td> <td>9,054,332 </td> <td>80696       </td> <td>0.732   </td> <td>nan                 </td> <td>0.323                 </td> <td>43           </td>\n",
       "        </tr>\n",
       "    </tbody>\n",
       "</table>\n",
       "<p>... (176 rows omitted)</p>"
      ],
      "text/plain": [
       "countries         | co2_cummulative | ghg_cummulative | ghg_2010 | co2_2011 | change_1971_2011 | change_1990_2011 | total_footprint | pop_2010   | gdp_ppp_2010 | hdi_2011 | hdi_change_1990_2011 | gender_inequality_2012 | maternal_2010\n",
       "Afghanistan       | 72.4            | 349.34          | 24.94    | nan      | nan              | nan              | nan             | 28,397,812 | 33596        | 0.371    | 50.81                | 0.712                  | 460\n",
       "Albania           | 227.9           | 143.81          | 6.57     |   3.9    | -0.3             | -38              | 5.4             | 3,150,143  | 24545        | 0.748    | 13.16                | 0.251                  | 27\n",
       "Algeria           | 2,272.40        | 2618.81         | 169.42   |   103.9  | 1064.8           | 97               | nan             | 37,062,820 | 269075       | 0.711    | 26.51                | 0.391                  | 97\n",
       "Angola            | 305.3           | 3300.97         | 219.84   |   15.7   | 845.5            | 292              | nan             | 19,549,124 | 98686        | 0.504    | nan                  | nan                    | 450\n",
       "Antigua & Barbuda | 16.6            | 14.17           | 1.2      | nan      | nan              | nan              | nan             | 87,233     | 1541         | 0.759    | nan                  | nan                    | nan\n",
       "Argentina         | 5,894.80        | 6308.23         | 359.01   |   183.6  | 121.8            | 83.8             | 165.5           | 40,374,224 | 580427       | 0.81     | 15.55                | 0.38                   | 77\n",
       "Armenia           | 505.6           | 183.45          | 13.43    |   4.7    | nan              | -77.2            | 6               | 2,963,496  | 15153        | 0.726    | 15.61                | 0.34                   | 30\n",
       "Australia         | 13,108.50       | 10252.5         | 587.53   |   396.8  | 175.3            | 52.6             | 297             | 22,065,300 | 763921       | 0.936    | 6.36                 | 0.115                  | 7\n",
       "Austria           | 4,541.90        | 1712.92         | 84.28    |   68.5   | 40.6             | 21.4             | 99.8            | 8,389,771  | 296268       | 0.894    | 12.17                | 0.102                  | 4\n",
       "Azerbaijan        | 2,323.70        | 1218.83         | 64.21    |   26.8   | nan              | -51.3            | 30.3            | 9,054,332  | 80696        | 0.732    | nan                  | 0.323                  | 43\n",
       "... (176 rows omitted)"
      ]
     },
     "execution_count": 5,
     "metadata": {},
     "output_type": "execute_result"
    }
   ],
   "source": [
    "problem_set.relabel(old_names,new_names)"
   ]
  },
  {
   "cell_type": "markdown",
   "metadata": {},
   "source": [
    "### Shortcuts for column names:"
   ]
  },
  {
   "cell_type": "markdown",
   "metadata": {},
   "source": [
    "|Column Name   | Description | \n",
    "|--------------|---------|\n",
    "|co2_commulative |Historical Emissions A Cumulative CO2 emission from energy, 1850-2007 (million tonnes) |\n",
    "|ghg_commulative | Historical Emissions B Cumulative GHG Emissions, 1990-2010 (million tonnes CO2 equivalent) |\n",
    "|ghg_2010| Current GHG Emissions Total GHG Emissions, 2010 (million tonnes CO2 equivalent)|\n",
    "|co2_2011|Current CO2 Emissions CO2 emissions from fossil fuel combustion, 2011 (million tonnes) |\n",
    "|change_1971_2011|Change from 1971–2011 (%) |\n",
    "|change_1990_2011|Change from 1990–2011 (%) |\n",
    "|total_footprint|Total carbon footprint Footprint of all goods and services consumed (million tonnes CO2 equivalent) |\n",
    "|pop_2010|Population 2010|\n",
    "|gdp_ppp_2010|GDP-PPP 2010 (Million $ (2005))|\n",
    "|hdi_2011|HDI, 2011 |\n",
    "|hdi_change_1990_2011|HDI Change from 1990-2011 (%) |\n",
    "|gender_inequality_2012|Gender Inequality Index Value, 2012 |\n",
    "|maternal_2010|Maternal Mortality Ratio, 2010 |"
   ]
  },
  {
   "cell_type": "markdown",
   "metadata": {},
   "source": [
    "#### Alright! Let's begin!\n",
    "\n",
    "In this problem set, you will dive into some publicly available data on climate change, economic growth, and human development in an attempt to understand a little about the complex relationships between these parameters. With each chart you create, be sure to label your axes, create a chart title, and provide a simple regression line (including the R2 value). Note that you don’t need a chart legend if you only have one set of data. Remember – presentation is important! Also remember that a robust analysis would use far more in depth statistics, in particular focusing on each component of your regression model, both the size of the effect of each component as well as the significance, but for the purposes of this problem set linear regression slopes and R2 values will do.\n",
    "\n"
   ]
  },
  {
   "cell_type": "markdown",
   "metadata": {},
   "source": [
    "#### Table of Contents \n",
    "\n",
    "1 - [Introduction to Ploting](#section1)<br>\n",
    "\n",
    "2 - [Correlation](#section2)<br>\n",
    "\n",
    "3 - [Regression](#section3)<br>\n",
    "\n",
    "4 - [Recap](#section4)<br>\n",
    "\n",
    "5 - [Questions](#section4)<br>\n",
    "\n",
    "\n"
   ]
  },
  {
   "cell_type": "markdown",
   "metadata": {},
   "source": [
    "The data is in a table named `problem_set` (Run the next cell to see what it looks like)."
   ]
  },
  {
   "cell_type": "code",
   "execution_count": 6,
   "metadata": {},
   "outputs": [
    {
     "data": {
      "text/html": [
       "<table border=\"1\" class=\"dataframe\">\n",
       "    <thead>\n",
       "        <tr>\n",
       "            <th>countries</th> <th>co2_cummulative</th> <th>ghg_cummulative</th> <th>ghg_2010</th> <th>co2_2011</th> <th>change_1971_2011</th> <th>change_1990_2011</th> <th>total_footprint</th> <th>pop_2010</th> <th>gdp_ppp_2010</th> <th>hdi_2011</th> <th>hdi_change_1990_2011</th> <th>gender_inequality_2012</th> <th>maternal_2010</th>\n",
       "        </tr>\n",
       "    </thead>\n",
       "    <tbody>\n",
       "        <tr>\n",
       "            <td>Afghanistan      </td> <td>72.4           </td> <td>349.34         </td> <td>24.94   </td> <td>nan     </td> <td>nan             </td> <td>nan             </td> <td>nan            </td> <td>28,397,812</td> <td>33596       </td> <td>0.371   </td> <td>50.81               </td> <td>0.712                 </td> <td>460          </td>\n",
       "        </tr>\n",
       "        <tr>\n",
       "            <td>Albania          </td> <td>227.9          </td> <td>143.81         </td> <td>6.57    </td> <td>  3.9   </td> <td>-0.3            </td> <td>-38             </td> <td>5.4            </td> <td>3,150,143 </td> <td>24545       </td> <td>0.748   </td> <td>13.16               </td> <td>0.251                 </td> <td>27           </td>\n",
       "        </tr>\n",
       "        <tr>\n",
       "            <td>Algeria          </td> <td>2,272.40       </td> <td>2618.81        </td> <td>169.42  </td> <td>  103.9 </td> <td>1064.8          </td> <td>97              </td> <td>nan            </td> <td>37,062,820</td> <td>269075      </td> <td>0.711   </td> <td>26.51               </td> <td>0.391                 </td> <td>97           </td>\n",
       "        </tr>\n",
       "        <tr>\n",
       "            <td>Angola           </td> <td>305.3          </td> <td>3300.97        </td> <td>219.84  </td> <td>  15.7  </td> <td>845.5           </td> <td>292             </td> <td>nan            </td> <td>19,549,124</td> <td>98686       </td> <td>0.504   </td> <td>nan                 </td> <td>nan                   </td> <td>450          </td>\n",
       "        </tr>\n",
       "        <tr>\n",
       "            <td>Antigua & Barbuda</td> <td>16.6           </td> <td>14.17          </td> <td>1.2     </td> <td>nan     </td> <td>nan             </td> <td>nan             </td> <td>nan            </td> <td>87,233    </td> <td>1541        </td> <td>0.759   </td> <td>nan                 </td> <td>nan                   </td> <td>nan          </td>\n",
       "        </tr>\n",
       "        <tr>\n",
       "            <td>Argentina        </td> <td>5,894.80       </td> <td>6308.23        </td> <td>359.01  </td> <td>  183.6 </td> <td>121.8           </td> <td>83.8            </td> <td>165.5          </td> <td>40,374,224</td> <td>580427      </td> <td>0.81    </td> <td>15.55               </td> <td>0.38                  </td> <td>77           </td>\n",
       "        </tr>\n",
       "        <tr>\n",
       "            <td>Armenia          </td> <td>505.6          </td> <td>183.45         </td> <td>13.43   </td> <td>  4.7   </td> <td>nan             </td> <td>-77.2           </td> <td>6              </td> <td>2,963,496 </td> <td>15153       </td> <td>0.726   </td> <td>15.61               </td> <td>0.34                  </td> <td>30           </td>\n",
       "        </tr>\n",
       "        <tr>\n",
       "            <td>Australia        </td> <td>13,108.50      </td> <td>10252.5        </td> <td>587.53  </td> <td>  396.8 </td> <td>175.3           </td> <td>52.6            </td> <td>297            </td> <td>22,065,300</td> <td>763921      </td> <td>0.936   </td> <td>6.36                </td> <td>0.115                 </td> <td>7            </td>\n",
       "        </tr>\n",
       "        <tr>\n",
       "            <td>Austria          </td> <td>4,541.90       </td> <td>1712.92        </td> <td>84.28   </td> <td>  68.5  </td> <td>40.6            </td> <td>21.4            </td> <td>99.8           </td> <td>8,389,771 </td> <td>296268      </td> <td>0.894   </td> <td>12.17               </td> <td>0.102                 </td> <td>4            </td>\n",
       "        </tr>\n",
       "        <tr>\n",
       "            <td>Azerbaijan       </td> <td>2,323.70       </td> <td>1218.83        </td> <td>64.21   </td> <td>  26.8  </td> <td>nan             </td> <td>-51.3           </td> <td>30.3           </td> <td>9,054,332 </td> <td>80696       </td> <td>0.732   </td> <td>nan                 </td> <td>0.323                 </td> <td>43           </td>\n",
       "        </tr>\n",
       "    </tbody>\n",
       "</table>\n",
       "<p>... (176 rows omitted)</p>"
      ],
      "text/plain": [
       "countries         | co2_cummulative | ghg_cummulative | ghg_2010 | co2_2011 | change_1971_2011 | change_1990_2011 | total_footprint | pop_2010   | gdp_ppp_2010 | hdi_2011 | hdi_change_1990_2011 | gender_inequality_2012 | maternal_2010\n",
       "Afghanistan       | 72.4            | 349.34          | 24.94    | nan      | nan              | nan              | nan             | 28,397,812 | 33596        | 0.371    | 50.81                | 0.712                  | 460\n",
       "Albania           | 227.9           | 143.81          | 6.57     |   3.9    | -0.3             | -38              | 5.4             | 3,150,143  | 24545        | 0.748    | 13.16                | 0.251                  | 27\n",
       "Algeria           | 2,272.40        | 2618.81         | 169.42   |   103.9  | 1064.8           | 97               | nan             | 37,062,820 | 269075       | 0.711    | 26.51                | 0.391                  | 97\n",
       "Angola            | 305.3           | 3300.97         | 219.84   |   15.7   | 845.5            | 292              | nan             | 19,549,124 | 98686        | 0.504    | nan                  | nan                    | 450\n",
       "Antigua & Barbuda | 16.6            | 14.17           | 1.2      | nan      | nan              | nan              | nan             | 87,233     | 1541         | 0.759    | nan                  | nan                    | nan\n",
       "Argentina         | 5,894.80        | 6308.23         | 359.01   |   183.6  | 121.8            | 83.8             | 165.5           | 40,374,224 | 580427       | 0.81     | 15.55                | 0.38                   | 77\n",
       "Armenia           | 505.6           | 183.45          | 13.43    |   4.7    | nan              | -77.2            | 6               | 2,963,496  | 15153        | 0.726    | 15.61                | 0.34                   | 30\n",
       "Australia         | 13,108.50       | 10252.5         | 587.53   |   396.8  | 175.3            | 52.6             | 297             | 22,065,300 | 763921       | 0.936    | 6.36                 | 0.115                  | 7\n",
       "Austria           | 4,541.90        | 1712.92         | 84.28    |   68.5   | 40.6             | 21.4             | 99.8            | 8,389,771  | 296268       | 0.894    | 12.17                | 0.102                  | 4\n",
       "Azerbaijan        | 2,323.70        | 1218.83         | 64.21    |   26.8   | nan              | -51.3            | 30.3            | 9,054,332  | 80696        | 0.732    | nan                  | 0.323                  | 43\n",
       "... (176 rows omitted)"
      ]
     },
     "execution_count": 6,
     "metadata": {},
     "output_type": "execute_result"
    }
   ],
   "source": [
    "problem_set"
   ]
  },
  {
   "cell_type": "markdown",
   "metadata": {},
   "source": [
    "## Introduction to Ploting <a id='section1'></a>\n",
    "### A quick tutorial on how to plot with Numpy and Matplotlib\n",
    "\n",
    "Ploting is one of the most important steps of exploratory data analysis. It can help us uncover things we could not perceive by simply looking at summary statistics or at the first 10 rows of our data set. Python has to very helpful libraries that contain many handy functions to make plotting easy and intuitive namely Numpy and Matplotlib. \n",
    "\n",
    "Some of the functions we might find useful in this problem set are: \n",
    "   - Plot\n",
    "   - Scatter"
   ]
  },
  {
   "cell_type": "markdown",
   "metadata": {},
   "source": [
    "#### Scatter Plots\n",
    "\n",
    "Lets explore the **scattter** function. Using scattter plot you're able to take any two columns of a table, and plot them quite easily! For example, the scatter plot for  Total GHG Emissions, 2010 vs. GDP-PPP 2010 (Million $ (2005)) should look like:\n",
    "\n",
    "<img src=\"E157AC_Scatter_1.png\" style=\"height:300px\" align=\"left\" float=\"left\"/>\n",
    "\n",
    "\n"
   ]
  },
  {
   "cell_type": "markdown",
   "metadata": {},
   "source": [
    "**A tip to navigate Jupyter**: Pull up the documentation for any function in Jupyter by typing the function name, then `<Shift>-<Tab>` on your keyboard. This is very useful when you want to know what arguments a function takes, or the order of the arguments in a function. You can press`<Tab>` multiple times to expand the docs."
   ]
  },
  {
   "cell_type": "markdown",
   "metadata": {},
   "source": [
    "Now, lets crete a function that will help us create a scatter plot. "
   ]
  },
  {
   "cell_type": "code",
   "execution_count": null,
   "metadata": {},
   "outputs": [],
   "source": [
    "def scatter(x, y):\n",
    "    \"\"\"\n",
    "    Generate a scatter plot using x and y\n",
    "\n",
    "    Arguments:\n",
    "    x -- the vector of values x\n",
    "    y -- the vector of values y\n",
    "    \"\"\"\n",
    "    plt.figure(figsize=(8, 6))\n",
    "    plt.scatter(x,y)  # Tip: You can plt.scatter(x,y, s=6) to change the size of your points to 6. You can try any number\n",
    "    \n",
    "    \n",
    "\n",
    "# This is one way you can all this function to produce a plot. \n",
    "# Do not worry too much about the implementation yet, we will discuss the details later.\n",
    "\n",
    "## EXAMPLE ##\n",
    "# x = problem_set.column(\"column name\")\n",
    "# y = problem_set.column(\"column name\")\n",
    "# p1= scatter(x,y)"
   ]
  },
  {
   "cell_type": "markdown",
   "metadata": {},
   "source": [
    "#### Labeling:\n",
    "\n",
    "If we look back at the scattter plot created above we will notice that it is very hard to interpret the plot since we do not know what x and y mean. For us to make any inferences or useful obervations on the plot we need more context. \n",
    "The following functions are very useful to help you, and others reading your plots understand what you are talking about. Some helpful functions that we can use to enhance out plots are:\n",
    "\n",
    "* plt.xlabel()\n",
    "* plt.ylabel()\n",
    "* plt.title()"
   ]
  },
  {
   "cell_type": "markdown",
   "metadata": {},
   "source": [
    "Now we will write a utility function that will allow us to label our plots.\n",
    "\n",
    "**YOUR TURN**"
   ]
  },
  {
   "cell_type": "code",
   "execution_count": null,
   "metadata": {},
   "outputs": [],
   "source": [
    "# Complete the following function by filling in the (...) below with the appropiate arguments.\n",
    "# Use [plot, xlab, ylab, plot_title] to fill in the blanks. Note not all of them are going to be used. \n",
    "\n",
    "def put_label_on_plot(plot, xlab, ylab, plot_title):\n",
    "    \"\"\"\n",
    "    Generate labels for a plot using plot, xlab, ylab, and plot title\n",
    "\n",
    "    Arguments:\n",
    "    plot -- Any plot. For instance, a plot created using the scatter function above\n",
    "    xlab -- Label for x-axis (USE \" \")\n",
    "    ylab -- Label for y-axis (USE \" \")\n",
    "    plot_title -- Title for your plot (USE \" \")\n",
    "    \"\"\"\n",
    "    plt.xlabel(...)  # YOUR CODE HERE\n",
    "    plt.ylabel(...)  # YOUR CODE HERE\n",
    "    plt.title(...)   # YOUR CODE HERE\n",
    "    \n",
    " \n",
    "# EXAMPLE #\n",
    "# xlab= \"X-Axis label\"\n",
    "# ylab= \"Y-Axis label\"\n",
    "# plot_title=  \"Title for your plot\"\n",
    "# put_label_on_plot(p1,xlab,ylab,plot_title)\n",
    "\n",
    "# Make sure that your xlab,ylab, and plot_title are inside quotations like the example above.\n",
    "# Do not forget to save your scatter plots into a variable (e.g. p1=scatter(x,y)) so that you can use it on this function."
   ]
  },
  {
   "cell_type": "markdown",
   "metadata": {},
   "source": [
    "Running the two functions above on **Total GHG Emissions, 2010** and **GDP-PPP 2010 (Million (2005))** should produce the following plot: \n",
    "\n",
    "<img src=\"E157AC_scatter_2.png\" style=\"height:300px\" align=\"left\" float=\"left\"/>"
   ]
  },
  {
   "cell_type": "markdown",
   "metadata": {},
   "source": [
    "## Correlation <a id='section2'></a>\n",
    "\n"
   ]
  },
  {
   "cell_type": "markdown",
   "metadata": {},
   "source": [
    "#### The correlation coefficient - *r*\n",
    "* r is a numerical measure of correlation ranging from -1 to 1. It gives us information about the strength of the relationship between two variables. \n",
    "* Although there are different types of correlation, we will use \"Pearson's correlation\" or \"Pearson's R\". \n",
    "\n",
    "#### How to interpret ***r*** ?\n",
    "* r=1; For every unit increase in a variable, say X, there is a positive increase of a fixed proportion on the other varaible, say Y.\n",
    "* r=-1; For every unit increase in a Variable, say X, the is a negative increase of a fixed proportion on the other varaible, say Y.  \n",
    "* r=0; For every unit increase in a variable, say X, there is not a negative or positive increase on the other variable, say Y. This means that the two variables are un-correlated.\n",
    "* The r\n",
    "\n",
    "_________________\n",
    "\n",
    "**These are some examples of different correlatiosn `r`**"
   ]
  },
  {
   "cell_type": "markdown",
   "metadata": {},
   "source": [
    "<img src=\"E157AC_correlation-examples.svg\" style=\"height:300px\" align=\"left\" float=\"left\"/>\n",
    "\n",
    "source: mathsisfun.com"
   ]
  },
  {
   "cell_type": "markdown",
   "metadata": {},
   "source": [
    "Now that you have a visual and conceptual idea of what correlation is, we can use the functions defined below to calculate the corralation for the variables in your data set.\n",
    "\n",
    "You do not have to worry about understanding the implementation of these two functions, you just need to know how to use and interpret the results for *correlation* function we created for you ***r***. Don't worry, we will go over an example later. \n",
    "\n",
    "If you would like to learn more about how to obtain the corraltion coefficient please visit https://www.inferentialthinking.com/chapters/15/1/Correlation for more details."
   ]
  },
  {
   "cell_type": "code",
   "execution_count": null,
   "metadata": {},
   "outputs": [],
   "source": [
    "def standard_units(x):\n",
    "    \"Convert any array of numbers to standard units.\"\n",
    "    return (x - np.average(x))/np.std(x)  \n",
    "\n",
    "def correlation(t, label_x, label_y):\n",
    "    \"Determines the correlation between the x and y variables\"\n",
    "    x_in_standard_units = standard_units(t.column(label_x))\n",
    "    y_in_standard_units = standard_units(t.column(label_y))\n",
    "    return np.average(x_in_standard_units * y_in_standard_units)"
   ]
  },
  {
   "cell_type": "markdown",
   "metadata": {},
   "source": [
    "## Regression <a id='section3'></a>"
   ]
  },
  {
   "cell_type": "markdown",
   "metadata": {},
   "source": [
    "#### What is a regression line?\n",
    "* Linear regression allows us to model two or more varaibles. This line allows us to correlate our data.\n",
    "    * For the purpose of this homework we will only be working with two. Namely X-independent variable and Y-dependent variable. \n",
    "* Linear regressions allow us to predict one variable from another. In this case we will predict Y from X.\n",
    "* There are many predictive models that help us find estiamates for our data. However, the goal of a simple linear regression is to create a linear model that minimize the sum of square errors.  Making it the line of \"best fit\".\n",
    "    * The error represents how far off our obervations(real data) are from our predicted values(data from our model). \n",
    "    * For instance, if our sample had only one data point, say 5, and our model predicted that it would be 7. Our square error would be (5-7)^2= 4. "
   ]
  },
  {
   "cell_type": "markdown",
   "metadata": {},
   "source": [
    "<img src=\"E157AC_linear_regression.png\" style=\"width:200px;height:200;\"  align=\"center\" float=\"center\"/>"
   ]
  },
  {
   "cell_type": "markdown",
   "metadata": {},
   "source": [
    "* Slope of the regression line \"line of averages\" can be found using the `r` we found before! \n",
    "* The slope of this line determines the whether our correlation is possitive or negative.\n",
    "\n",
    "\n",
    "No matter the shape of the scatter plot, this unique line minimizes the mean squared error of estimation!\n",
    "\n",
    "#### Formula for linear regression?\n",
    "\n",
    "First some *definitions*:\n",
    "\n",
    "General format: $Y_i =\\beta_0 +\\beta_1Xi+\\epsilon_i$ but when we are doing **simple linea rgression** we write it like this $E(Y_i) =\\beta_0 +\\beta_1Xi$, which is the mean or expected value of y, for a given x.\n",
    "\n",
    "* notice that it looks very similar to : $y=mx +b$ \n",
    "\n",
    "$Y_i$: Dependent (response variable)\n",
    "\n",
    "$\\beta_0$: Y Intercept\n",
    "\n",
    "$\\beta_1$: Slope\n",
    "\n",
    "$\\epsilon_0$: Random Error (unexplained variation in Y)\n",
    "\n",
    "\n",
    "#### Whta is R-squared (coefficient of determination)?\n",
    "\n",
    "* R-squared allow us to see how close our data is to the regression line  \n",
    "* It is the percentage of the response variable variation that is explained by a linear model. \n",
    "    * R-squared = Explained variation / Total variation\n",
    "    * R-squared is always between 0 and 100%:\n",
    "        * A 0% indicates that the model explains none of the variability of the response data around its mean.\n",
    "        * A 100% indicates that the model explains all the variability of the response data around its mean.\n",
    "* In general, the **higher** the R-squared, the better the model fits your data.\n",
    "* However r_square cannot tell if:\n",
    "    * predictions are biased \n",
    "    * regression model is adequate "
   ]
  },
  {
   "cell_type": "markdown",
   "metadata": {},
   "source": [
    "source: https://www.inferentialthinking.com/chapters/15/2/Regression_Line\n",
    "\n",
    "source: http://statisticsbyjim.com/regression/interpret-r-squared-regression/\n",
    "\n",
    "source: http://blog.minitab.com/blog/adventures-in-statistics-2/regression-analysis-how-do-i-interpret-r-squared-and-assess-the-goodness-of-fit\n",
    "\n"
   ]
  },
  {
   "cell_type": "markdown",
   "metadata": {},
   "source": [
    "### Example: Putting it all together \n",
    "\n",
    "\n",
    "\n",
    "<img src=\"father_son.png\" style=\"width:500px;height:500;\"  align=\"center\" float=\"center\"/>\n",
    "\n",
    "\n",
    "\n",
    "\n",
    "* Notice that in order to find line that helps us predict values, all we need to do is find a slope and a y-intercept. \n",
    "* In this example, the regression line predeicts the son's height from the father's height. \n",
    "* The equation for the regression line would look like:\n",
    "\n",
    "$SONH_i= \\beta_0 + \\beta_1 FATHERHA + \\epsilon_i$"
   ]
  },
  {
   "cell_type": "markdown",
   "metadata": {},
   "source": [
    "# NOTES:\n",
    "* Write note about using t.column()\n",
    "* write the equations for slope and intercept and linear regression in latex \n",
    "\n",
    "#### Utility Functions For Linear Regression Model\n",
    "\n",
    "Now we will write some utility functions that will help us create the linear regression model we discussed above."
   ]
  },
  {
   "cell_type": "code",
   "execution_count": null,
   "metadata": {},
   "outputs": [],
   "source": [
    "def slope(t, x, y):\n",
    "    r = correlation(t, x, y)\n",
    "    y_sd = np.std(t.column(y))\n",
    "    x_sd = np.std(t.column(x))\n",
    "    return r * y_sd / x_sd"
   ]
  },
  {
   "cell_type": "code",
   "execution_count": 1,
   "metadata": {},
   "outputs": [],
   "source": [
    "def intercept(t, x, y):\n",
    "    x_mean = np.mean(t.column(x))\n",
    "    y_mean = np.mean(t.column(y)) \n",
    "    return  y_mean - slope(t, x, y)*x_mean"
   ]
  },
  {
   "cell_type": "markdown",
   "metadata": {},
   "source": [
    "Recall the format for the linear equation mentioned on the father-son example mentioned above?\n",
    "This is what we are using to create our regression line.  "
   ]
  },
  {
   "cell_type": "code",
   "execution_count": null,
   "metadata": {},
   "outputs": [],
   "source": [
    "def fitted_values(t, x, y):\n",
    "    \"\"\"Return an array of the regressions estimates at all the x values\n",
    "    a: slope \n",
    "    b: y - intercept \n",
    "    \n",
    "    \"\"\"\n",
    "    a = slope(t, x, y)\n",
    "    b = intercept(t, x, y)\n",
    "    return a*t.column(x) + b"
   ]
  },
  {
   "cell_type": "code",
   "execution_count": null,
   "metadata": {},
   "outputs": [],
   "source": [
    "def r_squred(t, x, y):\n",
    "    r = correlation(t, x, y)\n",
    "    return r**2 "
   ]
  },
  {
   "cell_type": "markdown",
   "metadata": {},
   "source": [
    "## Recap <a id='section4'></a>\n",
    "\n",
    "\n",
    "Up to now you have learned:\n",
    "* What a **scatter plot** is and how to create it \n",
    "* How to **label** your plots\n",
    "* What the correaltion coefficient (**`r`**) is, how to interpret it, and how to calculate it\n",
    "* What the **linar regression** is, how to interpret its equation, and how to calculate it\n",
    "* What the coefficeint of determination is (**`r_squared`**), how to intepret it, and how to calculate it\n",
    "\n",
    "Now, you are ready to answer the rest of the questions."
   ]
  },
  {
   "cell_type": "markdown",
   "metadata": {},
   "source": [
    "## Questions <a id='section5'></a>\n",
    "\n",
    "\n",
    "### READ BEFORE ANSWERING THE QUESTIONS\n",
    "\n",
    "When you explain your graphs below, do not describe them but instead interpret and explain them. Are there any correlations (or lack of)? Is there anything else that we may learn from the graph?\n",
    "\n",
    "Finally, the scatter plots you are asked to create are written below using the standard convention of dependent vs. independent (i.e. “plot Y vs. X”)."
   ]
  },
  {
   "cell_type": "markdown",
   "metadata": {},
   "source": [
    "### Question 1\n",
    "\n",
    "Make a chart of Total GHG Emissions, 2010 vs. GDP. "
   ]
  },
  {
   "cell_type": "code",
   "execution_count": null,
   "metadata": {},
   "outputs": [],
   "source": [
    "# YOUR CODE HERE"
   ]
  },
  {
   "cell_type": "markdown",
   "metadata": {},
   "source": [
    "What do you notice? Why do you think your plot looks this way? Write down a few thoughts about why you think your plot looks like this"
   ]
  },
  {
   "cell_type": "markdown",
   "metadata": {},
   "source": []
  },
  {
   "cell_type": "markdown",
   "metadata": {},
   "source": [
    "Note that there are missing data! (welcome to the ‘real world’). If, when your calculations, you don't exclude (i.e. delete) these, you will possibly run across some errors, and some meaningless results! (For example, if you were to try to calculate the \"Per-Capita CO2 Emission from Fossil Fuel Consumption\" of Afghanistan, you would get a result of zero because the emission data is missing. \n",
    "\n",
    "\n",
    "If you plotted this and used it to determine your linear regression, your regression would obviously be meaningless.)\n",
    "\n",
    "<img src=\"error_pic.png\" height='50' width='850'>\n",
    "\n",
    "So, in order to avoid these issues, we've created a function to remove all the non-integers from the columns! The function is in the cell below."
   ]
  },
  {
   "cell_type": "code",
   "execution_count": null,
   "metadata": {},
   "outputs": [],
   "source": [
    "def clean(x, y):\n",
    "    \"\"\"\n",
    "    Takes in two column indices of \"problem_set\", x and y, in that respective order. Returns a list with two lists\n",
    "    composed of the two column indices from the table \"problem_set\".\n",
    "    \"\"\"\n",
    "    combined, x, y = list(zip(problem_set[x], problem_set[y])), [], []\n",
    "    for pair in combined:\n",
    "        if pair[0] != \"\" and pair[1] != \"\":\n",
    "            x.append(pair[0])\n",
    "            y.append(pair[1])\n",
    "    return [x, y]"
   ]
  },
  {
   "cell_type": "markdown",
   "metadata": {},
   "source": [
    "* When getting your results from the clean function, make sure to index into the 0th element ([0]) to get the x-values, and index into the 1st element([1]) to get the y-values.\n",
    "\n",
    "* For example, clean(0, 1) returns the valid data points between the first two columns in the problem_set table. If we set result to equal clean(0, 1) (result = clean(0, 1)), then we can get the x-column with result[0] and the y-column with result[1].\n",
    "\n",
    "Note: With the function \"clean\" above, you should be able to perform any graphing you may be asked to do.\n",
    "\n",
    "You can look at the code below see how you can use the `clean` function on your plots. "
   ]
  },
  {
   "cell_type": "code",
   "execution_count": null,
   "metadata": {},
   "outputs": [],
   "source": [
    "# YOUR CODE HERE"
   ]
  },
  {
   "cell_type": "code",
   "execution_count": null,
   "metadata": {},
   "outputs": [],
   "source": [
    "q1_rquare=# YOUR CODE HERE"
   ]
  },
  {
   "cell_type": "markdown",
   "metadata": {},
   "source": [
    "Explain your result in 2-3 sentences."
   ]
  },
  {
   "cell_type": "markdown",
   "metadata": {},
   "source": []
  },
  {
   "cell_type": "markdown",
   "metadata": {},
   "source": [
    "### Question 2\n",
    "\n",
    "Make a chart of Per-Capita Total GHG Emissions, 2010 vs. HDI. \n",
    "\n",
    "\n",
    "Hint: One way to do this is by adding a new column by `dataframe['new column name'] = [data]`. e.g. add a column called `per_capital_total_GHG` to the `problem_set` table. "
   ]
  },
  {
   "cell_type": "code",
   "execution_count": null,
   "metadata": {},
   "outputs": [],
   "source": [
    "# YOUR CODE HERE"
   ]
  },
  {
   "cell_type": "code",
   "execution_count": null,
   "metadata": {},
   "outputs": [],
   "source": [
    "q2_rquare=# YOUR CODE HERE"
   ]
  },
  {
   "cell_type": "markdown",
   "metadata": {},
   "source": [
    "Explain your result in 2-3 sentences."
   ]
  },
  {
   "cell_type": "markdown",
   "metadata": {},
   "source": []
  },
  {
   "cell_type": "markdown",
   "metadata": {},
   "source": [
    "### Question 3\n",
    "\n",
    "Make a chart of Cumulative CO2 Emissions from Energy (1850-2007) Rank vs. HDI Rank.\n",
    "\n",
    "Hint: Order the countries in descending order accoridng to the \"Cumulative CO2 Emissions from Emergy\" variable. "
   ]
  },
  {
   "cell_type": "code",
   "execution_count": null,
   "metadata": {},
   "outputs": [],
   "source": [
    "# YOUR CODE HERE"
   ]
  },
  {
   "cell_type": "code",
   "execution_count": null,
   "metadata": {},
   "outputs": [],
   "source": [
    "q3_rquare=# YOUR CODE HERE"
   ]
  },
  {
   "cell_type": "markdown",
   "metadata": {},
   "source": [
    "Explain your result in 2-3 sentences."
   ]
  },
  {
   "cell_type": "markdown",
   "metadata": {},
   "source": []
  },
  {
   "cell_type": "markdown",
   "metadata": {},
   "source": [
    "### Question 4\n",
    "\n",
    "Make a chart of Cumulative CO2 Emissions from Energy (1850-2007) Per Capita Rank vs. HDI Rank. "
   ]
  },
  {
   "cell_type": "code",
   "execution_count": null,
   "metadata": {},
   "outputs": [],
   "source": [
    "# YOUR CODE HERE"
   ]
  },
  {
   "cell_type": "code",
   "execution_count": null,
   "metadata": {},
   "outputs": [],
   "source": [
    "q4_rquare=# YOUR CODE HERE"
   ]
  },
  {
   "cell_type": "markdown",
   "metadata": {},
   "source": [
    "Explain your result in 2-3 sentences."
   ]
  },
  {
   "cell_type": "markdown",
   "metadata": {},
   "source": []
  },
  {
   "cell_type": "markdown",
   "metadata": {},
   "source": [
    "### Question 5\n",
    "\n",
    "Which country has the highest Total GHG Emissions in 2010? Where do they rank on the per-capita scale? Which country has the highest per-capita?"
   ]
  },
  {
   "cell_type": "code",
   "execution_count": null,
   "metadata": {},
   "outputs": [],
   "source": [
    "# YOUR CODE HERE"
   ]
  },
  {
   "cell_type": "markdown",
   "metadata": {},
   "source": [
    "Explain your result in 2-3 sentences."
   ]
  },
  {
   "cell_type": "markdown",
   "metadata": {},
   "source": []
  },
  {
   "cell_type": "markdown",
   "metadata": {},
   "source": [
    "### Question 6\n",
    "\n",
    "Which country has the highest “Footprint of all goods and services consumed”? Which has the highest per-capita? "
   ]
  },
  {
   "cell_type": "code",
   "execution_count": null,
   "metadata": {},
   "outputs": [],
   "source": [
    "# YOUR CODE HERE"
   ]
  },
  {
   "cell_type": "markdown",
   "metadata": {},
   "source": [
    "Explain your result in 2-3 sentences."
   ]
  },
  {
   "cell_type": "markdown",
   "metadata": {},
   "source": []
  },
  {
   "cell_type": "markdown",
   "metadata": {},
   "source": [
    "### Question 7\n",
    "\n",
    "Go to www.gapminder.org/tools. Create an animated graph that tells you something interesting about climate change (CO2 Emissions should be on one axis). Note you can change an axis by clicking on the axis label and selecting a new measure from the various options. Take a screenshot of one year (be careful – sometimes the most recent data doesn’t include many countries, so take a screenshot that includes most of the world) and include that with your assignment. "
   ]
  },
  {
   "cell_type": "markdown",
   "metadata": {},
   "source": [
    "Insert image below. "
   ]
  },
  {
   "cell_type": "markdown",
   "metadata": {},
   "source": [
    "![alt text](imagename.png \"Title\")\n"
   ]
  },
  {
   "cell_type": "markdown",
   "metadata": {},
   "source": [
    "Explain your results"
   ]
  },
  {
   "cell_type": "code",
   "execution_count": null,
   "metadata": {},
   "outputs": [],
   "source": []
  },
  {
   "cell_type": "markdown",
   "metadata": {},
   "source": [
    "### Question 8(a)\n",
    "\n",
    "Reflect on your findings.\n",
    "\n",
    "Do you think per-capita or total national emissions are the more appropriate way to do carbon accounting, and why?"
   ]
  },
  {
   "cell_type": "markdown",
   "metadata": {},
   "source": []
  },
  {
   "cell_type": "markdown",
   "metadata": {},
   "source": [
    "### Question 8(b)\n",
    "\n",
    "Do you think accounting should be based on what a country emits within its boundaries, or what a country consumes, including emissions from the production of goods elsewhere?"
   ]
  },
  {
   "cell_type": "markdown",
   "metadata": {},
   "source": []
  },
  {
   "cell_type": "markdown",
   "metadata": {},
   "source": [
    "### Question 8(c)\n",
    "\n",
    "Do you think countries should reduce their emissions in proportion to \n",
    "\n",
    "a) Their past emissions\n",
    "\n",
    "b) Their level of development & capacity to reduce\n",
    "\n",
    "c) The degree to which they will be impacted by climate change\n",
    "\n",
    "d) A combination of these, or something else (explain)"
   ]
  },
  {
   "cell_type": "markdown",
   "metadata": {},
   "source": []
  },
  {
   "cell_type": "markdown",
   "metadata": {},
   "source": []
  }
 ],
 "metadata": {
  "kernelspec": {
   "display_name": "Python 3",
   "language": "python",
   "name": "python3"
  },
  "language_info": {
   "codemirror_mode": {
    "name": "ipython",
    "version": 3
   },
   "file_extension": ".py",
   "mimetype": "text/x-python",
   "name": "python",
   "nbconvert_exporter": "python",
   "pygments_lexer": "ipython3",
   "version": "3.7.0"
  }
 },
 "nbformat": 4,
 "nbformat_minor": 2
}

{
 "cells": [
  {
   "cell_type": "markdown",
   "metadata": {},
   "source": [
    "--writing helper code to run computations and produce the relevant graphs from the data on the dataset\n",
    "(some small functions and code chunks that the students can use)\n",
    "--make sure that the students have some chance of writing their own code to answer those questions"
   ]
  },
  {
   "cell_type": "markdown",
   "metadata": {},
   "source": [
    "# CE-157 Problem Set 3\n",
    "\n",
    "Hey everyone! Just run the 3 cells below and continue onwards! They're just needed to run the initial code needed to run the rest of the functions in this problem set."
   ]
  },
  {
   "cell_type": "code",
   "execution_count": 1,
   "metadata": {},
   "outputs": [],
   "source": [
    "!pip install datascience"
   ]
  },
  {
   "cell_type": "code",
   "execution_count": 84,
   "metadata": {},
   "outputs": [
    {
     "name": "stderr",
     "output_type": "stream",
     "text": [
      "/Users/calvin/anaconda3/lib/python3.6/site-packages/ipykernel_launcher.py:2: UserWarning: \n",
      "This call to matplotlib.use() has no effect because the backend has already\n",
      "been chosen; matplotlib.use() must be called *before* pylab, matplotlib.pyplot,\n",
      "or matplotlib.backends is imported for the first time.\n",
      "\n",
      "The backend was *originally* set to 'module://ipykernel.pylab.backend_inline' by the following code:\n",
      "  File \"/Users/calvin/anaconda3/lib/python3.6/runpy.py\", line 193, in _run_module_as_main\n",
      "    \"__main__\", mod_spec)\n",
      "  File \"/Users/calvin/anaconda3/lib/python3.6/runpy.py\", line 85, in _run_code\n",
      "    exec(code, run_globals)\n",
      "  File \"/Users/calvin/anaconda3/lib/python3.6/site-packages/ipykernel_launcher.py\", line 16, in <module>\n",
      "    app.launch_new_instance()\n",
      "  File \"/Users/calvin/anaconda3/lib/python3.6/site-packages/traitlets/config/application.py\", line 658, in launch_instance\n",
      "    app.start()\n",
      "  File \"/Users/calvin/anaconda3/lib/python3.6/site-packages/ipykernel/kernelapp.py\", line 486, in start\n",
      "    self.io_loop.start()\n",
      "  File \"/Users/calvin/anaconda3/lib/python3.6/site-packages/tornado/platform/asyncio.py\", line 127, in start\n",
      "    self.asyncio_loop.run_forever()\n",
      "  File \"/Users/calvin/anaconda3/lib/python3.6/asyncio/base_events.py\", line 422, in run_forever\n",
      "    self._run_once()\n",
      "  File \"/Users/calvin/anaconda3/lib/python3.6/asyncio/base_events.py\", line 1432, in _run_once\n",
      "    handle._run()\n",
      "  File \"/Users/calvin/anaconda3/lib/python3.6/asyncio/events.py\", line 145, in _run\n",
      "    self._callback(*self._args)\n",
      "  File \"/Users/calvin/anaconda3/lib/python3.6/site-packages/tornado/platform/asyncio.py\", line 117, in _handle_events\n",
      "    handler_func(fileobj, events)\n",
      "  File \"/Users/calvin/anaconda3/lib/python3.6/site-packages/tornado/stack_context.py\", line 276, in null_wrapper\n",
      "    return fn(*args, **kwargs)\n",
      "  File \"/Users/calvin/anaconda3/lib/python3.6/site-packages/zmq/eventloop/zmqstream.py\", line 450, in _handle_events\n",
      "    self._handle_recv()\n",
      "  File \"/Users/calvin/anaconda3/lib/python3.6/site-packages/zmq/eventloop/zmqstream.py\", line 480, in _handle_recv\n",
      "    self._run_callback(callback, msg)\n",
      "  File \"/Users/calvin/anaconda3/lib/python3.6/site-packages/zmq/eventloop/zmqstream.py\", line 432, in _run_callback\n",
      "    callback(*args, **kwargs)\n",
      "  File \"/Users/calvin/anaconda3/lib/python3.6/site-packages/tornado/stack_context.py\", line 276, in null_wrapper\n",
      "    return fn(*args, **kwargs)\n",
      "  File \"/Users/calvin/anaconda3/lib/python3.6/site-packages/ipykernel/kernelbase.py\", line 283, in dispatcher\n",
      "    return self.dispatch_shell(stream, msg)\n",
      "  File \"/Users/calvin/anaconda3/lib/python3.6/site-packages/ipykernel/kernelbase.py\", line 233, in dispatch_shell\n",
      "    handler(stream, idents, msg)\n",
      "  File \"/Users/calvin/anaconda3/lib/python3.6/site-packages/ipykernel/kernelbase.py\", line 399, in execute_request\n",
      "    user_expressions, allow_stdin)\n",
      "  File \"/Users/calvin/anaconda3/lib/python3.6/site-packages/ipykernel/ipkernel.py\", line 208, in do_execute\n",
      "    res = shell.run_cell(code, store_history=store_history, silent=silent)\n",
      "  File \"/Users/calvin/anaconda3/lib/python3.6/site-packages/ipykernel/zmqshell.py\", line 537, in run_cell\n",
      "    return super(ZMQInteractiveShell, self).run_cell(*args, **kwargs)\n",
      "  File \"/Users/calvin/anaconda3/lib/python3.6/site-packages/IPython/core/interactiveshell.py\", line 2662, in run_cell\n",
      "    raw_cell, store_history, silent, shell_futures)\n",
      "  File \"/Users/calvin/anaconda3/lib/python3.6/site-packages/IPython/core/interactiveshell.py\", line 2785, in _run_cell\n",
      "    interactivity=interactivity, compiler=compiler, result=result)\n",
      "  File \"/Users/calvin/anaconda3/lib/python3.6/site-packages/IPython/core/interactiveshell.py\", line 2903, in run_ast_nodes\n",
      "    if self.run_code(code, result):\n",
      "  File \"/Users/calvin/anaconda3/lib/python3.6/site-packages/IPython/core/interactiveshell.py\", line 2963, in run_code\n",
      "    exec(code_obj, self.user_global_ns, self.user_ns)\n",
      "  File \"<ipython-input-74-e2828530579f>\", line 3, in <module>\n",
      "    get_ipython().run_line_magic('matplotlib', 'inline')\n",
      "  File \"/Users/calvin/anaconda3/lib/python3.6/site-packages/IPython/core/interactiveshell.py\", line 2131, in run_line_magic\n",
      "    result = fn(*args,**kwargs)\n",
      "  File \"<decorator-gen-107>\", line 2, in matplotlib\n",
      "  File \"/Users/calvin/anaconda3/lib/python3.6/site-packages/IPython/core/magic.py\", line 187, in <lambda>\n",
      "    call = lambda f, *a, **k: f(*a, **k)\n",
      "  File \"/Users/calvin/anaconda3/lib/python3.6/site-packages/IPython/core/magics/pylab.py\", line 99, in matplotlib\n",
      "    gui, backend = self.shell.enable_matplotlib(args.gui)\n",
      "  File \"/Users/calvin/anaconda3/lib/python3.6/site-packages/IPython/core/interactiveshell.py\", line 3051, in enable_matplotlib\n",
      "    pt.activate_matplotlib(backend)\n",
      "  File \"/Users/calvin/anaconda3/lib/python3.6/site-packages/IPython/core/pylabtools.py\", line 311, in activate_matplotlib\n",
      "    matplotlib.pyplot.switch_backend(backend)\n",
      "  File \"/Users/calvin/anaconda3/lib/python3.6/site-packages/matplotlib/pyplot.py\", line 231, in switch_backend\n",
      "    matplotlib.use(newbackend, warn=False, force=True)\n",
      "  File \"/Users/calvin/anaconda3/lib/python3.6/site-packages/matplotlib/__init__.py\", line 1410, in use\n",
      "    reload(sys.modules['matplotlib.backends'])\n",
      "  File \"/Users/calvin/anaconda3/lib/python3.6/importlib/__init__.py\", line 166, in reload\n",
      "    _bootstrap._exec(spec, module)\n",
      "  File \"/Users/calvin/anaconda3/lib/python3.6/site-packages/matplotlib/backends/__init__.py\", line 16, in <module>\n",
      "    line for line in traceback.format_stack()\n",
      "\n",
      "\n",
      "  \n"
     ]
    }
   ],
   "source": [
    "import matplotlib\n",
    "matplotlib.use('Agg')\n",
    "%matplotlib inline\n",
    "import matplotlib.pyplot as plt\n",
    "plt.style.use('fivethirtyeight')\n",
    "from datascience import Table\n",
    "import pandas as pd\n",
    "import numpy as np\n",
    "import xlrd"
   ]
  },
  {
   "cell_type": "code",
   "execution_count": 85,
   "metadata": {
    "scrolled": false
   },
   "outputs": [],
   "source": [
    "df = pd.read_excel(\"problem3dataset.xlsx\").fillna(\"\")\n",
    "df.dropna()\n",
    "new_titles, new_title = [], \"\"\n",
    "for title in df.columns:\n",
    "    for title_add in df[title][:3]:\n",
    "        if title_add != \"\":\n",
    "            new_title += (title_add + \"\\n\")\n",
    "    new_titles.append(title + \"\\n\" + new_title)\n",
    "    new_title = \"\"\n",
    "for i in range(len(new_titles)):\n",
    "    if new_titles[i][:8] == \"Unnamed:\":\n",
    "        new_titles[i] = new_titles[i][11:]\n",
    "df.columns = new_titles\n",
    "df.index = [\"0\"] * 3 + list(df.index)[3:]\n",
    "df = df.drop(\"0\")\n",
    "# df = df.replace(\"\", 0)\n",
    "\n",
    "t = Table().with_columns('Country', df.index.values)\n",
    "for i in range(len(df.columns)):\n",
    "    t = t.with_column(df.columns[i], df[df.columns[i]])\n",
    "\n",
    "problem_set = t"
   ]
  },
  {
   "cell_type": "markdown",
   "metadata": {},
   "source": [
    "#### Alright! Let's begin!\n",
    "\n",
    "In this problem set, you will dive into some publicly available data on climate change, economic growth, and human development in an attempt to understand a little about the complex relationships between these parameters. With each chart you create, be sure to label your axes, create a chart title, and provide a simple regression line (including the R2 value). Note that you don’t need a chart legend if you only have one set of data. Remember – presentation is important! Also remember that a robust analysis would use far more in depth statistics, in particular focusing on each component of your regression model, both the size of the effect of each component as well as the significance, but for the purposes of this problem set linear regression slopes and R2 values will do.\n",
    "\n",
    "The data is in a table named \"problem_set\" (Run the next cell to see what it looks like)."
   ]
  },
  {
   "cell_type": "code",
   "execution_count": 86,
   "metadata": {},
   "outputs": [
    {
     "data": {
      "text/html": [
       "<table border=\"1\" class=\"dataframe\">\n",
       "    <thead>\n",
       "        <tr>\n",
       "            <th>Country</th> <th>Historical Emissions A\n",
       "Source: WRI, 2011\n",
       "(Climate Analysis Indicators Tool v8)\n",
       "Cumulative CO2 emissions from energy, 1850–2007 (million tonnes)\n",
       "</th> <th>Historical Emissions B\n",
       "Source: WRI, 2014\n",
       "(Climate Analysis Indicators Tool 2.0)\n",
       "Cumulative GHG Emissions, 1990-2010  (million tonnes CO2 equivalent)\n",
       "</th> <th>Current GHG Emissions\n",
       "Source: WRI, 2014\n",
       "(Climate Analysis Indicators Tool 2.0)\n",
       "Total GHG Emissions, 2010  (million tonnes CO2 equivalent)\n",
       "</th> <th>Current CO2 Emissions\n",
       "Source: IEA, 2013\n",
       "(CO2 Emissions from Fuel Combustion, 2013 Highlights)\n",
       "CO2 emissions from fossil fuel combustion, 2011 (million tonnes)\n",
       "</th> <th>Change from 1971–2011 (%)\n",
       "</th> <th>Change from 1990–2011 (%)\n",
       "</th> <th>Total carbon footprint\n",
       "Source: Peters et al, 2011\n",
       "(PNAS)\n",
       "Footprint of all goods and services consumed (million tonnes CO2 equivalent)\n",
       "</th> <th></th> <th>Source: WRI, 2014\n",
       "(Climate Analysis Indicators Tool 2.0)\n",
       "Population 2010\n",
       "</th> <th>GDP-PPP 2010 (Million $ (2005))\n",
       "</th> <th>\n",
       "</th> <th>Total carbon footprint.1\n",
       "Source: UNHDP, 2014\n",
       "(Human Development Reports)\n",
       "HDI, 2011\n",
       "</th> <th>\n",
       "HDI Change from 1990-2011 (%)\n",
       "</th> <th>\n",
       "Gender Inequality Index Value, 2012\n",
       "</th> <th>\n",
       "Maternal Mortality Ratio, 2010\n",
       "</th>\n",
       "        </tr>\n",
       "    </thead>\n",
       "    <tbody>\n",
       "        <tr>\n",
       "            <td>Afghanistan      </td> <td>72.4                                                                                                                                            </td> <td>349.34234819                                                                                                                                         </td> <td>24.9378183                                                                                                                                </td> <td>                                                                                                                                                               </td> <td>                          </td> <td>                          </td> <td>                                                                                                                                      </td> <td>    </td> <td>28397812                                                                 </td> <td>33595.89494                     </td> <td>    </td> <td>0.371                                                                              </td> <td>50.81300813008131              </td> <td>0.712                                </td> <td>460                             </td>\n",
       "        </tr>\n",
       "        <tr>\n",
       "            <td>Albania          </td> <td>227.9                                                                                                                                           </td> <td>143.80923995999999                                                                                                                                   </td> <td>6.56747754                                                                                                                                </td> <td>3.872173                                                                                                                                                       </td> <td>-0.344532062302469        </td> <td>-38.029952665129116       </td> <td>5.36655937086411                                                                                                                      </td> <td>    </td> <td>3150143                                                                  </td> <td>24545.14398                     </td> <td>    </td> <td>0.748                                                                              </td> <td>13.16187594553706              </td> <td>0.251                                </td> <td>27                              </td>\n",
       "        </tr>\n",
       "        <tr>\n",
       "            <td>Algeria          </td> <td>2272.4                                                                                                                                          </td> <td>2618.807043                                                                                                                                          </td> <td>169.4218605                                                                                                                               </td> <td>103.878773                                                                                                                                                     </td> <td>1064.7801333794405        </td> <td>97.00504231144794         </td> <td>                                                                                                                                      </td> <td>    </td> <td>37062820                                                                 </td> <td>269074.5719                     </td> <td>    </td> <td>0.711                                                                              </td> <td>26.512455516014217             </td> <td>0.391                                </td> <td>97                              </td>\n",
       "        </tr>\n",
       "        <tr>\n",
       "            <td>Angola           </td> <td>305.3                                                                                                                                           </td> <td>3300.9745847                                                                                                                                         </td> <td>219.8435836                                                                                                                               </td> <td>15.719235                                                                                                                                                      </td> <td>845.5150510825533         </td> <td>291.96607483225927        </td> <td>                                                                                                                                      </td> <td>    </td> <td>19549124                                                                 </td> <td>98686.19045                     </td> <td>    </td> <td>0.504                                                                              </td> <td>                               </td> <td>                                     </td> <td>450                             </td>\n",
       "        </tr>\n",
       "        <tr>\n",
       "            <td>Antigua & Barbuda</td> <td>16.6                                                                                                                                            </td> <td>14.166335613                                                                                                                                         </td> <td>1.203421037                                                                                                                               </td> <td>                                                                                                                                                               </td> <td>                          </td> <td>                          </td> <td>                                                                                                                                      </td> <td>    </td> <td>87233                                                                    </td> <td>1541.000517                     </td> <td>    </td> <td>0.759                                                                              </td> <td>                               </td> <td>                                     </td> <td>                                </td>\n",
       "        </tr>\n",
       "        <tr>\n",
       "            <td>Argentina        </td> <td>5894.8                                                                                                                                          </td> <td>6308.229589799999                                                                                                                                    </td> <td>359.0118969                                                                                                                               </td> <td>183.564551                                                                                                                                                     </td> <td>121.76281969580972        </td> <td>83.82239867862651         </td> <td>165.457784557464                                                                                                                      </td> <td>    </td> <td>40374224                                                                 </td> <td>580427.4306                     </td> <td>    </td> <td>0.81                                                                               </td> <td>15.54921540656207              </td> <td>0.38                                 </td> <td>77                              </td>\n",
       "        </tr>\n",
       "        <tr>\n",
       "            <td>Armenia          </td> <td>505.6                                                                                                                                           </td> <td>183.454326817                                                                                                                                        </td> <td>13.4266625                                                                                                                                </td> <td>4.663286                                                                                                                                                       </td> <td>                          </td> <td>-77.2090896481657         </td> <td>6.01209693357893                                                                                                                      </td> <td>    </td> <td>2963496                                                                  </td> <td>15152.61947                     </td> <td>    </td> <td>0.726                                                                              </td> <td>15.60509554140127              </td> <td>0.34                                 </td> <td>30                              </td>\n",
       "        </tr>\n",
       "        <tr>\n",
       "            <td>Australia        </td> <td>13108.5                                                                                                                                         </td> <td>10252.545315800002                                                                                                                                   </td> <td>587.5260417                                                                                                                               </td> <td>396.76749                                                                                                                                                      </td> <td>175.2692807536658         </td> <td>52.59047516359997         </td> <td>296.955754060111                                                                                                                      </td> <td>    </td> <td>22065300                                                                 </td> <td>763921.0601                     </td> <td>    </td> <td>0.936                                                                              </td> <td>6.3636363636363695             </td> <td>0.115                                </td> <td>7                               </td>\n",
       "        </tr>\n",
       "        <tr>\n",
       "            <td>Austria          </td> <td>4541.9                                                                                                                                          </td> <td>1712.9249392400002                                                                                                                                   </td> <td>84.2764363                                                                                                                                </td> <td>68.4891                                                                                                                                                        </td> <td>40.619967480614896        </td> <td>21.35376232968831         </td> <td>99.8307870789066                                                                                                                      </td> <td>    </td> <td>8389771                                                                  </td> <td>296268.1013                     </td> <td>    </td> <td>0.894                                                                              </td> <td>12.170639899623586             </td> <td>0.102                                </td> <td>4                               </td>\n",
       "        </tr>\n",
       "        <tr>\n",
       "            <td>Azerbaijan       </td> <td>2323.7                                                                                                                                          </td> <td>1218.82671986                                                                                                                                        </td> <td>64.21001445                                                                                                                               </td> <td>26.791025                                                                                                                                                      </td> <td>                          </td> <td>-51.29347774807037        </td> <td>30.2649660329915                                                                                                                      </td> <td>    </td> <td>9054332                                                                  </td> <td>80695.56139                     </td> <td>    </td> <td>0.732                                                                              </td> <td>                               </td> <td>0.323                                </td> <td>43                              </td>\n",
       "        </tr>\n",
       "    </tbody>\n",
       "</table>\n",
       "<p>... (176 rows omitted)</p>"
      ],
      "text/plain": [
       "Country           | Historical Emissions A\n",
       "Source: WRI, 2011\n",
       "(Climate Analysis Indicators Tool v8)\n",
       "Cumulative CO2 emissions from energy, 1850–2007 (million tonnes)\n",
       " | Historical Emissions B\n",
       "Source: WRI, 2014\n",
       "(Climate Analysis Indicators Tool 2.0)\n",
       "Cumulative GHG Emissions, 1990-2010  (million tonnes CO2 equivalent)\n",
       " | Current GHG Emissions\n",
       "Source: WRI, 2014\n",
       "(Climate Analysis Indicators Tool 2.0)\n",
       "Total GHG Emissions, 2010  (million tonnes CO2 equivalent)\n",
       " | Current CO2 Emissions\n",
       "Source: IEA, 2013\n",
       "(CO2 Emissions from Fuel Combustion, 2013 Highlights)\n",
       "CO2 emissions from fossil fuel combustion, 2011 (million tonnes)\n",
       " | Change from 1971–2011 (%)\n",
       " | Change from 1990–2011 (%)\n",
       " | Total carbon footprint\n",
       "Source: Peters et al, 2011\n",
       "(PNAS)\n",
       "Footprint of all goods and services consumed (million tonnes CO2 equivalent)\n",
       " |      | Source: WRI, 2014\n",
       "(Climate Analysis Indicators Tool 2.0)\n",
       "Population 2010\n",
       " | GDP-PPP 2010 (Million $ (2005))\n",
       " | \n",
       "    | Total carbon footprint.1\n",
       "Source: UNHDP, 2014\n",
       "(Human Development Reports)\n",
       "HDI, 2011\n",
       " | \n",
       "HDI Change from 1990-2011 (%)\n",
       " | \n",
       "Gender Inequality Index Value, 2012\n",
       " | \n",
       "Maternal Mortality Ratio, 2010\n",
       "Afghanistan       | 72.4                                                                                                                                             | 349.34234819                                                                                                                                          | 24.9378183                                                                                                                                 |                                                                                                                                                                 |                            |                            |                                                                                                                                        |      | 28397812                                                                  | 33595.89494                      |      | 0.371                                                                               | 50.81300813008131               | 0.712                                 | 460\n",
       "Albania           | 227.9                                                                                                                                            | 143.80923995999999                                                                                                                                    | 6.56747754                                                                                                                                 | 3.872173                                                                                                                                                        | -0.344532062302469         | -38.029952665129116        | 5.36655937086411                                                                                                                       |      | 3150143                                                                   | 24545.14398                      |      | 0.748                                                                               | 13.16187594553706               | 0.251                                 | 27\n",
       "Algeria           | 2272.4                                                                                                                                           | 2618.807043                                                                                                                                           | 169.4218605                                                                                                                                | 103.878773                                                                                                                                                      | 1064.7801333794405         | 97.00504231144794          |                                                                                                                                        |      | 37062820                                                                  | 269074.5719                      |      | 0.711                                                                               | 26.512455516014217              | 0.391                                 | 97\n",
       "Angola            | 305.3                                                                                                                                            | 3300.9745847                                                                                                                                          | 219.8435836                                                                                                                                | 15.719235                                                                                                                                                       | 845.5150510825533          | 291.96607483225927         |                                                                                                                                        |      | 19549124                                                                  | 98686.19045                      |      | 0.504                                                                               |                                 |                                       | 450\n",
       "Antigua & Barbuda | 16.6                                                                                                                                             | 14.166335613                                                                                                                                          | 1.203421037                                                                                                                                |                                                                                                                                                                 |                            |                            |                                                                                                                                        |      | 87233                                                                     | 1541.000517                      |      | 0.759                                                                               |                                 |                                       |\n",
       "Argentina         | 5894.8                                                                                                                                           | 6308.229589799999                                                                                                                                     | 359.0118969                                                                                                                                | 183.564551                                                                                                                                                      | 121.76281969580972         | 83.82239867862651          | 165.457784557464                                                                                                                       |      | 40374224                                                                  | 580427.4306                      |      | 0.81                                                                                | 15.54921540656207               | 0.38                                  | 77\n",
       "Armenia           | 505.6                                                                                                                                            | 183.454326817                                                                                                                                         | 13.4266625                                                                                                                                 | 4.663286                                                                                                                                                        |                            | -77.2090896481657          | 6.01209693357893                                                                                                                       |      | 2963496                                                                   | 15152.61947                      |      | 0.726                                                                               | 15.60509554140127               | 0.34                                  | 30\n",
       "Australia         | 13108.5                                                                                                                                          | 10252.545315800002                                                                                                                                    | 587.5260417                                                                                                                                | 396.76749                                                                                                                                                       | 175.2692807536658          | 52.59047516359997          | 296.955754060111                                                                                                                       |      | 22065300                                                                  | 763921.0601                      |      | 0.936                                                                               | 6.3636363636363695              | 0.115                                 | 7\n",
       "Austria           | 4541.9                                                                                                                                           | 1712.9249392400002                                                                                                                                    | 84.2764363                                                                                                                                 | 68.4891                                                                                                                                                         | 40.619967480614896         | 21.35376232968831          | 99.8307870789066                                                                                                                       |      | 8389771                                                                   | 296268.1013                      |      | 0.894                                                                               | 12.170639899623586              | 0.102                                 | 4\n",
       "Azerbaijan        | 2323.7                                                                                                                                           | 1218.82671986                                                                                                                                         | 64.21001445                                                                                                                                | 26.791025                                                                                                                                                       |                            | -51.29347774807037         | 30.2649660329915                                                                                                                       |      | 9054332                                                                   | 80695.56139                      |      | 0.732                                                                               |                                 | 0.323                                 | 43\n",
       "... (176 rows omitted)"
      ]
     },
     "execution_count": 86,
     "metadata": {},
     "output_type": "execute_result"
    }
   ],
   "source": [
    "problem_set"
   ]
  },
  {
   "cell_type": "markdown",
   "metadata": {},
   "source": [
    "Note that there are missing data! (welcome to the ‘real world’). If, when your calculations, you don't exclude (i.e. delete) these, you will possibly run across some errors, and some meaningless results! (For example, if you were to try to calculate the \"Per-Capita CO2 Emission from Fossil Fuel Consumption\" of Afghanistan, you would get a result of zero because the emission data is missing. If you plotted this and used it to determine your linear regression, your regression would obviously be meaningless.)\n",
    "\n",
    "<img src=\"error_pic.png\" height='50' width='850'>\n",
    "\n",
    "So, in order to avoid these issues, we've created a function to remove all the non-integers from the columns! The function is in the cell below."
   ]
  },
  {
   "cell_type": "code",
   "execution_count": 87,
   "metadata": {},
   "outputs": [],
   "source": [
    "def clean(x, y):\n",
    "    \"\"\"\n",
    "    Takes in two column indices of \"problem_set\", x and y, in that respective order. Returns a list with two lists\n",
    "    composed of the two column indices from the table \"problem_set\".\n",
    "    \"\"\"\n",
    "    combined, x, y = list(zip(problem_set[x], problem_set[y])), [], []\n",
    "    for pair in combined:\n",
    "        if pair[0] != \"\" and pair[1] != \"\":\n",
    "            x.append(pair[0])\n",
    "            y.append(pair[1])\n",
    "    return [x, y]"
   ]
  },
  {
   "cell_type": "markdown",
   "metadata": {},
   "source": [
    "### IMPORTANT\n",
    "\n",
    "When getting your results from the clean function, make sure to index into the 0th element ([0]) to get the x-values, and index into the 1st element([1]) to get the y-values.\n",
    "\n",
    "For example, clean(0, 1) returns the valid data points between the first two columns in the problem_set table. If we set result to equal clean(0, 1) (result = clean(0, 1)), then we can get the x-column with result[0] and the y-column with result[1].\n",
    "\n",
    "With the function \"clean\" above, you should be able to perform any graphing you may be asked to do.\n",
    "\n",
    "When you explain your graphs below, do not describe them but instead interpret and explain them. Are there any correlations (or lack of)? Is there anything else that we may learn from the graph?\n",
    "\n",
    "Finally, the scatter plots you are asked to create are written below using the standard convention of dependent vs. independent (i.e. “plot Y vs. X”)."
   ]
  },
  {
   "cell_type": "markdown",
   "metadata": {},
   "source": [
    "### A quick tutorial on how to plot with Numpy and Matplotlib\n",
    "\n",
    "When plotting with Numpy and Matplotlib, there are a few functions that come in quite handy:\n",
    "   - Plot\n",
    "   - Scatter\n",
    "   \n",
    "Using plot, you're able to take any two columns of a table, and plot them quite easily! For example, if I wanted to plot, I could do:"
   ]
  },
  {
   "cell_type": "code",
   "execution_count": 117,
   "metadata": {},
   "outputs": [
    {
     "data": {
      "text/plain": [
       "<matplotlib.collections.PathCollection at 0x1a23f2bdd8>"
      ]
     },
     "execution_count": 117,
     "metadata": {},
     "output_type": "execute_result"
    },
    {
     "data": {
      "image/png": "[encoded data removed]",
      "text/plain": [
       "<Figure size 432x288 with 1 Axes>"
      ]
     },
     "metadata": {},
     "output_type": "display_data"
    }
   ],
   "source": [
    "# plt.scatter(np.asarray(clean(1,2)[0]), np.asarray(clean(1,2)[1]))\n",
    "# x = np.random.rand(10)\n",
    "# y = np.random.rand(10)\n",
    "# print(type(x))\n",
    "# plt.scatter(x, y)\n",
    "x = np.asarray(clean(1,2)[0][:10])\n",
    "# print(type(z))\n",
    "y = np.asarray(clean(1,2)[1][:10])\n",
    "plt.yticks(np.arange(0, 10000, 1000))\n",
    "plt.scatter(x, y)"
   ]
  },
  {
   "cell_type": "code",
   "execution_count": 118,
   "metadata": {},
   "outputs": [],
   "source": [
    "def standard_units(x):\n",
    "    \"Convert any array of numbers to standard units.\"\n",
    "    return (x - np.average(x))/np.std(x)  \n",
    "\n",
    "def correlation(t, label_x, label_y):\n",
    "    \"Determines the correlation between the x and y variables\"\n",
    "    x_in_standard_units = standard_units(t.column(label_x))\n",
    "    y_in_standard_units = standard_units(t.column(label_y))\n",
    "    return np.average(x_in_standard_units * y_in_standard_units)"
   ]
  },
  {
   "cell_type": "markdown",
   "metadata": {},
   "source": [
    "1) Make a chart of Total GHG Emissions, 2010 vs. GDP\t\n",
    "a) Explain your result in 2-3 sentences.\n",
    "\n",
    "2) Make a chart of Per-Capita Total GHG Emissions, 2010 vs. HDI\n",
    "a) Explain your result in 2-3 sentences.\n",
    "\n",
    "3) Make a chart of Cumulative CO2 Emissions from Energy (1850-2007) Rank vs. HDI Rank   \n",
    "a) Explain your result in 2-3 sentences.\t\n",
    "\n",
    "4) Make a chart of Cumulative CO2 Emissions from Energy (1850-2007) Per Capita Rank vs. HDI Rank   \n",
    "a) Explain your result in 2-3 sentences.\n",
    "\n",
    "5) Which country has the highest Total GHG Emissions in 2010? Where do they rank on the per-capita scale? Which country has the highest per-capita?\n",
    "\n",
    "6) Which country has the highest “Footprint of all goods and services consumed”? Which has the highest per-capita?\n",
    "\n",
    "7) Go to www.gapminder.org/tools. Create an animated graph that tells you something interesting about climate change (CO2 Emissions should be on one axis). Note you can change an axis by clicking on the axis label and selecting a new measure from the various options. Take a screenshot of one year (be careful – sometimes the most recent data doesn’t include many countries, so take a screenshot that includes most of the world) and include that with your assignment.\n",
    "a) Explain your result in 2-4 sentences.\n",
    "\n",
    "8) Reflect on your findings.\n",
    "a) Do you think per-capita or total national emissions are the more appropriate way to do carbon accounting, and why?\n",
    "b) Do you think accounting should be based on what a country emits within its boundaries, or what a country consumes, including emissions from the production of goods elsewhere?\n",
    "c) Do you think countries should reduce their emissions in proportion to i) their past emissions; ii) their level of development & capacity to reduce; iii) the degree to which they will be impacted by climate change; iv) a combination of these, or something else (explain)?"
   ]
  },
  {
   "cell_type": "code",
   "execution_count": null,
   "metadata": {},
   "outputs": [],
   "source": []
  }
 ],
 "metadata": {
  "kernelspec": {
   "display_name": "Python 3",
   "language": "python",
   "name": "python3"
  },
  "language_info": {
   "codemirror_mode": {
    "name": "ipython",
    "version": 3
   },
   "file_extension": ".py",
   "mimetype": "text/x-python",
   "name": "python",
   "nbconvert_exporter": "python",
   "pygments_lexer": "ipython3",
   "version": "3.6.5"
  }
 },
 "nbformat": 4,
 "nbformat_minor": 2
}

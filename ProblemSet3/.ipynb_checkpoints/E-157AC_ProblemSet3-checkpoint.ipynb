{
 "cells": [
  {
   "cell_type": "markdown",
   "metadata": {},
   "source": [
    "# CE-157 Problem Set 3\n",
    "\n",
    "Run the cell below and continue onwards! It is just needed to run the initial code needed to run the rest of the functions in this problem set."
   ]
  },
  {
   "cell_type": "code",
   "execution_count": 9,
   "metadata": {},
   "outputs": [],
   "source": [
    "import matplotlib\n",
    "matplotlib.use('Agg')\n",
    "%matplotlib inline\n",
    "import matplotlib.pyplot as plt\n",
    "from datascience import *\n",
    "import numpy as np\n",
    "import pandas as pd"
   ]
  },
  {
   "cell_type": "markdown",
   "metadata": {},
   "source": [
    "#### Shortcuts for column names<a id='section8'></a>"
   ]
  },
  {
   "cell_type": "markdown",
   "metadata": {},
   "source": [
    "|Column Name   | Description | \n",
    "|--------------|---------|\n",
    "|co2_commulative |Historical Emissions A Cumulative CO2 emission from energy, 1850-2007 (million tonnes) |\n",
    "|ghg_commulative | Historical Emissions B Cumulative GHG Emissions, 1990-2010 (million tonnes CO2 equivalent) |\n",
    "|ghg_2010| Current GHG Emissions Total GHG Emissions, 2010 (million tonnes CO2 equivalent)|\n",
    "|co2_2011|Current CO2 Emissions CO2 emissions from fossil fuel combustion, 2011 (million tonnes) |\n",
    "|change_1971_2011|Change from 1971–2011 (%) |\n",
    "|change_1990_2011|Change from 1990–2011 (%) |\n",
    "|total_footprint|Total carbon footprint Footprint of all goods and services consumed (million tonnes CO2 equivalent) |\n",
    "|pop_2010|Population 2010|\n",
    "|gdp_ppp_2010|GDP-PPP 2010 (Million $ (2005))|\n",
    "|hdi_2011|HDI, 2011 |\n",
    "|hdi_change_1990_2011|HDI Change from 1990-2011 (%) |\n",
    "|gender_inequality_2012|Gender Inequality Index Value, 2012 |\n",
    "|maternal_2010|Maternal Mortality Ratio, 2010 |"
   ]
  },
  {
   "cell_type": "markdown",
   "metadata": {},
   "source": [
    "#### GENERAL NOTES:\n",
    "1. **A tip to navigate Jupyter**: Pull up the documentation for any function in Jupyter by typing the function name, then `<Shift>-<Tab>` on your keyboard. This is very useful when you want to know what arguments a function takes, or the order of the arguments in a function. You can press`<Tab>` multiple times to expand the docs. \n",
    "2. **How to write comments in python?**\n",
    "    * Type 1: You can create a single-line comment by simply beginning a line with a hash (#). These are usually for yourself. Look at the example below for reference.\n",
    "    * Type 2: You can use multi-line comments or paragraphs that serve as documentation for others reading your code. Look at the example below for reference.\n",
    "    * Throughout the notebook, you will find several comments made for you so that you can understand what the code does. We will also ask you to comment some lines of codes to make sure you don't get any assertion errors.  \n",
    "    \n",
    "source: https://www.pythonforbeginners.com/comments/comments-in-python    "
   ]
  },
  {
   "cell_type": "code",
   "execution_count": 10,
   "metadata": {},
   "outputs": [],
   "source": [
    "# Type 1:\n",
    "#This would be a comment in Python\n",
    "\n",
    "# Type 2:\n",
    "def comment(x):\n",
    "    \"\"\"\n",
    "    This function prints the comments stored in the varaible x.\n",
    "\n",
    "    Arguments:\n",
    "    x: string \n",
    "    \n",
    "    Example: \n",
    "    > x = \"Hello world!\"\n",
    "    > comment(x) \n",
    "    >>> This function prints the comment stored the  in varible x. The comment is: Hello World!\n",
    "    \n",
    "    \"\"\"\n",
    "    print(f\"This function prints the comment stored the  in varible x. The comment is: {x}\")"
   ]
  },
  {
   "cell_type": "markdown",
   "metadata": {},
   "source": [
    "#### Alright! Let's begin!\n",
    "\n",
    "In this problem set, you will dive into some publicly available data on climate change, economic growth, and human development in an attempt to understand a little about the complex relationships between these parameters. With each chart you create, be sure to label your axes, create a chart title, and provide a simple regression line (including the R2 value). Note that you don’t need a chart legend if you only have one set of data. Remember – presentation is important! Also remember that a robust analysis would use far more in depth statistics, in particular focusing on each component of your regression model, both the size of the effect of each component as well as the significance, but for the purposes of this problem set linear regression slopes and R2 values will do.\n",
    "\n",
    "\n"
   ]
  },
  {
   "cell_type": "markdown",
   "metadata": {},
   "source": [
    "\n",
    "\n"
   ]
  },
  {
   "cell_type": "markdown",
   "metadata": {},
   "source": [
    "## Table of Contents \n",
    "\n",
    "1 - [Introduction to Ploting](#section1)<br>\n",
    "\n",
    "2 - [Correlation](#section2)<br>\n",
    "\n",
    "3 - [Regression](#section3)<br>\n",
    "\n",
    "4 - [Example: Putting it all together](#section4)<br>\n",
    "\n",
    "5 - [Recap](#section5)<br>\n",
    "\n",
    "6 - [Problems](#section6)<br>\n",
    "\n",
    "7 - [Final Survey](#section7)<br>"
   ]
  },
  {
   "cell_type": "markdown",
   "metadata": {},
   "source": [
    "\n"
   ]
  },
  {
   "cell_type": "markdown",
   "metadata": {},
   "source": [
    "The data is in a table named `problem_set` (Run the next cell to see what it looks like)."
   ]
  },
  {
   "cell_type": "code",
   "execution_count": 11,
   "metadata": {},
   "outputs": [
    {
     "data": {
      "text/html": [
       "<table border=\"1\" class=\"dataframe\">\n",
       "    <thead>\n",
       "        <tr>\n",
       "            <th>countries</th> <th>co2_cummulative</th> <th>ghg_cummulative</th> <th>ghg_2010</th> <th>co2_2011</th> <th>change_1971_2011</th> <th>change_1990_2011</th> <th>total_footprint</th> <th>pop_2010</th> <th>gdp_ppp_2010</th> <th>hdi_2011</th> <th>hdi_change_1990_2011</th> <th>gender_inequality_2012</th> <th>maternal_2010</th>\n",
       "        </tr>\n",
       "    </thead>\n",
       "    <tbody>\n",
       "        <tr>\n",
       "            <td>Afghanistan      </td> <td>72.4           </td> <td>349.34         </td> <td>24.94   </td> <td>nan     </td> <td>nan             </td> <td>nan             </td> <td>nan            </td> <td>28,397,812</td> <td>33596       </td> <td>0.371   </td> <td>50.81               </td> <td>0.712                 </td> <td>460          </td>\n",
       "        </tr>\n",
       "        <tr>\n",
       "            <td>Albania          </td> <td>227.9          </td> <td>143.81         </td> <td>6.57    </td> <td>  3.9   </td> <td>-0.3            </td> <td>-38             </td> <td>5.4            </td> <td>3,150,143 </td> <td>24545       </td> <td>0.748   </td> <td>13.16               </td> <td>0.251                 </td> <td>27           </td>\n",
       "        </tr>\n",
       "        <tr>\n",
       "            <td>Algeria          </td> <td>2,272.40       </td> <td>2618.81        </td> <td>169.42  </td> <td>  103.9 </td> <td>1064.8          </td> <td>97              </td> <td>nan            </td> <td>37,062,820</td> <td>269075      </td> <td>0.711   </td> <td>26.51               </td> <td>0.391                 </td> <td>97           </td>\n",
       "        </tr>\n",
       "        <tr>\n",
       "            <td>Angola           </td> <td>305.3          </td> <td>3300.97        </td> <td>219.84  </td> <td>  15.7  </td> <td>845.5           </td> <td>292             </td> <td>nan            </td> <td>19,549,124</td> <td>98686       </td> <td>0.504   </td> <td>nan                 </td> <td>nan                   </td> <td>450          </td>\n",
       "        </tr>\n",
       "        <tr>\n",
       "            <td>Antigua & Barbuda</td> <td>16.6           </td> <td>14.17          </td> <td>1.2     </td> <td>nan     </td> <td>nan             </td> <td>nan             </td> <td>nan            </td> <td>87,233    </td> <td>1541        </td> <td>0.759   </td> <td>nan                 </td> <td>nan                   </td> <td>nan          </td>\n",
       "        </tr>\n",
       "        <tr>\n",
       "            <td>Argentina        </td> <td>5,894.80       </td> <td>6308.23        </td> <td>359.01  </td> <td>  183.6 </td> <td>121.8           </td> <td>83.8            </td> <td>165.5          </td> <td>40,374,224</td> <td>580427      </td> <td>0.81    </td> <td>15.55               </td> <td>0.38                  </td> <td>77           </td>\n",
       "        </tr>\n",
       "        <tr>\n",
       "            <td>Armenia          </td> <td>505.6          </td> <td>183.45         </td> <td>13.43   </td> <td>  4.7   </td> <td>nan             </td> <td>-77.2           </td> <td>6              </td> <td>2,963,496 </td> <td>15153       </td> <td>0.726   </td> <td>15.61               </td> <td>0.34                  </td> <td>30           </td>\n",
       "        </tr>\n",
       "        <tr>\n",
       "            <td>Australia        </td> <td>13,108.50      </td> <td>10252.5        </td> <td>587.53  </td> <td>  396.8 </td> <td>175.3           </td> <td>52.6            </td> <td>297            </td> <td>22,065,300</td> <td>763921      </td> <td>0.936   </td> <td>6.36                </td> <td>0.115                 </td> <td>7            </td>\n",
       "        </tr>\n",
       "        <tr>\n",
       "            <td>Austria          </td> <td>4,541.90       </td> <td>1712.92        </td> <td>84.28   </td> <td>  68.5  </td> <td>40.6            </td> <td>21.4            </td> <td>99.8           </td> <td>8,389,771 </td> <td>296268      </td> <td>0.894   </td> <td>12.17               </td> <td>0.102                 </td> <td>4            </td>\n",
       "        </tr>\n",
       "        <tr>\n",
       "            <td>Azerbaijan       </td> <td>2,323.70       </td> <td>1218.83        </td> <td>64.21   </td> <td>  26.8  </td> <td>nan             </td> <td>-51.3           </td> <td>30.3           </td> <td>9,054,332 </td> <td>80696       </td> <td>0.732   </td> <td>nan                 </td> <td>0.323                 </td> <td>43           </td>\n",
       "        </tr>\n",
       "    </tbody>\n",
       "</table>\n",
       "<p>... (176 rows omitted)</p>"
      ],
      "text/plain": [
       "countries         | co2_cummulative | ghg_cummulative | ghg_2010 | co2_2011 | change_1971_2011 | change_1990_2011 | total_footprint | pop_2010   | gdp_ppp_2010 | hdi_2011 | hdi_change_1990_2011 | gender_inequality_2012 | maternal_2010\n",
       "Afghanistan       | 72.4            | 349.34          | 24.94    | nan      | nan              | nan              | nan             | 28,397,812 | 33596        | 0.371    | 50.81                | 0.712                  | 460\n",
       "Albania           | 227.9           | 143.81          | 6.57     |   3.9    | -0.3             | -38              | 5.4             | 3,150,143  | 24545        | 0.748    | 13.16                | 0.251                  | 27\n",
       "Algeria           | 2,272.40        | 2618.81         | 169.42   |   103.9  | 1064.8           | 97               | nan             | 37,062,820 | 269075       | 0.711    | 26.51                | 0.391                  | 97\n",
       "Angola            | 305.3           | 3300.97         | 219.84   |   15.7   | 845.5            | 292              | nan             | 19,549,124 | 98686        | 0.504    | nan                  | nan                    | 450\n",
       "Antigua & Barbuda | 16.6            | 14.17           | 1.2      | nan      | nan              | nan              | nan             | 87,233     | 1541         | 0.759    | nan                  | nan                    | nan\n",
       "Argentina         | 5,894.80        | 6308.23         | 359.01   |   183.6  | 121.8            | 83.8             | 165.5           | 40,374,224 | 580427       | 0.81     | 15.55                | 0.38                   | 77\n",
       "Armenia           | 505.6           | 183.45          | 13.43    |   4.7    | nan              | -77.2            | 6               | 2,963,496  | 15153        | 0.726    | 15.61                | 0.34                   | 30\n",
       "Australia         | 13,108.50       | 10252.5         | 587.53   |   396.8  | 175.3            | 52.6             | 297             | 22,065,300 | 763921       | 0.936    | 6.36                 | 0.115                  | 7\n",
       "Austria           | 4,541.90        | 1712.92         | 84.28    |   68.5   | 40.6             | 21.4             | 99.8            | 8,389,771  | 296268       | 0.894    | 12.17                | 0.102                  | 4\n",
       "Azerbaijan        | 2,323.70        | 1218.83         | 64.21    |   26.8   | nan              | -51.3            | 30.3            | 9,054,332  | 80696        | 0.732    | nan                  | 0.323                  | 43\n",
       "... (176 rows omitted)"
      ]
     },
     "execution_count": 11,
     "metadata": {},
     "output_type": "execute_result"
    }
   ],
   "source": [
    "problem_set=Table.read_table('problem_set.csv')\n",
    "problem_set"
   ]
  },
  {
   "cell_type": "markdown",
   "metadata": {},
   "source": [
    "## Introduction to Ploting <a id='section1'></a>\n",
    "#### A quick tutorial on how to plot with Numpy and Matplotlib\n",
    "\n",
    "Ploting is one of the most important steps of exploratory data analysis. It can help us uncover things we could not perceive by simply looking at summary statistics or at the first 10 rows of our data set. Python has to very helpful libraries that contain many handy functions to make plotting easy and intuitive namely Numpy and Matplotlib. \n",
    "\n",
    "Some of the functions we might find useful in this problem set are: \n",
    "   - Plot\n",
    "   - Scatter"
   ]
  },
  {
   "cell_type": "markdown",
   "metadata": {},
   "source": [
    "#### Scatter Plots\n",
    "\n",
    "Lets explore the **scattter** function. Using scattter plot you're able to take any two columns of a table, and plot them quite easily! For example, the scatter plot for Total GHG Emissions, 2010 vs. GDP-PPP 2010 (Million $ (2005)) should look like:\n",
    "\n",
    "<img src=\"images/plot_no_labels.png\" style=\"height:300px\" align=\"left\" float=\"left\"/>\n",
    "\n",
    "\n"
   ]
  },
  {
   "cell_type": "markdown",
   "metadata": {},
   "source": [
    "Now, lets crete a function that will help us with create a scatter plot. "
   ]
  },
  {
   "cell_type": "code",
   "execution_count": 12,
   "metadata": {},
   "outputs": [],
   "source": [
    "def scatter(x, y):\n",
    "    \"\"\"\n",
    "    Generate a scatter plot using x and y\n",
    "\n",
    "    Arguments:\n",
    "    x -- the vector of values x\n",
    "    y -- the vector of values y\n",
    "    \n",
    "    Example:\n",
    "    x = problem_set.column(\"column name\")\n",
    "    y = problem_set.column(\"column name\")\n",
    "    p1= scatter(x,y)\n",
    "    \n",
    "    Tip: You can plt.scatter(x,y, s=6) to change the size of your points to 6. Try any number! \n",
    "    \"\"\"\n",
    "    plt.figure(figsize=(8, 6))\n",
    "    plt.scatter(x,y)  \n",
    "    \n",
    "\n",
    "# Do not worry too much about the implementation yet, we will discuss the details later."
   ]
  },
  {
   "cell_type": "markdown",
   "metadata": {},
   "source": [
    "#### NOTE: Make sure to save your plots to a variable as it is done in the example (e.g. p1=scatter(x,y)). You will need this to run future functions."
   ]
  },
  {
   "cell_type": "markdown",
   "metadata": {},
   "source": [
    "#### YOUR TURN\n",
    "1. Complete the following function by filling in the (...) below with the appropiate arguments.\n",
    "2. Use [plot, xlab, ylab, plot_title] to fill in the blanks. Note not all of them are going to be used.\n",
    "\n",
    "Make sure to comment out the line that reads **\"raise NotImplementedError()\"** by using **#** once you have completed the question. "
   ]
  },
  {
   "cell_type": "code",
   "execution_count": 13,
   "metadata": {},
   "outputs": [
    {
     "ename": "NotImplementedError",
     "evalue": "",
     "output_type": "error",
     "traceback": [
      "\u001b[0;31m---------------------------------------------------------------------------\u001b[0m",
      "\u001b[0;31mNotImplementedError\u001b[0m                       Traceback (most recent call last)",
      "\u001b[0;32m<ipython-input-13-74ee5503ca23>\u001b[0m in \u001b[0;36m<module>\u001b[0;34m\u001b[0m\n\u001b[1;32m     21\u001b[0m    \u001b[0mplt\u001b[0m\u001b[0;34m.\u001b[0m\u001b[0mtitle\u001b[0m\u001b[0;34m(\u001b[0m\u001b[0;34m...\u001b[0m\u001b[0;34m)\u001b[0m   \u001b[0;31m# YOUR CODE HERE\u001b[0m\u001b[0;34m\u001b[0m\u001b[0m\n\u001b[1;32m     22\u001b[0m \u001b[0;34m\u001b[0m\u001b[0m\n\u001b[0;32m---> 23\u001b[0;31m \u001b[0;32mraise\u001b[0m \u001b[0mNotImplementedError\u001b[0m\u001b[0;34m(\u001b[0m\u001b[0;34m)\u001b[0m\u001b[0;34m\u001b[0m\u001b[0m\n\u001b[0m",
      "\u001b[0;31mNotImplementedError\u001b[0m: "
     ]
    }
   ],
   "source": [
    " def put_label_on_plot(plot, xlab, ylab, plot_title):\n",
    "    \"\"\"\n",
    "    Generate labels for a plot using plot, xlab, ylab, and plot title\n",
    "\n",
    "    Arguments:\n",
    "    plot -- Any plot. For instance, a plot created using the scatter function above\n",
    "    xlab -- Label for x-axis \n",
    "    ylab -- Label for y-axis \n",
    "    plot_title -- Title for your plot \n",
    "    \n",
    "       \n",
    "    Example:\n",
    "    x = problem_set.column(\"column name\")\n",
    "    y = problem_set.column(\"column name\")\n",
    "    my_scatter = scatter(x, y)\n",
    "    put_label_on_plot(my_scatter, \"name for x axis\", \"name for y axis \", \"plot title\")\n",
    "    \"\"\"\n",
    "    \n",
    "    # YOUR CODE HERE\n",
    "    plt.xlabel(...)  \n",
    "    plt.ylabel(...)  \n",
    "    plt.title(...)   \n",
    "    \n",
    "raise NotImplementedError()"
   ]
  },
  {
   "cell_type": "markdown",
   "metadata": {},
   "source": [
    "#### Labeling:\n",
    "\n",
    "If we look back the scattter plot created above we will notice that it is very hard to interpret the plot since we do not know what x and y mean. For us to make any inferences or useful obervations on the plot we need more context. \n",
    "The following functions are very useful to help you, and others reading your plots understand what you are talking about. Some helpful functions that we can use to enhance out plots are:\n",
    "\n",
    "* plt.xlabel()\n",
    "* plt.ylabel()\n",
    "* plt.title()"
   ]
  },
  {
   "cell_type": "markdown",
   "metadata": {},
   "source": [
    "Now we will write a utility function that will allow us to label our plots."
   ]
  },
  {
   "cell_type": "markdown",
   "metadata": {},
   "source": [
    "####  Running the two functions above on **Total GHG Emissions, 2010** and **GDP-PPP 2010 (Million (2005))** should produce the following plot:"
   ]
  },
  {
   "cell_type": "markdown",
   "metadata": {},
   "source": [
    " <img src=\"images/E157AC_scatter_2.png\" style=\"height:300px\" align=\"left\" float=\"left\"/>"
   ]
  },
  {
   "cell_type": "markdown",
   "metadata": {},
   "source": [
    "#### YOUR TURN <a id='section9'></a>\n",
    "* Use the functions above (scatter and put_label_on_plot) to rereate the plot above. \n",
    "* Make sure to replace the ... with your solution \n",
    "* Do not forget to give your plot meaningful labels. \n",
    "* Do not forget to comment out the implementation test.\n",
    "\n",
    "Tips:\n",
    "* How do I know if my labels are good enough?\n",
    "    * Can someone who is not taking the class understand the your plot without any additional infromation? If yes, you did it! If not, try to find more meaningful names for your plot and labels. "
   ]
  },
  {
   "cell_type": "code",
   "execution_count": 14,
   "metadata": {},
   "outputs": [
    {
     "ename": "SyntaxError",
     "evalue": "invalid syntax (<ipython-input-14-e4f099569c0c>, line 5)",
     "output_type": "error",
     "traceback": [
      "\u001b[0;36m  File \u001b[0;32m\"<ipython-input-14-e4f099569c0c>\"\u001b[0;36m, line \u001b[0;32m5\u001b[0m\n\u001b[0;31m    test_plot = scatter(...,..)\u001b[0m\n\u001b[0m                            ^\u001b[0m\n\u001b[0;31mSyntaxError\u001b[0m\u001b[0;31m:\u001b[0m invalid syntax\n"
     ]
    }
   ],
   "source": [
    "# YOUR CODE HERE\n",
    "x =  problem_set.column(\"ghg_2010\")\n",
    "y = problem_set.column(\"gdp_ppp_2010\")\n",
    "\n",
    "test_plot = scatter(...,..)\n",
    "\n",
    "put_label_on_plot(test_plot, ..., ..., ...) \n",
    "\n",
    "\n",
    "raise NotImplementedError()"
   ]
  },
  {
   "cell_type": "markdown",
   "metadata": {},
   "source": [
    "## Correlation <a id='section2'></a>\n",
    "\n"
   ]
  },
  {
   "cell_type": "markdown",
   "metadata": {},
   "source": [
    "#### The correlation coefficient - *r*\n",
    "\n",
    "* r is a numerical measure of correlation ranging from -1 to 1. It gives us information about the strength of the relationship between two variables.\n",
    "* Although there are different types of correlation, we will use \"Pearson's correlation\" or \"Pearson's R\".\n",
    "\n",
    "#### How to interpret *r* ?\n",
    "* r=1: For every unit increase in a variable, say X, there is a positive increase of a fixed proportion on the other varaible, say Y.\n",
    "* r=-1: For every unit increase in a Variable, say X, the is a negative increase of a fixed proportion on the other varaible, say Y.\n",
    "* r=0: For every unit increase in a variable, say X, there is not a negative or positive increase on the other variable, say Y. This means that the two variables are un-correlated.\n"
   ]
  },
  {
   "cell_type": "markdown",
   "metadata": {},
   "source": [
    "#### These are some examples of different correlatiosn r"
   ]
  },
  {
   "cell_type": "markdown",
   "metadata": {},
   "source": [
    "<img src=\"images/E157AC_correlation-examples.svg\" style=\"height:300px\" align=\"left\" float=\"left\"/>\n",
    "\n",
    "source: mathsisfun.com"
   ]
  },
  {
   "cell_type": "markdown",
   "metadata": {},
   "source": [
    "Now that you have a visual and conceptual idea of what correlation is, we can use the functions defined below to calculate the corralation for the variables in your data set.\n",
    "\n",
    "You do not have to worry about understanding the implementation of the two functions below, you just need to know how to use and interpret the results for the *correlation* function we created for you. \n",
    "\n",
    "If you would like to learn more about how to obtain the corraltion coefficient please visit https://www.inferentialthinking.com/chapters/15/1/Correlation for more details."
   ]
  },
  {
   "cell_type": "code",
   "execution_count": 15,
   "metadata": {},
   "outputs": [],
   "source": [
    "def standard_units(x):\n",
    "    \"\"\"\n",
    "    Convert any array of numbers to standard units.\n",
    "    \"\"\"\n",
    "    \n",
    "    return (x - np.average(x))/np.std(x)"
   ]
  },
  {
   "cell_type": "code",
   "execution_count": 16,
   "metadata": {},
   "outputs": [],
   "source": [
    "def correlation(t, x, y):\n",
    "    \"\"\"\n",
    "    Determines the correlation between the x and y variables\n",
    "    \n",
    "    Arguments:\n",
    "    t: Data Frame \n",
    "    x: Column in your data frame\n",
    "    y: Column in you data framel\n",
    "    \"\"\"\n",
    "    x_in_standard_units = standard_units(t.column(x))\n",
    "    y_in_standard_units = standard_units(t.column(y))\n",
    "    return np.average(x_in_standard_units * y_in_standard_units)"
   ]
  },
  {
   "cell_type": "markdown",
   "metadata": {},
   "source": [
    "#### YOUR TURN\n",
    "Find the correlation for the two variables we explored on the previous example. Namely, between \"ghg_2010\" and \"gdp_ppp_2010\". Replace the  (...) with your solution. \n",
    "\n",
    "Make sure to comment out **raise NotImplementedError()** on the following questions. "
   ]
  },
  {
   "cell_type": "code",
   "execution_count": 17,
   "metadata": {},
   "outputs": [
    {
     "ename": "AttributeError",
     "evalue": "'ellipsis' object has no attribute 'column'",
     "output_type": "error",
     "traceback": [
      "\u001b[0;31m---------------------------------------------------------------------------\u001b[0m",
      "\u001b[0;31mAttributeError\u001b[0m                            Traceback (most recent call last)",
      "\u001b[0;32m<ipython-input-17-41c5f97c60d7>\u001b[0m in \u001b[0;36m<module>\u001b[0;34m\u001b[0m\n\u001b[1;32m      2\u001b[0m \u001b[0mx\u001b[0m\u001b[0;34m=\u001b[0m\u001b[0;34m\"ghg_2010\"\u001b[0m\u001b[0;34m\u001b[0m\u001b[0m\n\u001b[1;32m      3\u001b[0m \u001b[0my\u001b[0m\u001b[0;34m=\u001b[0m\u001b[0;34m\"gdp_ppp_2010\"\u001b[0m\u001b[0;34m\u001b[0m\u001b[0m\n\u001b[0;32m----> 4\u001b[0;31m \u001b[0mcorrelation\u001b[0m\u001b[0;34m(\u001b[0m\u001b[0mt\u001b[0m\u001b[0;34m,\u001b[0m\u001b[0mx\u001b[0m\u001b[0;34m,\u001b[0m\u001b[0my\u001b[0m\u001b[0;34m)\u001b[0m\u001b[0;34m\u001b[0m\u001b[0m\n\u001b[0m\u001b[1;32m      5\u001b[0m \u001b[0;34m\u001b[0m\u001b[0m\n\u001b[1;32m      6\u001b[0m \u001b[0;32mraise\u001b[0m \u001b[0mNotImplementedError\u001b[0m\u001b[0;34m(\u001b[0m\u001b[0;34m)\u001b[0m\u001b[0;34m\u001b[0m\u001b[0m\n",
      "\u001b[0;32m<ipython-input-16-a67edd97a83b>\u001b[0m in \u001b[0;36mcorrelation\u001b[0;34m(t, x, y)\u001b[0m\n\u001b[1;32m      8\u001b[0m     \u001b[0my\u001b[0m\u001b[0;34m:\u001b[0m \u001b[0mColumn\u001b[0m \u001b[0;32min\u001b[0m \u001b[0myou\u001b[0m \u001b[0mdata\u001b[0m \u001b[0mframel\u001b[0m\u001b[0;34m\u001b[0m\u001b[0m\n\u001b[1;32m      9\u001b[0m     \"\"\"\n\u001b[0;32m---> 10\u001b[0;31m     \u001b[0mx_in_standard_units\u001b[0m \u001b[0;34m=\u001b[0m \u001b[0mstandard_units\u001b[0m\u001b[0;34m(\u001b[0m\u001b[0mt\u001b[0m\u001b[0;34m.\u001b[0m\u001b[0mcolumn\u001b[0m\u001b[0;34m(\u001b[0m\u001b[0mx\u001b[0m\u001b[0;34m)\u001b[0m\u001b[0;34m)\u001b[0m\u001b[0;34m\u001b[0m\u001b[0m\n\u001b[0m\u001b[1;32m     11\u001b[0m     \u001b[0my_in_standard_units\u001b[0m \u001b[0;34m=\u001b[0m \u001b[0mstandard_units\u001b[0m\u001b[0;34m(\u001b[0m\u001b[0mt\u001b[0m\u001b[0;34m.\u001b[0m\u001b[0mcolumn\u001b[0m\u001b[0;34m(\u001b[0m\u001b[0my\u001b[0m\u001b[0;34m)\u001b[0m\u001b[0;34m)\u001b[0m\u001b[0;34m\u001b[0m\u001b[0m\n\u001b[1;32m     12\u001b[0m     \u001b[0;32mreturn\u001b[0m \u001b[0mnp\u001b[0m\u001b[0;34m.\u001b[0m\u001b[0maverage\u001b[0m\u001b[0;34m(\u001b[0m\u001b[0mx_in_standard_units\u001b[0m \u001b[0;34m*\u001b[0m \u001b[0my_in_standard_units\u001b[0m\u001b[0;34m)\u001b[0m\u001b[0;34m\u001b[0m\u001b[0m\n",
      "\u001b[0;31mAttributeError\u001b[0m: 'ellipsis' object has no attribute 'column'"
     ]
    }
   ],
   "source": [
    "#YOUR CODE HERE \n",
    "t= ...   \n",
    "x=\"ghg_2010\" \n",
    "y=\"gdp_ppp_2010\"\n",
    "correlation(t,x,y)\n",
    "\n",
    "raise NotImplementedError()"
   ]
  },
  {
   "cell_type": "markdown",
   "metadata": {},
   "source": [
    "**Note** that the process of data cleaning for data analysis can get to be very tideous, but detrimental for you analysis if you are not careful!\n",
    "\n",
    "Lets break it down. The correlation for \"ghg_2010\" and \"gdp_ppp_2010\" returned `nan`. Did soemthing go wrong in the implementation of the correlation function? The answer is no. It has to do with an error that occurred in how `correaltion` is computed. The above function is made out of the average x_in_standard_units  and  y_in_standard_units. Lets take a look at `average x_in_standard_units` to see if you can figure out what is wrong with it?"
   ]
  },
  {
   "cell_type": "code",
   "execution_count": 18,
   "metadata": {},
   "outputs": [
    {
     "ename": "AttributeError",
     "evalue": "'ellipsis' object has no attribute 'column'",
     "output_type": "error",
     "traceback": [
      "\u001b[0;31m---------------------------------------------------------------------------\u001b[0m",
      "\u001b[0;31mAttributeError\u001b[0m                            Traceback (most recent call last)",
      "\u001b[0;32m<ipython-input-18-93d242d253b7>\u001b[0m in \u001b[0;36m<module>\u001b[0;34m\u001b[0m\n\u001b[0;32m----> 1\u001b[0;31m \u001b[0mx_in_standard_units\u001b[0m \u001b[0;34m=\u001b[0m\u001b[0mstandard_units\u001b[0m\u001b[0;34m(\u001b[0m\u001b[0mt\u001b[0m\u001b[0;34m.\u001b[0m\u001b[0mcolumn\u001b[0m\u001b[0;34m(\u001b[0m\u001b[0mx\u001b[0m\u001b[0;34m)\u001b[0m\u001b[0;34m)\u001b[0m\u001b[0;34m\u001b[0m\u001b[0m\n\u001b[0m\u001b[1;32m      2\u001b[0m \u001b[0mx_in_standard_units\u001b[0m\u001b[0;34m\u001b[0m\u001b[0m\n",
      "\u001b[0;31mAttributeError\u001b[0m: 'ellipsis' object has no attribute 'column'"
     ]
    }
   ],
   "source": [
    "x_in_standard_units =standard_units(t.column(x))\n",
    "x_in_standard_units "
   ]
  },
  {
   "cell_type": "markdown",
   "metadata": {},
   "source": [
    "What do you notice?"
   ]
  },
  {
   "cell_type": "code",
   "execution_count": 19,
   "metadata": {},
   "outputs": [
    {
     "name": "stdout",
     "output_type": "stream",
     "text": [
      " \n"
     ]
    }
   ],
   "source": [
    "correlation_exp = \" \"\n",
    "print(correlation_exp)\n",
    "\n",
    "\n",
    "raise NotImplementedError"
   ]
  },
  {
   "cell_type": "markdown",
   "metadata": {},
   "source": [
    "From the equation above we can see that standard_units is calculate by perfroming some mathematical operations to column/ variable x, particualrly by taking the average of its elemnts and the standard devidation. Now, lets take a look at the variable \"ghg_2010\" in our data set. "
   ]
  },
  {
   "cell_type": "code",
   "execution_count": 20,
   "metadata": {},
   "outputs": [
    {
     "ename": "AttributeError",
     "evalue": "'ellipsis' object has no attribute 'column'",
     "output_type": "error",
     "traceback": [
      "\u001b[0;31m---------------------------------------------------------------------------\u001b[0m",
      "\u001b[0;31mAttributeError\u001b[0m                            Traceback (most recent call last)",
      "\u001b[0;32m<ipython-input-20-f6ff20922db0>\u001b[0m in \u001b[0;36m<module>\u001b[0;34m\u001b[0m\n\u001b[0;32m----> 1\u001b[0;31m \u001b[0mt\u001b[0m\u001b[0;34m.\u001b[0m\u001b[0mcolumn\u001b[0m\u001b[0;34m(\u001b[0m\u001b[0mx\u001b[0m\u001b[0;34m)\u001b[0m\u001b[0;34m\u001b[0m\u001b[0m\n\u001b[0m",
      "\u001b[0;31mAttributeError\u001b[0m: 'ellipsis' object has no attribute 'column'"
     ]
    }
   ],
   "source": [
    "t.column(x)"
   ]
  },
  {
   "cell_type": "markdown",
   "metadata": {},
   "source": [
    "By inspecting x  we can notice that there are a  couple of `nan` (or missing values) on the coulmn. These values break our two functions because we **cannot** take the average of an unknown value. Now its your turn to try it! "
   ]
  },
  {
   "cell_type": "code",
   "execution_count": 21,
   "metadata": {},
   "outputs": [
    {
     "data": {
      "text/plain": [
       "nan"
      ]
     },
     "execution_count": 21,
     "metadata": {},
     "output_type": "execute_result"
    }
   ],
   "source": [
    "var =[ 1,2,3,np.NaN,4,5]\n",
    "avg= np.average(var)\n",
    "avg"
   ]
  },
  {
   "cell_type": "markdown",
   "metadata": {},
   "source": [
    "Now remove the `nan` value from the list and see what happens. Save the new list into the variable  `new_var` and see what happends. "
   ]
  },
  {
   "cell_type": "code",
   "execution_count": 22,
   "metadata": {},
   "outputs": [
    {
     "ename": "TypeError",
     "evalue": "unsupported operand type(s) for /: 'ellipsis' and 'int'",
     "output_type": "error",
     "traceback": [
      "\u001b[0;31m---------------------------------------------------------------------------\u001b[0m",
      "\u001b[0;31mTypeError\u001b[0m                                 Traceback (most recent call last)",
      "\u001b[0;32m<ipython-input-22-577c7a678b39>\u001b[0m in \u001b[0;36m<module>\u001b[0;34m\u001b[0m\n\u001b[1;32m      1\u001b[0m \u001b[0mnew_var\u001b[0m \u001b[0;34m=\u001b[0m \u001b[0;34m...\u001b[0m\u001b[0;34m\u001b[0m\u001b[0m\n\u001b[0;32m----> 2\u001b[0;31m \u001b[0mnew_avg\u001b[0m\u001b[0;34m=\u001b[0m \u001b[0mnp\u001b[0m\u001b[0;34m.\u001b[0m\u001b[0maverage\u001b[0m\u001b[0;34m(\u001b[0m\u001b[0mnew_var\u001b[0m\u001b[0;34m)\u001b[0m\u001b[0;34m\u001b[0m\u001b[0m\n\u001b[0m\u001b[1;32m      3\u001b[0m \u001b[0mnew_avg\u001b[0m\u001b[0;34m\u001b[0m\u001b[0m\n\u001b[1;32m      4\u001b[0m \u001b[0;34m\u001b[0m\u001b[0m\n\u001b[1;32m      5\u001b[0m \u001b[0;32mraise\u001b[0m \u001b[0mNotImplementedError\u001b[0m\u001b[0;34m(\u001b[0m\u001b[0;34m)\u001b[0m\u001b[0;34m\u001b[0m\u001b[0m\n",
      "\u001b[0;32m~/anaconda3/lib/python3.6/site-packages/numpy/lib/function_base.py\u001b[0m in \u001b[0;36maverage\u001b[0;34m(a, axis, weights, returned)\u001b[0m\n\u001b[1;32m    354\u001b[0m \u001b[0;34m\u001b[0m\u001b[0m\n\u001b[1;32m    355\u001b[0m     \u001b[0;32mif\u001b[0m \u001b[0mweights\u001b[0m \u001b[0;32mis\u001b[0m \u001b[0;32mNone\u001b[0m\u001b[0;34m:\u001b[0m\u001b[0;34m\u001b[0m\u001b[0m\n\u001b[0;32m--> 356\u001b[0;31m         \u001b[0mavg\u001b[0m \u001b[0;34m=\u001b[0m \u001b[0ma\u001b[0m\u001b[0;34m.\u001b[0m\u001b[0mmean\u001b[0m\u001b[0;34m(\u001b[0m\u001b[0maxis\u001b[0m\u001b[0;34m)\u001b[0m\u001b[0;34m\u001b[0m\u001b[0m\n\u001b[0m\u001b[1;32m    357\u001b[0m         \u001b[0mscl\u001b[0m \u001b[0;34m=\u001b[0m \u001b[0mavg\u001b[0m\u001b[0;34m.\u001b[0m\u001b[0mdtype\u001b[0m\u001b[0;34m.\u001b[0m\u001b[0mtype\u001b[0m\u001b[0;34m(\u001b[0m\u001b[0ma\u001b[0m\u001b[0;34m.\u001b[0m\u001b[0msize\u001b[0m\u001b[0;34m/\u001b[0m\u001b[0mavg\u001b[0m\u001b[0;34m.\u001b[0m\u001b[0msize\u001b[0m\u001b[0;34m)\u001b[0m\u001b[0;34m\u001b[0m\u001b[0m\n\u001b[1;32m    358\u001b[0m     \u001b[0;32melse\u001b[0m\u001b[0;34m:\u001b[0m\u001b[0;34m\u001b[0m\u001b[0m\n",
      "\u001b[0;32m~/anaconda3/lib/python3.6/site-packages/numpy/core/_methods.py\u001b[0m in \u001b[0;36m_mean\u001b[0;34m(a, axis, dtype, out, keepdims)\u001b[0m\n\u001b[1;32m     85\u001b[0m             \u001b[0mret\u001b[0m \u001b[0;34m=\u001b[0m \u001b[0mret\u001b[0m\u001b[0;34m.\u001b[0m\u001b[0mdtype\u001b[0m\u001b[0;34m.\u001b[0m\u001b[0mtype\u001b[0m\u001b[0;34m(\u001b[0m\u001b[0mret\u001b[0m \u001b[0;34m/\u001b[0m \u001b[0mrcount\u001b[0m\u001b[0;34m)\u001b[0m\u001b[0;34m\u001b[0m\u001b[0m\n\u001b[1;32m     86\u001b[0m     \u001b[0;32melse\u001b[0m\u001b[0;34m:\u001b[0m\u001b[0;34m\u001b[0m\u001b[0m\n\u001b[0;32m---> 87\u001b[0;31m         \u001b[0mret\u001b[0m \u001b[0;34m=\u001b[0m \u001b[0mret\u001b[0m \u001b[0;34m/\u001b[0m \u001b[0mrcount\u001b[0m\u001b[0;34m\u001b[0m\u001b[0m\n\u001b[0m\u001b[1;32m     88\u001b[0m \u001b[0;34m\u001b[0m\u001b[0m\n\u001b[1;32m     89\u001b[0m     \u001b[0;32mreturn\u001b[0m \u001b[0mret\u001b[0m\u001b[0;34m\u001b[0m\u001b[0m\n",
      "\u001b[0;31mTypeError\u001b[0m: unsupported operand type(s) for /: 'ellipsis' and 'int'"
     ]
    }
   ],
   "source": [
    "new_var = ... \n",
    "new_avg= np.average(new_var)\n",
    "new_avg\n",
    "\n",
    "raise NotImplementedError()"
   ]
  },
  {
   "cell_type": "markdown",
   "metadata": {},
   "source": [
    "The key takeway is that we cannot simply run these functions mindlessly and hope to get a solution. Cleaning the data is one of the most important aspects of conducting effective analysis. From this example we learned that the best way to handle this situtation is to remove the unknown values. On a later section we will go over how to handle this situations. We will create a function to automate the cleaning of our data. "
   ]
  },
  {
   "cell_type": "markdown",
   "metadata": {},
   "source": [
    "## Regression <a id='section3'></a>"
   ]
  },
  {
   "cell_type": "markdown",
   "metadata": {},
   "source": [
    "#### What is a regression line?\n",
    "\n",
    "* Linear regression allows us to model two or more varaibles. This line allows us to correlate our data.\n",
    "    * For the purpose of this homework we will only be working with two. Namely X-independent variable and Y-dependent variable.\n",
    "* Linear regressions allow us to predict one variable from another. In this case we will predict Y from X.\n",
    "* There are many predictive models that help us find estiamates for our data. However, the goal of a simple linear regression is to create a linear model that minimize the sum of square errors. Making it the line of \"best fit\".\n",
    "    * The error represents how far off our obervations(real data) are from our predicted values(data from our model).\n",
    "    * For instance, if our sample had only one data point, say 5, and our model predicted that it would be 7. Our square error would be (5-7)^2= 4."
   ]
  },
  {
   "cell_type": "markdown",
   "metadata": {},
   "source": [
    "<img src=\"images/residuals.png\" style=\"height:400px\" align=\"left\" float=\"left\"/>\n"
   ]
  },
  {
   "cell_type": "markdown",
   "metadata": {},
   "source": [
    "* Slope of the regression line \"line of averages\" can be found using the r we found before!\n",
    "* The slope of this line determines the whether our correlation is possitive or negative.\n",
    "\n",
    "No matter the shape of the scatter plot, this unique line minimizes the mean squared error of estimation!"
   ]
  },
  {
   "cell_type": "markdown",
   "metadata": {},
   "source": [
    "#### Formula for linear regression?\n",
    "First some *definitions*:\n",
    "\n",
    "General format: $Y_i =\\beta_0 +\\beta_1Xi+\\epsilon_i$ but when we are doing simple linea rgression we write it like this $E(Y_i) =\\beta_0 +\\beta_1Xi$, which is the mean or expected value of y, for a given x.\n",
    "\n",
    "* notice that it looks very similar to : $y=mx +b$\n",
    "\n",
    "$Y_i$: Dependent (response variable)\n",
    "\n",
    "$\\beta_0$: Y Intercept\n",
    "\n",
    "$\\beta_1$: Slope\n",
    "\n",
    "$\\epsilon_0$: Random Error (unexplained variation in Y)"
   ]
  },
  {
   "cell_type": "markdown",
   "metadata": {},
   "source": [
    "#### Whta is R-squared (coefficient of determination)?\n",
    "\n",
    "* R-squared allow us to see how close our data is to the regression line\n",
    "* It is the percentage of the response variable variation that is explained by a linear model.\n",
    "    * R-squared = Explained variation / Total variation\n",
    "    * R-squared is always between 0 and 100%:\n",
    "        * A 0% indicates that the model explains none of the variability of the response data around its mean.\n",
    "        * A 100% indicates that the model explains all the variability of the response data around its mean.\n",
    "* In general, the higher the R-squared, the better the model fits your data.\n",
    "* However r_square cannot tell if:\n",
    "    * predictions are biased\n",
    "    * regression model is adequate"
   ]
  },
  {
   "cell_type": "markdown",
   "metadata": {},
   "source": [
    "source: https://www.inferentialthinking.com/chapters/15/2/Regression_Line\n",
    "\n",
    "source: http://statisticsbyjim.com/regression/interpret-r-squared-regression/\n",
    "\n",
    "source: http://blog.minitab.com/blog/adventures-in-statistics-2/regression-analysis-how-do-i-interpret-r-squared-and-assess-the-goodness-of-fit\n",
    "\n"
   ]
  },
  {
   "cell_type": "markdown",
   "metadata": {},
   "source": [
    "## Example: Putting it all together<a id='section4'></a> "
   ]
  },
  {
   "cell_type": "markdown",
   "metadata": {},
   "source": [
    "<img src=\"images/father_son.png\" style=\"height:500px\" align=\"left\" float=\"left\"/>"
   ]
  },
  {
   "cell_type": "markdown",
   "metadata": {},
   "source": [
    "* Notice that in order to find line that helps us predict values, all we need to do is find a slope and a y-intercept.\n",
    "* In this example, the regression line predeicts the son's height from the father's height.\n",
    "* The equation for the regression line would look like:\n",
    "\n",
    "$SONH_i= \\beta_0 + \\beta_1 FATHERHA + \\epsilon_i$\n",
    "\n",
    "source: https://galton.uchicago.edu/~wichura/Stat200/Handouts/C10.pdf"
   ]
  },
  {
   "cell_type": "markdown",
   "metadata": {},
   "source": [
    "Note: On the Problems section we will go over utility functions that will let use create a regression line just like the one in the father-son example."
   ]
  },
  {
   "cell_type": "markdown",
   "metadata": {},
   "source": [
    "## Recap <a id='section5'></a>\n",
    "\n",
    "Up to now you have learned:\n",
    "\n",
    "* What a scatter plot is and how to create it\n",
    "* How to label your plots\n",
    "* What the correaltion coefficient (r) is, how to interpret it, and how to calculate it\n",
    "* What the linar regression is, how to interpret its equation, and how to calculate it\n",
    "* What the coefficeint of determination is (r_squared), how to intepret it, and how to calculate it\n",
    "\n",
    "\n",
    "Now, you are ready to answer the rest of the questions."
   ]
  },
  {
   "cell_type": "markdown",
   "metadata": {},
   "source": [
    "## Problems <a id='section6'></a>\n",
    "\n",
    "\n",
    "#### READ BEFORE ANSWERING THE QUESTIONS\n",
    "\n",
    "\n",
    "When you explain your graphs below, do not describe them but instead interpret and explain them. Are there any correlations (or lack of)? Is there anything else that we may learn from the graph? You can what you learned about r_squared, and the betas when writting down your interpretetations\n",
    "\n",
    "Finally, the scatter plots you are asked to create are written below using the standard convention of dependent vs. independent (i.e. plot \"Y vs. X”).\n",
    "\n",
    "Make sure to comment out **raise NotImplementedError()** on the questions below."
   ]
  },
  {
   "cell_type": "markdown",
   "metadata": {},
   "source": [
    "## Problem 1\n",
    "\n",
    "Make a chart of Total GHG Emissions, 2010 vs. GDP. \n",
    "\n",
    "Make sure to fill the (...) with the appropiate values. If you need help, please refer back to the [example](#section9)<br> we did before.\n",
    "\n",
    "**Note**: If you forget what each coulumn name stands for, you can access the table of at the beginning of the notebok [here](#section7)<br>"
   ]
  },
  {
   "cell_type": "code",
   "execution_count": null,
   "metadata": {},
   "outputs": [],
   "source": [
    "# YOUR CODE HERE\n",
    "x =  problem_set.column(...)\n",
    "y = problem_set.column(...)\n",
    "\n",
    "... = scatter(x,y)\n",
    "\n",
    "put_label_on_plot(test_plot, ..., ..., ...) \n",
    "\n",
    "\n",
    "raise NotImplementedError()\n"
   ]
  },
  {
   "cell_type": "markdown",
   "metadata": {},
   "source": [
    "What do you notice? Why do you think your plot looks this way? Write down a few thoughts about why you think your plot looks like this.  . "
   ]
  },
  {
   "cell_type": "code",
   "execution_count": null,
   "metadata": {},
   "outputs": [],
   "source": [
    "# YOUR CODE HERE\n",
    "q1_answer = r\"\"\"\n",
    "\n",
    "Put your answer here, replacing this text. Do not take into account the ### YOUR CODE HERE below\n",
    "\n",
    "\"\"\"\n",
    "\n",
    "raise NotImplementedError()\n",
    "\n",
    "print(q1_answer)"
   ]
  },
  {
   "cell_type": "markdown",
   "metadata": {},
   "source": [
    "## Question 1\n",
    "\n",
    "Calculate the `correlation` for the two variables. You can look at the example you did before to get started.\n",
    "Note: You will run into an error after running this cell. Scroll down to see why."
   ]
  },
  {
   "cell_type": "code",
   "execution_count": null,
   "metadata": {},
   "outputs": [],
   "source": [
    "# YOUR CODE HERE\n",
    "correlation_1a = ..."
   ]
  },
  {
   "cell_type": "markdown",
   "metadata": {},
   "source": [
    "In the `correlation` section we learned that there is missing data in at least one of our columns! (welcome to the \"real world\"). If, in your calculations, you don't exclude (i.e. delete) these, you will possibly run across some errors, and some meaningless results! (For example, if you were to try to calculate the \"**Per-Capita** CO2 Emission from Fossil Fuel Consumption\" of Afghanistan, you would get a result of zero because the emission data is missing. \n",
    "If you plotted this and used it to determine your linear regression, your regression would obviously be meaningless.)\n",
    "\n",
    "<img src=\"images/error_pic.png\" height='50' width='850'>\n",
    "\n",
    "So, in order to avoid these issues, we've created a function to remove all the non-integers from the columns! The function is in the cell below. Do not worry about its implementation, just know that it removes the rows in a column that contain a `nan` value."
   ]
  },
  {
   "cell_type": "code",
   "execution_count": 1,
   "metadata": {},
   "outputs": [],
   "source": [
    "def clean(t,x,y):\n",
    "    \"\"\"\n",
    "    This functions drops all the nan values in a column \n",
    "    \n",
    "    Arguments: \n",
    "    t: Data Frame \n",
    "    x: Name of column you want to clean \n",
    "    y: Name of column you want to clean \n",
    "    \n",
    "    Example:\n",
    "    > t = problem_set\n",
    "    > x = \"gdp_ppp_2010\"\n",
    "    > y = \"ghg_2010\" \n",
    "    > len(t.column(x))\n",
    "    >>> 186\n",
    "  \n",
    "    > cleaned = clean(my_data, x, y)\n",
    "    > len(cleaned)\n",
    "    >>> 173\n",
    "    \"\"\"\n",
    "    unclean_x= pd.Series(t.column(x))\n",
    "    unclean_y= pd.Series(t.column(y))\n",
    "\n",
    "    df=  pd.DataFrame({x:unclean_x,y:unclean_y})\n",
    "    pre_clean_df = df.dropna()\n",
    "\n",
    "\n",
    "    clean_x = list(pre_clean_df.iloc[:, 0])\n",
    "    clean_y = list(pre_clean_df.iloc[:, 1])\n",
    "    \n",
    "\n",
    "    \n",
    "    cleaned_df= Table().with_columns([\n",
    "        x, clean_x,\n",
    "        y,  clean_y\n",
    "    ])\n",
    "\n",
    "    return cleaned_df"
   ]
  },
  {
   "cell_type": "markdown",
   "metadata": {},
   "source": [
    "With the function \"clean\" above, you should be able to perform any graphing you may be asked to do. Note that the clean function outputs a data frame with two cleaned columns. The first value is the cleaned x column, and the second value is the cleaned y value.\n",
    "\n",
    "As you will notice below we have\n",
    "\n",
    "1. Assigned the output of the function to a varible\n",
    "2. Assigned each cleaned column from the data frame in step 1 to two new variables called \"q1_cleaned_x\" and \"q1_cleaned_y\".\n",
    "\n",
    "You should be able to re-use part of the code in the next problem for the rest of you assigment.\n",
    "\n",
    "Moving forward make sure to clean you columns before plotting, finding the betas or r_squared!"
   ]
  },
  {
   "cell_type": "markdown",
   "metadata": {},
   "source": [
    "### Question 2\n",
    "Assign a cleaned version of problem_set for the columns ghg_2010 and  gdp_ppp_2010 to a new variable q1_cleaned_df."
   ]
  },
  {
   "cell_type": "code",
   "execution_count": null,
   "metadata": {},
   "outputs": [],
   "source": [
    "# YOUR CODE HERE\n",
    "q1_cleaned_df = clean(problem_set,... ) "
   ]
  },
  {
   "cell_type": "markdown",
   "metadata": {},
   "source": [
    "### Question 3\n",
    "\n",
    "To convince yourself that the `clean` function works, take the length of the the old data frame `problem_set` and the cleaned data frame `q1_cleaned_df` using the `len()` method on any column of your data frame. The second one should contain fewer values as it removed the null values on the data frame."
   ]
  },
  {
   "cell_type": "code",
   "execution_count": null,
   "metadata": {},
   "outputs": [],
   "source": [
    "# YOUR CODE HERE \n",
    "original_len = len(..) \n",
    "cleaned_len = len(...) \n",
    "\n",
    "print(original_len,cleaned_len)"
   ]
  },
  {
   "cell_type": "markdown",
   "metadata": {},
   "source": [
    "### Question 4\n",
    "\n",
    "Make a scatter plot using your cleaned data set. Dot not forget to label it."
   ]
  },
  {
   "cell_type": "code",
   "execution_count": null,
   "metadata": {},
   "outputs": [],
   "source": [
    "# YOUR CHART HERE \n",
    "cleaned_x_column = clean(problem_set...,...) \n",
    "cleaned_y_column = clean(problem_Set...,...) \n",
    "\n",
    "... = scatter(cleaned_x_column,... )\n",
    "\n",
    "put_label_on_plot(..., ..., ..., ...)  \n",
    "\n",
    "\n",
    "\n",
    "raise NotImplementedError()"
   ]
  },
  {
   "cell_type": "markdown",
   "metadata": {},
   "source": [
    "### Question 5 \n",
    "\n",
    "Find *beta_0*. Do not forget to use your cleaned data frame.\n",
    "\n",
    "To answer this question we will use a new utility function that calculates the y intercept."
   ]
  },
  {
   "cell_type": "code",
   "execution_count": null,
   "metadata": {},
   "outputs": [],
   "source": [
    "def intercept(t, x, y):\n",
    "    \"\"\"\n",
    "    Returns the y-intercept needed to find the linear regression\n",
    "    \n",
    "    Arguments:\n",
    "    t: Data Frame \n",
    "    x: Column in your data frame\n",
    "    y: Column in you data frame\n",
    "    \"\"\"\n",
    "    \n",
    "    x_mean = np.mean(t.column(x))\n",
    "    y_mean = np.mean(t.column(y)) \n",
    "    return  y_mean - slope(t, x, y)*x_mean"
   ]
  },
  {
   "cell_type": "code",
   "execution_count": null,
   "metadata": {},
   "outputs": [],
   "source": [
    "# YOUR CODE HER\n",
    "q1_beta0= \n",
    "\n",
    "raise NotImplementedError()"
   ]
  },
  {
   "cell_type": "markdown",
   "metadata": {},
   "source": [
    "### Question 6 \n",
    "\n",
    "Find *beta_1*. Do not forget to use your cleaned data frame.\n",
    "\n",
    "To answer this question we will use a new utility function that calculates the slope."
   ]
  },
  {
   "cell_type": "code",
   "execution_count": 23,
   "metadata": {},
   "outputs": [],
   "source": [
    "def slope(t, x, y):\n",
    "    \"\"\"\n",
    "    Returns the slope needed to find the linear regression\n",
    "    \n",
    "    Arguments:\n",
    "    t: Data fram \n",
    "    x: Column in your data frame\n",
    "    y: Column in you data frame\n",
    "    \"\"\"\n",
    "  \n",
    "    r = correlation(t, x, y)\n",
    "    y_sd = np.std(t.column(y))\n",
    "    x_sd = np.std(t.column(x))\n",
    "    return r * y_sd / x_sd"
   ]
  },
  {
   "cell_type": "code",
   "execution_count": null,
   "metadata": {},
   "outputs": [],
   "source": [
    "# YOUR CODE HERE\n",
    "q1_beta1= \n",
    "\n",
    "raise NotImplementedError()"
   ]
  },
  {
   "cell_type": "markdown",
   "metadata": {},
   "source": [
    "### Question 7\n",
    "\n",
    "Find *r_squared*. Do not forget to use your cleaned data frame.\n",
    "\n",
    "To answer this question we will use a new utility function that calculates r_squared. "
   ]
  },
  {
   "cell_type": "code",
   "execution_count": 24,
   "metadata": {},
   "outputs": [],
   "source": [
    "def r_squared(t, x, y):\n",
    "    \"\"\"\n",
    "    Returns r squared\n",
    "    \n",
    "    t: Data Frame \n",
    "    x: Column in your data frame\n",
    "    y: Column in you data frame\n",
    "    \"\"\"\n",
    "\n",
    "    r = correlation(t, x, y)\n",
    "    return r**2"
   ]
  },
  {
   "cell_type": "code",
   "execution_count": null,
   "metadata": {},
   "outputs": [],
   "source": [
    "# YOUR CODE HERE\n",
    "q1_squared =  \n",
    "\n",
    "\n",
    "raise NotImplementedError()"
   ]
  },
  {
   "cell_type": "markdown",
   "metadata": {},
   "source": [
    "### Question 8 \n",
    "\n",
    "Now that you have computed beta_0, beta_1, you are ready to add the line of best fit to your original plot. \n",
    "\n",
    "Hint: Recall that `slope = beta1` and ` intercept = beta0`. To answer this question we will use a new utility function `draw_line` that plots the line of best fit. Don't forget to add the proper labels."
   ]
  },
  {
   "cell_type": "code",
   "execution_count": 25,
   "metadata": {},
   "outputs": [],
   "source": [
    "def draw_line(t, x, y,slope, intercept,color='r'):\n",
    "    \n",
    "    \"\"\"\n",
    "    Draws the linear regression line \n",
    "    \n",
    "    t: Data Frame \n",
    "    x: Column in your data frame\n",
    "    y: Column in you data frame\n",
    "    \n",
    "    \n",
    "    \"\"\"\n",
    "\n",
    "    line= slope*t.column(x) + intercept\n",
    "    x= t.column(x)\n",
    "    y= t.column(y)\n",
    "    \n",
    "    plt.plot(x, y,'o', x,line)"
   ]
  },
  {
   "cell_type": "code",
   "execution_count": null,
   "metadata": {},
   "outputs": [],
   "source": [
    " # YOUR CODE HERE\n",
    "t= ...\n",
    "x_label=... \n",
    "y_label = .. \n",
    "slope= q1_beta1\n",
    "intercept= q1_beta0\n",
    "draw_line(t, x_label,y_label, slope, intercept)\n",
    "put_label_on_plot(..., ..., ..., ...)  "
   ]
  },
  {
   "cell_type": "markdown",
   "metadata": {},
   "source": [
    "### Question 9 \n",
    "Explain the results above in 2-3 sentences.\n"
   ]
  },
  {
   "cell_type": "code",
   "execution_count": null,
   "metadata": {},
   "outputs": [],
   "source": [
    "# YOUR CODE HERE\n",
    "\n",
    "q1_9 = r\"\"\"\n",
    "\n",
    "Put your answer here, replacing this text. Do not take into account the ### YOUR CODE HERE below\n",
    "\n",
    "\"\"\"\n",
    "\n",
    "raise NotImplementedError()\n",
    "\n",
    "print(q1_9)"
   ]
  },
  {
   "cell_type": "code",
   "execution_count": 26,
   "metadata": {},
   "outputs": [
    {
     "ename": "NameError",
     "evalue": "name 'store' is not defined",
     "output_type": "error",
     "traceback": [
      "\u001b[0;31m---------------------------------------------------------------------------\u001b[0m",
      "\u001b[0;31mNameError\u001b[0m                                 Traceback (most recent call last)",
      "\u001b[0;32m<ipython-input-26-4f9b460426da>\u001b[0m in \u001b[0;36m<module>\u001b[0;34m\u001b[0m\n\u001b[0;32m----> 1\u001b[0;31m \u001b[0;32massert\u001b[0m\u001b[0;34m(\u001b[0m\u001b[0mstore\u001b[0m\u001b[0;34m(\u001b[0m\u001b[0mq1_rquare\u001b[0m\u001b[0;34m)\u001b[0m\u001b[0;34m)\u001b[0m\u001b[0;34m==\u001b[0m \u001b[0;34m'911ed95f081fe8b8590e56c984045ef4'\u001b[0m\u001b[0;34m\u001b[0m\u001b[0m\n\u001b[0m\u001b[1;32m      2\u001b[0m \u001b[0;32massert\u001b[0m\u001b[0;34m(\u001b[0m\u001b[0mstore\u001b[0m\u001b[0;34m(\u001b[0m\u001b[0mq1_beta0\u001b[0m\u001b[0;34m)\u001b[0m\u001b[0;34m)\u001b[0m\u001b[0;34m==\u001b[0m \u001b[0;34m'a2897207b9c5d045f8f8422d5d5b26ef'\u001b[0m\u001b[0;34m\u001b[0m\u001b[0m\n\u001b[1;32m      3\u001b[0m \u001b[0;32massert\u001b[0m\u001b[0;34m(\u001b[0m\u001b[0mstore\u001b[0m\u001b[0;34m(\u001b[0m\u001b[0mq1_beta1\u001b[0m\u001b[0;34m)\u001b[0m\u001b[0;34m)\u001b[0m\u001b[0;34m==\u001b[0m\u001b[0;34m'3f4537a038f630f6eabcad5ae82233b7'\u001b[0m\u001b[0;34m\u001b[0m\u001b[0m\n\u001b[1;32m      4\u001b[0m \u001b[0;32massert\u001b[0m\u001b[0;34m(\u001b[0m\u001b[0mstore\u001b[0m\u001b[0;34m(\u001b[0m\u001b[0mlen\u001b[0m\u001b[0;34m(\u001b[0m\u001b[0mq1_cleaned_x_column\u001b[0m\u001b[0;34m)\u001b[0m\u001b[0;34m)\u001b[0m\u001b[0;34m)\u001b[0m\u001b[0;34m==\u001b[0m \u001b[0;34m'f7e6c85504ce6e82442c770f7c8606f0'\u001b[0m\u001b[0;34m\u001b[0m\u001b[0m\n\u001b[1;32m      5\u001b[0m \u001b[0;32massert\u001b[0m\u001b[0;34m(\u001b[0m\u001b[0mstore\u001b[0m\u001b[0;34m(\u001b[0m\u001b[0mlen\u001b[0m\u001b[0;34m(\u001b[0m\u001b[0mq1_cleaned_y_column\u001b[0m\u001b[0;34m)\u001b[0m\u001b[0;34m)\u001b[0m\u001b[0;34m)\u001b[0m\u001b[0;34m==\u001b[0m \u001b[0;34m'f7e6c85504ce6e82442c770f7c8606f0'\u001b[0m\u001b[0;34m\u001b[0m\u001b[0m\n",
      "\u001b[0;31mNameError\u001b[0m: name 'store' is not defined"
     ]
    }
   ],
   "source": [
    "assert(store(q1_rquare))== '911ed95f081fe8b8590e56c984045ef4'\n",
    "assert(store(q1_beta0))== 'a2897207b9c5d045f8f8422d5d5b26ef'\n",
    "assert(store(q1_beta1))=='3f4537a038f630f6eabcad5ae82233b7'\n",
    "assert(store(len(q1_cleaned_x_column)))== 'f7e6c85504ce6e82442c770f7c8606f0'\n",
    "assert(store(len(q1_cleaned_y_column)))== 'f7e6c85504ce6e82442c770f7c8606f0'\n",
    "assert(original_len != cleaned_len)"
   ]
  },
  {
   "cell_type": "markdown",
   "metadata": {},
   "source": [
    "## Problem 2\n",
    "\n",
    "\n",
    "### Question 1 \n",
    "\n",
    "Make a chart of Per-Capita Total GHG Emissions, 2010 vs. HDI.\n",
    "\n",
    "Hint:\n",
    "* One way to do this is by adding a new column by `dataframe['new column name'] = [data]`. e.g. add a column called `per_capital_total_GHG` to the `problem_set` table.\n",
    "* Do not forget to clean your data before you making a chart! "
   ]
  },
  {
   "cell_type": "code",
   "execution_count": null,
   "metadata": {},
   "outputs": [],
   "source": [
    "# YOUR CHART HERE \n",
    "\n",
    "raise NotImplementedError()"
   ]
  },
  {
   "cell_type": "markdown",
   "metadata": {},
   "source": [
    "### Question 2\n",
    "\n",
    "Find *r_squared*."
   ]
  },
  {
   "cell_type": "code",
   "execution_count": null,
   "metadata": {},
   "outputs": [],
   "source": [
    "# YOUR CODE HERE\n",
    "q2_rquare=\n",
    "\n",
    "raise NotImplementedError()"
   ]
  },
  {
   "cell_type": "markdown",
   "metadata": {},
   "source": [
    "### Question 3\n",
    "Find beta_0."
   ]
  },
  {
   "cell_type": "code",
   "execution_count": null,
   "metadata": {},
   "outputs": [],
   "source": [
    "# YOUR CODE HERE\n",
    "q2_beta0= \n",
    "\n",
    "raise NotImplementedError()"
   ]
  },
  {
   "cell_type": "markdown",
   "metadata": {},
   "source": [
    "### Question 4\n",
    "Find beta_1."
   ]
  },
  {
   "cell_type": "code",
   "execution_count": null,
   "metadata": {},
   "outputs": [],
   "source": [
    "# YOUR CODE HERE\n",
    "q2_beta1= \n",
    "\n",
    "raise NotImplementedError()"
   ]
  },
  {
   "cell_type": "markdown",
   "metadata": {},
   "source": [
    "### Question 5\n",
    "Explain your result in 2-3 sentences."
   ]
  },
  {
   "cell_type": "code",
   "execution_count": 28,
   "metadata": {},
   "outputs": [
    {
     "ename": "NotImplementedError",
     "evalue": "",
     "output_type": "error",
     "traceback": [
      "\u001b[0;31m---------------------------------------------------------------------------\u001b[0m",
      "\u001b[0;31mNotImplementedError\u001b[0m                       Traceback (most recent call last)",
      "\u001b[0;32m<ipython-input-28-bfb653ac342e>\u001b[0m in \u001b[0;36m<module>\u001b[0;34m\u001b[0m\n\u001b[1;32m      6\u001b[0m \u001b[0;34m\u001b[0m\u001b[0m\n\u001b[1;32m      7\u001b[0m \u001b[0;31m# YOUR CODE HERE\u001b[0m\u001b[0;34m\u001b[0m\u001b[0;34m\u001b[0m\u001b[0m\n\u001b[0;32m----> 8\u001b[0;31m \u001b[0;32mraise\u001b[0m \u001b[0mNotImplementedError\u001b[0m\u001b[0;34m(\u001b[0m\u001b[0;34m)\u001b[0m\u001b[0;34m\u001b[0m\u001b[0m\n\u001b[0m\u001b[1;32m      9\u001b[0m \u001b[0;34m\u001b[0m\u001b[0m\n\u001b[1;32m     10\u001b[0m \u001b[0mprint\u001b[0m\u001b[0;34m(\u001b[0m\u001b[0mq2_5\u001b[0m\u001b[0;34m)\u001b[0m\u001b[0;34m\u001b[0m\u001b[0m\n",
      "\u001b[0;31mNotImplementedError\u001b[0m: "
     ]
    }
   ],
   "source": [
    "q2_5 = r\"\"\"\n",
    "\n",
    "Put your answer here, replacing this text. Do not take into account the ### YOUR CODE HERE below\n",
    "\n",
    "\"\"\"\n",
    "\n",
    "# YOUR CODE HERE\n",
    "raise NotImplementedError()\n",
    "\n",
    "print(q2_5)"
   ]
  },
  {
   "cell_type": "code",
   "execution_count": null,
   "metadata": {},
   "outputs": [],
   "source": [
    "#assert(store(q2_rquare))== \n",
    "#assert(sotre(q2_beta0))==\n",
    "#assert(sotre(q2_beta1))=="
   ]
  },
  {
   "cell_type": "markdown",
   "metadata": {},
   "source": [
    "## Problem 3\n",
    "\n",
    "### Question 1\n",
    "Make a chart of Cumulative CO2 Emissions from Energy (1850-2007) Rank vs. HDI Rank.\n",
    "\n",
    "Hint: \n",
    "* Order the countries in descending order accoridng to the \"Cumulative CO2 Emissions from Emergy\" variable. \n",
    "* The method `sort` can home handy for this question http://data8.org/datascience/_autosummary/datascience.tables.Table.sort.html#datascience.tables.Table.sort"
   ]
  },
  {
   "cell_type": "code",
   "execution_count": null,
   "metadata": {},
   "outputs": [],
   "source": [
    "# YOUR CHART HERE \n",
    "\n",
    "raise NotImplementedError()"
   ]
  },
  {
   "cell_type": "markdown",
   "metadata": {},
   "source": [
    "### Question 2\n",
    "Find r_squared"
   ]
  },
  {
   "cell_type": "code",
   "execution_count": null,
   "metadata": {},
   "outputs": [],
   "source": [
    "q3_rquare=# YOUR CODE HERE\n",
    "\n",
    "raise NotImplementedError()"
   ]
  },
  {
   "cell_type": "markdown",
   "metadata": {},
   "source": [
    "### Question 3\n",
    "Explain your result in 2-3 sentences."
   ]
  },
  {
   "cell_type": "code",
   "execution_count": null,
   "metadata": {},
   "outputs": [],
   "source": [
    "q3_3 = r\"\"\"\n",
    "\n",
    "Put your answer here, replacing this text. Do not take into account the ### YOUR CODE HERE below\n",
    "\n",
    "\"\"\"\n",
    "\n",
    "# YOUR CODE HERE\n",
    "raise NotImplementedError()\n",
    "\n",
    "print(q3_3)"
   ]
  },
  {
   "cell_type": "code",
   "execution_count": null,
   "metadata": {},
   "outputs": [],
   "source": [
    "#assert(store(q3_rquared))=="
   ]
  },
  {
   "cell_type": "markdown",
   "metadata": {},
   "source": [
    "## Problem 4\n",
    "\n",
    "\n",
    "### Question 1\n",
    "\n",
    "Make a chart of Cumulative CO2 Emissions from Energy (1850-2007) Per Capita Rank vs. HDI Rank. **Make sure to include labels and a regression line. **"
   ]
  },
  {
   "cell_type": "code",
   "execution_count": null,
   "metadata": {},
   "outputs": [],
   "source": [
    "# YOUR CHART HERE \n",
    "\n",
    "raise NotImplementedError()"
   ]
  },
  {
   "cell_type": "markdown",
   "metadata": {},
   "source": [
    "### Question 2\n",
    "\n",
    "Find r_squared."
   ]
  },
  {
   "cell_type": "code",
   "execution_count": null,
   "metadata": {},
   "outputs": [],
   "source": [
    "q4_rquare=# YOUR CODE HERE\n",
    "\n",
    "raise NotImplementedError()"
   ]
  },
  {
   "cell_type": "markdown",
   "metadata": {},
   "source": [
    "### Question 3\n",
    "Explain your result in 2-3 sentences."
   ]
  },
  {
   "cell_type": "code",
   "execution_count": null,
   "metadata": {},
   "outputs": [],
   "source": [
    "q4_3 = r\"\"\"\n",
    "\n",
    "Put your answer here, replacing this text. Do not take into account the ### YOUR CODE HERE below\n",
    "\n",
    "\"\"\"\n",
    "\n",
    "# YOUR CODE HERE\n",
    "raise NotImplementedError()\n",
    "\n",
    "print(q4_3)"
   ]
  },
  {
   "cell_type": "code",
   "execution_count": null,
   "metadata": {},
   "outputs": [],
   "source": [
    "#assert(store(q4_rquare))=="
   ]
  },
  {
   "cell_type": "markdown",
   "metadata": {},
   "source": [
    "## Problem 5\n",
    "\n",
    "Make sure to write the response for q5_a and q5_3 without spaces. For example: `\"Mexico\"` not  `\"Mexico \"`.\n",
    "\n",
    "### Question 1\n",
    "\n",
    "Which country has the highest Total GHG Emissions in 2010?"
   ]
  },
  {
   "cell_type": "code",
   "execution_count": null,
   "metadata": {},
   "outputs": [],
   "source": [
    "# YOUR CODE HERE\n",
    "q5_1= \"\"\n",
    "\n",
    "raise NotImplementedError()"
   ]
  },
  {
   "cell_type": "markdown",
   "metadata": {},
   "source": [
    "### Question 2\n",
    "Where do they rank on the per-capita scale?"
   ]
  },
  {
   "cell_type": "code",
   "execution_count": null,
   "metadata": {},
   "outputs": [],
   "source": [
    "# YOUR CODE HERE\n",
    "q5_2= \n",
    "\n",
    "raise NotImplementedError()"
   ]
  },
  {
   "cell_type": "markdown",
   "metadata": {},
   "source": [
    "### Question 3\n",
    "Which country has the highest per-capita?"
   ]
  },
  {
   "cell_type": "code",
   "execution_count": null,
   "metadata": {},
   "outputs": [],
   "source": [
    "# YOUR CODE HERE\n",
    "q5_3= \"\"\n",
    "\n",
    "raise NotImplementedError()"
   ]
  },
  {
   "cell_type": "markdown",
   "metadata": {},
   "source": [
    "### Question 4\n",
    "Explain the results above in 2-3 sentences."
   ]
  },
  {
   "cell_type": "code",
   "execution_count": null,
   "metadata": {},
   "outputs": [],
   "source": [
    "# YOUR CODE HERE\n",
    "q5_4 = r\"\"\"\n",
    "\n",
    "Put your answer here, replacing this text. Do not take into account the ### YOUR CODE HERE below\n",
    "\n",
    "\"\"\"\n",
    "\n",
    "\n",
    "raise NotImplementedError()\n",
    "\n",
    "print(q5_4)"
   ]
  },
  {
   "cell_type": "code",
   "execution_count": null,
   "metadata": {},
   "outputs": [],
   "source": [
    "assert(store(q5_1.lower())=='8a7d7ba288ca0f0ea1ecf975b026e8e1'\n",
    "assert(store(q5_2))== 'a3f390d88e4c41f2747bfa2f1b5f87db'\n",
    "assert(store(q5_3.lower())== 'b18fa0d42ad9b3706237ef5b02434829'"
   ]
  },
  {
   "cell_type": "markdown",
   "metadata": {},
   "source": [
    "## Problem 6\n",
    "Make sure to write the response for Question 1 and Question 2 without spaces. For example: `\"Mexico\"` not  `\"Mexico \"`.\n",
    "\n",
    "\n",
    "### Question 1\n",
    "Which country has the highest “Footprint of all goods and services consumed”? "
   ]
  },
  {
   "cell_type": "code",
   "execution_count": null,
   "metadata": {},
   "outputs": [],
   "source": [
    "# YOUR CODE HERE\n",
    "q6_1= \"\"\n",
    "\n",
    "raise NotImplementedError()"
   ]
  },
  {
   "cell_type": "markdown",
   "metadata": {},
   "source": [
    "### Question 2\n",
    "Which has the highest per-capita?"
   ]
  },
  {
   "cell_type": "code",
   "execution_count": null,
   "metadata": {},
   "outputs": [],
   "source": [
    "# YOUR CODE HERE\n",
    "q6_2= \"\"\n",
    "\n",
    "raise NotImplementedError()"
   ]
  },
  {
   "cell_type": "markdown",
   "metadata": {},
   "source": [
    "### Question 3\n",
    "Explain the results above in 2-3 sentences."
   ]
  },
  {
   "cell_type": "code",
   "execution_count": null,
   "metadata": {},
   "outputs": [],
   "source": [
    "q6_3 = r\"\"\"\n",
    "\n",
    "Put your answer here, replacing this text. Do not take into account the ### YOUR CODE HERE below\n",
    "\n",
    "\"\"\"\n",
    "\n",
    "# YOUR CODE HERE\n",
    "raise NotImplementedError()\n",
    "\n",
    "print(q6_3)"
   ]
  },
  {
   "cell_type": "code",
   "execution_count": null,
   "metadata": {},
   "outputs": [],
   "source": [
    "assert(store(q6_1.lower()) in ['ade6b3bd5e720abb20ed8a9a4c6b9ae8','ada53304c5b9e4a839615b6e8f908eb6','152649df347ee2891a9eacc883e07d17']\n",
    "assert(store(q6_2.lower()) == '458e4cbc78201c1aec5fc53a31c59378'"
   ]
  },
  {
   "cell_type": "markdown",
   "metadata": {},
   "source": [
    "## Problem 7\n",
    "\n",
    "* Go to www.gapminder.org/tools. Create an animated graph that tells you something interesting about climate change (CO2 Emissions should be on one axis). \n",
    "    * Note you can change an axis by clicking on the axis label and selecting a new measure from the various options. \n",
    "    \n",
    "* Use the print tool(or schreenshots) to create an image of **one year** (be careful – sometimes the most recent data doesn’t include many countries, so take a screenshot that includes most of the world) and include that with your assignment. \n",
    "\n",
    "* **Explain your results**\n",
    "\n",
    "Now, we are going to add the image you just created to this notebook. First, we'll need to upload the screenshots into your datahub. To do this, click the upload button on the top right-hand corner of the datahub file browser. Then select your files and upload them to datahub. \n",
    "![Demo](images/demo.png)\n",
    "Once both images have been uploaded, you can display them below by replacing the \"...\" with the filenames.png. Make sure to give it an appropriate and descriptive title."
   ]
  },
  {
   "cell_type": "markdown",
   "metadata": {},
   "source": [
    "###### To display the graph (double click on this cell)\n",
    "\n",
    "**Graph Title**\n",
    "![Graph](...)\n"
   ]
  },
  {
   "cell_type": "code",
   "execution_count": null,
   "metadata": {},
   "outputs": [],
   "source": [
    "q7 = r\"\"\"\n",
    "\n",
    "Put your answer here, replacing this text. Do not take into account the ### YOUR CODE HERE below\n",
    "\n",
    "\"\"\"\n",
    "\n",
    "# YOUR CODE HERE\n",
    "raise NotImplementedError()\n",
    "\n",
    "print(q7)"
   ]
  },
  {
   "cell_type": "markdown",
   "metadata": {},
   "source": [
    "## Problem 8\n",
    "\n",
    "Reflect on your findings.\n",
    "\n",
    "\n",
    "### Question 1\n",
    "Do you think per-capita or total national emissions are the more appropriate way to do carbon accounting, and why?"
   ]
  },
  {
   "cell_type": "code",
   "execution_count": null,
   "metadata": {},
   "outputs": [],
   "source": [
    "# YOUR CODE HERE\n",
    "q8a_1 = r\"\"\"\n",
    "\n",
    "Put your answer here, replacing this text. Do not take into account the ### YOUR CODE HERE below\n",
    "\n",
    "\"\"\"\n",
    "\n",
    "raise NotImplementedError()\n",
    "\n",
    "print(q8a_1)"
   ]
  },
  {
   "cell_type": "markdown",
   "metadata": {},
   "source": [
    "### Question 2\n",
    "Do you think accounting should be based on what a country emits within its boundaries, or what a country consumes, including emissions from the production of goods elsewhere?"
   ]
  },
  {
   "cell_type": "code",
   "execution_count": null,
   "metadata": {},
   "outputs": [],
   "source": [
    "# YOUR CODE HERE\n",
    "q8_2 = r\"\"\"\n",
    "\n",
    "Put your answer here, replacing this text. Do not take into account the ### YOUR CODE HERE below\n",
    "\n",
    "\"\"\"\n",
    "\n",
    "raise NotImplementedError()\n",
    "\n",
    "print(q8_2)"
   ]
  },
  {
   "cell_type": "markdown",
   "metadata": {},
   "source": [
    "### Question 3\n",
    "\n",
    "Do you think countries should reduce their emissions in proportion to \n",
    "\n",
    "a) their past emissions\n",
    "\n",
    "b) their level of development & capacity to reduce\n",
    "\n",
    "c) the degree to which they will be impacted by climate change\n",
    "\n",
    "d) a combination of these, or something else (explain)"
   ]
  },
  {
   "cell_type": "code",
   "execution_count": 29,
   "metadata": {},
   "outputs": [
    {
     "ename": "NotImplementedError",
     "evalue": "",
     "output_type": "error",
     "traceback": [
      "\u001b[0;31m---------------------------------------------------------------------------\u001b[0m",
      "\u001b[0;31mNotImplementedError\u001b[0m                       Traceback (most recent call last)",
      "\u001b[0;32m<ipython-input-29-efa50fa7feb3>\u001b[0m in \u001b[0;36m<module>\u001b[0;34m\u001b[0m\n\u001b[1;32m      6\u001b[0m \"\"\"\n\u001b[1;32m      7\u001b[0m \u001b[0;34m\u001b[0m\u001b[0m\n\u001b[0;32m----> 8\u001b[0;31m \u001b[0;32mraise\u001b[0m \u001b[0mNotImplementedError\u001b[0m\u001b[0;34m(\u001b[0m\u001b[0;34m)\u001b[0m\u001b[0;34m\u001b[0m\u001b[0m\n\u001b[0m\u001b[1;32m      9\u001b[0m \u001b[0;34m\u001b[0m\u001b[0m\n\u001b[1;32m     10\u001b[0m \u001b[0mprint\u001b[0m\u001b[0;34m(\u001b[0m\u001b[0mq8_3\u001b[0m\u001b[0;34m)\u001b[0m\u001b[0;34m\u001b[0m\u001b[0m\n",
      "\u001b[0;31mNotImplementedError\u001b[0m: "
     ]
    }
   ],
   "source": [
    "# YOUR CODE HERE\n",
    "q8_3 = r\"\"\"\n",
    "\n",
    "Put your answer here, replacing this text. Do not take into account the ### YOUR CODE HERE below\n",
    "\n",
    "\"\"\"\n",
    "\n",
    "raise NotImplementedError()\n",
    "\n",
    "print(q8_3)"
   ]
  },
  {
   "cell_type": "markdown",
   "metadata": {},
   "source": [
    "## Final Survey <a id='section7'></a>\n",
    "\n",
    "Congrats! You've finished the final Jupyter Notebook assignment! The Division of Data Sciences and Information would like to ask you to please fill this survey out as a part of your assignment. We would like to improve the module for future semesters, and would really appreciate it if you took the time to fill this out so we can better serve you!\n",
    "\n",
    "Please make sure you are logged into your Berkeley (.edu) email address to access the form.\n",
    "### [Survey Link](https://goo.gl/forms/FqSRIYCzAAOfZ5Bv2)\n",
    "\n",
    "Alternatively, please copy and paste this link into your URL bar: https://goo.gl/forms/FqSRIYCzAAOfZ5Bv2"
   ]
  },
  {
   "cell_type": "markdown",
   "metadata": {},
   "source": [
    "## Saving the Notebook as an HTML\n",
    "Congrats on finishing your final notebook! As usual, you will be submitting this notebook as an HTML file. To turn in this lab assignment follow the steps below:\n",
    "\n",
    "1. In the toolbar above, click on File &rarr; Download as &rarr; HTML\n",
    "2. The file should have been saved in an HTML format in your downloads folder.\n",
    "3. Click to open in a web browser of your choice to make sure that everything looks okay."
   ]
  },
  {
   "cell_type": "code",
   "execution_count": null,
   "metadata": {},
   "outputs": [],
   "source": []
  }
 ],
 "metadata": {
  "kernelspec": {
   "display_name": "Python 3",
   "language": "python",
   "name": "python3"
  },
  "language_info": {
   "codemirror_mode": {
    "name": "ipython",
    "version": 3
   },
   "file_extension": ".py",
   "mimetype": "text/x-python",
   "name": "python",
   "nbconvert_exporter": "python",
   "pygments_lexer": "ipython3",
   "version": "3.6.6"
  }
 },
 "nbformat": 4,
 "nbformat_minor": 2
}

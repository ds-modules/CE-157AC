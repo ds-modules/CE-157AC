{
 "cells": [
  {
   "cell_type": "code",
   "execution_count": 9,
   "metadata": {},
   "outputs": [],
   "source": [
    "import matplotlib\n",
    "matplotlib.use('Agg')\n",
    "%matplotlib inline\n",
    "import matplotlib.pyplot as plt\n",
    "from datascience import *\n",
    "import numpy as np"
   ]
  },
  {
   "cell_type": "code",
   "execution_count": 10,
   "metadata": {},
   "outputs": [],
   "source": [
    "temp = Table.read_table(\"ProblemSet3Data.csv\").relabeled('Unnamed: 0', 'Countries')\n",
    "problem_set = Table()\n",
    "for name in temp.labels:\n",
    "    if name == 'Population 2010' or name == 'Historical Emissions A\\nCumulative CO2 emissions from energy, 1850–2007 (million tonnes)':\n",
    "        array = make_array()\n",
    "        for entry in temp.column(name):\n",
    "            array = np.append(array, float(entry.replace(\",\",\"\")))\n",
    "        problem_set = problem_set.with_column(name, array)#temp.apply(lambda x: float(x.replace(',', '')), column_name))\n",
    "    else:\n",
    "        problem_set = problem_set.with_column(name, temp.column(name))"
   ]
  },
  {
   "cell_type": "code",
   "execution_count": 11,
   "metadata": {},
   "outputs": [],
   "source": [
    "old_names = ['Countries', 'co2_emissions', 'ghg_emissions', 'ghg_2010 emissions', 'co2_2011_emissions', 'change_1971_2011', 'change_1990_2011', 'total_footprint', 'pop_2010', 'gdp_ppp_2010', 'hdi_2011', 'hdi_change_1990_2011', 'gender_inequality_2012', 'maternal_2010']\n",
    "new_names = ['countries', 'co2_cummulative', 'ghg_cummulative', 'ghg_2010', 'co2_2011', 'change_1971_2011', 'change_1990_2011', 'total_footprint', 'pop_2010', 'gdp_ppp_2010', 'hdi_2011', 'hdi_change_1990_2011', 'gender_inequality_2012', 'maternal_2010']"
   ]
  },
  {
   "cell_type": "code",
   "execution_count": 12,
   "metadata": {},
   "outputs": [
    {
     "data": {
      "text/html": [
       "<table border=\"1\" class=\"dataframe\">\n",
       "    <thead>\n",
       "        <tr>\n",
       "            <th>countries</th> <th>co2_cummulative</th> <th>ghg_cummulative</th> <th>ghg_2010</th> <th>co2_2011</th> <th>change_1971_2011</th> <th>change_1990_2011</th> <th>total_footprint</th> <th>pop_2010</th> <th>gdp_ppp_2010</th> <th>hdi_2011</th> <th>hdi_change_1990_2011</th> <th>gender_inequality_2012</th> <th>maternal_2010</th>\n",
       "        </tr>\n",
       "    </thead>\n",
       "    <tbody>\n",
       "        <tr>\n",
       "            <td>Afghanistan      </td> <td>72.4           </td> <td>349.34         </td> <td>24.94   </td> <td>nan     </td> <td>nan             </td> <td>nan             </td> <td>nan            </td> <td>28,397,812</td> <td>33596       </td> <td>0.371   </td> <td>50.81               </td> <td>0.712                 </td> <td>460          </td>\n",
       "        </tr>\n",
       "        <tr>\n",
       "            <td>Albania          </td> <td>227.9          </td> <td>143.81         </td> <td>6.57    </td> <td>  3.9   </td> <td>-0.3            </td> <td>-38             </td> <td>5.4            </td> <td>3,150,143 </td> <td>24545       </td> <td>0.748   </td> <td>13.16               </td> <td>0.251                 </td> <td>27           </td>\n",
       "        </tr>\n",
       "        <tr>\n",
       "            <td>Algeria          </td> <td>2,272.40       </td> <td>2618.81        </td> <td>169.42  </td> <td>  103.9 </td> <td>1064.8          </td> <td>97              </td> <td>nan            </td> <td>37,062,820</td> <td>269075      </td> <td>0.711   </td> <td>26.51               </td> <td>0.391                 </td> <td>97           </td>\n",
       "        </tr>\n",
       "        <tr>\n",
       "            <td>Angola           </td> <td>305.3          </td> <td>3300.97        </td> <td>219.84  </td> <td>  15.7  </td> <td>845.5           </td> <td>292             </td> <td>nan            </td> <td>19,549,124</td> <td>98686       </td> <td>0.504   </td> <td>nan                 </td> <td>nan                   </td> <td>450          </td>\n",
       "        </tr>\n",
       "        <tr>\n",
       "            <td>Antigua & Barbuda</td> <td>16.6           </td> <td>14.17          </td> <td>1.2     </td> <td>nan     </td> <td>nan             </td> <td>nan             </td> <td>nan            </td> <td>87,233    </td> <td>1541        </td> <td>0.759   </td> <td>nan                 </td> <td>nan                   </td> <td>nan          </td>\n",
       "        </tr>\n",
       "        <tr>\n",
       "            <td>Argentina        </td> <td>5,894.80       </td> <td>6308.23        </td> <td>359.01  </td> <td>  183.6 </td> <td>121.8           </td> <td>83.8            </td> <td>165.5          </td> <td>40,374,224</td> <td>580427      </td> <td>0.81    </td> <td>15.55               </td> <td>0.38                  </td> <td>77           </td>\n",
       "        </tr>\n",
       "        <tr>\n",
       "            <td>Armenia          </td> <td>505.6          </td> <td>183.45         </td> <td>13.43   </td> <td>  4.7   </td> <td>nan             </td> <td>-77.2           </td> <td>6              </td> <td>2,963,496 </td> <td>15153       </td> <td>0.726   </td> <td>15.61               </td> <td>0.34                  </td> <td>30           </td>\n",
       "        </tr>\n",
       "        <tr>\n",
       "            <td>Australia        </td> <td>13,108.50      </td> <td>10252.5        </td> <td>587.53  </td> <td>  396.8 </td> <td>175.3           </td> <td>52.6            </td> <td>297            </td> <td>22,065,300</td> <td>763921      </td> <td>0.936   </td> <td>6.36                </td> <td>0.115                 </td> <td>7            </td>\n",
       "        </tr>\n",
       "        <tr>\n",
       "            <td>Austria          </td> <td>4,541.90       </td> <td>1712.92        </td> <td>84.28   </td> <td>  68.5  </td> <td>40.6            </td> <td>21.4            </td> <td>99.8           </td> <td>8,389,771 </td> <td>296268      </td> <td>0.894   </td> <td>12.17               </td> <td>0.102                 </td> <td>4            </td>\n",
       "        </tr>\n",
       "        <tr>\n",
       "            <td>Azerbaijan       </td> <td>2,323.70       </td> <td>1218.83        </td> <td>64.21   </td> <td>  26.8  </td> <td>nan             </td> <td>-51.3           </td> <td>30.3           </td> <td>9,054,332 </td> <td>80696       </td> <td>0.732   </td> <td>nan                 </td> <td>0.323                 </td> <td>43           </td>\n",
       "        </tr>\n",
       "    </tbody>\n",
       "</table>\n",
       "<p>... (176 rows omitted)</p>"
      ],
      "text/plain": [
       "countries         | co2_cummulative | ghg_cummulative | ghg_2010 | co2_2011 | change_1971_2011 | change_1990_2011 | total_footprint | pop_2010   | gdp_ppp_2010 | hdi_2011 | hdi_change_1990_2011 | gender_inequality_2012 | maternal_2010\n",
       "Afghanistan       | 72.4            | 349.34          | 24.94    | nan      | nan              | nan              | nan             | 28,397,812 | 33596        | 0.371    | 50.81                | 0.712                  | 460\n",
       "Albania           | 227.9           | 143.81          | 6.57     |   3.9    | -0.3             | -38              | 5.4             | 3,150,143  | 24545        | 0.748    | 13.16                | 0.251                  | 27\n",
       "Algeria           | 2,272.40        | 2618.81         | 169.42   |   103.9  | 1064.8           | 97               | nan             | 37,062,820 | 269075       | 0.711    | 26.51                | 0.391                  | 97\n",
       "Angola            | 305.3           | 3300.97         | 219.84   |   15.7   | 845.5            | 292              | nan             | 19,549,124 | 98686        | 0.504    | nan                  | nan                    | 450\n",
       "Antigua & Barbuda | 16.6            | 14.17           | 1.2      | nan      | nan              | nan              | nan             | 87,233     | 1541         | 0.759    | nan                  | nan                    | nan\n",
       "Argentina         | 5,894.80        | 6308.23         | 359.01   |   183.6  | 121.8            | 83.8             | 165.5           | 40,374,224 | 580427       | 0.81     | 15.55                | 0.38                   | 77\n",
       "Armenia           | 505.6           | 183.45          | 13.43    |   4.7    | nan              | -77.2            | 6               | 2,963,496  | 15153        | 0.726    | 15.61                | 0.34                   | 30\n",
       "Australia         | 13,108.50       | 10252.5         | 587.53   |   396.8  | 175.3            | 52.6             | 297             | 22,065,300 | 763921       | 0.936    | 6.36                 | 0.115                  | 7\n",
       "Austria           | 4,541.90        | 1712.92         | 84.28    |   68.5   | 40.6             | 21.4             | 99.8            | 8,389,771  | 296268       | 0.894    | 12.17                | 0.102                  | 4\n",
       "Azerbaijan        | 2,323.70        | 1218.83         | 64.21    |   26.8   | nan              | -51.3            | 30.3            | 9,054,332  | 80696        | 0.732    | nan                  | 0.323                  | 43\n",
       "... (176 rows omitted)"
      ]
     },
     "execution_count": 12,
     "metadata": {},
     "output_type": "execute_result"
    }
   ],
   "source": [
    "problem_set.relabel(old_names,new_names)"
   ]
  },
  {
   "cell_type": "code",
   "execution_count": 13,
   "metadata": {},
   "outputs": [
    {
     "data": {
      "text/html": [
       "<table border=\"1\" class=\"dataframe\">\n",
       "    <thead>\n",
       "        <tr>\n",
       "            <th>countries</th> <th>co2_cummulative</th> <th>ghg_cummulative</th> <th>ghg_2010</th> <th>co2_2011</th> <th>change_1971_2011</th> <th>change_1990_2011</th> <th>total_footprint</th> <th>pop_2010</th> <th>gdp_ppp_2010</th> <th>hdi_2011</th> <th>hdi_change_1990_2011</th> <th>gender_inequality_2012</th> <th>maternal_2010</th>\n",
       "        </tr>\n",
       "    </thead>\n",
       "    <tbody>\n",
       "        <tr>\n",
       "            <td>Afghanistan      </td> <td>72.4           </td> <td>349.34         </td> <td>24.94   </td> <td>nan     </td> <td>nan             </td> <td>nan             </td> <td>nan            </td> <td>28,397,812</td> <td>33596       </td> <td>0.371   </td> <td>50.81               </td> <td>0.712                 </td> <td>460          </td>\n",
       "        </tr>\n",
       "        <tr>\n",
       "            <td>Albania          </td> <td>227.9          </td> <td>143.81         </td> <td>6.57    </td> <td>  3.9   </td> <td>-0.3            </td> <td>-38             </td> <td>5.4            </td> <td>3,150,143 </td> <td>24545       </td> <td>0.748   </td> <td>13.16               </td> <td>0.251                 </td> <td>27           </td>\n",
       "        </tr>\n",
       "        <tr>\n",
       "            <td>Algeria          </td> <td>2,272.40       </td> <td>2618.81        </td> <td>169.42  </td> <td>  103.9 </td> <td>1064.8          </td> <td>97              </td> <td>nan            </td> <td>37,062,820</td> <td>269075      </td> <td>0.711   </td> <td>26.51               </td> <td>0.391                 </td> <td>97           </td>\n",
       "        </tr>\n",
       "        <tr>\n",
       "            <td>Angola           </td> <td>305.3          </td> <td>3300.97        </td> <td>219.84  </td> <td>  15.7  </td> <td>845.5           </td> <td>292             </td> <td>nan            </td> <td>19,549,124</td> <td>98686       </td> <td>0.504   </td> <td>nan                 </td> <td>nan                   </td> <td>450          </td>\n",
       "        </tr>\n",
       "        <tr>\n",
       "            <td>Antigua & Barbuda</td> <td>16.6           </td> <td>14.17          </td> <td>1.2     </td> <td>nan     </td> <td>nan             </td> <td>nan             </td> <td>nan            </td> <td>87,233    </td> <td>1541        </td> <td>0.759   </td> <td>nan                 </td> <td>nan                   </td> <td>nan          </td>\n",
       "        </tr>\n",
       "        <tr>\n",
       "            <td>Argentina        </td> <td>5,894.80       </td> <td>6308.23        </td> <td>359.01  </td> <td>  183.6 </td> <td>121.8           </td> <td>83.8            </td> <td>165.5          </td> <td>40,374,224</td> <td>580427      </td> <td>0.81    </td> <td>15.55               </td> <td>0.38                  </td> <td>77           </td>\n",
       "        </tr>\n",
       "        <tr>\n",
       "            <td>Armenia          </td> <td>505.6          </td> <td>183.45         </td> <td>13.43   </td> <td>  4.7   </td> <td>nan             </td> <td>-77.2           </td> <td>6              </td> <td>2,963,496 </td> <td>15153       </td> <td>0.726   </td> <td>15.61               </td> <td>0.34                  </td> <td>30           </td>\n",
       "        </tr>\n",
       "        <tr>\n",
       "            <td>Australia        </td> <td>13,108.50      </td> <td>10252.5        </td> <td>587.53  </td> <td>  396.8 </td> <td>175.3           </td> <td>52.6            </td> <td>297            </td> <td>22,065,300</td> <td>763921      </td> <td>0.936   </td> <td>6.36                </td> <td>0.115                 </td> <td>7            </td>\n",
       "        </tr>\n",
       "        <tr>\n",
       "            <td>Austria          </td> <td>4,541.90       </td> <td>1712.92        </td> <td>84.28   </td> <td>  68.5  </td> <td>40.6            </td> <td>21.4            </td> <td>99.8           </td> <td>8,389,771 </td> <td>296268      </td> <td>0.894   </td> <td>12.17               </td> <td>0.102                 </td> <td>4            </td>\n",
       "        </tr>\n",
       "        <tr>\n",
       "            <td>Azerbaijan       </td> <td>2,323.70       </td> <td>1218.83        </td> <td>64.21   </td> <td>  26.8  </td> <td>nan             </td> <td>-51.3           </td> <td>30.3           </td> <td>9,054,332 </td> <td>80696       </td> <td>0.732   </td> <td>nan                 </td> <td>0.323                 </td> <td>43           </td>\n",
       "        </tr>\n",
       "    </tbody>\n",
       "</table>\n",
       "<p>... (176 rows omitted)</p>"
      ],
      "text/plain": [
       "countries         | co2_cummulative | ghg_cummulative | ghg_2010 | co2_2011 | change_1971_2011 | change_1990_2011 | total_footprint | pop_2010   | gdp_ppp_2010 | hdi_2011 | hdi_change_1990_2011 | gender_inequality_2012 | maternal_2010\n",
       "Afghanistan       | 72.4            | 349.34          | 24.94    | nan      | nan              | nan              | nan             | 28,397,812 | 33596        | 0.371    | 50.81                | 0.712                  | 460\n",
       "Albania           | 227.9           | 143.81          | 6.57     |   3.9    | -0.3             | -38              | 5.4             | 3,150,143  | 24545        | 0.748    | 13.16                | 0.251                  | 27\n",
       "Algeria           | 2,272.40        | 2618.81         | 169.42   |   103.9  | 1064.8           | 97               | nan             | 37,062,820 | 269075       | 0.711    | 26.51                | 0.391                  | 97\n",
       "Angola            | 305.3           | 3300.97         | 219.84   |   15.7   | 845.5            | 292              | nan             | 19,549,124 | 98686        | 0.504    | nan                  | nan                    | 450\n",
       "Antigua & Barbuda | 16.6            | 14.17           | 1.2      | nan      | nan              | nan              | nan             | 87,233     | 1541         | 0.759    | nan                  | nan                    | nan\n",
       "Argentina         | 5,894.80        | 6308.23         | 359.01   |   183.6  | 121.8            | 83.8             | 165.5           | 40,374,224 | 580427       | 0.81     | 15.55                | 0.38                   | 77\n",
       "Armenia           | 505.6           | 183.45          | 13.43    |   4.7    | nan              | -77.2            | 6               | 2,963,496  | 15153        | 0.726    | 15.61                | 0.34                   | 30\n",
       "Australia         | 13,108.50       | 10252.5         | 587.53   |   396.8  | 175.3            | 52.6             | 297             | 22,065,300 | 763921       | 0.936    | 6.36                 | 0.115                  | 7\n",
       "Austria           | 4,541.90        | 1712.92         | 84.28    |   68.5   | 40.6             | 21.4             | 99.8            | 8,389,771  | 296268       | 0.894    | 12.17                | 0.102                  | 4\n",
       "Azerbaijan        | 2,323.70        | 1218.83         | 64.21    |   26.8   | nan              | -51.3            | 30.3            | 9,054,332  | 80696        | 0.732    | nan                  | 0.323                  | 43\n",
       "... (176 rows omitted)"
      ]
     },
     "execution_count": 13,
     "metadata": {},
     "output_type": "execute_result"
    }
   ],
   "source": [
    "problem_set"
   ]
  },
  {
   "cell_type": "code",
   "execution_count": 19,
   "metadata": {},
   "outputs": [],
   "source": [
    "#problem_set.to_df().to_csv('problem_set.csv', index = False)"
   ]
  }
 ],
 "metadata": {
  "kernelspec": {
   "display_name": "Python 3",
   "language": "python",
   "name": "python3"
  },
  "language_info": {
   "codemirror_mode": {
    "name": "ipython",
    "version": 3
   },
   "file_extension": ".py",
   "mimetype": "text/x-python",
   "name": "python",
   "nbconvert_exporter": "python",
   "pygments_lexer": "ipython3",
   "version": "3.6.6"
  }
 },
 "nbformat": 4,
 "nbformat_minor": 2
}

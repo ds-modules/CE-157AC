{
 "cells": [
  {
   "cell_type": "markdown",
   "metadata": {},
   "source": [
    "# CE-157 Problem Set 3\n",
    "\n",
    "Run the cell below and continue onwards! It is just needed to run the initial code needed to run the rest of the functions in this problem set."
   ]
  },
  {
   "cell_type": "code",
   "execution_count": 17,
   "metadata": {},
   "outputs": [
    {
     "ename": "AttributeError",
     "evalue": "module 'datascience' has no attribute 'formats'",
     "output_type": "error",
     "traceback": [
      "\u001b[0;31m---------------------------------------------------------------------------\u001b[0m",
      "\u001b[0;31mAttributeError\u001b[0m                            Traceback (most recent call last)",
      "\u001b[0;32m<ipython-input-17-7aab36ef8ee0>\u001b[0m in \u001b[0;36m<module>\u001b[0;34m\u001b[0m\n\u001b[1;32m      3\u001b[0m \u001b[0mget_ipython\u001b[0m\u001b[0;34m(\u001b[0m\u001b[0;34m)\u001b[0m\u001b[0;34m.\u001b[0m\u001b[0mrun_line_magic\u001b[0m\u001b[0;34m(\u001b[0m\u001b[0;34m'matplotlib'\u001b[0m\u001b[0;34m,\u001b[0m \u001b[0;34m'inline'\u001b[0m\u001b[0;34m)\u001b[0m\u001b[0;34m\u001b[0m\u001b[0m\n\u001b[1;32m      4\u001b[0m \u001b[0;32mimport\u001b[0m \u001b[0mmatplotlib\u001b[0m\u001b[0;34m.\u001b[0m\u001b[0mpyplot\u001b[0m \u001b[0;32mas\u001b[0m \u001b[0mplt\u001b[0m\u001b[0;34m\u001b[0m\u001b[0m\n\u001b[0;32m----> 5\u001b[0;31m \u001b[0;32mfrom\u001b[0m \u001b[0mdatascience\u001b[0m \u001b[0;32mimport\u001b[0m \u001b[0;34m*\u001b[0m\u001b[0;34m\u001b[0m\u001b[0m\n\u001b[0m\u001b[1;32m      6\u001b[0m \u001b[0;32mimport\u001b[0m \u001b[0mnumpy\u001b[0m \u001b[0;32mas\u001b[0m \u001b[0mnp\u001b[0m\u001b[0;34m\u001b[0m\u001b[0m\n",
      "\u001b[0;32m~/anaconda3/lib/python3.6/site-packages/datascience/__init__.py\u001b[0m in \u001b[0;36m<module>\u001b[0;34m\u001b[0m\n\u001b[1;32m      1\u001b[0m \u001b[0;32mfrom\u001b[0m \u001b[0;34m.\u001b[0m\u001b[0mversion\u001b[0m \u001b[0;32mimport\u001b[0m \u001b[0m__version__\u001b[0m\u001b[0;34m\u001b[0m\u001b[0m\n\u001b[1;32m      2\u001b[0m \u001b[0;34m\u001b[0m\u001b[0m\n\u001b[0;32m----> 3\u001b[0;31m \u001b[0;32mfrom\u001b[0m \u001b[0;34m.\u001b[0m\u001b[0mtables\u001b[0m \u001b[0;32mimport\u001b[0m \u001b[0;34m*\u001b[0m\u001b[0;34m\u001b[0m\u001b[0m\n\u001b[0m\u001b[1;32m      4\u001b[0m \u001b[0;32mfrom\u001b[0m \u001b[0;34m.\u001b[0m\u001b[0mformats\u001b[0m \u001b[0;32mimport\u001b[0m \u001b[0;34m*\u001b[0m\u001b[0;34m\u001b[0m\u001b[0m\n\u001b[1;32m      5\u001b[0m \u001b[0;32mfrom\u001b[0m \u001b[0;34m.\u001b[0m\u001b[0mmaps\u001b[0m \u001b[0;32mimport\u001b[0m \u001b[0;34m*\u001b[0m\u001b[0;34m\u001b[0m\u001b[0m\n",
      "\u001b[0;32m~/anaconda3/lib/python3.6/site-packages/datascience/tables.py\u001b[0m in \u001b[0;36m<module>\u001b[0;34m\u001b[0m\n\u001b[1;32m     20\u001b[0m \u001b[0;32mimport\u001b[0m \u001b[0mIPython\u001b[0m\u001b[0;34m\u001b[0m\u001b[0m\n\u001b[1;32m     21\u001b[0m \u001b[0;34m\u001b[0m\u001b[0m\n\u001b[0;32m---> 22\u001b[0;31m \u001b[0;32mimport\u001b[0m \u001b[0mdatascience\u001b[0m\u001b[0;34m.\u001b[0m\u001b[0mformats\u001b[0m \u001b[0;32mas\u001b[0m \u001b[0m_formats\u001b[0m\u001b[0;34m\u001b[0m\u001b[0m\n\u001b[0m\u001b[1;32m     23\u001b[0m \u001b[0;32mimport\u001b[0m \u001b[0mdatascience\u001b[0m\u001b[0;34m.\u001b[0m\u001b[0mutil\u001b[0m \u001b[0;32mas\u001b[0m \u001b[0m_util\u001b[0m\u001b[0;34m\u001b[0m\u001b[0m\n\u001b[1;32m     24\u001b[0m \u001b[0;32mfrom\u001b[0m \u001b[0mdatascience\u001b[0m\u001b[0;34m.\u001b[0m\u001b[0mutil\u001b[0m \u001b[0;32mimport\u001b[0m \u001b[0mmake_array\u001b[0m\u001b[0;34m\u001b[0m\u001b[0m\n",
      "\u001b[0;31mAttributeError\u001b[0m: module 'datascience' has no attribute 'formats'"
     ]
    }
   ],
   "source": [
    "import matplotlib\n",
    "matplotlib.use('Agg')\n",
    "%matplotlib inline\n",
    "import matplotlib.pyplot as plt\n",
    "from datascience import *\n",
    "import numpy as np"
   ]
  },
  {
   "cell_type": "markdown",
   "metadata": {},
   "source": [
    "# Delete- information is on DataFrame  notebook"
   ]
  },
  {
   "cell_type": "code",
   "execution_count": 14,
   "metadata": {},
   "outputs": [
    {
     "ename": "NameError",
     "evalue": "name 'Table' is not defined",
     "output_type": "error",
     "traceback": [
      "\u001b[0;31m---------------------------------------------------------------------------\u001b[0m",
      "\u001b[0;31mNameError\u001b[0m                                 Traceback (most recent call last)",
      "\u001b[0;32m<ipython-input-14-ad52af84a571>\u001b[0m in \u001b[0;36m<module>\u001b[0;34m\u001b[0m\n\u001b[0;32m----> 1\u001b[0;31m \u001b[0mtemp\u001b[0m \u001b[0;34m=\u001b[0m \u001b[0mTable\u001b[0m\u001b[0;34m.\u001b[0m\u001b[0mread_table\u001b[0m\u001b[0;34m(\u001b[0m\u001b[0;34m\"ProblemSet3Data.csv\"\u001b[0m\u001b[0;34m)\u001b[0m\u001b[0;34m.\u001b[0m\u001b[0mrelabeled\u001b[0m\u001b[0;34m(\u001b[0m\u001b[0;34m'Unnamed: 0'\u001b[0m\u001b[0;34m,\u001b[0m \u001b[0;34m'Countries'\u001b[0m\u001b[0;34m)\u001b[0m\u001b[0;34m\u001b[0m\u001b[0m\n\u001b[0m\u001b[1;32m      2\u001b[0m \u001b[0mproblem_set\u001b[0m \u001b[0;34m=\u001b[0m \u001b[0mTable\u001b[0m\u001b[0;34m(\u001b[0m\u001b[0;34m)\u001b[0m\u001b[0;34m\u001b[0m\u001b[0m\n\u001b[1;32m      3\u001b[0m \u001b[0;32mfor\u001b[0m \u001b[0mname\u001b[0m \u001b[0;32min\u001b[0m \u001b[0mtemp\u001b[0m\u001b[0;34m.\u001b[0m\u001b[0mlabels\u001b[0m\u001b[0;34m:\u001b[0m\u001b[0;34m\u001b[0m\u001b[0m\n\u001b[1;32m      4\u001b[0m     \u001b[0;32mif\u001b[0m \u001b[0mname\u001b[0m \u001b[0;34m==\u001b[0m \u001b[0;34m'Population 2010'\u001b[0m \u001b[0;32mor\u001b[0m \u001b[0mname\u001b[0m \u001b[0;34m==\u001b[0m \u001b[0;34m'Historical Emissions A\\nCumulative CO2 emissions from energy, 1850–2007 (million tonnes)'\u001b[0m\u001b[0;34m:\u001b[0m\u001b[0;34m\u001b[0m\u001b[0m\n\u001b[1;32m      5\u001b[0m         \u001b[0marray\u001b[0m \u001b[0;34m=\u001b[0m \u001b[0mmake_array\u001b[0m\u001b[0;34m(\u001b[0m\u001b[0;34m)\u001b[0m\u001b[0;34m\u001b[0m\u001b[0m\n",
      "\u001b[0;31mNameError\u001b[0m: name 'Table' is not defined"
     ]
    }
   ],
   "source": [
    "temp = Table.read_table(\"ProblemSet3Data.csv\").relabeled('Unnamed: 0', 'Countries')\n",
    "problem_set = Table()\n",
    "for name in temp.labels:\n",
    "    if name == 'Population 2010' or name == 'Historical Emissions A\\nCumulative CO2 emissions from energy, 1850–2007 (million tonnes)':\n",
    "        array = make_array()\n",
    "        for entry in temp.column(name):\n",
    "            array = np.append(array, float(entry.replace(\",\",\"\")))\n",
    "        problem_set = problem_set.with_column(name, array)#temp.apply(lambda x: float(x.replace(',', '')), column_name))\n",
    "    else:\n",
    "        problem_set = problem_set.with_column(name, temp.column(name))"
   ]
  },
  {
   "cell_type": "code",
   "execution_count": 15,
   "metadata": {},
   "outputs": [],
   "source": [
    "old_names = ['Countries', 'co2_emissions', 'ghg_emissions', 'ghg_2010 emissions', 'co2_2011_emissions', 'change_1971_2011', 'change_1990_2011', 'total_footprint', 'pop_2010', 'gdp_ppp_2010', 'hdi_2011', 'hdi_change_1990_2011', 'gender_inequality_2012', 'maternal_2010']\n",
    "new_names = ['countries', 'co2_cummulative', 'ghg_cummulative', 'ghg_2010', 'co2_2011', 'change_1971_2011', 'change_1990_2011', 'total_footprint', 'pop_2010', 'gdp_ppp_2010', 'hdi_2011', 'hdi_change_1990_2011', 'gender_inequality_2012', 'maternal_2010']"
   ]
  },
  {
   "cell_type": "code",
   "execution_count": 16,
   "metadata": {},
   "outputs": [
    {
     "ename": "NameError",
     "evalue": "name 'problem_set' is not defined",
     "output_type": "error",
     "traceback": [
      "\u001b[0;31m---------------------------------------------------------------------------\u001b[0m",
      "\u001b[0;31mNameError\u001b[0m                                 Traceback (most recent call last)",
      "\u001b[0;32m<ipython-input-16-0b7c8202c030>\u001b[0m in \u001b[0;36m<module>\u001b[0;34m\u001b[0m\n\u001b[0;32m----> 1\u001b[0;31m \u001b[0mproblem_set\u001b[0m\u001b[0;34m.\u001b[0m\u001b[0mrelabel\u001b[0m\u001b[0;34m(\u001b[0m\u001b[0mold_names\u001b[0m\u001b[0;34m,\u001b[0m\u001b[0mnew_names\u001b[0m\u001b[0;34m)\u001b[0m\u001b[0;34m\u001b[0m\u001b[0m\n\u001b[0m",
      "\u001b[0;31mNameError\u001b[0m: name 'problem_set' is not defined"
     ]
    }
   ],
   "source": [
    "problem_set.relabel(old_names,new_names)"
   ]
  },
  {
   "cell_type": "markdown",
   "metadata": {},
   "source": [
    "# END"
   ]
  },
  {
   "cell_type": "markdown",
   "metadata": {},
   "source": [
    "### Shortcuts for column names:"
   ]
  },
  {
   "cell_type": "markdown",
   "metadata": {},
   "source": [
    "|Column Name   | Description | \n",
    "|--------------|---------|\n",
    "|co2_commulative |Historical Emissions A Cumulative CO2 emission from energy, 1850-2007 (million tonnes) |\n",
    "|ghg_commulative | Historical Emissions B Cumulative GHG Emissions, 1990-2010 (million tonnes CO2 equivalent) |\n",
    "|ghg_2010| Current GHG Emissions Total GHG Emissions, 2010 (million tonnes CO2 equivalent)|\n",
    "|co2_2011|Current CO2 Emissions CO2 emissions from fossil fuel combustion, 2011 (million tonnes) |\n",
    "|change_1971_2011|Change from 1971–2011 (%) |\n",
    "|change_1990_2011|Change from 1990–2011 (%) |\n",
    "|total_footprint|Total carbon footprint Footprint of all goods and services consumed (million tonnes CO2 equivalent) |\n",
    "|pop_2010|Population 2010|\n",
    "|gdp_ppp_2010|GDP-PPP 2010 (Million $ (2005))|\n",
    "|hdi_2011|HDI, 2011 |\n",
    "|hdi_change_1990_2011|HDI Change from 1990-2011 (%) |\n",
    "|gender_inequality_2012|Gender Inequality Index Value, 2012 |\n",
    "|maternal_2010|Maternal Mortality Ratio, 2010 |"
   ]
  },
  {
   "cell_type": "markdown",
   "metadata": {},
   "source": [
    "#### Alright! Let's begin!\n",
    "\n",
    "In this problem set, you will dive into some publicly available data on climate change, economic growth, and human development in an attempt to understand a little about the complex relationships between these parameters. With each chart you create, be sure to label your axes, create a chart title, and provide a simple regression line (including the R2 value). Note that you don’t need a chart legend if you only have one set of data. Remember – presentation is important! Also remember that a robust analysis would use far more in depth statistics, in particular focusing on each component of your regression model, both the size of the effect of each component as well as the significance, but for the purposes of this problem set linear regression slopes and R2 values will do.\n",
    "\n"
   ]
  },
  {
   "cell_type": "markdown",
   "metadata": {},
   "source": [
    "#### Table of Contents \n",
    "\n",
    "1 - [Introduction to Ploting](#section1)<br>\n",
    "\n",
    "2 - [Correlation](#section2)<br>\n",
    "\n",
    "3 - [Regression](#section3)<br>\n",
    "\n",
    "4 - [Questions](#section4)<br>\n",
    "\n",
    "\n"
   ]
  },
  {
   "cell_type": "markdown",
   "metadata": {},
   "source": [
    "The data is in a table named `problem_set` (Run the next cell to see what it looks like)."
   ]
  },
  {
   "cell_type": "code",
   "execution_count": 5,
   "metadata": {},
   "outputs": [
    {
     "data": {
      "text/html": [
       "<table border=\"1\" class=\"dataframe\">\n",
       "    <thead>\n",
       "        <tr>\n",
       "            <th>countries</th> <th>co2_cummulative</th> <th>ghg_cummulative</th> <th>ghg_2010</th> <th>co2_2011</th> <th>change_1971_2011</th> <th>change_1990_2011</th> <th>total_footprint</th> <th>pop_2010</th> <th>gdp_ppp_2010</th> <th>hdi_2011</th> <th>hdi_change_1990_2011</th> <th>gender_inequality_2012</th> <th>maternal_2010</th>\n",
       "        </tr>\n",
       "    </thead>\n",
       "    <tbody>\n",
       "        <tr>\n",
       "            <td>Afghanistan      </td> <td>72.4           </td> <td>349.34         </td> <td>24.94   </td> <td>nan     </td> <td>nan             </td> <td>nan             </td> <td>nan            </td> <td>28,397,812</td> <td>33596       </td> <td>0.371   </td> <td>50.81               </td> <td>0.712                 </td> <td>460          </td>\n",
       "        </tr>\n",
       "        <tr>\n",
       "            <td>Albania          </td> <td>227.9          </td> <td>143.81         </td> <td>6.57    </td> <td>  3.9   </td> <td>-0.3            </td> <td>-38             </td> <td>5.4            </td> <td>3,150,143 </td> <td>24545       </td> <td>0.748   </td> <td>13.16               </td> <td>0.251                 </td> <td>27           </td>\n",
       "        </tr>\n",
       "        <tr>\n",
       "            <td>Algeria          </td> <td>2,272.40       </td> <td>2618.81        </td> <td>169.42  </td> <td>  103.9 </td> <td>1064.8          </td> <td>97              </td> <td>nan            </td> <td>37,062,820</td> <td>269075      </td> <td>0.711   </td> <td>26.51               </td> <td>0.391                 </td> <td>97           </td>\n",
       "        </tr>\n",
       "        <tr>\n",
       "            <td>Angola           </td> <td>305.3          </td> <td>3300.97        </td> <td>219.84  </td> <td>  15.7  </td> <td>845.5           </td> <td>292             </td> <td>nan            </td> <td>19,549,124</td> <td>98686       </td> <td>0.504   </td> <td>nan                 </td> <td>nan                   </td> <td>450          </td>\n",
       "        </tr>\n",
       "        <tr>\n",
       "            <td>Antigua & Barbuda</td> <td>16.6           </td> <td>14.17          </td> <td>1.2     </td> <td>nan     </td> <td>nan             </td> <td>nan             </td> <td>nan            </td> <td>87,233    </td> <td>1541        </td> <td>0.759   </td> <td>nan                 </td> <td>nan                   </td> <td>nan          </td>\n",
       "        </tr>\n",
       "        <tr>\n",
       "            <td>Argentina        </td> <td>5,894.80       </td> <td>6308.23        </td> <td>359.01  </td> <td>  183.6 </td> <td>121.8           </td> <td>83.8            </td> <td>165.5          </td> <td>40,374,224</td> <td>580427      </td> <td>0.81    </td> <td>15.55               </td> <td>0.38                  </td> <td>77           </td>\n",
       "        </tr>\n",
       "        <tr>\n",
       "            <td>Armenia          </td> <td>505.6          </td> <td>183.45         </td> <td>13.43   </td> <td>  4.7   </td> <td>nan             </td> <td>-77.2           </td> <td>6              </td> <td>2,963,496 </td> <td>15153       </td> <td>0.726   </td> <td>15.61               </td> <td>0.34                  </td> <td>30           </td>\n",
       "        </tr>\n",
       "        <tr>\n",
       "            <td>Australia        </td> <td>13,108.50      </td> <td>10252.5        </td> <td>587.53  </td> <td>  396.8 </td> <td>175.3           </td> <td>52.6            </td> <td>297            </td> <td>22,065,300</td> <td>763921      </td> <td>0.936   </td> <td>6.36                </td> <td>0.115                 </td> <td>7            </td>\n",
       "        </tr>\n",
       "        <tr>\n",
       "            <td>Austria          </td> <td>4,541.90       </td> <td>1712.92        </td> <td>84.28   </td> <td>  68.5  </td> <td>40.6            </td> <td>21.4            </td> <td>99.8           </td> <td>8,389,771 </td> <td>296268      </td> <td>0.894   </td> <td>12.17               </td> <td>0.102                 </td> <td>4            </td>\n",
       "        </tr>\n",
       "        <tr>\n",
       "            <td>Azerbaijan       </td> <td>2,323.70       </td> <td>1218.83        </td> <td>64.21   </td> <td>  26.8  </td> <td>nan             </td> <td>-51.3           </td> <td>30.3           </td> <td>9,054,332 </td> <td>80696       </td> <td>0.732   </td> <td>nan                 </td> <td>0.323                 </td> <td>43           </td>\n",
       "        </tr>\n",
       "    </tbody>\n",
       "</table>\n",
       "<p>... (176 rows omitted)</p>"
      ],
      "text/plain": [
       "countries         | co2_cummulative | ghg_cummulative | ghg_2010 | co2_2011 | change_1971_2011 | change_1990_2011 | total_footprint | pop_2010   | gdp_ppp_2010 | hdi_2011 | hdi_change_1990_2011 | gender_inequality_2012 | maternal_2010\n",
       "Afghanistan       | 72.4            | 349.34          | 24.94    | nan      | nan              | nan              | nan             | 28,397,812 | 33596        | 0.371    | 50.81                | 0.712                  | 460\n",
       "Albania           | 227.9           | 143.81          | 6.57     |   3.9    | -0.3             | -38              | 5.4             | 3,150,143  | 24545        | 0.748    | 13.16                | 0.251                  | 27\n",
       "Algeria           | 2,272.40        | 2618.81         | 169.42   |   103.9  | 1064.8           | 97               | nan             | 37,062,820 | 269075       | 0.711    | 26.51                | 0.391                  | 97\n",
       "Angola            | 305.3           | 3300.97         | 219.84   |   15.7   | 845.5            | 292              | nan             | 19,549,124 | 98686        | 0.504    | nan                  | nan                    | 450\n",
       "Antigua & Barbuda | 16.6            | 14.17           | 1.2      | nan      | nan              | nan              | nan             | 87,233     | 1541         | 0.759    | nan                  | nan                    | nan\n",
       "Argentina         | 5,894.80        | 6308.23         | 359.01   |   183.6  | 121.8            | 83.8             | 165.5           | 40,374,224 | 580427       | 0.81     | 15.55                | 0.38                   | 77\n",
       "Armenia           | 505.6           | 183.45          | 13.43    |   4.7    | nan              | -77.2            | 6               | 2,963,496  | 15153        | 0.726    | 15.61                | 0.34                   | 30\n",
       "Australia         | 13,108.50       | 10252.5         | 587.53   |   396.8  | 175.3            | 52.6             | 297             | 22,065,300 | 763921       | 0.936    | 6.36                 | 0.115                  | 7\n",
       "Austria           | 4,541.90        | 1712.92         | 84.28    |   68.5   | 40.6             | 21.4             | 99.8            | 8,389,771  | 296268       | 0.894    | 12.17                | 0.102                  | 4\n",
       "Azerbaijan        | 2,323.70        | 1218.83         | 64.21    |   26.8   | nan              | -51.3            | 30.3            | 9,054,332  | 80696        | 0.732    | nan                  | 0.323                  | 43\n",
       "... (176 rows omitted)"
      ]
     },
     "execution_count": 5,
     "metadata": {},
     "output_type": "execute_result"
    }
   ],
   "source": [
    "#%store -r problem_set\n",
    "problem_set"
   ]
  },
  {
   "cell_type": "markdown",
   "metadata": {},
   "source": [
    "## Introduction to Ploting <a id='section1'></a>\n",
    "### A quick tutorial on how to plot with Numpy and Matplotlib\n",
    "\n",
    "Ploting is one of the most important steps of exploratory data analysis. It can help us uncover things we could not perceive by simply looking at summary statistics or at the first 10 rows of our data set. Python has to very helpful libraries that contain many handy functions to make plotting easy and intuitive namely Numpy and Matplotlib. \n",
    "\n",
    "Some of the functions we might find useful in this problem set are: \n",
    "   - Plot\n",
    "   - Scatter"
   ]
  },
  {
   "cell_type": "markdown",
   "metadata": {},
   "source": [
    "#### Scatter Plots\n",
    "\n",
    "Lets explore the **scattter** function. Using scattter plot you're able to take any two columns of a table, and plot them quite easily! For example, the scatter plot for  Total GHG Emissions, 2010 vs. GDP-PPP 2010 (Million $ (2005)) should look like:\n",
    "\n",
    "\n",
    "<img src=\"plot_no_labels.png\" style=\"height:300px\" align=\"left\" float=\"left\"/>\n",
    "\n",
    "\n"
   ]
  },
  {
   "cell_type": "markdown",
   "metadata": {},
   "source": [
    "**A tip to navigate Jupyter**: Pull up the documentation for any function in Jupyter by typing the function name, then `<Shift>-<Tab>` on your keyboard. This is very useful when you want to know what arguments a function takes, or the order of the arguments in a function. You can press`<Tab>` multiple times to expand the docs."
   ]
  },
  {
   "cell_type": "markdown",
   "metadata": {},
   "source": [
    "Now, lets crete a function that will help us with create a scatter plot. "
   ]
  },
  {
   "cell_type": "code",
   "execution_count": 14,
   "metadata": {},
   "outputs": [],
   "source": [
    "def scatter(x, y):\n",
    "    \"\"\"\n",
    "    Generate a scatter plot using x and y\n",
    "\n",
    "    Arguments:\n",
    "    x -- the vector of values x\n",
    "    y -- the vector of values y\n",
    "    \"\"\"\n",
    "    plt.figure(figsize=(8, 6))\n",
    "    plt.scatter(x,y)  # Tip: You can plt.scatter(x,y, s=6) to change the size of your points to 6. You can try any number\n",
    "    \n",
    "    \n",
    "\n",
    "# This is one way you can all this function to produce a plot. \n",
    "# Do not worry too much about the implementation yet, we will discuss the details later.\n",
    "\n",
    "## EXAMPLE ##\n",
    "# x = problem_set.column(\"column name\")\n",
    "# y = problem_set.column(\"column name\")\n",
    "# p1= scatter(x,y)"
   ]
  },
  {
   "cell_type": "markdown",
   "metadata": {},
   "source": [
    "#### Labeling:\n",
    "\n",
    "If we look back the scattter plot created above we will notice that it is very hard to interpret the plot since we do not know what x and y mean. For us to make any inferences or useful obervations on the plot we need more context. \n",
    "The following functions are very useful to help you, and others reading your plots understand what you are talking about. Some helpful functions that we can use to enhance out plots are:\n",
    "\n",
    "* plt.xlabel()\n",
    "* plt.ylabel()\n",
    "* plt.title()"
   ]
  },
  {
   "cell_type": "markdown",
   "metadata": {},
   "source": [
    "Now we will write a utility function that will allow us to label our plots."
   ]
  },
  {
   "cell_type": "code",
   "execution_count": 28,
   "metadata": {},
   "outputs": [],
   "source": [
    "# Complete the following function by filling in the (...) below with the appropiate arguments.\n",
    "# Use [plot, xlab, ylab, plot_title] to fill in the blanks. Note not all of them are going to be used. \n",
    "\n",
    "def put_label_on_plot(plot, xlab, ylab, plot_title):\n",
    "    \"\"\"\n",
    "    Generate labels for a plot using plot, xlab, ylab, and plot title\n",
    "\n",
    "    Arguments:\n",
    "    plot -- Any plot. For instance, a plot created using the scatter function above\n",
    "    xlab -- Label for x-axis (USE \" \")\n",
    "    ylab -- Label for y-axis (USE \" \")\n",
    "    plot_title -- Title for your plot (USE \" \")\n",
    "    \"\"\"\n",
    "    plt.xlabel(...)  # YOUR CODE HERE\n",
    "    plt.ylabel(...)  # YOUR CODE HERE\n",
    "    plt.title(...)   # YOUR CODE HERE\n",
    "    \n",
    " \n",
    "## EXAMPLE ##\n",
    "# xlab= \"X-Axis label\"\n",
    "# ylab= \"Y-Axis label\"\n",
    "# plot_title=  \"Title for your plot\"\n",
    "# put_label_on_plot(p1,xlab,ylab,plot_title)\n",
    "\n",
    "# Make sure that your xlab,ylab, and plot_title are inside quotations like the example above.\n",
    "# Do not forget to save your scatter plots into a variable (e.g. p1=scatter(x,y)) so that you can use it on this function."
   ]
  },
  {
   "cell_type": "markdown",
   "metadata": {},
   "source": [
    "Running the two functions above on **Total GHG Emissions, 2010** and **GDP-PPP 2010 (Million (2005))** should produce the following plot: \n",
    "\n",
    "<img src=\"E157AC_scatter_2.png\" style=\"height:300px\" align=\"left\" float=\"left\"/>"
   ]
  },
  {
   "cell_type": "markdown",
   "metadata": {},
   "source": [
    "## Correlation <a id='section2'></a>\n",
    "\n"
   ]
  },
  {
   "cell_type": "markdown",
   "metadata": {},
   "source": [
    "#### The correlation coefficient - *r*\n",
    "________________\n",
    "The correlation coefficient ranges from −1 to 1. A `1` implies that X and Y are moving together in perfect accord, which means that there is a **\"perfect positive correlation\"**. We would expect the Y values to fall in a perfect stright line with a positve slope of 1. A `−1` implies a **\"perfect negative correlation\"**. This means that the X and the Y are moving perfectly in opposite dirrections (e.g. a unit increase in X represents a unit decrease in Y). A `0` implies that there is **no linear correlation**.\n",
    "_________________\n",
    "\n",
    "Below you will find example show how what different correaltions or no correaltion looks like. "
   ]
  },
  {
   "cell_type": "markdown",
   "metadata": {},
   "source": [
    "<img src=\"E157AC_correlation-examples.svg\" style=\"height:300px\" align=\"left\" float=\"left\"/>\n",
    "\n",
    "source: mathsisfun.com"
   ]
  },
  {
   "cell_type": "markdown",
   "metadata": {},
   "source": [
    "Now that you have a visual and conceptual idea of what correlation is, we can use the functions defined below to calculate the corralation for the variables in your data set.\n",
    "\n",
    "You do not have to worry about understanding the implementation of these two functions, you just need to know how to use and interpret the results for *correlation* function we created for you. Don't worry, we will over an example later. \n",
    "\n",
    "If you would like to learn more about how to obtain the corraltion coefficient please visit https://www.inferentialthinking.com/chapters/15/1/Correlation for more details."
   ]
  },
  {
   "cell_type": "code",
   "execution_count": 32,
   "metadata": {},
   "outputs": [],
   "source": [
    "def standard_units(x):\n",
    "    \"Convert any array of numbers to standard units.\"\n",
    "    return (x - np.average(x))/np.std(x)  \n",
    "\n",
    "def correlation(t, label_x, label_y):\n",
    "    \"Determines the correlation between the x and y variables\"\n",
    "    x_in_standard_units = standard_units(t.column(label_x))\n",
    "    y_in_standard_units = standard_units(t.column(label_y))\n",
    "    return np.average(x_in_standard_units * y_in_standard_units)"
   ]
  },
  {
   "cell_type": "markdown",
   "metadata": {},
   "source": [
    "## Regression <a id='section3'></a>"
   ]
  },
  {
   "cell_type": "markdown",
   "metadata": {},
   "source": [
    "#### Putting it all together ( NEEDS EDITING)\n",
    "\n",
    "Recall how the correlation coefficinet telles us somehing about how cluster or spread the points on out plot are (looks at image above)? The correlation coefficient `r` also helps us identify the **straight line** about which the points in our scatter plot are clustered. We will use linear regression to make a graph that will show the best fit line that correlates the data. The slope of this line determines the whether our correlation is possitive or negative.  \n",
    "\n",
    "Its time to use the functions we created above to create a linear model, namely a linear regression. \n",
    "\n",
    "\n",
    "#### What is a regression line? (NEEDS EDITING)\n",
    "\n",
    "It’s like an average of where all the points line up. In linear regression, the regression line is a perfectly straight line. \n",
    "\n",
    "source: https://www.inferentialthinking.com/chapters/15/2/Regression_Line "
   ]
  },
  {
   "cell_type": "code",
   "execution_count": null,
   "metadata": {},
   "outputs": [],
   "source": []
  },
  {
   "cell_type": "markdown",
   "metadata": {},
   "source": [
    "# TO DO   - add changes and check against correct solutions\n",
    "#             - NEEDS EDITING\n",
    "## Questions <a id='section4'></a>\n",
    "\n",
    "\n",
    "### IMPORTANT\n",
    "\n",
    "When you explain your graphs below, do not describe them but instead interpret and explain them. Are there any correlations (or lack of)? Is there anything else that we may learn from the graph?\n",
    "\n",
    "Finally, the scatter plots you are asked to create are written below using the standard convention of dependent vs. independent (i.e. “plot Y vs. X”)."
   ]
  },
  {
   "cell_type": "markdown",
   "metadata": {},
   "source": [
    "### Question 1\n",
    "\n",
    "Make a chart of Total GHG Emissions, 2010 vs. GDP. "
   ]
  },
  {
   "cell_type": "code",
   "execution_count": null,
   "metadata": {},
   "outputs": [],
   "source": [
    "# YOUR CODE HERE"
   ]
  },
  {
   "cell_type": "markdown",
   "metadata": {},
   "source": [
    "What do you notice? Why do you think your plot looks this way? Write down a few thoughts about why you think your plot looks like this"
   ]
  },
  {
   "cell_type": "markdown",
   "metadata": {},
   "source": []
  },
  {
   "cell_type": "markdown",
   "metadata": {},
   "source": [
    "Note that there are missing data! (welcome to the ‘real world’). If, when your calculations, you don't exclude (i.e. delete) these, you will possibly run across some errors, and some meaningless results! (For example, if you were to try to calculate the \"Per-Capita CO2 Emission from Fossil Fuel Consumption\" of Afghanistan, you would get a result of zero because the emission data is missing. \n",
    "\n",
    "\n",
    "If you plotted this and used it to determine your linear regression, your regression would obviously be meaningless.)\n",
    "\n",
    "<img src=\"error_pic.png\" height='50' width='850'>\n",
    "\n",
    "So, in order to avoid these issues, we've created a function to remove all the non-integers from the columns! The function is in the cell below."
   ]
  },
  {
   "cell_type": "code",
   "execution_count": null,
   "metadata": {},
   "outputs": [],
   "source": [
    "def clean(x, y):\n",
    "    \"\"\"\n",
    "    Takes in two column indices of \"problem_set\", x and y, in that respective order. Returns a list with two lists\n",
    "    composed of the two column indices from the table \"problem_set\".\n",
    "    \"\"\"\n",
    "    combined, x, y = list(zip(problem_set[x], problem_set[y])), [], []\n",
    "    for pair in combined:\n",
    "        if pair[0] != \"\" and pair[1] != \"\":\n",
    "            x.append(pair[0])\n",
    "            y.append(pair[1])\n",
    "    return [x, y]"
   ]
  },
  {
   "cell_type": "markdown",
   "metadata": {},
   "source": [
    "* When getting your results from the clean function, make sure to index into the 0th element ([0]) to get the x-values, and index into the 1st element([1]) to get the y-values.\n",
    "\n",
    "* For example, clean(0, 1) returns the valid data points between the first two columns in the problem_set table. If we set result to equal clean(0, 1) (result = clean(0, 1)), then we can get the x-column with result[0] and the y-column with result[1].\n",
    "\n",
    "Note: With the function \"clean\" above, you should be able to perform any graphing you may be asked to do.\n",
    "\n",
    "You can look at the code below see how you can use the `clean` function on your plots. "
   ]
  },
  {
   "cell_type": "code",
   "execution_count": null,
   "metadata": {},
   "outputs": [],
   "source": [
    "# # plt.scatter(np.asarray(clean(1,2)[0]), np.asarray(clean(1,2)[1]))# # plt \n",
    "# # x = np.random.rand(10)\n",
    "# # y = np.random.rand(10)\n",
    "# # print(type(x))\n",
    "# # plt.scatter(x, y)\n",
    "# x = np.asarray(clean(1,2)[0][:10])\n",
    "# # print(type(z))\n",
    "# y = np.asarray(clean(1,2)[1][:10])\n",
    "# plt.yticks(np.arange(0, 10000, 1000))\n",
    "# plt.scatter(x, y)"
   ]
  },
  {
   "cell_type": "code",
   "execution_count": null,
   "metadata": {},
   "outputs": [],
   "source": [
    "# YOUR CODE HERE"
   ]
  },
  {
   "cell_type": "markdown",
   "metadata": {},
   "source": [
    "Explain your result in 2-3 sentences."
   ]
  },
  {
   "cell_type": "markdown",
   "metadata": {},
   "source": []
  },
  {
   "cell_type": "markdown",
   "metadata": {},
   "source": [
    "### Question 2\n",
    "\n",
    "Make a chart of Per-Capita Total GHG Emissions, 2010 vs. HDI. \n",
    "\n",
    "\n",
    "Hint: One way to do this is by adding a new column by `dataframe['new column name'] = [data]`. e.g. add a column called `per_capital_total_GHG` to the `problem_set` table. "
   ]
  },
  {
   "cell_type": "code",
   "execution_count": null,
   "metadata": {},
   "outputs": [],
   "source": [
    "# YOUR CODE HERE"
   ]
  },
  {
   "cell_type": "markdown",
   "metadata": {},
   "source": [
    "Explain your result in 2-3 sentences."
   ]
  },
  {
   "cell_type": "markdown",
   "metadata": {},
   "source": []
  },
  {
   "cell_type": "markdown",
   "metadata": {},
   "source": [
    "### Question 3\n",
    "\n",
    "Make a chart of Cumulative CO2 Emissions from Energy (1850-2007) Rank vs. HDI Rank.\n",
    "\n",
    "Hint: Order the countries in descending order accoridng to the \"Cumulative CO2 Emissions from Emergy\" variable. "
   ]
  },
  {
   "cell_type": "code",
   "execution_count": null,
   "metadata": {},
   "outputs": [],
   "source": [
    "# YOUR CODE HERE"
   ]
  },
  {
   "cell_type": "markdown",
   "metadata": {},
   "source": [
    "Explain your result in 2-3 sentences."
   ]
  },
  {
   "cell_type": "markdown",
   "metadata": {},
   "source": []
  },
  {
   "cell_type": "markdown",
   "metadata": {},
   "source": [
    "### Question 4\n",
    "\n",
    "Make a chart of Cumulative CO2 Emissions from Energy (1850-2007) Per Capita Rank vs. HDI Rank. "
   ]
  },
  {
   "cell_type": "code",
   "execution_count": null,
   "metadata": {},
   "outputs": [],
   "source": [
    "# YOUR CODE HERE"
   ]
  },
  {
   "cell_type": "markdown",
   "metadata": {},
   "source": [
    "Explain your result in 2-3 sentences."
   ]
  },
  {
   "cell_type": "markdown",
   "metadata": {},
   "source": []
  },
  {
   "cell_type": "markdown",
   "metadata": {},
   "source": [
    "### Question 5\n",
    "\n",
    "Which country has the highest Total GHG Emissions in 2010? Where do they rank on the per-capita scale? Which country has the highest per-capita?"
   ]
  },
  {
   "cell_type": "code",
   "execution_count": null,
   "metadata": {},
   "outputs": [],
   "source": [
    "# YOUR CODE HERE"
   ]
  },
  {
   "cell_type": "markdown",
   "metadata": {},
   "source": [
    "Explain your result in 2-3 sentences."
   ]
  },
  {
   "cell_type": "markdown",
   "metadata": {},
   "source": []
  },
  {
   "cell_type": "markdown",
   "metadata": {},
   "source": [
    "### Question 6\n",
    "\n",
    "Which country has the highest “Footprint of all goods and services consumed”? Which has the highest per-capita? "
   ]
  },
  {
   "cell_type": "code",
   "execution_count": null,
   "metadata": {},
   "outputs": [],
   "source": [
    "# YOUR CODE HERE"
   ]
  },
  {
   "cell_type": "markdown",
   "metadata": {},
   "source": [
    "Explain your result in 2-3 sentences."
   ]
  },
  {
   "cell_type": "markdown",
   "metadata": {},
   "source": []
  },
  {
   "cell_type": "markdown",
   "metadata": {},
   "source": [
    "### Question 7\n",
    "\n",
    "Go to www.gapminder.org/tools. Create an animated graph that tells you something interesting about climate change (CO2 Emissions should be on one axis). Note you can change an axis by clicking on the axis label and selecting a new measure from the various options. Take a screenshot of one year (be careful – sometimes the most recent data doesn’t include many countries, so take a screenshot that includes most of the world) and include that with your assignment. "
   ]
  },
  {
   "cell_type": "markdown",
   "metadata": {},
   "source": [
    "Insert image below. "
   ]
  },
  {
   "cell_type": "markdown",
   "metadata": {},
   "source": [
    "![alt text](imagename.png \"Title\")\n"
   ]
  },
  {
   "cell_type": "markdown",
   "metadata": {},
   "source": [
    "Explain your results"
   ]
  },
  {
   "cell_type": "code",
   "execution_count": null,
   "metadata": {},
   "outputs": [],
   "source": []
  },
  {
   "cell_type": "markdown",
   "metadata": {},
   "source": [
    "### Question 8(a)\n",
    "\n",
    "Reflect on your findings.\n",
    "\n",
    "Do you think per-capita or total national emissions are the more appropriate way to do carbon accounting, and why?"
   ]
  },
  {
   "cell_type": "markdown",
   "metadata": {},
   "source": []
  },
  {
   "cell_type": "markdown",
   "metadata": {},
   "source": [
    "### Question 8(b)\n",
    "\n",
    "Do you think accounting should be based on what a country emits within its boundaries, or what a country consumes, including emissions from the production of goods elsewhere?"
   ]
  },
  {
   "cell_type": "markdown",
   "metadata": {},
   "source": []
  },
  {
   "cell_type": "markdown",
   "metadata": {},
   "source": [
    "### Question 8(c)\n",
    "\n",
    "Do you think countries should reduce their emissions in proportion to \n",
    "\n",
    "i) their past emissions\n",
    "\n",
    "ii) their level of development & capacity to reduce\n",
    "\n",
    "iii) the degree to which they will be impacted by climate change\n",
    "\n",
    "iv) a combination of these, or something else (explain)"
   ]
  },
  {
   "cell_type": "markdown",
   "metadata": {},
   "source": []
  },
  {
   "cell_type": "markdown",
   "metadata": {},
   "source": [
    "## Final Survey\n",
    "\n",
    "Congrats! You've finished the final Jupyter Notebook assignment! The Division of Data Sciences and Information would like to ask you to please fill this survey out as a part of your assignment. We would like to improve the module for future semesters, and would really appreciate it if you took the time to fill this out so we can better serve you!\n",
    "\n",
    "Please make sure you are logged into your Berkeley (.edu) email address to access the form.\n",
    "### [Survey Link](https://goo.gl/forms/FqSRIYCzAAOfZ5Bv2)\n",
    "\n",
    "Alternatively, please copy and paste this link into your URL bar: https://goo.gl/forms/FqSRIYCzAAOfZ5Bv2"
   ]
  },
  {
   "cell_type": "markdown",
   "metadata": {},
   "source": [
    "## Saving the Notebook as an HTML\n",
    "Congrats on finishing your final notebook! As usual, you will be submitting this notebook as an HTML file. To turn in this lab assignment follow the steps below:\n",
    "\n",
    "1. In the toolbar above, click on File &rarr; Download as &rarr; HTML\n",
    "2. The file should have been saved in an HTML format in your downloads folder.\n",
    "3. Click to open in a web browser of your choice to make sure that everything looks okay."
   ]
  },
  {
   "cell_type": "code",
   "execution_count": null,
   "metadata": {},
   "outputs": [],
   "source": []
  }
 ],
 "metadata": {
  "kernelspec": {
   "display_name": "Python 3",
   "language": "python",
   "name": "python3"
  },
  "language_info": {
   "codemirror_mode": {
    "name": "ipython",
    "version": 3
   },
   "file_extension": ".py",
   "mimetype": "text/x-python",
   "name": "python",
   "nbconvert_exporter": "python",
   "pygments_lexer": "ipython3",
   "version": "3.6.6"
  }
 },
 "nbformat": 4,
 "nbformat_minor": 2
}

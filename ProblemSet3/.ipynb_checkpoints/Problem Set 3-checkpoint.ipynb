{
 "cells": [
  {
   "cell_type": "markdown",
   "metadata": {},
   "source": [
    "# E 157AC Spring 2019\n",
    "\n",
    "## Assignment: Problem Set 3\n",
    "\n",
    "**Due:**  Friday, March 30th at 11:59 pm\n",
    "<br>\n",
    "*Submit via bCourses*"
   ]
  },
  {
   "cell_type": "markdown",
   "metadata": {},
   "source": [
    "Run the cell below and continue onwards! It is just needed to run the initial code needed to run the rest of the functions in this problem set."
   ]
  },
  {
   "cell_type": "code",
   "execution_count": null,
   "metadata": {},
   "outputs": [],
   "source": [
    "import matplotlib\n",
    "matplotlib.use('Agg')\n",
    "%matplotlib inline\n",
    "import matplotlib.pyplot as plt\n",
    "from datascience import *\n",
    "import numpy as np\n",
    "import pandas as pd"
   ]
  },
  {
   "cell_type": "markdown",
   "metadata": {},
   "source": [
    "#### Alright! Let's begin!\n",
    "\n",
    "In this problem set, you will dive into some publicly available data on climate change, economic growth, and human development in an attempt to understand a little about the complex relationships between these parameters. \n",
    "\n",
    "With each chart you create, be sure to label your axes, create a chart title, and provide a simple regression line (including the R2 value). Note that you don’t need a chart legend if you only have one set of data. Remember – presentation is important! Also remember that a robust analysis would use far more in depth statistics, in particular focusing on each component of your regression model, both the size of the effect of each component as well as the significance, but for the purposes of this problem set linear regression slopes and R2 values will do.\n",
    "\n",
    "\n"
   ]
  },
  {
   "cell_type": "markdown",
   "metadata": {},
   "source": [
    "## Table of Contents \n",
    "\n",
    "0 - [The Data and Data Dictionary](#section8)<br>\n",
    "\n",
    "1 - [Introduction to Plotting](#section1)<br>\n",
    "\n",
    "2 - [Correlation](#section2)<br>\n",
    "\n",
    "3 - [Regression](#section3)<br>\n",
    "\n",
    "4 - [Example: Putting it all together](#section4)<br>\n",
    "\n",
    "5 - [Recap](#section5)<br>\n",
    "\n",
    "6 - [Questions](#section6)<br>\n",
    "\n",
    "7 - [Final Survey](#section7)<br>"
   ]
  },
  {
   "cell_type": "markdown",
   "metadata": {},
   "source": [
    "## The Data and Data Dictionary <a id='section8'></a>"
   ]
  },
  {
   "cell_type": "markdown",
   "metadata": {},
   "source": [
    "The data that we'll be working with in this problem set is contained in a CSV (Comma-Separated Values) file named `problem_set_3.csv`. Let's first load the data into a Table named `country_data`. Run the next cell to see what the data looks like."
   ]
  },
  {
   "cell_type": "code",
   "execution_count": null,
   "metadata": {},
   "outputs": [],
   "source": [
    "country_data = Table.read_table('data/problem_set_3_cleaned.csv')\n",
    "country_data"
   ]
  },
  {
   "cell_type": "markdown",
   "metadata": {},
   "source": [
    "The following table shows a description for each variable contained in the table. You will need to refer to it later in this assignment."
   ]
  },
  {
   "cell_type": "markdown",
   "metadata": {},
   "source": [
    "|Column Name   | Description | \n",
    "|--------------|---------|\n",
    "|co2_commulative |Historical Emissions A Cumulative CO2 emission from energy, 1850-2007 (million tonnes) |\n",
    "|ghg_commulative | Historical Emissions B Cumulative GHG Emissions, 1990-2010 (million tonnes CO2 equivalent) |\n",
    "|ghg_2010| Current GHG Emissions Total GHG Emissions, 2010 (million tonnes CO2 equivalent)|\n",
    "|co2_2011|Current CO2 Emissions CO2 emissions from fossil fuel combustion, 2011 (million tonnes) |\n",
    "|change_1971_2011|Change from 1971–2011 (%) |\n",
    "|change_1990_2011|Change from 1990–2011 (%) |\n",
    "|total_footprint|Total carbon footprint Footprint of all goods and services consumed (million tonnes CO2 equivalent) |\n",
    "|pop_2010|Population 2010|\n",
    "|gdp_ppp_2010|GDP-PPP 2010 (Million $ (2005))|\n",
    "|hdi_2011|HDI, 2011 |\n",
    "|hdi_change_1990_2011|HDI Change from 1990-2011 (%) |\n",
    "|gender_inequality_2012|Gender Inequality Index Value, 2012 |\n",
    "|maternal_2010|Maternal Mortality Ratio, 2010 |"
   ]
  },
  {
   "cell_type": "markdown",
   "metadata": {},
   "source": [
    "## Introduction to Plotting <a id='section1'></a>\n",
    "#### A quick tutorial on how to plot with NumPy and Matplotlib\n",
    "\n",
    "Plotting is one of the most important methods of exploratory data analysis. It can help us uncover things we could not perceive by simply looking at summary statistics or at the first 10 rows of our data set. Python has to very helpful libraries that contain many handy functions to make plotting easy and intuitive, namely `NumPy` and `Matplotlib`. \n",
    "\n",
    "Some of the functions we might find useful in this problem set are: \n",
    "   - Plot\n",
    "   - Scatter"
   ]
  },
  {
   "cell_type": "markdown",
   "metadata": {},
   "source": [
    "#### Scatter Plots\n",
    "\n",
    "Lets explore the **scatter** function. Using a scatter plot, you're able to take any two columns of a table, and plot them quite easily! For example, the scatter plot for Total GHG Emissions, 2010 vs. GDP-PPP 2010 (Million $ (2005)) should look like:\n",
    "\n",
    "<img src=\"images/plot_no_labels.png\" style=\"height:300px\" align=\"left\" float=\"left\"/>\n",
    "\n",
    "\n"
   ]
  },
  {
   "cell_type": "markdown",
   "metadata": {},
   "source": [
    "Now, lets crete a function that will help us with create a scatter plot. "
   ]
  },
  {
   "cell_type": "code",
   "execution_count": null,
   "metadata": {},
   "outputs": [],
   "source": [
    "def scatter(x, y):\n",
    "    \"\"\"\n",
    "    Generate a scatter plot using x and y\n",
    "\n",
    "    Arguments:\n",
    "    x -- the vector of values x\n",
    "    y -- the vector of values y\n",
    "    \n",
    "    Example:\n",
    "    x = country_data.column(\"column name\")\n",
    "    y = country_data.column(\"column name\")\n",
    "    p1= scatter(x,y)\n",
    "    \n",
    "    Tip: You can plt.scatter(x,y, s=6) to change the size of your points to 6. Try any number!\n",
    "    \"\"\"\n",
    "    plt.figure(figsize=(8, 6))\n",
    "    plt.scatter(x,y)\n",
    "\n",
    "# Do not worry too much about the implementation yet, we will discuss the details later."
   ]
  },
  {
   "cell_type": "markdown",
   "metadata": {},
   "source": [
    "#### NOTE: Make sure to save your plots to a variable as it is done in the example (e.g. p1=scatter(x,y)). You will need this to run future functions."
   ]
  },
  {
   "cell_type": "markdown",
   "metadata": {},
   "source": [
    "#### YOUR TURN\n",
    "1. Complete the following function by filling in the (...) below with the appropiate arguments.\n",
    "2. Use [plot, xlab, ylab, plot_title] to fill in the blanks. Note: Not all of them might be needed.\n",
    "\n",
    "Make sure to comment out the line that reads **\"raise NotImplementedError()\"** by using **#** once you have completed the question. "
   ]
  },
  {
   "cell_type": "code",
   "execution_count": null,
   "metadata": {},
   "outputs": [],
   "source": [
    " def put_label_on_plot(plot, xlab, ylab, plot_title):\n",
    "    \"\"\"\n",
    "    Generate labels for a plot using plot, xlab, ylab, and plot title\n",
    "\n",
    "    Arguments:\n",
    "    plot -- Any plot. For instance, a plot created using the scatter function above\n",
    "    xlab -- Label for x-axis \n",
    "    ylab -- Label for y-axis \n",
    "    plot_title -- Title for your plot \n",
    "    \n",
    "       \n",
    "    Example:\n",
    "    x = country_data.column(\"column name\")\n",
    "    y = country_data.column(\"column name\")\n",
    "    my_scatter = scatter(x, y)\n",
    "    put_label_on_plot(my_scatter, \"name for x axis\", \"name for y axis \", \"plot title\")\n",
    "    \"\"\"\n",
    "    \n",
    "    plt.xlabel(...)  # YOUR CODE HERE\n",
    "    plt.ylabel(...)  # YOUR CODE HERE\n",
    "    plt.title(...)   # YOUR CODE HERE\n",
    "    \n",
    "raise NotImplementedError()"
   ]
  },
  {
   "cell_type": "markdown",
   "metadata": {},
   "source": [
    "#### Labeling:\n",
    "\n",
    "If we look back the scatter plot created above we will notice that it is very hard to interpret the plot since we do not know what x and y mean. For us to make any inferences or useful obervations on the plot we need more context. \n",
    "The following functions are very useful to help you, and others reading your plots understand what you are talking about. Some helpful functions that we can use to enhance out plots are:\n",
    "\n",
    "* plt.xlabel()\n",
    "* plt.ylabel()\n",
    "* plt.title()"
   ]
  },
  {
   "cell_type": "markdown",
   "metadata": {},
   "source": [
    "Now we will write a utility function that will allow us to label our plots."
   ]
  },
  {
   "cell_type": "markdown",
   "metadata": {},
   "source": [
    "####  Running the two functions above on **Total GHG Emissions, 2010** and **GDP-PPP 2010 (Million (2005))** should produce the following plot:"
   ]
  },
  {
   "cell_type": "markdown",
   "metadata": {},
   "source": [
    " <img src=\"images/E157AC_scatter_2.png\" style=\"height:300px\" align=\"left\" float=\"left\"/>"
   ]
  },
  {
   "cell_type": "markdown",
   "metadata": {},
   "source": [
    "#### YOUR TURN <a id='section9'></a>\n",
    "* Use the functions above (scatter and put_label_on_plot) to rereate the plot above. \n",
    "* Make sure to replace the ... with your solution \n",
    "* Do not forget to give your plot meaningful labels. \n",
    "* Do not forget to comment out the implementation test.\n",
    "\n",
    "Tips:\n",
    "* How do I know if my labels are good enough?\n",
    "    * Can someone who is not taking the class understand the your plot without any additional infromation? If yes, you did it! If not, try to find more meaningful names for your plot and labels. "
   ]
  },
  {
   "cell_type": "code",
   "execution_count": null,
   "metadata": {},
   "outputs": [],
   "source": [
    "# YOUR CODE HERE\n",
    "x =  country_data.column(\"ghg_2010\")\n",
    "y = country_data.column(\"gdp_ppp_2010\")\n",
    "\n",
    "test_plot = scatter(...,..)\n",
    "\n",
    "put_label_on_plot(test_plot, ..., ..., ...) \n",
    "\n",
    "\n",
    "raise NotImplementedError()"
   ]
  },
  {
   "cell_type": "markdown",
   "metadata": {},
   "source": [
    "## Correlation <a id='section2'></a>\n",
    "\n"
   ]
  },
  {
   "cell_type": "markdown",
   "metadata": {},
   "source": [
    "#### The correlation coefficient - *r*\n",
    "\n",
    "* r is a numerical measure of correlation ranging from -1 to 1. It gives us information about the strength of the relationship between two variables.\n",
    "* Although there are different types of correlation, we will use \"Pearson's correlation\" or \"Pearson's R\".\n",
    "\n",
    "#### How to interpret *r* ?\n",
    "* r=1: For every unit increase in a variable, say X, there is a positive increase of a fixed proportion on the other varaible, say Y.\n",
    "* r=-1: For every unit increase in a Variable, say X, the is a negative increase of a fixed proportion on the other varaible, say Y.\n",
    "* r=0: For every unit increase in a variable, say X, there is not a negative or positive increase on the other variable, say Y. This means that the two variables are un-correlated.\n"
   ]
  },
  {
   "cell_type": "markdown",
   "metadata": {},
   "source": [
    "#### These are some examples of different correlatiosn r"
   ]
  },
  {
   "cell_type": "markdown",
   "metadata": {},
   "source": [
    "<img src=\"images/E157AC_correlation-examples.svg\" style=\"height:300px\" align=\"left\" float=\"left\"/>\n",
    "\n",
    "source: mathsisfun.com"
   ]
  },
  {
   "cell_type": "markdown",
   "metadata": {},
   "source": [
    "Now that you have a visual and conceptual idea of what correlation is, we can use the functions defined below to calculate the corralation for the variables in your data set.\n",
    "\n",
    "You do not have to worry about understanding the implementation of the two functions below, you just need to know how to use and interpret the results for the *correlation* function we created for you. \n",
    "\n",
    "If you would like to learn more about how to obtain the corraltion coefficient please visit https://www.inferentialthinking.com/chapters/15/1/Correlation for more details."
   ]
  },
  {
   "cell_type": "code",
   "execution_count": null,
   "metadata": {},
   "outputs": [],
   "source": [
    "def standard_units(x):\n",
    "    \"\"\"\n",
    "    Convert any array of numbers to standard units.\n",
    "    \"\"\"\n",
    "    \n",
    "    return (x - np.average(x))/np.std(x)"
   ]
  },
  {
   "cell_type": "code",
   "execution_count": null,
   "metadata": {},
   "outputs": [],
   "source": [
    "def correlation(t, label_x, label_y):\n",
    "    \"\"\"\n",
    "    Determines the correlation between the x and y variables\n",
    "    \n",
    "    Arguments:\n",
    "    t: data table e.g., country_data\n",
    "    x: Column in your data frame\n",
    "    y: Column in you data framel\n",
    "    \"\"\"\n",
    "    \n",
    "    x_in_standard_units = standard_units(t.column(x))\n",
    "    y_in_standard_units = standard_units(t.column(y))\n",
    "    return np.average(x_in_standard_units * y_in_standard_units)"
   ]
  },
  {
   "cell_type": "markdown",
   "metadata": {},
   "source": [
    "#### YOUR TURN\n",
    "Find the correlation for the two variables we explored on the previous example. Namely, between \"ghg_2010\" and \"gdp_ppp_2010\". Replace the  (...) with your solution. \n",
    "\n",
    "Make sure to comment out **raise NotImplementedError()** on the following questions. "
   ]
  },
  {
   "cell_type": "code",
   "execution_count": null,
   "metadata": {},
   "outputs": [],
   "source": [
    "t= ...   #YOUR CODE HERE \n",
    "x=\"ghg_2010\" \n",
    "y=\"gdp_ppp_2010\"\n",
    "correlation(t,x,y)\n",
    "\n",
    "raise NotImplementedError()"
   ]
  },
  {
   "cell_type": "markdown",
   "metadata": {},
   "source": [
    "What do you think happened here? "
   ]
  },
  {
   "cell_type": "code",
   "execution_count": null,
   "metadata": {},
   "outputs": [],
   "source": [
    "correlation1a_answer = r\"\"\"\n",
    "\n",
    "Put your answer here, replacing this text. Do not take into account the ### YOUR CODE HERE below\n",
    "\n",
    "\"\"\"\n",
    "\n",
    "# YOUR CODE HERE\n",
    "raise NotImplementedError()\n",
    "\n",
    "print(correlation1a_answer)"
   ]
  },
  {
   "cell_type": "markdown",
   "metadata": {},
   "source": [
    "**Note** that the process of data cleaning for data analysis can get to be very tideous, but detrimental for you analysis if you are not careful!\n",
    "\n",
    "Lets break it down. The correlation for \"ghg_2010\" and \"gdp_ppp_2010\" returned `nan`. Did soemthing go wrong in the implementation of the correlation function? The answer is no. It has to do with an error that occurred in how `correaltion` is computed. The above function is made out of the average x_in_standard_units  and  y_in_standard_units. Lets take a look at `average x_in_standard_units` to see if you can figure out what is wrong with it?"
   ]
  },
  {
   "cell_type": "code",
   "execution_count": null,
   "metadata": {},
   "outputs": [],
   "source": [
    "x_in_standard_units =standard_units(t.column(x))\n",
    "x_in_standard_units "
   ]
  },
  {
   "cell_type": "markdown",
   "metadata": {},
   "source": [
    "What do you notice? Why do you think this happend?  "
   ]
  },
  {
   "cell_type": "code",
   "execution_count": null,
   "metadata": {},
   "outputs": [],
   "source": [
    "correlation1b_answer = r\"\"\"\n",
    "\n",
    "Put your answer here, replacing this text. Do not take into account the ### YOUR CODE HERE below\n",
    "\n",
    "\"\"\"\n",
    "\n",
    "# YOUR CODE HERE\n",
    "raise NotImplementedError()\n",
    "\n",
    "print(correlation1b_answer)"
   ]
  },
  {
   "cell_type": "markdown",
   "metadata": {},
   "source": [
    "From the equation above we can see that standard_units is calculate by perfroming some mathematical operations to column/ variable x, particualrly by taking the average of its elemnts and the standard devidation. Now, lets take a look at the variable \"ghg_2010\" in our data set. "
   ]
  },
  {
   "cell_type": "code",
   "execution_count": null,
   "metadata": {},
   "outputs": [],
   "source": [
    "# dataframe.column(\"column label\")\n",
    "t.column(x)"
   ]
  },
  {
   "cell_type": "markdown",
   "metadata": {},
   "source": [
    "By inspecting x  we can notice that there are a  couple of `nan` (or missing values) on the coulmn. These values break our two functions because we **cannot** take the average of an unknown value. Now its your turn to try it! "
   ]
  },
  {
   "cell_type": "code",
   "execution_count": null,
   "metadata": {},
   "outputs": [],
   "source": [
    "var =[ 1,2,3,nan,4,5]\n",
    "avg= np.average(var)\n",
    "avg"
   ]
  },
  {
   "cell_type": "markdown",
   "metadata": {},
   "source": [
    "Now remove the `nan` value from the list and see what happens. Save the new list into the variable  `new_var` and see what happends. "
   ]
  },
  {
   "cell_type": "code",
   "execution_count": null,
   "metadata": {},
   "outputs": [],
   "source": [
    "new_var = ... \n",
    "new_avg= np.average(new_var)\n",
    "new_avg\n",
    "\n",
    "raise NotImplementedError()"
   ]
  },
  {
   "cell_type": "markdown",
   "metadata": {},
   "source": [
    "The key takeway is that we cannot simply run these functions mindlessly and hope to get a solution. Cleaning the data is one of the most important aspects of conducting effective analysis. From this example we learned that the best way to handle this situtation is to remove the unknown values. On a later section we will go over how to handle this situations. We will create a function to automate the cleaning of our data. "
   ]
  },
  {
   "cell_type": "markdown",
   "metadata": {},
   "source": [
    "## Regression <a id='section3'></a>"
   ]
  },
  {
   "cell_type": "markdown",
   "metadata": {},
   "source": [
    "#### What is a regression line?\n",
    "\n",
    "* Linear regression allows us to model two or more varaibles. This line allows us to correlate our data.\n",
    "    * For the purpose of this homework we will only be working with two. Namely X-independent variable and Y-dependent variable.\n",
    "* Linear regressions allow us to predict one variable from another. In this case we will predict Y from X.\n",
    "* There are many predictive models that help us find estiamates for our data. However, the goal of a simple linear regression is to create a linear model that minimize the sum of square errors. Making it the line of \"best fit\".\n",
    "    * The error represents how far off our obervations(real data) are from our predicted values(data from our model).\n",
    "    * For instance, if our sample had only one data point, say 5, and our model predicted that it would be 7. Our square error would be (5-7)^2= 4."
   ]
  },
  {
   "cell_type": "markdown",
   "metadata": {},
   "source": [
    "<img src=\"images/residuals.png\" style=\"height:200px\" align=\"left\" float=\"left\"/>\n"
   ]
  },
  {
   "cell_type": "markdown",
   "metadata": {},
   "source": [
    "* Slope of the regression line \"line of averages\" can be found using the r we found before!\n",
    "* The slope of this line determines the whether our correlation is possitive or negative.\n",
    "\n",
    "No matter the shape of the scatter plot, this unique line minimizes the mean squared error of estimation!"
   ]
  },
  {
   "cell_type": "markdown",
   "metadata": {},
   "source": [
    "#### Formula for linear regression?\n",
    "First some *definitions*:\n",
    "\n",
    "General format: $Y_i =\\beta_0 +\\beta_1Xi+\\epsilon_i$ but when we are doing simple linea rgression we write it like this $E(Y_i) =\\beta_0 +\\beta_1Xi$, which is the mean or expected value of y, for a given x.\n",
    "\n",
    "* notice that it looks very similar to : $y=mx +b$\n",
    "\n",
    "$Y_i$: Dependent (response variable)\n",
    "\n",
    "$\\beta_0$: Y Intercept\n",
    "\n",
    "$\\beta_1$: Slope\n",
    "\n",
    "$\\epsilon_0$: Random Error (unexplained variation in Y)"
   ]
  },
  {
   "cell_type": "markdown",
   "metadata": {},
   "source": [
    "#### Whta is R-squared (coefficient of determination)?\n",
    "\n",
    "* R-squared allow us to see how close our data is to the regression line\n",
    "* It is the percentage of the response variable variation that is explained by a linear model.\n",
    "    * R-squared = Explained variation / Total variation\n",
    "    * R-squared is always between 0 and 100%:\n",
    "        * A 0% indicates that the model explains none of the variability of the response data around its mean.\n",
    "        * A 100% indicates that the model explains all the variability of the response data around its mean.\n",
    "* In general, the higher the R-squared, the better the model fits your data.\n",
    "* However r_square cannot tell if:\n",
    "    * predictions are biased\n",
    "    * regression model is adequate"
   ]
  },
  {
   "cell_type": "markdown",
   "metadata": {},
   "source": [
    "source: https://www.inferentialthinking.com/chapters/15/2/Regression_Line\n",
    "\n",
    "source: http://statisticsbyjim.com/regression/interpret-r-squared-regression/\n",
    "\n",
    "source: http://blog.minitab.com/blog/adventures-in-statistics-2/regression-analysis-how-do-i-interpret-r-squared-and-assess-the-goodness-of-fit\n",
    "\n"
   ]
  },
  {
   "cell_type": "markdown",
   "metadata": {},
   "source": [
    "## Example: Putting it all together<a id='section4'></a> "
   ]
  },
  {
   "cell_type": "markdown",
   "metadata": {},
   "source": [
    "<img src=\"images/father_son.png\" style=\"height:500px\" align=\"left\" float=\"left\"/>"
   ]
  },
  {
   "cell_type": "markdown",
   "metadata": {},
   "source": [
    "* Notice that in order to find line that helps us predict values, all we need to do is find a slope and a y-intercept.\n",
    "* In this example, the regression line predeicts the son's height from the father's height.\n",
    "* The equation for the regression line would look like:\n",
    "\n",
    "$SONH_i= \\beta_0 + \\beta_1 FATHERHA + \\epsilon_i$\n",
    "\n",
    "source: https://galton.uchicago.edu/~wichura/Stat200/Handouts/C10.pdf"
   ]
  },
  {
   "cell_type": "markdown",
   "metadata": {},
   "source": [
    "#### Utility Functions For Linear Regression Model\n",
    "\n",
    "Now we will write some utility functions that will help us create the linear regression model we discussed above."
   ]
  },
  {
   "cell_type": "code",
   "execution_count": null,
   "metadata": {},
   "outputs": [],
   "source": [
    "def slope(t, x, y):\n",
    "    \"\"\"\n",
    "    Returns the slope needed to find the linear regression\n",
    "    \n",
    "    Arguments:\n",
    "    t: Data fram \n",
    "    x: Column in your data frame\n",
    "    y: Column in you data frame\n",
    "    \"\"\"\n",
    "    \n",
    "    r = correlation(t, x, y)\n",
    "    y_sd = np.std(t.column(y))\n",
    "    x_sd = np.std(t.column(x))\n",
    "    return r * y_sd / x_sd"
   ]
  },
  {
   "cell_type": "code",
   "execution_count": null,
   "metadata": {},
   "outputs": [],
   "source": [
    "def intercept(t, x, y):\n",
    "    \"\"\"\n",
    "    Returns the y-intercept needed to find the linear regression\n",
    "    \n",
    "    Arguments:\n",
    "    t: Data Frame \n",
    "    x: Column in your data frame\n",
    "    y: Column in you data frame\n",
    "    \"\"\"\n",
    "    \n",
    "    x_mean = np.mean(t.column(x))\n",
    "    y_mean = np.mean(t.column(y)) \n",
    "    return  y_mean - slope(t, x, y)*x_mean"
   ]
  },
  {
   "cell_type": "markdown",
   "metadata": {},
   "source": [
    "Recall the format for the linear equation mentioned on the father-son example mentioned above? This is what we are using to create our regression line."
   ]
  },
  {
   "cell_type": "code",
   "execution_count": null,
   "metadata": {},
   "outputs": [],
   "source": [
    "def fitted_values(t, x, y):\n",
    "\n",
    "    \"\"\"\n",
    "    Returns an array of the regressions estimates at all the x values\n",
    "    \n",
    "    Arguments:\n",
    "    t: Data Frame \n",
    "    x: Column in your data frame\n",
    "    y: Column in you data frame\n",
    "    \"\"\"\n",
    "    \n",
    "    a = slope(t, x, y)\n",
    "    b = intercept(t, x, y)\n",
    "    return a*t.column(x) + b"
   ]
  },
  {
   "cell_type": "code",
   "execution_count": null,
   "metadata": {},
   "outputs": [],
   "source": [
    "def r_squred(t, x, y):\n",
    "    \"\"\"\n",
    "    Returns r squared\n",
    "    \n",
    "    t: Data Frame \n",
    "    x: Column in your data frame\n",
    "    y: Column in you data frame\n",
    "    \"\"\"\n",
    "\n",
    "    r = correlation(t, x, y)\n",
    "    return r**2"
   ]
  },
  {
   "cell_type": "markdown",
   "metadata": {},
   "source": [
    "## Recap <a id='section5'></a>\n",
    "\n",
    "Up to now you have learned:\n",
    "\n",
    "* What a scatter plot is and how to create it\n",
    "* How to label your plots\n",
    "* What the correaltion coefficient (r) is, how to interpret it, and how to calculate it\n",
    "* What the linar regression is, how to interpret its equation, and how to calculate it\n",
    "* What the coefficeint of determination is (r_squared), how to intepret it, and how to calculate it\n",
    "\n",
    "\n",
    "Now, you are ready to answer the rest of the questions."
   ]
  },
  {
   "cell_type": "markdown",
   "metadata": {},
   "source": [
    "## Questions <a id='section6'></a>\n",
    "\n",
    "\n",
    "#### READ BEFORE ANSWERING THE QUESTIONS\n",
    "\n",
    "\n",
    "When you explain your graphs below, do not describe them but instead interpret and explain them. Are there any correlations (or lack of)? Is there anything else that we may learn from the graph? You can what you learned about r_squared, and the betas when writting down your interpretetations\n",
    "\n",
    "Finally, the scatter plots you are asked to create are written below using the standard convention of dependent vs. independent (i.e. plot \"Y vs. X”).\n",
    "\n",
    "Make sure to comment out **raise NotImplementedError()** on the questions below when you begin answering them."
   ]
  },
  {
   "cell_type": "markdown",
   "metadata": {},
   "source": [
    "### Question 1\n",
    "\n",
    "Make a chart of Total GHG Emissions, 2010 vs. GDP. \n",
    "\n",
    "Make sure to fill the (...) with the appropiate values. If you need help, please refer back to the [example](#section9)<br> we did before.\n",
    "\n",
    "**Note**: If you forget what each coulumn name stands for, you can access the table of at the beginning of the notebok [here](#section7)<br>"
   ]
  },
  {
   "cell_type": "code",
   "execution_count": null,
   "metadata": {},
   "outputs": [],
   "source": [
    "x =  data.column(...)\n",
    "y = data.column(...)\n",
    "\n",
    "... = scatter(...,..)\n",
    "\n",
    "put_label_on_plot(test_plot, ..., ..., ...) \n",
    "\n",
    "\n",
    "raise NotImplementedError()\n",
    "# YOUR CODE HERE"
   ]
  },
  {
   "cell_type": "markdown",
   "metadata": {},
   "source": [
    "What do you notice? Why do you think your plot looks this way? Write down a few thoughts about why you think your plot looks like this.  . "
   ]
  },
  {
   "cell_type": "code",
   "execution_count": null,
   "metadata": {},
   "outputs": [],
   "source": [
    "\n",
    "q1a_answer = r\"\"\"\n",
    "\n",
    "Put your answer here, replacing this text. Do not take into account the ### YOUR CODE HERE below\n",
    "\n",
    "\"\"\"\n",
    "\n",
    "# YOUR CODE HERE\n",
    "raise NotImplementedError()\n",
    "\n",
    "print(q1a_answer)"
   ]
  },
  {
   "cell_type": "markdown",
   "metadata": {},
   "source": [
    "Calculate the `correlation` for the two variables. What does thos correlation reveal about the accuracy of the plot above?\n",
    "\n",
    "Hint: Look at the example you did before."
   ]
  },
  {
   "cell_type": "code",
   "execution_count": null,
   "metadata": {},
   "outputs": [],
   "source": [
    "correlation_1a = ... # YOUR CODE HERE"
   ]
  },
  {
   "cell_type": "code",
   "execution_count": null,
   "metadata": {},
   "outputs": [],
   "source": [
    "correlation1a_explanation = r\"\"\"\n",
    "\n",
    "Put your answer here, replacing this text. Do not take into account the ### YOUR CODE HERE below\n",
    "\n",
    "\"\"\"\n",
    "\n",
    "# YOUR CODE HERE\n",
    "raise NotImplementedError()\n",
    "\n",
    "print(correlation1a_explanation)"
   ]
  },
  {
   "cell_type": "markdown",
   "metadata": {},
   "source": [
    "In the `correlation` section we learned that there is missing data in at least one of our columns! (welcome to the \"real world\"). If, in your calculations, you don't exclude (i.e. delete) these, you will possibly run across some errors, and some meaningless results! (For example, if you were to try to calculate the \"**Per-Capita** CO2 Emission from Fossil Fuel Consumption\" of Afghanistan, you would get a result of zero because the emission data is missing. \n",
    "If you plotted this and used it to determine your linear regression, your regression would obviously be meaningless.)\n",
    "\n",
    "<img src=\"images/error_pic.png\" height='50' width='850'>\n",
    "\n",
    "So, in order to avoid these issues, we've created a function to remove all the non-integers from the columns! The function is in the cell below. Do not worry about its implementation, just know that it removes the rows in a column that contain a `nan` value."
   ]
  },
  {
   "cell_type": "code",
   "execution_count": null,
   "metadata": {},
   "outputs": [],
   "source": [
    "def clean(t,x,y):\n",
    "    \"\"\"\n",
    "    This functions drops all the nan values in a column \n",
    "    \n",
    "    Arguments: \n",
    "    t: Data Frame \n",
    "    x: Columns name you want to clean \n",
    "    \n",
    "    Example:\n",
    "    > t = country_data\n",
    "    > x= \"gdp_ppp_2010\"\n",
    "    > y=\"gdp_ppp_2010\"\n",
    "    > len(t.column(x))\n",
    "    >>> 186\n",
    "    \n",
    "    > cleaned = clean(my_data, \"my_column\", \"my_other_column\")\n",
    "     or \n",
    "    > clean(t,x,y)\n",
    "    > len(cleaned)\n",
    "    >>> 173\n",
    "    \"\"\"\n",
    "    \n",
    "    a=problem_set.column(\"ghg_2010\" )\n",
    "    b=problem_set.column(\"gdp_ppp_2010\")\n",
    "\n",
    "    unclean_x= pd.Series(a)\n",
    "    unclean_y= pd.Series(b)\n",
    "\n",
    "    df=  pd.DataFrame({x:unclean_y,y:unclean_y})\n",
    "    clean_df = df.dropna()\n",
    "    \n",
    "    return clean_df"
   ]
  },
  {
   "cell_type": "markdown",
   "metadata": {},
   "source": [
    "With the function \"clean\" above, you should be able to perform any graphing you may be asked to do.\n",
    "Moving forward make sure to clean you columns before plotting, finding the betas  or r_squared! "
   ]
  },
  {
   "cell_type": "code",
   "execution_count": null,
   "metadata": {},
   "outputs": [],
   "source": [
    "# YOUR CHART HERE \n",
    "cleaned_x_column = clean(...,...) # YOUR CODE HERE \n",
    "cleaned_y_column = clean(...,...) # YOUR CODE HERE \n",
    "\n",
    "... = scatter(...,... ) # YOUR CODE HERE \n",
    "\n",
    "put_label_on_plot(..., ..., ..., ...)  # YOUR CODE HERE\n",
    "\n",
    "\n",
    "\n",
    "raise NotImplementedError()"
   ]
  },
  {
   "cell_type": "code",
   "execution_count": null,
   "metadata": {},
   "outputs": [],
   "source": [
    "q1_beta0= # YOUR CODE HERE\n",
    "\n",
    "raise NotImplementedError()"
   ]
  },
  {
   "cell_type": "code",
   "execution_count": null,
   "metadata": {},
   "outputs": [],
   "source": [
    "q1_beta1= # YOUR CODE HERE\n",
    "\n",
    "raise NotImplementedError()"
   ]
  },
  {
   "cell_type": "code",
   "execution_count": null,
   "metadata": {},
   "outputs": [],
   "source": [
    "q1b_answer = r\"\"\"\n",
    "\n",
    "Put your answer here, replacing this text. Do not take into account the ### YOUR CODE HERE below\n",
    "\n",
    "\"\"\"\n",
    "\n",
    "# YOUR CODE HERE\n",
    "raise NotImplementedError()\n",
    "\n",
    "print(q1b_answer)"
   ]
  },
  {
   "cell_type": "code",
   "execution_count": null,
   "metadata": {},
   "outputs": [],
   "source": [
    "# AUTOGRADER\n",
    "\n",
    "## q1_rquare, beta0,beta1, count of points on plot (using the total points plotted after using the clean function)- Autograder? -MAX 3"
   ]
  },
  {
   "cell_type": "markdown",
   "metadata": {},
   "source": [
    "### Question 2\n",
    "\n",
    "Make a chart of Per-Capita Total GHG Emissions, 2010 vs. HDI.\n",
    "\n",
    "Explain your result in 2-3 sentences.\n",
    "\n",
    "\n",
    "Hint:\n",
    "* One way to do this is by adding a new column by `dataframe['new column name'] = [data]`. e.g. add a column called `per_capital_total_GHG` to the `country_data` table.\n",
    "* Do not forget to clean your data before you making a chart! "
   ]
  },
  {
   "cell_type": "code",
   "execution_count": null,
   "metadata": {},
   "outputs": [],
   "source": [
    "# YOUR CHART HERE \n",
    "\n",
    "raise NotImplementedError()"
   ]
  },
  {
   "cell_type": "code",
   "execution_count": null,
   "metadata": {},
   "outputs": [],
   "source": [
    "q2_rquare=# YOUR CODE HERE\n",
    "\n",
    "raise NotImplementedError()"
   ]
  },
  {
   "cell_type": "code",
   "execution_count": null,
   "metadata": {},
   "outputs": [],
   "source": [
    "q2_beta0= # YOUR CODE HERE\n",
    "\n",
    "raise NotImplementedError()"
   ]
  },
  {
   "cell_type": "code",
   "execution_count": null,
   "metadata": {},
   "outputs": [],
   "source": [
    "q2_beta1= # YOUR CODE HERE\n",
    "\n",
    "raise NotImplementedError()"
   ]
  },
  {
   "cell_type": "code",
   "execution_count": null,
   "metadata": {},
   "outputs": [],
   "source": [
    "q2_answer = r\"\"\"\n",
    "\n",
    "Put your answer here, replacing this text. Do not take into account the ### YOUR CODE HERE below\n",
    "\n",
    "\"\"\"\n",
    "\n",
    "# YOUR CODE HERE\n",
    "raise NotImplementedError()\n",
    "\n",
    "print(q2_answer)"
   ]
  },
  {
   "cell_type": "code",
   "execution_count": null,
   "metadata": {},
   "outputs": [],
   "source": [
    "# AUTOGRADER\n",
    "## q2_rquare beta0,beta1- Autograder?"
   ]
  },
  {
   "cell_type": "markdown",
   "metadata": {},
   "source": [
    "### Question 3\n",
    "\n",
    "Make a chart of Cumulative CO2 Emissions from Energy (1850-2007) Rank vs. HDI Rank.\n",
    "\n",
    "Explain your result in 2-3 sentences.\n",
    "\n",
    "Hint: \n",
    "* Order the countries in descending order accoridng to the \"Cumulative CO2 Emissions from Emergy\" variable. \n",
    "* The method `sort` can home handy for this question http://data8.org/datascience/_autosummary/datascience.tables.Table.sort.html#datascience.tables.Table.sort"
   ]
  },
  {
   "cell_type": "code",
   "execution_count": null,
   "metadata": {},
   "outputs": [],
   "source": [
    "# YOUR CHART HERE \n",
    "\n",
    "raise NotImplementedError()"
   ]
  },
  {
   "cell_type": "code",
   "execution_count": null,
   "metadata": {},
   "outputs": [],
   "source": [
    "q3_rquare=# YOUR CODE HERE\n",
    "\n",
    "raise NotImplementedError()"
   ]
  },
  {
   "cell_type": "code",
   "execution_count": null,
   "metadata": {},
   "outputs": [],
   "source": [
    "q3_answer = r\"\"\"\n",
    "\n",
    "Put your answer here, replacing this text. Do not take into account the ### YOUR CODE HERE below\n",
    "\n",
    "\"\"\"\n",
    "\n",
    "# YOUR CODE HERE\n",
    "raise NotImplementedError()\n",
    "\n",
    "print(q3_answer)"
   ]
  },
  {
   "cell_type": "code",
   "execution_count": null,
   "metadata": {},
   "outputs": [],
   "source": [
    "# Autograder\n",
    "\n",
    "## q3_rquare beta0,beta1- Autograder?"
   ]
  },
  {
   "cell_type": "markdown",
   "metadata": {},
   "source": [
    "### Question 4\n",
    "\n",
    "Make a chart of Cumulative CO2 Emissions from Energy (1850-2007) Per Capita Rank vs. HDI Rank. \n",
    "\n",
    "Explain your result in 2-3 sentences."
   ]
  },
  {
   "cell_type": "code",
   "execution_count": null,
   "metadata": {},
   "outputs": [],
   "source": [
    "# YOUR CHART HERE \n",
    "\n",
    "raise NotImplementedError()"
   ]
  },
  {
   "cell_type": "code",
   "execution_count": null,
   "metadata": {},
   "outputs": [],
   "source": [
    "q4_rquare=# YOUR CODE HERE\n",
    "\n",
    "raise NotImplementedError()"
   ]
  },
  {
   "cell_type": "code",
   "execution_count": null,
   "metadata": {},
   "outputs": [],
   "source": [
    "q4_answer = r\"\"\"\n",
    "\n",
    "Put your answer here, replacing this text. Do not take into account the ### YOUR CODE HERE below\n",
    "\n",
    "\"\"\"\n",
    "\n",
    "# YOUR CODE HERE\n",
    "raise NotImplementedError()\n",
    "\n",
    "print(q4_answer)"
   ]
  },
  {
   "cell_type": "code",
   "execution_count": null,
   "metadata": {},
   "outputs": [],
   "source": [
    "# Autograder\n",
    "\n",
    "## q4_rquare beta0,beta1- Autograder?"
   ]
  },
  {
   "cell_type": "markdown",
   "metadata": {},
   "source": [
    "### Question 5\n",
    "\n",
    "Which country has the highest Total GHG Emissions in 2010? Where do they rank on the per-capita scale? Which country has the highest per-capita?\n",
    "\n",
    "Explain your result in 2-3 sentences."
   ]
  },
  {
   "cell_type": "code",
   "execution_count": null,
   "metadata": {},
   "outputs": [],
   "source": [
    "q5_answer = r\"\"\"\n",
    "\n",
    "Put your answer here, replacing this text. Do not take into account the ### YOUR CODE HERE below\n",
    "\n",
    "\"\"\"\n",
    "\n",
    "# YOUR CODE HERE\n",
    "raise NotImplementedError()\n",
    "\n",
    "print(q5_answer)"
   ]
  },
  {
   "cell_type": "code",
   "execution_count": null,
   "metadata": {},
   "outputs": [],
   "source": [
    "#Autograder solutions\n",
    "#1. China\n",
    "#2. 68\n",
    "#3. Kuwait - hidden tests?"
   ]
  },
  {
   "cell_type": "markdown",
   "metadata": {},
   "source": [
    "### Question 6\n",
    "\n",
    "Which country has the highest “Footprint of all goods and services consumed”? Which has the highest per-capita? \n",
    "\n",
    "Explain your result in 2-3 sentences."
   ]
  },
  {
   "cell_type": "code",
   "execution_count": null,
   "metadata": {},
   "outputs": [],
   "source": [
    "q6_answer = r\"\"\"\n",
    "\n",
    "Put your answer here, replacing this text. Do not take into account the ### YOUR CODE HERE below\n",
    "\n",
    "\"\"\"\n",
    "\n",
    "# YOUR CODE HERE\n",
    "raise NotImplementedError()\n",
    "\n",
    "print(q6_answer)"
   ]
  },
  {
   "cell_type": "code",
   "execution_count": null,
   "metadata": {},
   "outputs": [],
   "source": [
    "# Autograders\n",
    "#1. USA\n",
    "#2. Singapor"
   ]
  },
  {
   "cell_type": "markdown",
   "metadata": {},
   "source": [
    "### Question 7\n",
    "\n",
    "* Go to www.gapminder.org/tools. Create an animated graph that tells you something interesting about climate change (CO2 Emissions should be on one axis). \n",
    "    * Note you can change an axis by clicking on the axis label and selecting a new measure from the various options. \n",
    "    \n",
    "* Use the print tool(or schreenshots) to create an image of **one year** (be careful – sometimes the most recent data doesn’t include many countries, so take a screenshot that includes most of the world) and include that with your assignment. \n",
    "\n",
    "* **Explain your results**\n",
    "\n",
    "Now, we are going to add the image you just created to this notebook. First, we'll need to upload the screenshots into your datahub. To do this, click the upload button on the top right-hand corner of the datahub file browser. Then select your files and upload them to datahub. \n",
    "![Demo](images/demo.png)\n",
    "Once both images have been uploaded, you can display them below by replacing the \"...\" with the filenames.png. Make sure to give it an appropriate and descriptive title."
   ]
  },
  {
   "cell_type": "markdown",
   "metadata": {},
   "source": [
    "###### To display the graph (double click on this cell)\n",
    "\n",
    "**Graph Title**\n",
    "![Graph](...)\n"
   ]
  },
  {
   "cell_type": "code",
   "execution_count": null,
   "metadata": {},
   "outputs": [],
   "source": [
    "q7_answer = r\"\"\"\n",
    "\n",
    "Put your answer here, replacing this text. Do not take into account the ### YOUR CODE HERE below\n",
    "\n",
    "\"\"\"\n",
    "\n",
    "# YOUR CODE HERE\n",
    "raise NotImplementedError()\n",
    "\n",
    "print(q7_answer)"
   ]
  },
  {
   "cell_type": "code",
   "execution_count": null,
   "metadata": {},
   "outputs": [],
   "source": [
    "#Autograder\n",
    "\n",
    "## Autograder?(image has been added and has title)"
   ]
  },
  {
   "cell_type": "markdown",
   "metadata": {},
   "source": [
    "### Question 8(a)\n",
    "\n",
    "Reflect on your findings.\n",
    "\n",
    "Do you think per-capita or total national emissions are the more appropriate way to do carbon accounting, and why?"
   ]
  },
  {
   "cell_type": "code",
   "execution_count": null,
   "metadata": {},
   "outputs": [],
   "source": [
    "q8a_answer = r\"\"\"\n",
    "\n",
    "Put your answer here, replacing this text. Do not take into account the ### YOUR CODE HERE below\n",
    "\n",
    "\"\"\"\n",
    "\n",
    "# YOUR CODE HERE\n",
    "raise NotImplementedError()\n",
    "\n",
    "print(q8a_answer)"
   ]
  },
  {
   "cell_type": "markdown",
   "metadata": {},
   "source": [
    "### Question 8(b)\n",
    "\n",
    "Do you think accounting should be based on what a country emits within its boundaries, or what a country consumes, including emissions from the production of goods elsewhere?"
   ]
  },
  {
   "cell_type": "code",
   "execution_count": null,
   "metadata": {},
   "outputs": [],
   "source": [
    "q8b_answer = r\"\"\"\n",
    "\n",
    "Put your answer here, replacing this text. Do not take into account the ### YOUR CODE HERE below\n",
    "\n",
    "\"\"\"\n",
    "\n",
    "# YOUR CODE HERE\n",
    "raise NotImplementedError()\n",
    "\n",
    "print(8b_answer)"
   ]
  },
  {
   "cell_type": "markdown",
   "metadata": {},
   "source": [
    "### Question 8(c)\n",
    "\n",
    "Do you think countries should reduce their emissions in proportion to \n",
    "\n",
    "a) their past emissions\n",
    "\n",
    "b) their level of development & capacity to reduce\n",
    "\n",
    "c) the degree to which they will be impacted by climate change\n",
    "\n",
    "d) a combination of these, or something else (explain)"
   ]
  },
  {
   "cell_type": "code",
   "execution_count": null,
   "metadata": {},
   "outputs": [],
   "source": [
    "q8c_answer = r\"\"\"\n",
    "\n",
    "Put your answer here, replacing this text. Do not take into account the ### YOUR CODE HERE below\n",
    "\n",
    "\"\"\"\n",
    "\n",
    "# YOUR CODE HERE\n",
    "raise NotImplementedError()\n",
    "\n",
    "print(q8c_answer)"
   ]
  },
  {
   "cell_type": "markdown",
   "metadata": {},
   "source": [
    "## Final Survey <a id='section7'></a>\n",
    "\n",
    "Congrats! You've finished the final Jupyter Notebook assignment! The Division of Data Sciences and Information would like to ask you to please fill this survey out as a part of your assignment. We would like to improve the module for future semesters, and would really appreciate it if you took the time to fill this out so we can better serve you!\n",
    "\n",
    "Please make sure you are logged into your Berkeley (.edu) email address to access the form.\n",
    "### [Survey Link](https://goo.gl/forms/FqSRIYCzAAOfZ5Bv2)\n",
    "\n",
    "Alternatively, please copy and paste this link into your URL bar: https://goo.gl/forms/FqSRIYCzAAOfZ5Bv2"
   ]
  },
  {
   "cell_type": "markdown",
   "metadata": {},
   "source": [
    "## Saving the Notebook as an HTML\n",
    "Congrats on finishing your final notebook! As usual, you will be submitting this notebook as an HTML file. To turn in this lab assignment follow the steps below:\n",
    "\n",
    "1. In the toolbar above, click on File &rarr; Download as &rarr; HTML\n",
    "2. The file should have been saved in an HTML format in your downloads folder.\n",
    "3. Click to open in a web browser of your choice to make sure that everything looks okay."
   ]
  }
 ],
 "metadata": {
  "kernelspec": {
   "display_name": "Python 3",
   "language": "python",
   "name": "python3"
  },
  "language_info": {
   "codemirror_mode": {
    "name": "ipython",
    "version": 3
   },
   "file_extension": ".py",
   "mimetype": "text/x-python",
   "name": "python",
   "nbconvert_exporter": "python",
   "pygments_lexer": "ipython3",
   "version": "3.6.7"
  }
 },
 "nbformat": 4,
 "nbformat_minor": 2
}

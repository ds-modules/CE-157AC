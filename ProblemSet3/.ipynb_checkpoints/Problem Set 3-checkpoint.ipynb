{
 "cells": [
  {
   "cell_type": "markdown",
   "metadata": {},
   "source": [
    "# E 157AC Spring 2019\n",
    "\n",
    "## Assignment: Problem Set 3\n",
    "**Due:** Friday, April 5, 2019 at 11:59 pm\n",
    "<br>\n",
    "*Submit via bCourses*"
   ]
  },
  {
   "cell_type": "markdown",
   "metadata": {},
   "source": [
    "**Before you begin, run the following cell to load the packages needed for the rest of the notebook**"
   ]
  },
  {
   "cell_type": "code",
   "execution_count": null,
   "metadata": {},
   "outputs": [],
   "source": [
    "# RUN THIS CELL or the notebook will not work properly\n",
    "from datascience import *\n",
    "import numpy as np\n",
    "import matplotlib\n",
    "%matplotlib inline\n",
    "import matplotlib.pyplot as plt\n",
    "import pandas as pd\n",
    "from scipy import stats"
   ]
  },
  {
   "cell_type": "markdown",
   "metadata": {},
   "source": [
    "## Introduction <a id='section0'></a>\n",
    "\n",
    "In this assignment, you will dive into some publicly available data on climate change, economic growth, and human development in an attempt to understand a little about the complex relationships between these parameters. \n",
    "\n",
    "With each chart you create, be sure to label your axes, create a chart title, and provide a simple regression line (including the $R^2$ value). Note that you don’t need a chart legend if you only have one set of data. Remember - presentation is important! Also remember that a robust analysis would use far more in depth statistics, in particular focusing on each component of your regression model, both the size of the effect of each component as well as the significance, but for the purposes of this problem set linear regression slopes and $R^2$ values will do."
   ]
  },
  {
   "cell_type": "markdown",
   "metadata": {},
   "source": [
    "The data is in a table named `problem_set` (Run the next cell to see what it looks like)."
   ]
  },
  {
   "cell_type": "code",
   "execution_count": null,
   "metadata": {},
   "outputs": [],
   "source": [
    "problem_set = Table.read_table('data/ps3data.csv')\n",
    "problem_set"
   ]
  },
  {
   "cell_type": "markdown",
   "metadata": {},
   "source": [
    "Note that some values in the table are listed as `nan`. This means that the entry is missing, incorrect, or unknown (Welcome to the \"real world\"). You will soon see how the presence of `nan` values can impact your graphs and regression outputs."
   ]
  },
  {
   "cell_type": "markdown",
   "metadata": {},
   "source": [
    "Here's a list of all the column labels contained in the table:"
   ]
  },
  {
   "cell_type": "code",
   "execution_count": null,
   "metadata": {},
   "outputs": [],
   "source": [
    "problem_set.labels"
   ]
  },
  {
   "cell_type": "markdown",
   "metadata": {},
   "source": [
    "### Data Dictionary<a id='section8'></a>\n",
    "\n",
    "The table belows shows what each column in our data describes. "
   ]
  },
  {
   "cell_type": "markdown",
   "metadata": {},
   "source": [
    "|Column Name   | Description |\n",
    "|--------------|---------|\n",
    "|countries|Name of country|\n",
    "|co2_cumulative |Historical Emissions A Cumulative CO2 emission from energy, 1850-2007 (million tonnes) |\n",
    "|ghg_cumulative | Historical Emissions B Cumulative GHG Emissions, 1990-2010 (million tonnes CO2 equivalent) |\n",
    "|ghg_2010| Current GHG Emissions Total GHG Emissions, 2010 (million tonnes CO2 equivalent)|\n",
    "|co2_2011|Current CO2 Emissions CO2 emissions from fossil fuel combustion, 2011 (million tonnes) |\n",
    "|change_1971_2011|Change from 1971–2011 (%) |\n",
    "|change_1990_2011|Change from 1990–2011 (%) |\n",
    "|total_footprint|Total carbon footprint Footprint of all goods and services consumed (million tonnes CO2 equivalent) |\n",
    "|pop_2010|Population 2010|\n",
    "|gdp_ppp_2010|GDP-PPP 2010 (Million $ (2005))|\n",
    "|hdi_2011|HDI, 2011 |\n",
    "|hdi_change_1990_2011|HDI Change from 1990-2011 (%) |\n",
    "|gender_inequality_2012|Gender Inequality Index Value, 2012 |\n",
    "|maternal_2010|Maternal Mortality Ratio, 2010 |"
   ]
  },
  {
   "cell_type": "markdown",
   "metadata": {},
   "source": [
    "## Plotting <a id='section1'></a>\n",
    "\n",
    "#### Scatter Plots\n",
    "We've defined the following function `scatter()` for you to use. You don't have to know exactly how it is implemented, but be sure to understand what it does and how it is used."
   ]
  },
  {
   "cell_type": "code",
   "execution_count": null,
   "metadata": {},
   "outputs": [],
   "source": [
    "def scatter(x, y, x_label, y_label, title, fit_line=False):\n",
    "    \"\"\"\n",
    "    Generate a scatter plot using x and y\n",
    "\n",
    "    Arguments:\n",
    "    x -- an array of x-values\n",
    "    y -- an array of y-values\n",
    "    \n",
    "    Example Usage:\n",
    "    x = problem_set.column(\"column 1\")\n",
    "    y = problem_set.column(\"column 2\")\n",
    "    p1= scatter(x,y, \"column 1\", \"column 2\", \"title of graph\", False) \n",
    "    \"\"\"\n",
    "    plt.figure(figsize=(8, 6))\n",
    "    # Create a scatterplot of x and y columns\n",
    "    plt.scatter(x,y, color='b', label='original data', alpha=0.2)\n",
    "    \n",
    "    if fit_line == True:\n",
    "        # Perform linear regression\n",
    "        slope, intercept, r_value, p_value, std_err = stats.linregress(x, y)\n",
    "        \n",
    "        # Plot the best-fit line\n",
    "        plt.plot(x, slope*x + intercept, 'r', label='fitted line')\n",
    "        \n",
    "        # Output the equation for the regression line\n",
    "        print(\"regression line : y=\" + str(slope) +\"x + \" + str(intercept))\n",
    "        print(\"correlation: \" + str(r_value))\n",
    "        print(\"R^2: %f\" % r_value**2)\n",
    "        \n",
    "    # Label the graph\n",
    "    plt.xlabel(x_label)\n",
    "    plt.ylabel(y_label)\n",
    "    plt.title(title)"
   ]
  },
  {
   "cell_type": "markdown",
   "metadata": {},
   "source": [
    "Using `scatter()`, you're able to take any two columns of a table, and plot them quite easily! For example, let's plot the Current GHG Emissions, 2010 vs. Population (2010):"
   ]
  },
  {
   "cell_type": "code",
   "execution_count": null,
   "metadata": {
    "scrolled": false
   },
   "outputs": [],
   "source": [
    "x_col = problem_set.column(\"pop_2010\")\n",
    "y_col = problem_set.column(\"ghg_2010\")\n",
    "scatter(x_col, y_col, x_label=\"Population 2010\", y_label=\"Current GHG Emissions, 2010\", \n",
    "        title=\"Current GHG Emissions, 2010 vs. Population (2010)\", \n",
    "        fit_line=False)"
   ]
  },
  {
   "cell_type": "markdown",
   "metadata": {},
   "source": [
    "It looks the scatter function only plots the points where the x and y values are not `nan`. For simply plotting on a scatter plot, this will not present any issues. However, let's see what happens if we perform linear regression on the data points and try to fit a regression line through the points. "
   ]
  },
  {
   "cell_type": "markdown",
   "metadata": {},
   "source": [
    "#### Linear Regression\n",
    "If you wish to add a line of best fit to your graph, simply set the `fit_line` parameter to True."
   ]
  },
  {
   "cell_type": "code",
   "execution_count": null,
   "metadata": {},
   "outputs": [],
   "source": [
    "scatter(x_col, y_col, x_label=\"Population 2010\", y_label=\"Current GHG Emissions, 2010\", \n",
    "        title=\"Current GHG Emissions, 2010 vs. Population (2010)\", \n",
    "        fit_line=True)"
   ]
  },
  {
   "cell_type": "markdown",
   "metadata": {},
   "source": [
    "What happened here? Why is the line of best fit not displayed? **Hint:** look at the regression line equation above the graph."
   ]
  },
  {
   "cell_type": "markdown",
   "metadata": {},
   "source": [
    "#### Cleaning the data\n",
    "\n",
    "If you guessed that `nan` values are throwing off the results of performing linear regression on the data points, you would be correct. This means we will have to clean the data by making sure that the coordinates of every point (x, y) are not `nan`. We've defined a function for you that cleans the data. Again, don't worry about the implementation, but make sure you know what it is doing and how to use it."
   ]
  },
  {
   "cell_type": "code",
   "execution_count": null,
   "metadata": {},
   "outputs": [],
   "source": [
    "def clean(x_values, y_values):\n",
    "    \"\"\"\n",
    "    Goes through corresponding pairs of x and y values. \n",
    "    Only keeps the coordinates where x and y are both not nan \n",
    "\n",
    "    Arguments:\n",
    "    x_values -- an array of x-values\n",
    "    y_values -- an array of y-values\n",
    "    \n",
    "    Example Usage:\n",
    "    x = problem_set.column(\"column 1\")\n",
    "    y = problem_set.column(\"column 2\")\n",
    "    cleaned_x, cleaned_y = clean(x, y)\n",
    "    \"\"\"\n",
    "    \n",
    "    def is_nan(item):\n",
    "        \"\"\"\n",
    "        Function that checks if item is nan\n",
    "        \"\"\"\n",
    "        if type(item) == np.str_:\n",
    "            return False\n",
    "        else:\n",
    "            return np.isnan(item)\n",
    "    \n",
    "    cleaned_coordinates = []\n",
    "    \n",
    "    # Make sure x_values and y_values are the same length\n",
    "    assert len(x_values) == len(y_values), \"x_values and y_values are not the same length!\"\n",
    "    \n",
    "    # Loops through every x, y pair\n",
    "    for x, y in zip(x_values,y_values):\n",
    "        # If x or y is nan, drop the coordinate\n",
    "        if is_nan(x) or is_nan(y):\n",
    "            continue\n",
    "        else:\n",
    "            cleaned_coordinates.append((x, y))\n",
    "    \n",
    "    cleaned_x_values, cleaned_y_values = zip(*cleaned_coordinates)\n",
    "    \n",
    "    # Return 2 arrays\n",
    "    return np.array(cleaned_x_values), np.array(cleaned_y_values)"
   ]
  },
  {
   "cell_type": "markdown",
   "metadata": {},
   "source": [
    "Now let's try graphing that regression line again after cleaning our two columns."
   ]
  },
  {
   "cell_type": "code",
   "execution_count": null,
   "metadata": {},
   "outputs": [],
   "source": [
    "x_col = problem_set.column(\"pop_2010\")\n",
    "y_col = problem_set.column(\"co2_2011\")\n",
    "\n",
    "clean_x, clean_y = clean(x_col, y_col)\n",
    "\n",
    "scatter(clean_x, clean_y, x_label=\"Population 2010\", y_label=\"Current GHG Emissions, 2010\", \n",
    "        title=\"Current GHG Emissions, 2010 vs. Population 2010\", \n",
    "        fit_line=True)"
   ]
  },
  {
   "cell_type": "markdown",
   "metadata": {},
   "source": [
    "## Problem 1\n",
    "\n",
    "### Question 1a\n",
    "Make a chart of Total GHG Emissions, 2010 vs GDP."
   ]
  },
  {
   "cell_type": "code",
   "execution_count": null,
   "metadata": {},
   "outputs": [],
   "source": [
    "# YOUR CODE HERE"
   ]
  },
  {
   "cell_type": "markdown",
   "metadata": {},
   "source": [
    "### Question 1b\n",
    "Explain your result in 2-3 sentences."
   ]
  },
  {
   "cell_type": "markdown",
   "metadata": {},
   "source": [
    "**Answer:** YOUR ANSWER HERE"
   ]
  },
  {
   "cell_type": "markdown",
   "metadata": {},
   "source": [
    "## Problem 2\n",
    "\n",
    "\n",
    "### Question 2a\n",
    "\n",
    "Make a chart of Per-Capita Total GHG Emissions, 2010 vs. HDI.\n",
    "\n",
    "**Hint:** Create a new column for Per-Capita GHG Emissions."
   ]
  },
  {
   "cell_type": "code",
   "execution_count": null,
   "metadata": {},
   "outputs": [],
   "source": [
    "# YOUR CODE HERE"
   ]
  },
  {
   "cell_type": "markdown",
   "metadata": {},
   "source": [
    "### Question 2b\n",
    "Explain your result in 2-3 sentences."
   ]
  },
  {
   "cell_type": "markdown",
   "metadata": {},
   "source": [
    "**Answer:**\n",
    "YOUR ANSWER HERE"
   ]
  },
  {
   "cell_type": "markdown",
   "metadata": {},
   "source": [
    "## Problem 3\n",
    "\n",
    "#### Sorting and Ranking\n",
    "\n",
    "In order to sort the data by a specific attribute or column, use the following notation: `table.sort(<column name>)`. For example, let's sort our table by the column `maternal_2010`, the maternal mortality rate in 2010."
   ]
  },
  {
   "cell_type": "code",
   "execution_count": null,
   "metadata": {},
   "outputs": [],
   "source": [
    "problem_set.sort(\"maternal_2010\")"
   ]
  },
  {
   "cell_type": "markdown",
   "metadata": {},
   "source": [
    "The rows are now ordered by the `maternal_2010` column from least to greatest. Notice that the default action for the `table.sort()` function is to sort in ascending order (least to greatest). What if we wanted to sort from the highest to lowest? Then, we add `descending=True` inside the sort function."
   ]
  },
  {
   "cell_type": "code",
   "execution_count": null,
   "metadata": {},
   "outputs": [],
   "source": [
    "problem_set.sort(\"maternal_2010\", descending=True)"
   ]
  },
  {
   "cell_type": "markdown",
   "metadata": {},
   "source": [
    "Why are we seeing `nan` values in the `maternal_2010` column? It's because Python is sorting all the `nan` values to the top of the column. It looks like we need to create a function that ranks all the non-`nan` values.\n",
    "\n",
    "The following `rank_values()` function will compute the ranks for you. Don't worry about understanding the exact code implementation. \n",
    "\n",
    "However, the main logic of the code is as follows:\n",
    "* First, sort the values from greatest to least.\n",
    "* Then, go through the values one by one, assigning ranks starting from 1 onwards\n",
    "* For each value:\n",
    "    * If the value is `nan`, then its rank is `nan`\n",
    "    * If the value is equal to the value immediately before it, then its rank is the same as that of the previous value\n",
    "    * Else, the value is less then the previous value, so we increment the rank by 1 and assign the new rank"
   ]
  },
  {
   "cell_type": "code",
   "execution_count": null,
   "metadata": {},
   "outputs": [],
   "source": [
    "def rank_values(tbl, column_name):\n",
    "    \"\"\"\n",
    "    Creates an array of ranks for the given tbl and column_name\n",
    "    Ranking greatest to least (Rank 1 to n)\n",
    "\n",
    "    Arguments:\n",
    "    tbl -- a Table containing colum_name\n",
    "    column_name -- string column name to create ranks for\n",
    "    \n",
    "    Returns:\n",
    "    Array of ranks, ranking the values of given column\n",
    "    \n",
    "    NOTE: The ranks for nan values is given as nan\n",
    "    \n",
    "    Example Usage:\n",
    "    mtnl_ranks = rank_values(problem_set, \"maternal_2010\", descending=True)\n",
    "    \"\"\"\n",
    "    # Check column is in table\n",
    "    assert column_name in tbl.labels, \"The column name you entered is not in the table!\"\n",
    "    \n",
    "    rank = 0\n",
    "    col_values = tbl.column(column_name)\n",
    "    ranks = np.repeat(np.nan, len(col_values))\n",
    "    sort_indices = np.argsort(col_values)[::-1]\n",
    "    prev_value = np.nan\n",
    "\n",
    "    for i in sort_indices:\n",
    "        curr_value = col_values[i]\n",
    "        if np.isnan(curr_value):\n",
    "            continue\n",
    "        elif curr_value == prev_value:\n",
    "            ranks[i] = rank\n",
    "        else:\n",
    "            rank += 1\n",
    "            prev_value = curr_value\n",
    "            ranks[i] = rank\n",
    "\n",
    "    assert len(col_values) == len(ranks)\n",
    "\n",
    "    return ranks"
   ]
  },
  {
   "cell_type": "markdown",
   "metadata": {},
   "source": [
    "With our function, let's compute the ranks for the `maternal_2010` column."
   ]
  },
  {
   "cell_type": "code",
   "execution_count": null,
   "metadata": {},
   "outputs": [],
   "source": [
    "mtnl_ranks = rank_values(problem_set, \"maternal_2010\")\n",
    "mtnl_ranks"
   ]
  },
  {
   "cell_type": "markdown",
   "metadata": {},
   "source": [
    "And then add it to our data table."
   ]
  },
  {
   "cell_type": "code",
   "execution_count": null,
   "metadata": {},
   "outputs": [],
   "source": [
    "problem_set = problem_set.with_column(\"maternal_2010_rank\", mtnl_ranks)\n",
    "problem_set"
   ]
  },
  {
   "cell_type": "markdown",
   "metadata": {},
   "source": [
    "Now, we can sort the table by `maternal_2010` using the ranked values."
   ]
  },
  {
   "cell_type": "code",
   "execution_count": null,
   "metadata": {},
   "outputs": [],
   "source": [
    "problem_set.sort(\"maternal_2010_rank\")"
   ]
  },
  {
   "cell_type": "markdown",
   "metadata": {},
   "source": [
    "Notice that `nan` ranks still exist."
   ]
  },
  {
   "cell_type": "code",
   "execution_count": null,
   "metadata": {},
   "outputs": [],
   "source": [
    "problem_set.sort(\"maternal_2010_rank\", descending=True)"
   ]
  },
  {
   "cell_type": "markdown",
   "metadata": {},
   "source": [
    "Therefore, you should be sure to clean the columns that you will be graphing in the questions below."
   ]
  },
  {
   "cell_type": "markdown",
   "metadata": {},
   "source": [
    "### Question 3a\n",
    "Make a chart of Cumulative CO2 Emissions from Energy (1850-2007) Rank vs. HDI Rank."
   ]
  },
  {
   "cell_type": "code",
   "execution_count": null,
   "metadata": {},
   "outputs": [],
   "source": [
    "# YOUR CODE HERE"
   ]
  },
  {
   "cell_type": "markdown",
   "metadata": {},
   "source": [
    "### Question 3b\n",
    "Explain your result in 2-3 sentences."
   ]
  },
  {
   "cell_type": "markdown",
   "metadata": {},
   "source": [
    "**Answer:**\n",
    "YOUR ANSWER HERE"
   ]
  },
  {
   "cell_type": "markdown",
   "metadata": {},
   "source": [
    "## Problem 4\n",
    "\n",
    "\n",
    "### Question 4a\n",
    "\n",
    "Make a chart of Cumulative CO2 Emissions from Energy (1850-2007) Per Capita Rank vs. HDI Rank."
   ]
  },
  {
   "cell_type": "code",
   "execution_count": null,
   "metadata": {},
   "outputs": [],
   "source": [
    "# YOUR CODE HERE"
   ]
  },
  {
   "cell_type": "markdown",
   "metadata": {},
   "source": [
    "### Question 4b\n",
    "Explain your result in 2-3 sentences."
   ]
  },
  {
   "cell_type": "markdown",
   "metadata": {},
   "source": [
    "**Answer:**\n",
    "YOUR ANSWER HERE"
   ]
  },
  {
   "cell_type": "markdown",
   "metadata": {},
   "source": [
    "## Problem 5\n",
    "\n",
    "### Question 5a\n",
    "Which country has the highest Total GHG Emissions in 2010?"
   ]
  },
  {
   "cell_type": "code",
   "execution_count": null,
   "metadata": {},
   "outputs": [],
   "source": [
    "# YOUR CODE HERE"
   ]
  },
  {
   "cell_type": "markdown",
   "metadata": {},
   "source": [
    "**Answer:**\n",
    "YOUR ANSWER HERE"
   ]
  },
  {
   "cell_type": "markdown",
   "metadata": {},
   "source": [
    "### Question 5b\n",
    "Where do they rank on the per-capita scale?\n",
    "<br>\n",
    "**Hint:** Create a new column for Total GHG Emissions per capita, then rank."
   ]
  },
  {
   "cell_type": "code",
   "execution_count": null,
   "metadata": {},
   "outputs": [],
   "source": [
    "# YOUR CODE HERE"
   ]
  },
  {
   "cell_type": "markdown",
   "metadata": {},
   "source": [
    "**Answer:**\n",
    "YOUR ANSWER HERE"
   ]
  },
  {
   "cell_type": "markdown",
   "metadata": {},
   "source": [
    "### Question 5c\n",
    "Which country has the highest Total GHG Emissions per-capita?"
   ]
  },
  {
   "cell_type": "code",
   "execution_count": null,
   "metadata": {},
   "outputs": [],
   "source": [
    "# YOUR CODE HERE"
   ]
  },
  {
   "cell_type": "markdown",
   "metadata": {},
   "source": [
    "**Answer:**\n",
    "YOUR ANSWER HERE"
   ]
  },
  {
   "cell_type": "markdown",
   "metadata": {},
   "source": [
    "## Problem 6\n",
    "\n",
    "### Question 6a\n",
    "Which country has the highest “Footprint of all goods and services consumed”?"
   ]
  },
  {
   "cell_type": "code",
   "execution_count": null,
   "metadata": {},
   "outputs": [],
   "source": [
    "# YOUR CODE HERE"
   ]
  },
  {
   "cell_type": "markdown",
   "metadata": {},
   "source": [
    "**Answer:**\n",
    "YOUR ANSWER HERE"
   ]
  },
  {
   "cell_type": "markdown",
   "metadata": {},
   "source": [
    "### Question 6b\n",
    "Which has the highest per-capita? "
   ]
  },
  {
   "cell_type": "code",
   "execution_count": null,
   "metadata": {},
   "outputs": [],
   "source": [
    "# YOUR CODE HERE"
   ]
  },
  {
   "cell_type": "markdown",
   "metadata": {},
   "source": [
    "**Answer:**\n",
    "YOUR ANSWER HERE"
   ]
  },
  {
   "cell_type": "markdown",
   "metadata": {},
   "source": [
    "## Problem 7\n",
    "\n",
    "Go to www.gapminder.org/tools. Create an animated graph that tells you something interesting about climate change (CO2 Emissions should be on one axis). \n",
    "* Note: you can change an axis by clicking on the axis label and selecting a new measure from the various options.\n",
    "\n",
    "### Question 7a\n",
    "**Use the print tool (or screenshots) to create an image of one year** (be careful – sometimes the most recent data doesn’t include many countries, so take a screenshot that includes most of the world) and include that with your assignment. Replace the words \"Graph Title\" with something more informative.\n",
    "\n",
    "Upload it to Jupyter and display the screenshot in the next cell (Double click on the cell below (the \"markdown cell\") and replace the three dots (…) with the file name of the screenshot. Don’t forget to upload your screenshot to your data hub first!). Feel free to refer to Problem Set 1 for instructions on how to upload files to Jupyter."
   ]
  },
  {
   "cell_type": "markdown",
   "metadata": {},
   "source": [
    "**Graph Title**\n",
    "![Graph](...)"
   ]
  },
  {
   "cell_type": "markdown",
   "metadata": {},
   "source": [
    "### Question 7b\n",
    "\n",
    "Explain your results in 2-4 sentences."
   ]
  },
  {
   "cell_type": "markdown",
   "metadata": {},
   "source": [
    "**Answer:**\n",
    "YOUR ANSWER HERE"
   ]
  },
  {
   "cell_type": "markdown",
   "metadata": {},
   "source": [
    "## Problem 8\n",
    "Reflect on your findings.\n",
    "\n",
    "### Question 8a\n",
    "Do you think per-capita or total national emissions are the more appropriate way to do carbon accounting, and why?"
   ]
  },
  {
   "cell_type": "markdown",
   "metadata": {},
   "source": [
    "**Answer:**\n",
    "YOUR ANSWER HERE"
   ]
  },
  {
   "cell_type": "markdown",
   "metadata": {},
   "source": [
    "### Question 8b\n",
    "Do you think accounting should be based on what a country emits within its boundaries, or what a country consumes, including emissions from the production of goods elsewhere?"
   ]
  },
  {
   "cell_type": "markdown",
   "metadata": {},
   "source": [
    "**Answer:**\n",
    "YOUR ANSWER HERE"
   ]
  },
  {
   "cell_type": "markdown",
   "metadata": {},
   "source": [
    "### Question 8c\n",
    "\n",
    "**Select one choice and explain.** Do you think countries should reduce their emissions in proportion to:\n",
    "* (A) Their past emissions\n",
    "* (B) Their level of development & capacity to reduce\n",
    "* (C) The degree to which they will be impacted by climate change\n",
    "* (D) A combination of these, or something else"
   ]
  },
  {
   "cell_type": "markdown",
   "metadata": {},
   "source": [
    "**Answer:**\n",
    "YOUR ANSWER HERE"
   ]
  },
  {
   "cell_type": "markdown",
   "metadata": {},
   "source": [
    "# Final Survey <a id='section7'></a>\n",
    "\n",
    "Congrats! You've finished the final Jupyter Notebook assignment! The Division of Data Sciences and Information would like to ask you to please fill this survey out as a part of your assignment. We would like to improve the module for future semesters, and would really appreciate it if you took the time to fill this out so we can better serve you!\n",
    "\n",
    "Please make sure you are logged into your Berkeley (.edu) email address to access the form.\n",
    "### [Survey Link](https://goo.gl/forms/FqSRIYCzAAOfZ5Bv2)\n",
    "\n",
    "Alternatively, please copy and paste this link into your URL bar: https://goo.gl/forms/FqSRIYCzAAOfZ5Bv2"
   ]
  },
  {
   "cell_type": "markdown",
   "metadata": {},
   "source": [
    "## Saving the Notebook as an PDF\n",
    "\n",
    "Congrats on finishing this notebook! As before, you will be submitting this notebook as an PDF file. To turn in this assignment follow the steps below:\n",
    "\n",
    "1. **Important:** Click the Save icon located at the far left on the top toolbar. Make sure to do this before following the next steps.\n",
    "2. Save the webpage as a PDF.\n",
    "    * For Chrome users:\n",
    "        1. Click on the rightmost button on the top toolbar\n",
    "        2. In the drop down, click \"Print\"\n",
    "        3. For \"Destination\", choose \"Save as PDF\"\n",
    "    * For Firefox users:\n",
    "        1. Click on the rightmost button on the top toolbar\n",
    "        2. In the drop down, click \"Print\"\n",
    "        3. Click Print and set the destination as \"Adobe PDF\" or \"Microsoft Print to PDF\"\n",
    "5. Once the file downloads, open it using a PDF reader to make sure that everything looks okay.\n",
    "6. If any pages are omitted from the output PDF, make sure that the images that you have uploaded to Jupyter are displaying properly in the notebook and that the correct filenames are specified. **Issues in converting the notebook to PDF format usually happen when an image in the notebook is not displayed/embedded properly.**\n",
    "7. Submit to the Problem Set 3 Assignment on bCourses."
   ]
  }
 ],
 "metadata": {
  "kernelspec": {
   "display_name": "Python 3",
   "language": "python",
   "name": "python3"
  },
  "language_info": {
   "codemirror_mode": {
    "name": "ipython",
    "version": 3
   },
   "file_extension": ".py",
   "mimetype": "text/x-python",
   "name": "python",
   "nbconvert_exporter": "python",
   "pygments_lexer": "ipython3",
   "version": "3.6.7"
  }
 },
 "nbformat": 4,
 "nbformat_minor": 2
}

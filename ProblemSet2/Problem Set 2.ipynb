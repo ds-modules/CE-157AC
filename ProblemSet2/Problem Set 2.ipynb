{
 "cells": [
  {
   "cell_type": "markdown",
   "metadata": {},
   "source": [
    "# CE-157 Problem Set 2\n",
    "**Due**: Friday, March 16, 2018 at 11:59 pm\n",
    "<br>\n",
    "*Submit via bCourses*"
   ]
  },
  {
   "cell_type": "markdown",
   "metadata": {},
   "source": [
    "# Introduction\n",
    "Read this recent news article:\n",
    "https://www.theguardian.com/education/2018/feb/01/schools-across-the-us-exposed-to-air-pollution-hildren-are-facing-risks\n",
    "\n",
    "If you’re so inclined, check out the study they are referencing:\n",
    "https://www.sciencedirect.com/science/article/pii/S0013935117317188\n",
    "\n",
    "In this problem set, we’re going to do some relatively rudimentary analyses of similar issues here in the Bay Area. In the process, you will explore the lasting effects of urban infrastructure (specifically, housing and highways) on the way exposures vary across space and communities. To do this you’ll use a variety of easily-accessible tools provided by various government agencies. One of the purposes here is to familiarize you with these sources of data so that you might take advantage of them in your future work.\n"
   ]
  },
  {
   "cell_type": "markdown",
   "metadata": {},
   "source": [
    "# 1) Exploring the East Bay's census map"
   ]
  },
  {
   "cell_type": "markdown",
   "metadata": {},
   "source": [
    "* Go to the US Census Explorer: http://census.socialexplorer.com/ \n",
    "\n",
    "* Zoom in on the east bay area\n",
    "\n",
    "    * Bound your search between Martinez, Richmond, Hayward, and Pleasanton.\n",
    "    You’ll want to zoom in further within this boundary, but keep your zoomed-in map within this area.\n",
    "\n",
    "** Make sure you are viewing by “Census Tract”**\n",
    "<img src = 'Images/East_Bay_Census_Tract.png'>\n"
   ]
  },
  {
   "cell_type": "markdown",
   "metadata": {},
   "source": [
    "* Under “Select a Measure” – explore!\n",
    "\n",
    "    * **Select one measure that you find interesting, take a screen shot of that map** (see http://www.take-a-screenshot.org/ for a how to), and copy the map into your assignment.\n",
    "        * Note: do not choose “Median Household Income” for this part\n",
    "\n",
    "    * **Write 2-3 sentences** – what is interesting to you about this map and why? How do you interpret it?\n",
    "\n",
    "* Under “Select a Measure” – select “Median Household Income” for the next question"
   ]
  },
  {
   "cell_type": "code",
   "execution_count": null,
   "metadata": {
    "collapsed": true
   },
   "outputs": [],
   "source": []
  },
  {   "cell_type": "markdown",
   "metadata": {},
   "source": [
    "# 2)  Exploring age of housing as a potential source of lead exposure"
   ]
  },
  {
   "cell_type": "markdown",
   "metadata": {},
   "source": [
    "Find three East Bay elementary schools that fit the following criteria:\n",
    "\n",
    "* At least 250 students\n",
    "* Each is located in a census tract with > $15,000 difference in median income from the other schools you choose \n",
    "<br>\n",
    "\n",
    "> This will take some creative searching – perhaps use google maps to find elementary schools in a specific area, then check the “Median Household Income” image from the previous problem to ensure that the schools are located within census tracts with large income differences. Alternatively – use the tool that you used for the first problem set (http://ejscreen.epa.gov/mapper/) and you can map school locations there as well.\n",
    "\n",
    "> ** Note the addresses and census tract numbers for each school."
   ]
  },
  {
   "cell_type": "markdown",
   "metadata": {},
   "source": [
    "**Create one map showing the location of each school you have chosen.**"
   ]
  },
  {
   "cell_type": "markdown",
   "metadata": {},
   "source": [
    "> There are a number of ways to do this, one straightforward method is to use https://www.google.com/maps/d/u/0/. Simply put: select “Create a new map” from the menu on the top left corner (three bars). Enter the school’s address in the search bar. Click on the green pin that is dropped onto the map, and in the box that appears select “Add to Map”. Do this for each school. You can add a description for each point on the map (i.e. the school name) and display these. Finally, take a screenshot of your map.\n",
    "<img src = 'Images/BerkeleyMap.png'>"
   ]
  },
  {
   "cell_type": "markdown",
   "metadata": {},
   "source": [
    "Go to the US Census Bureau FactFinder: http://factfinder2.census.gov/\n",
    "\n",
    "* Select “Advanced Search” and “Show me all”\n",
    "* On the left side, click “Geographies” and the click “Address”\n",
    "* Enter the address of one of your schools and click “Go”\n",
    "* Click on the appropriate census tract.\n",
    "    * It should be the link with the “Geography Type” listed as “Census Tract”\n",
    "    * After you click the link, this census tract should show up on the left side under “Your Selections”\n",
    "* Now repeat this for the other two schools you have chosen\n",
    "You should now have three census tracts chosen under “Your Selections”\n",
    "\n",
    "<img src = 'Images/CensusTract.png'>\n"
   ]
  },
  {
   "cell_type": "markdown",
   "metadata": {},
   "source": [
    "Click on “Topics” and then close the pop-up window that appears \n",
    "<br>\n",
    "> We are going to look at multiple tables:\n",
    "* DP02: SELECTED SOCIAL CHARACTERISTICS…\n",
    "* DP03: SELECTED ECONOMIC CHARACTERISTICS\n",
    "* DP04: SELECTED HOUSING CHARACTERISTICS\n",
    "* DP05: ACS DEMOGRAPHIC AND HOUSING ESTIMATES\n",
    "* S1701: POVERTY STATUS IN THE PAST 12 MONTHS\n"
   ]
  },
  {
   "cell_type": "markdown",
   "metadata": {},
   "source": [
    "Some notes\n",
    "<br>\n",
    "> **(1)** Search for the appropriate data set in the “topic or table name” box\n",
    "<br>\n",
    "**(2)** Capitalization counts\n",
    "<br>\n",
    "**(3)** When you get the list of tables, select the appropriate one (use the 2016 ACS 5-year estimates)\n",
    "<br>\n",
    "**(4)** After selecting the check-box next to the table you are interested in, you need to clear the search before you do the next one – in the “Your Selections” box on the upper left just clear out that search, then perform the next one. Every time you select one of the check-boxes the site remembers your selections.\n",
    "<br>\n",
    "**(5)** After selecting all of the tables, you can click “View” to view each table and then download the data as an Excel file. Note that you must download each table separately (and if you download them immediately from the search page you’ll get them as csv files). Note too that from the “View” section you can modify the table and only select the data you are interested in prior to downloading.\n"
   ]
  },
  {
   "cell_type": "markdown",
   "metadata": {},
   "source": [
    "**Create a well-organized table with the following information for each of your school census tracts:**\n",
    "<br>\n",
    "> *This will require exploring within the above tables. For example, to see the % of structures built before or after a certain year, you will need to click on \" DP04: SELECTED HOUSING CHARACTERISTICS\".*\n",
    "\n",
    "> *Do not overload us with data! Presentation and legibility are very important here.*\n"
   ]
  },
  {
   "cell_type": "markdown",
   "metadata": {},
   "source": [
    "* School Address\n",
    "<br>\n",
    "* Census Tract Number\n",
    "<br>\n",
    "* Total Population\n",
    "<br>\n",
    "* % Population\n",
    "<br>\n",
    "> Under 5 years\n",
    "<br>\n",
    "> 5 to 19 years (you will have to add numbers to get this)\n",
    "<br>\n",
    "* % Population enrolled in elementary school\n",
    "<br>\n",
    "* % Population “Language other than English” spoken at home\n",
    "<br>\n",
    "* % Population with “No health insurance coverage”<br>\n",
    "* % Non-White (Calculate: Total Population - Not Hispanic/Latino White alone) <br>\n",
    "* % of population in each of the top 3 represented racial categories<br>\n",
    "> Focus on the broad categories, not the most-specific breakdowns<br>\n",
    "    > i.e. White, Black or African American, American Indian and Alaskan Native, Asian, etc.<br>\n",
    "> *List these individually – three values – not a sum of these values*<br>\n",
    "* % Hispanic or Latino<br>\n",
    "* % Year Structure Built (you’ll have to add percentages here)<br>\n",
    "> 1980 or later<br>\n",
    "> Before 1980<br>\n",
    "* % Total population below poverty level<br>\n",
    "* % Population under 18 years below poverty level\n"
   ]
  },
  {

   "cell_type": "markdown",
   "metadata": {},
   "source": [
    "Lead was banned from household paints in the United States in 1978, and houses constructed before this year are likely to contain lead paint. Is there a difference in the age of housing surrounding your three schools? How does this difference related to the other demographic characteristics of the census tracts where the schools are located (race/poverty/English as a Second Language (ESL))?"
   ]
  },
  {
   "cell_type": "markdown",
   "metadata": {},
   "source": [
    "**Write two to three sentences explaining any relationships that you see across your three school census areas.**"
   ]
  },
  {

   "cell_type": "code",
   "execution_count": null,
   "metadata": {
    "collapsed": true
   },
   "outputs": [],
   "source": []
  },
  {
   "cell_type": "markdown",
   "metadata": {},
   "source": [
    "# 3) Estimating children’s toxics exposure from traffic"
   ]
  },
  {
   "cell_type": "markdown",
   "metadata": {},
   "source": [
    "Starting in 1970, the USEPA moved to phase-out lead in gasoline. Ethyl Corporation (now known as NewMarket Corporation), the company that produced the lead-containing additive TEL that was regularly added to gasoline to prevent engine-knock and boost octane, attempted to block this process through a lawsuit. The basis for this lawsuit: there was no scientific evidence that lead was any more harmful than the gasoline itself. This reasoning should remind you of other issues we have spoken about in class – such arguments assuring the safety of TEL have their roots in the 1920’s, and in fact in 1926 the US Surgeon General assured the public that TEL was hazardous to human health. The EPA eventually won the suit and the phase-out began 1976. In 1996 lead was completely banned from motor vehicle gasoline in the United States."
   ]
  },
  {
   "cell_type": "markdown",
   "metadata": {},
   "source": [
    "While lead is no longer in our gasoline, soil near roadways still tends to exhibit higher lead concentrations, particularly in urban and higher-traffic areas, and soil is a main route of transmission for small children (who are most susceptible to its neurotoxic effects). In addition to lead, traffic exhaust contains other neuro-developmental toxins, which may lead to worse outcomes when combined with lead exposure, although the science here is still in its infancy. "
   ]
  },
  {
   "cell_type": "markdown",
   "metadata": {},
   "source": [
    "Go to the Cal EnviroScreen 3.0 website: \n",
    "https://oehha.ca.gov/calenviroscreen/report/calenviroscreen-30\n"
   ]
  },
  {
   "cell_type": "markdown",
   "metadata": {},
   "source": [
    "> Scroll down to the CalEnviroScreen 3.0 Map and open the map (where it says “Map of CalEnviroScreen 3.0 Results”). Note that some browsers may not work, and adblockers may disrupt the function of this tool."
   ]
  },
  {
   "cell_type": "markdown",
   "metadata": {},
   "source": [
    "Enter the address of the school and click on the census tract.\n",
    "<img src = 'Images/EnviroScreen Example.png'>"
   ]
  },
  {
   "cell_type": "markdown",
   "metadata": {},
   "source": [
    "**What is the traffic volumes (the data is given in vehicle-km/hr) for each of your schools’ census tracts? What other forms of pollution stand out, and how do they compare across your census tracts? Create a small table of appropriate data.**\n",
    "\n"
   ]
  },
  {
   "cell_type": "code",
   "execution_count": null,
   "metadata": {
    "collapsed": true
   },
   "outputs": [],
   "source": []
  },
  {
   "cell_type": "markdown",
   "metadata": {},
   "source": [
    "\n",
    "**In two to three sentences, considering housing age and traffic exposure, are schools in neighborhoods with older houses also surrounded by greater traffic density? Do the patterns of cumulative potential sources of lead exposure differ along socioeconomic lines, and if so how?**\n"
   ]
  },
  {
   "cell_type": "code",
   "execution_count": null,
   "metadata": {
    "collapsed": true
   },
   "outputs": [],
   "source": []
  },
  {
   "cell_type": "markdown",
   "metadata": {},
   "source": [
    "**Some students might find that there is a positive correlation between old housing, traffic, and wealth – why might this be the case? In two to three sentences, explain why this might happen.**\n",
    "<br> \n",
    "Be sure to consider the changing geographies of poverty as well as where kids might be going to school."
   ]
  },
  {
   "cell_type": "code",
   "execution_count": null,
   "metadata": {
    "collapsed": true
   },
   "outputs": [],
   "source": []
  }
 ],
 "metadata": {
  "kernelspec": {
   "display_name": "Python 3",
   "language": "python",
   "name": "python3"
  },
  "language_info": {
   "codemirror_mode": {
    "name": "ipython",
    "version": 3
   },
   "file_extension": ".py",
   "mimetype": "text/x-python",
   "name": "python",
   "nbconvert_exporter": "python",
   "pygments_lexer": "ipython3",
   "version": "3.6.4"
  }
 },
 "nbformat": 4,
 "nbformat_minor": 2
}

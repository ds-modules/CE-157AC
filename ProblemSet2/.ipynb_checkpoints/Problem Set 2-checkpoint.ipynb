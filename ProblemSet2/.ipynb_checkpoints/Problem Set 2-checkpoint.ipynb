{
 "cells": [
  {
   "cell_type": "markdown",
   "metadata": {},
   "source": [
    "# CE 157AC Spring 2019\n",
    "\n",
    "## Assignment: Problem Set 2\n",
    "**Due**: Friday, March 16, 2019 at 11:59 pm\n",
    "<br>\n",
    "*Submit via bCourses*"
   ]
  },
  {
   "cell_type": "markdown",
   "metadata": {},
   "source": [
    "# Introduction\n",
    "Read this recent news article:\n",
    "https://www.theguardian.com/education/2018/feb/01/schools-across-the-us-exposed-to-air-pollution-hildren-are-facing-risks\n",
    "\n",
    "If you’re so inclined, check out the study they are referencing:\n",
    "https://www.sciencedirect.com/science/article/pii/S0013935117317188\n",
    "\n",
    "In this problem set, we’re going to do some relatively rudimentary analyses of similar issues here in the Bay Area. In the process, you will explore the lasting effects of urban infrastructure (specifically, housing and highways) on the way exposures vary across space and communities. To do this you’ll use a variety of easily-accessible tools provided by various government agencies. One of the purposes here is to familiarize you with these sources of data so that you might take advantage of them in your future work.\n"
   ]
  },
  {
   "cell_type": "markdown",
   "metadata": {},
   "source": [
    "Run the cell below to set up some important libraries you'll be using later on in this problem set."
   ]
  },
  {
   "cell_type": "code",
   "execution_count": 14,
   "metadata": {},
   "outputs": [
    {
     "name": "stdout",
     "output_type": "stream",
     "text": [
      "Requirement already satisfied: folium==0.7.0 in /srv/app/venv/lib/python3.6/site-packages\n",
      "Requirement already satisfied: jinja2 in /srv/app/venv/lib/python3.6/site-packages (from folium==0.7.0)\n",
      "Requirement already satisfied: branca>=0.3.0 in /srv/app/venv/lib/python3.6/site-packages (from folium==0.7.0)\n",
      "Requirement already satisfied: six in /srv/app/venv/lib/python3.6/site-packages (from folium==0.7.0)\n",
      "Requirement already satisfied: numpy in /srv/app/venv/lib/python3.6/site-packages (from folium==0.7.0)\n",
      "Requirement already satisfied: requests in /srv/app/venv/lib/python3.6/site-packages (from folium==0.7.0)\n",
      "Requirement already satisfied: MarkupSafe>=0.23 in /srv/app/venv/lib/python3.6/site-packages (from jinja2->folium==0.7.0)\n",
      "Requirement already satisfied: urllib3<1.25,>=1.21.1 in /srv/app/venv/lib/python3.6/site-packages (from requests->folium==0.7.0)\n",
      "Requirement already satisfied: certifi>=2017.4.17 in /srv/app/venv/lib/python3.6/site-packages (from requests->folium==0.7.0)\n",
      "Requirement already satisfied: chardet<3.1.0,>=3.0.2 in /srv/app/venv/lib/python3.6/site-packages (from requests->folium==0.7.0)\n",
      "Requirement already satisfied: idna<2.9,>=2.5 in /srv/app/venv/lib/python3.6/site-packages (from requests->folium==0.7.0)\n"
     ]
    }
   ],
   "source": [
    "!pip install folium==0.7.0\n",
    "from datascience import *\n",
    "import shapefile\n",
    "import folium\n",
    "import geojson\n",
    "from IPython.display import HTML, display, IFrame\n",
    "import re\n",
    "from utilities import test_tract, fix_tract\n",
    "import numpy as np"
   ]
  },
  {
   "cell_type": "markdown",
   "metadata": {},
   "source": [
    "# 1) Exploring the East Bay's census map"
   ]
  },
  {
   "cell_type": "markdown",
   "metadata": {},
   "source": [
    "* Go to the US Census Explorer: http://census.socialexplorer.com/ \n",
    "\n",
    "* Zoom in on the east bay area\n",
    "\n",
    "    * Bound your search between Martinez, Richmond, Hayward, and Pleasanton.\n",
    "    You’ll want to zoom in further within this boundary, but keep your zoomed-in map within this area.\n",
    "    \n",
    "    * Make sure you are viewing by “Census Tract” *\n",
    "<img src = 'Images/East_Bay_Census_Tract.png'>\n"
   ]
  },
  {
   "cell_type": "markdown",
   "metadata": {},
   "source": [
    "* Under “Select a Measure” – explore!\n",
    "\n",
    "    * **Select one measure that you find interesting, take a screen shot of that map** (see http://www.take-a-screenshot.org/ for a how to), and copy the map into your assignment.\n",
    "        * Note: do not choose “Median Household Income” for this part\n",
    "\n",
    "    * **Write 2-3 sentences** – what is interesting to you about this map and why? How do you interpret it?\n",
    "\n",
    "* Under “Select a Measure” – select “Median Household Income” for the next question"
   ]
  },
  {
   "cell_type": "markdown",
   "metadata": {
    "collapsed": true
   },
   "source": [
    "**Answer:**\n",
    "YOUR ANSWER HERE"
   ]
  },
  {
   "cell_type": "markdown",
   "metadata": {},
   "source": [
    "# 2)  Exploring age of housing as a potential source of lead exposure"
   ]
  },
  {
   "cell_type": "markdown",
   "metadata": {},
   "source": [
    "Find three East Bay elementary schools that fit the following criteria:\n",
    "\n",
    "* At least 250 students\n",
    "* Each is located in a census tract with > $15,000 difference in median income from the other schools you choose \n",
    "<br>\n",
    "\n",
    "> This will take some creative searching – perhaps use google maps to find elementary schools in a specific area, then check the “Median Household Income” image from the previous problem to ensure that the schools are located within census tracts with large income differences. Alternatively – use the tool that you used for the first problem set (http://ejscreen.epa.gov/mapper/) and you can map school locations there as well.\n",
    "\n",
    "> ** Note the addresses and census tract numbers for each school."
   ]
  },
  {
   "cell_type": "markdown",
   "metadata": {},
   "source": [
    "**Create one map showing the location of each school you have chosen.**"
   ]
  },
  {
   "cell_type": "markdown",
   "metadata": {},
   "source": [
    "> There are a number of ways to do this, one straightforward method is to use https://www.google.com/maps/d/u/0/. Simply put: select “Create a new map” from the menu on the top left corner (three bars). Enter the school’s address in the search bar. Click on the green pin that is dropped onto the map, and in the box that appears select “Add to Map”. Do this for each school. You can add a description for each point on the map (i.e. the school name) and display these. Finally, take a screenshot of your map.\n",
    "<img src = 'Images/BerkeleyMap.png'>"
   ]
  },
  {
   "cell_type": "markdown",
   "metadata": {},
   "source": [
    "Go to the US Census Bureau FactFinder: http://factfinder2.census.gov/\n",
    "\n",
    "* Select “Advanced Search” and “Show me all”\n",
    "* On the left side, click “Geographies” and the click “Address”\n",
    "* Enter the address of one of your schools and click “Go”\n",
    "* Click on the appropriate census tract.\n",
    "    * It should be the link with the “Geography Type” listed as “Census Tract”\n",
    "    * After you click the link, this census tract should show up on the left side under “Your Selections”\n",
    "* Now repeat this for the other two schools you have chosen. You should now have three census tracts chosen under “Your Selections”\n",
    "\n",
    "<img src = 'Images/CensusTract.png'>\n"
   ]
  },
  {
   "cell_type": "markdown",
   "metadata": {},
   "source": [
    "**Before continuing, save your census tract number below for each of your chosen census tracts. The number should appear in your search results, e.g.\"Census Tract 4229\". Be sure you only include the number.**"
   ]
  },
  {
   "cell_type": "code",
   "execution_count": 4,
   "metadata": {},
   "outputs": [],
   "source": [
    "census_tract1 = 4229\n",
    "census_tract2 = 4035.01\n",
    "census_tract3 = 4272"
   ]
  },
  {
   "cell_type": "markdown",
   "metadata": {},
   "source": [
    "Run the cell below to make sure the census tracts you picked are contained within the data for Alameda County."
   ]
  },
  {
   "cell_type": "code",
   "execution_count": 15,
   "metadata": {},
   "outputs": [
    {
     "name": "stdout",
     "output_type": "stream",
     "text": [
      "success! Keep going with the lab\n"
     ]
    }
   ],
   "source": [
    "alameda = Table.read_table(\"alameda-tracts-2010.csv\")\n",
    "tracts = alameda.column('NAME10')\n",
    "test_tract(census_tract1, census_tract2, census_tract3, tracts)"
   ]
  },
  {
   "cell_type": "markdown",
   "metadata": {},
   "source": [
    "Click on “Topics” and then close the pop-up window that appears \n",
    "<br>\n",
    "> We are going to look at multiple tables:\n",
    "* DP02: SELECTED SOCIAL CHARACTERISTICS…\n",
    "* DP03: SELECTED ECONOMIC CHARACTERISTICS\n",
    "* DP04: SELECTED HOUSING CHARACTERISTICS\n",
    "* DP05: ACS DEMOGRAPHIC AND HOUSING ESTIMATES\n",
    "* S1701: POVERTY STATUS IN THE PAST 12 MONTHS\n"
   ]
  },
  {
   "cell_type": "markdown",
   "metadata": {},
   "source": [
    "Some notes\n",
    "<br>\n",
    "> **(1)** Search for the appropriate data set in the “topic or table name” box\n",
    "<br>\n",
    "**(2)** Capitalization counts\n",
    "<br>\n",
    "**(3)** When you get the list of tables, select the appropriate one (use the 2016 ACS 5-year estimates)\n",
    "<br>\n",
    "**(4)** After selecting the check-box next to the table you are interested in, you need to clear the search before you do the next one – in the “Your Selections” box on the upper left just clear out that search, then perform the next one. Every time you select one of the check-boxes the site remembers your selections.\n",
    "<br>\n",
    "**(5)** After selecting all of the tables, you can click “View” to view each table and then download the data as an Excel file. Note that you must download each table separately (and if you download them immediately from the search page you’ll get them as csv files. Make sure you are downloading them into the same folder as your problem set. Review problem set 1 for instructions on how to read in the files). Note too that from the “View” section you can modify the table and only select the data you are interested in prior to downloading.\n",
    "\n"
   ]
  },
  {
   "cell_type": "markdown",
   "metadata": {},
   "source": [
    "**Create a well-organized table with the following information for each of your school census tracts:**\n",
    "<br>\n",
    "> *This will require exploring within the above tables. For example, to see the % of structures built before or after a certain year, you will need to click on \" DP04: SELECTED HOUSING CHARACTERISTICS\".*\n",
    "\n",
    "> *Do not overload us with data! Presentation and legibility are very important here. Make sure your column names match the labels below. Replace all spaces with underscores.*\n"
   ]
  },
  {
   "cell_type": "markdown",
   "metadata": {},
   "source": [
    "* School_Address\n",
    "<br>\n",
    "* Census_Tract_Number\n",
    "<br>\n",
    "* Total_Population\n",
    "<br>\n",
    "* %_Population_Under_5_Years\n",
    "<br>\n",
    "* %_Population_5_to_19_years (you will have to add numbers to get this)\n",
    "<br>\n",
    "* %_Population_enrolled_in_elementary_school\n",
    "<br>\n",
    "* %_Population_“Language other than English”_spoken_at_home\n",
    "<br>\n",
    "* %_Population_with_“No health insurance coverage”<br>\n",
    "* %_Non-White (Calculate: Total Population - Not Hispanic/Latino White alone) <br>\n",
    "* % of population in each of the top 3 represented racial categories<br>\n",
    "> Focus on the broad categories, not the most-specific breakdowns<br>\n",
    "    > i.e. White, Black or African American, American Indian and Alaskan Native, Asian, etc.<br>\n",
    "> *List these individually – three values – not a sum of these values*<br>\n",
    "* %_Hispanic_or_Latino<br>\n",
    "* %_Year_Structure_Built (you’ll have to add percentages here)<br>\n",
    "> 1980_or_later<br>\n",
    "> Before_1980<br>\n",
    "* %_Total_population_below_poverty_level<br>\n",
    "* %_Population_under_18_years_below_poverty_level\n"
   ]
  },
  {
   "cell_type": "code",
   "execution_count": 16,
   "metadata": {},
   "outputs": [
    {
     "data": {
      "text/html": [
       "<table border=\"1\" class=\"dataframe\">\n",
       "    <thead>\n",
       "        <tr>\n",
       "            <th>GEO.id</th> <th>GEO.id2</th> <th>Census_Tract_Number</th> <th>HC01_VC03</th> <th>HC02_VC03</th> <th>HC03_VC03</th> <th>HC04_VC03</th> <th>HC01_VC04</th> <th>HC02_VC04</th> <th>HC03_VC04</th> <th>HC04_VC04</th> <th>HC01_VC05</th> <th>HC02_VC05</th> <th>HC03_VC05</th> <th>HC04_VC05</th> <th>HC01_VC06</th> <th>HC02_VC06</th> <th>HC03_VC06</th> <th>HC04_VC06</th> <th>HC01_VC07</th> <th>HC02_VC07</th> <th>HC03_VC07</th> <th>HC04_VC07</th> <th>HC01_VC08</th> <th>HC02_VC08</th> <th>HC03_VC08</th> <th>HC04_VC08</th> <th>HC01_VC09</th> <th>HC02_VC09</th> <th>HC03_VC09</th> <th>HC04_VC09</th> <th>HC01_VC10</th> <th>HC02_VC10</th> <th>HC03_VC10</th> <th>HC04_VC10</th> <th>HC01_VC11</th> <th>HC02_VC11</th> <th>HC03_VC11</th> <th>HC04_VC11</th> <th>HC01_VC12</th> <th>HC02_VC12</th> <th>HC03_VC12</th> <th>HC04_VC12</th> <th>HC01_VC13</th> <th>HC02_VC13</th> <th>HC03_VC13</th> <th>HC04_VC13</th> <th>HC01_VC14</th> <th>HC02_VC14</th> <th>HC03_VC14</th> <th>HC04_VC14</th> <th>HC01_VC17</th> <th>HC02_VC17</th> <th>HC03_VC17</th> <th>HC04_VC17</th> <th>HC01_VC18</th> <th>HC02_VC18</th> <th>HC03_VC18</th> <th>HC04_VC18</th> <th>HC01_VC21</th> <th>HC02_VC21</th> <th>HC03_VC21</th> <th>HC04_VC21</th> <th>HC01_VC22</th> <th>HC02_VC22</th> <th>HC03_VC22</th> <th>HC04_VC22</th> <th>HC01_VC26</th> <th>HC02_VC26</th> <th>HC03_VC26</th> <th>HC04_VC26</th> <th>HC01_VC27</th> <th>HC02_VC27</th> <th>HC03_VC27</th> <th>HC04_VC27</th> <th>HC01_VC28</th> <th>HC02_VC28</th> <th>HC03_VC28</th> <th>HC04_VC28</th> <th>HC01_VC29</th> <th>HC02_VC29</th> <th>HC03_VC29</th> <th>HC04_VC29</th> <th>HC01_VC30</th> <th>HC02_VC30</th> <th>HC03_VC30</th> <th>HC04_VC30</th> <th>HC01_VC31</th> <th>HC02_VC31</th> <th>HC03_VC31</th> <th>HC04_VC31</th> <th>HC01_VC32</th> <th>HC02_VC32</th> <th>HC03_VC32</th> <th>HC04_VC32</th> <th>HC01_VC36</th> <th>HC02_VC36</th> <th>HC03_VC36</th> <th>HC04_VC36</th> <th>HC01_VC37</th> <th>HC02_VC37</th> <th>HC03_VC37</th> <th>HC04_VC37</th> <th>HC01_VC38</th> <th>HC02_VC38</th> <th>HC03_VC38</th> <th>HC04_VC38</th> <th>HC01_VC39</th> <th>HC02_VC39</th> <th>HC03_VC39</th> <th>HC04_VC39</th> <th>HC01_VC40</th> <th>HC02_VC40</th> <th>HC03_VC40</th> <th>HC04_VC40</th> <th>HC01_VC41</th> <th>HC02_VC41</th> <th>HC03_VC41</th> <th>HC04_VC41</th> <th>HC01_VC43</th> <th>HC02_VC43</th> <th>HC03_VC43</th> <th>HC04_VC43</th> <th>HC01_VC44</th> <th>HC02_VC44</th> <th>HC03_VC44</th> <th>HC04_VC44</th> <th>HC01_VC45</th> <th>HC02_VC45</th> <th>HC03_VC45</th> <th>HC04_VC45</th> <th>HC01_VC46</th> <th>HC02_VC46</th> <th>HC03_VC46</th> <th>HC04_VC46</th> <th>HC01_VC47</th> <th>HC02_VC47</th> <th>HC03_VC47</th> <th>HC04_VC47</th> <th>HC01_VC48</th> <th>HC02_VC48</th> <th>HC03_VC48</th> <th>HC04_VC48</th> <th>HC01_VC52</th> <th>HC02_VC52</th> <th>HC03_VC52</th> <th>HC04_VC52</th> <th>HC01_VC53</th> <th>HC02_VC53</th> <th>HC03_VC53</th> <th>HC04_VC53</th> <th>HC01_VC54</th> <th>HC02_VC54</th> <th>HC03_VC54</th> <th>HC04_VC54</th> <th>HC01_VC55</th> <th>HC02_VC55</th> <th>HC03_VC55</th> <th>HC04_VC55</th> <th>HC01_VC56</th> <th>HC02_VC56</th> <th>HC03_VC56</th> <th>HC04_VC56</th> <th>HC01_VC57</th> <th>HC02_VC57</th> <th>HC03_VC57</th> <th>HC04_VC57</th> <th>HC01_VC58</th> <th>HC02_VC58</th> <th>HC03_VC58</th> <th>HC04_VC58</th> <th>HC01_VC62</th> <th>HC02_VC62</th> <th>HC03_VC62</th> <th>HC04_VC62</th> <th>HC01_VC63</th> <th>HC02_VC63</th> <th>HC03_VC63</th> <th>HC04_VC63</th> <th>HC01_VC65</th> <th>HC02_VC65</th> <th>HC03_VC65</th> <th>HC04_VC65</th> <th>HC01_VC66</th> <th>HC02_VC66</th> <th>HC03_VC66</th> <th>HC04_VC66</th> <th>HC01_VC67</th> <th>HC02_VC67</th> <th>HC03_VC67</th> <th>HC04_VC67</th> <th>HC01_VC68</th> <th>HC02_VC68</th> <th>HC03_VC68</th> <th>HC04_VC68</th> <th>HC01_VC70</th> <th>HC02_VC70</th> <th>HC03_VC70</th> <th>HC04_VC70</th> <th>HC01_VC71</th> <th>HC02_VC71</th> <th>HC03_VC71</th> <th>HC04_VC71</th> <th>HC01_VC72</th> <th>HC02_VC72</th> <th>HC03_VC72</th> <th>HC04_VC72</th> <th>HC01_VC76</th> <th>HC02_VC76</th> <th>HC03_VC76</th> <th>HC04_VC76</th> <th>HC01_VC77</th> <th>HC02_VC77</th> <th>HC03_VC77</th> <th>HC04_VC77</th> <th>HC01_VC78</th> <th>HC02_VC78</th> <th>HC03_VC78</th> <th>HC04_VC78</th> <th>HC01_VC79</th> <th>HC02_VC79</th> <th>HC03_VC79</th> <th>HC04_VC79</th> <th>HC01_VC80</th> <th>HC02_VC80</th> <th>HC03_VC80</th> <th>HC04_VC80</th> <th>HC01_VC81</th> <th>HC02_VC81</th> <th>HC03_VC81</th> <th>HC04_VC81</th> <th>HC01_VC85</th> <th>HC02_VC85</th> <th>HC03_VC85</th> <th>HC04_VC85</th> <th>HC01_VC86</th> <th>HC02_VC86</th> <th>HC03_VC86</th> <th>HC04_VC86</th> <th>HC01_VC87</th> <th>HC02_VC87</th> <th>HC03_VC87</th> <th>HC04_VC87</th> <th>HC01_VC88</th> <th>HC02_VC88</th> <th>HC03_VC88</th> <th>HC04_VC88</th> <th>HC01_VC89</th> <th>HC02_VC89</th> <th>HC03_VC89</th> <th>HC04_VC89</th> <th>HC01_VC90</th> <th>HC02_VC90</th> <th>HC03_VC90</th> <th>HC04_VC90</th>\n",
       "        </tr>\n",
       "    </thead>\n",
       "    <tbody>\n",
       "        <tr>\n",
       "            <td>1400000US06001403501</td> <td>6001403501</td> <td>4035.01            </td> <td>2583     </td> <td>136      </td> <td>2583     </td> <td>(X)      </td> <td>789      </td> <td>178      </td> <td>30.5     </td> <td>6.9      </td> <td>322      </td> <td>140      </td> <td>12.5     </td> <td>5.3      </td> <td>542      </td> <td>156      </td> <td>21       </td> <td>6.1      </td> <td>248      </td> <td>118      </td> <td>9.6      </td> <td>4.5      </td> <td>53       </td> <td>44       </td> <td>2.1      </td> <td>1.7      </td> <td>0        </td> <td>12       </td> <td>0        </td> <td>1.2      </td> <td>194      </td> <td>116      </td> <td>7.5      </td> <td>4.5      </td> <td>74       </td> <td>90       </td> <td>2.9      </td> <td>3.5      </td> <td>1794     </td> <td>208      </td> <td>69.5     </td> <td>6.9      </td> <td>1482     </td> <td>204      </td> <td>57.4     </td> <td>6.6      </td> <td>445      </td> <td>114      </td> <td>17.2     </td> <td>4.3      </td> <td>360      </td> <td>143      </td> <td>13.9     </td> <td>5.5      </td> <td>637      </td> <td>113      </td> <td>24.7     </td> <td>4.4      </td> <td>1.71     </td> <td>0.12     </td> <td>(X)      </td> <td>(X)      </td> <td>2.63     </td> <td>0.23     </td> <td>(X)      </td> <td>(X)      </td> <td>4406     </td> <td>356      </td> <td>4406     </td> <td>(X)      </td> <td>2583     </td> <td>136      </td> <td>58.6     </td> <td>4.1      </td> <td>545      </td> <td>157      </td> <td>12.4     </td> <td>3.1      </td> <td>671      </td> <td>242      </td> <td>15.2     </td> <td>4.8      </td> <td>71       </td> <td>65       </td> <td>1.6      </td> <td>1.5      </td> <td>536      </td> <td>231      </td> <td>12.2     </td> <td>5.2      </td> <td>200      </td> <td>104      </td> <td>4.5      </td> <td>2.5      </td> <td>1813     </td> <td>200      </td> <td>1813     </td> <td>(X)      </td> <td>821      </td> <td>190      </td> <td>45.3     </td> <td>8.5      </td> <td>624      </td> <td>170      </td> <td>34.4     </td> <td>9.1      </td> <td>112      </td> <td>94       </td> <td>6.2      </td> <td>5        </td> <td>79       </td> <td>88       </td> <td>4.4      </td> <td>4.9      </td> <td>177      </td> <td>73       </td> <td>9.8      </td> <td>3.8      </td> <td>2100     </td> <td>261      </td> <td>2100     </td> <td>(X)      </td> <td>1027     </td> <td>244      </td> <td>48.9     </td> <td>8.4      </td> <td>587      </td> <td>159      </td> <td>28       </td> <td>7.8      </td> <td>20       </td> <td>26       </td> <td>1        </td> <td>1.2      </td> <td>266      </td> <td>130      </td> <td>12.7     </td> <td>5.8      </td> <td>200      </td> <td>105      </td> <td>9.5      </td> <td>5.1      </td> <td>14       </td> <td>24       </td> <td>14       </td> <td>(X)      </td> <td>0        </td> <td>12       </td> <td>0        </td> <td>79.3     </td> <td>0        </td> <td>36       </td> <td>(X)      </td> <td>(X)      </td> <td>11       </td> <td>21       </td> <td>(X)      </td> <td>(X)      </td> <td>0        </td> <td>415      </td> <td>(X)      </td> <td>(X)      </td> <td>0        </td> <td>50       </td> <td>(X)      </td> <td>(X)      </td> <td>26       </td> <td>47       </td> <td>(X)      </td> <td>(X)      </td> <td>0        </td> <td>12       </td> <td>0        </td> <td>(X)      </td> <td>0        </td> <td>12       </td> <td>-        </td> <td>**       </td> <td>0        </td> <td>12       </td> <td>-        </td> <td>**       </td> <td>0        </td> <td>12       </td> <td>-        </td> <td>**       </td> <td>0        </td> <td>12       </td> <td>-        </td> <td>**       </td> <td>0        </td> <td>12       </td> <td>-        </td> <td>**       </td> <td>0        </td> <td>12       </td> <td>0        </td> <td>(X)      </td> <td>0        </td> <td>12       </td> <td>-        </td> <td>**       </td> <td>0        </td> <td>12       </td> <td>-        </td> <td>**       </td> <td>894      </td> <td>267      </td> <td>894      </td> <td>(X)      </td> <td>60       </td> <td>54       </td> <td>6.7      </td> <td>6.3      </td> <td>78       </td> <td>70       </td> <td>8.7      </td> <td>8.2      </td> <td>264      </td> <td>223      </td> <td>29.5     </td> <td>20.6     </td> <td>51       </td> <td>58       </td> <td>5.7      </td> <td>6.3      </td> <td>441      </td> <td>166      </td> <td>49.3     </td> <td>17.1     </td> <td>3713     </td> <td>290      </td> <td>3713     </td> <td>(X)      </td> <td>313      </td> <td>168      </td> <td>8.4      </td> <td>4.3      </td> <td>192      </td> <td>98       </td> <td>5.2      </td> <td>2.6      </td> <td>299      </td> <td>114      </td> <td>8.1      </td> <td>3.1      </td> <td>679      </td> <td>185      </td> <td>18.3     </td> <td>5        </td> <td>374      </td> <td>220      </td> <td>10.1     </td> <td>5.9      </td>\n",
       "        </tr>\n",
       "        <tr>\n",
       "            <td>1400000US06001422400</td> <td>6001422400</td> <td>4224               </td> <td>2123     </td> <td>141      </td> <td>2123     </td> <td>(X)      </td> <td>445      </td> <td>127      </td> <td>21       </td> <td>6        </td> <td>81       </td> <td>31       </td> <td>3.8      </td> <td>1.5      </td> <td>371      </td> <td>111      </td> <td>17.5     </td> <td>5.3      </td> <td>81       </td> <td>31       </td> <td>3.8      </td> <td>1.5      </td> <td>45       </td> <td>61       </td> <td>2.1      </td> <td>2.8      </td> <td>0        </td> <td>12       </td> <td>0        </td> <td>1.5      </td> <td>29       </td> <td>33       </td> <td>1.4      </td> <td>1.5      </td> <td>0        </td> <td>12       </td> <td>0        </td> <td>1.5      </td> <td>1678     </td> <td>183      </td> <td>79       </td> <td>6        </td> <td>1047     </td> <td>203      </td> <td>49.3     </td> <td>7.9      </td> <td>168      </td> <td>98       </td> <td>7.9      </td> <td>4.4      </td> <td>81       </td> <td>31       </td> <td>3.8      </td> <td>1.5      </td> <td>330      </td> <td>85       </td> <td>15.5     </td> <td>3.7      </td> <td>1.97     </td> <td>0.18     </td> <td>(X)      </td> <td>(X)      </td> <td>2.49     </td> <td>0.15     </td> <td>(X)      </td> <td>(X)      </td> <td>4185     </td> <td>385      </td> <td>4185     </td> <td>(X)      </td> <td>2123     </td> <td>141      </td> <td>50.7     </td> <td>4.7      </td> <td>380      </td> <td>112      </td> <td>9.1      </td> <td>2.8      </td> <td>256      </td> <td>133      </td> <td>6.1      </td> <td>3.1      </td> <td>26       </td> <td>32       </td> <td>0.6      </td> <td>0.8      </td> <td>1400     </td> <td>358      </td> <td>33.5     </td> <td>6.4      </td> <td>152      </td> <td>103      </td> <td>3.6      </td> <td>2.5      </td> <td>2399     </td> <td>331      </td> <td>2399     </td> <td>(X)      </td> <td>1795     </td> <td>319      </td> <td>74.8     </td> <td>6.5      </td> <td>431      </td> <td>129      </td> <td>18       </td> <td>5.8      </td> <td>47       </td> <td>76       </td> <td>2        </td> <td>3.2      </td> <td>0        </td> <td>12       </td> <td>0        </td> <td>1.3      </td> <td>126      </td> <td>83       </td> <td>5.3      </td> <td>3.4      </td> <td>1642     </td> <td>299      </td> <td>1642     </td> <td>(X)      </td> <td>1207     </td> <td>301      </td> <td>73.5     </td> <td>8.3      </td> <td>377      </td> <td>119      </td> <td>23       </td> <td>7.9      </td> <td>0        </td> <td>12       </td> <td>0        </td> <td>2        </td> <td>14       </td> <td>23       </td> <td>0.9      </td> <td>1.4      </td> <td>44       </td> <td>46       </td> <td>2.7      </td> <td>2.7      </td> <td>9        </td> <td>15       </td> <td>9        </td> <td>(X)      </td> <td>0        </td> <td>12       </td> <td>0        </td> <td>98.9     </td> <td>0        </td> <td>30       </td> <td>(X)      </td> <td>(X)      </td> <td>7        </td> <td>13       </td> <td>(X)      </td> <td>(X)      </td> <td>0        </td> <td>541      </td> <td>(X)      </td> <td>(X)      </td> <td>0        </td> <td>30       </td> <td>(X)      </td> <td>(X)      </td> <td>66       </td> <td>113      </td> <td>(X)      </td> <td>(X)      </td> <td>0        </td> <td>12       </td> <td>0        </td> <td>(X)      </td> <td>0        </td> <td>12       </td> <td>-        </td> <td>**       </td> <td>0        </td> <td>12       </td> <td>-        </td> <td>**       </td> <td>0        </td> <td>12       </td> <td>-        </td> <td>**       </td> <td>0        </td> <td>12       </td> <td>-        </td> <td>**       </td> <td>0        </td> <td>12       </td> <td>-        </td> <td>**       </td> <td>0        </td> <td>12       </td> <td>0        </td> <td>(X)      </td> <td>0        </td> <td>12       </td> <td>-        </td> <td>**       </td> <td>0        </td> <td>12       </td> <td>-        </td> <td>**       </td> <td>1799     </td> <td>384      </td> <td>1799     </td> <td>(X)      </td> <td>19       </td> <td>21       </td> <td>1.1      </td> <td>1.2      </td> <td>0        </td> <td>12       </td> <td>0        </td> <td>1.8      </td> <td>34       </td> <td>40       </td> <td>1.9      </td> <td>2.2      </td> <td>36       </td> <td>58       </td> <td>2        </td> <td>3.2      </td> <td>1710     </td> <td>374      </td> <td>95.1     </td> <td>4.1      </td> <td>2300     </td> <td>263      </td> <td>2300     </td> <td>(X)      </td> <td>0        </td> <td>12       </td> <td>0        </td> <td>1.4      </td> <td>0        </td> <td>12       </td> <td>0        </td> <td>1.4      </td> <td>115      </td> <td>92       </td> <td>5        </td> <td>4        </td> <td>114      </td> <td>100      </td> <td>5        </td> <td>4.3      </td> <td>46       </td> <td>45       </td> <td>2        </td> <td>1.9      </td>\n",
       "        </tr>\n",
       "        <tr>\n",
       "            <td>1400000US06001427200</td> <td>6001427200</td> <td>4272               </td> <td>1663     </td> <td>66       </td> <td>1663     </td> <td>(X)      </td> <td>1056     </td> <td>134      </td> <td>63.5     </td> <td>7.3      </td> <td>449      </td> <td>105      </td> <td>27       </td> <td>6.2      </td> <td>782      </td> <td>146      </td> <td>47       </td> <td>8.3      </td> <td>321      </td> <td>73       </td> <td>19.3     </td> <td>4.3      </td> <td>120      </td> <td>51       </td> <td>7.2      </td> <td>3        </td> <td>46       </td> <td>62       </td> <td>2.8      </td> <td>3.7      </td> <td>154      </td> <td>67       </td> <td>9.3      </td> <td>4        </td> <td>82       </td> <td>51       </td> <td>4.9      </td> <td>3        </td> <td>607      </td> <td>121      </td> <td>36.5     </td> <td>7.3      </td> <td>413      </td> <td>100      </td> <td>24.8     </td> <td>5.8      </td> <td>144      </td> <td>56       </td> <td>8.7      </td> <td>3.4      </td> <td>511      </td> <td>130      </td> <td>30.7     </td> <td>7.7      </td> <td>343      </td> <td>60       </td> <td>20.6     </td> <td>3.4      </td> <td>2.47     </td> <td>0.19     </td> <td>(X)      </td> <td>(X)      </td> <td>2.96     </td> <td>0.21     </td> <td>(X)      </td> <td>(X)      </td> <td>4104     </td> <td>320      </td> <td>4104     </td> <td>(X)      </td> <td>1663     </td> <td>66       </td> <td>40.5     </td> <td>3.1      </td> <td>763      </td> <td>140      </td> <td>18.6     </td> <td>3.2      </td> <td>892      </td> <td>139      </td> <td>21.7     </td> <td>3.5      </td> <td>417      </td> <td>221      </td> <td>10.2     </td> <td>4.9      </td> <td>369      </td> <td>242      </td> <td>9        </td> <td>5.7      </td> <td>98       </td> <td>58       </td> <td>2.4      </td> <td>1.4      </td> <td>1777     </td> <td>176      </td> <td>1777     </td> <td>(X)      </td> <td>511      </td> <td>171      </td> <td>28.8     </td> <td>8.2      </td> <td>869      </td> <td>177      </td> <td>48.9     </td> <td>8.7      </td> <td>36       </td> <td>42       </td> <td>2        </td> <td>2.4      </td> <td>72       </td> <td>52       </td> <td>4.1      </td> <td>2.9      </td> <td>289      </td> <td>127      </td> <td>16.3     </td> <td>7.5      </td> <td>1715     </td> <td>174      </td> <td>1715     </td> <td>(X)      </td> <td>514      </td> <td>142      </td> <td>30       </td> <td>7        </td> <td>859      </td> <td>177      </td> <td>50.1     </td> <td>9.6      </td> <td>6        </td> <td>10       </td> <td>0.3      </td> <td>0.6      </td> <td>56       </td> <td>39       </td> <td>3.3      </td> <td>2.2      </td> <td>280      </td> <td>130      </td> <td>16.3     </td> <td>7.6      </td> <td>12       </td> <td>18       </td> <td>12       </td> <td>(X)      </td> <td>0        </td> <td>12       </td> <td>0        </td> <td>85.6     </td> <td>0        </td> <td>50       </td> <td>(X)      </td> <td>(X)      </td> <td>11       </td> <td>17       </td> <td>(X)      </td> <td>(X)      </td> <td>0        </td> <td>335      </td> <td>(X)      </td> <td>(X)      </td> <td>36       </td> <td>58       </td> <td>(X)      </td> <td>(X)      </td> <td>0        </td> <td>46       </td> <td>(X)      </td> <td>(X)      </td> <td>44       </td> <td>46       </td> <td>44       </td> <td>(X)      </td> <td>12       </td> <td>18       </td> <td>27.3     </td> <td>26       </td> <td>0        </td> <td>12       </td> <td>0        </td> <td>44.7     </td> <td>0        </td> <td>12       </td> <td>0        </td> <td>44.7     </td> <td>0        </td> <td>12       </td> <td>0        </td> <td>44.7     </td> <td>12       </td> <td>18       </td> <td>27.3     </td> <td>26       </td> <td>12       </td> <td>18       </td> <td>12       </td> <td>(X)      </td> <td>12       </td> <td>18       </td> <td>100      </td> <td>85.6     </td> <td>12       </td> <td>18       </td> <td>100      </td> <td>85.6     </td> <td>932      </td> <td>210      </td> <td>932      </td> <td>(X)      </td> <td>115      </td> <td>86       </td> <td>12.3     </td> <td>9.8      </td> <td>30       </td> <td>33       </td> <td>3.2      </td> <td>3.8      </td> <td>401      </td> <td>172      </td> <td>43       </td> <td>14.6     </td> <td>126      </td> <td>88       </td> <td>13.5     </td> <td>7.6      </td> <td>260      </td> <td>133      </td> <td>27.9     </td> <td>13.8     </td> <td>3262     </td> <td>284      </td> <td>3262     </td> <td>(X)      </td> <td>150      </td> <td>99       </td> <td>4.6      </td> <td>2.9      </td> <td>169      </td> <td>84       </td> <td>5.2      </td> <td>2.6      </td> <td>536      </td> <td>140      </td> <td>16.4     </td> <td>4        </td> <td>986      </td> <td>251      </td> <td>30.2     </td> <td>6.8      </td> <td>220      </td> <td>83       </td> <td>6.7      </td> <td>2.6      </td>\n",
       "        </tr>\n",
       "    </tbody>\n",
       "</table>"
      ],
      "text/plain": [
       "GEO.id               | GEO.id2    | Census_Tract_Number | HC01_VC03 | HC02_VC03 | HC03_VC03 | HC04_VC03 | HC01_VC04 | HC02_VC04 | HC03_VC04 | HC04_VC04 | HC01_VC05 | HC02_VC05 | HC03_VC05 | HC04_VC05 | HC01_VC06 | HC02_VC06 | HC03_VC06 | HC04_VC06 | HC01_VC07 | HC02_VC07 | HC03_VC07 | HC04_VC07 | HC01_VC08 | HC02_VC08 | HC03_VC08 | HC04_VC08 | HC01_VC09 | HC02_VC09 | HC03_VC09 | HC04_VC09 | HC01_VC10 | HC02_VC10 | HC03_VC10 | HC04_VC10 | HC01_VC11 | HC02_VC11 | HC03_VC11 | HC04_VC11 | HC01_VC12 | HC02_VC12 | HC03_VC12 | HC04_VC12 | HC01_VC13 | HC02_VC13 | HC03_VC13 | HC04_VC13 | HC01_VC14 | HC02_VC14 | HC03_VC14 | HC04_VC14 | HC01_VC17 | HC02_VC17 | HC03_VC17 | HC04_VC17 | HC01_VC18 | HC02_VC18 | HC03_VC18 | HC04_VC18 | HC01_VC21 | HC02_VC21 | HC03_VC21 | HC04_VC21 | HC01_VC22 | HC02_VC22 | HC03_VC22 | HC04_VC22 | HC01_VC26 | HC02_VC26 | HC03_VC26 | HC04_VC26 | HC01_VC27 | HC02_VC27 | HC03_VC27 | HC04_VC27 | HC01_VC28 | HC02_VC28 | HC03_VC28 | HC04_VC28 | HC01_VC29 | HC02_VC29 | HC03_VC29 | HC04_VC29 | HC01_VC30 | HC02_VC30 | HC03_VC30 | HC04_VC30 | HC01_VC31 | HC02_VC31 | HC03_VC31 | HC04_VC31 | HC01_VC32 | HC02_VC32 | HC03_VC32 | HC04_VC32 | HC01_VC36 | HC02_VC36 | HC03_VC36 | HC04_VC36 | HC01_VC37 | HC02_VC37 | HC03_VC37 | HC04_VC37 | HC01_VC38 | HC02_VC38 | HC03_VC38 | HC04_VC38 | HC01_VC39 | HC02_VC39 | HC03_VC39 | HC04_VC39 | HC01_VC40 | HC02_VC40 | HC03_VC40 | HC04_VC40 | HC01_VC41 | HC02_VC41 | HC03_VC41 | HC04_VC41 | HC01_VC43 | HC02_VC43 | HC03_VC43 | HC04_VC43 | HC01_VC44 | HC02_VC44 | HC03_VC44 | HC04_VC44 | HC01_VC45 | HC02_VC45 | HC03_VC45 | HC04_VC45 | HC01_VC46 | HC02_VC46 | HC03_VC46 | HC04_VC46 | HC01_VC47 | HC02_VC47 | HC03_VC47 | HC04_VC47 | HC01_VC48 | HC02_VC48 | HC03_VC48 | HC04_VC48 | HC01_VC52 | HC02_VC52 | HC03_VC52 | HC04_VC52 | HC01_VC53 | HC02_VC53 | HC03_VC53 | HC04_VC53 | HC01_VC54 | HC02_VC54 | HC03_VC54 | HC04_VC54 | HC01_VC55 | HC02_VC55 | HC03_VC55 | HC04_VC55 | HC01_VC56 | HC02_VC56 | HC03_VC56 | HC04_VC56 | HC01_VC57 | HC02_VC57 | HC03_VC57 | HC04_VC57 | HC01_VC58 | HC02_VC58 | HC03_VC58 | HC04_VC58 | HC01_VC62 | HC02_VC62 | HC03_VC62 | HC04_VC62 | HC01_VC63 | HC02_VC63 | HC03_VC63 | HC04_VC63 | HC01_VC65 | HC02_VC65 | HC03_VC65 | HC04_VC65 | HC01_VC66 | HC02_VC66 | HC03_VC66 | HC04_VC66 | HC01_VC67 | HC02_VC67 | HC03_VC67 | HC04_VC67 | HC01_VC68 | HC02_VC68 | HC03_VC68 | HC04_VC68 | HC01_VC70 | HC02_VC70 | HC03_VC70 | HC04_VC70 | HC01_VC71 | HC02_VC71 | HC03_VC71 | HC04_VC71 | HC01_VC72 | HC02_VC72 | HC03_VC72 | HC04_VC72 | HC01_VC76 | HC02_VC76 | HC03_VC76 | HC04_VC76 | HC01_VC77 | HC02_VC77 | HC03_VC77 | HC04_VC77 | HC01_VC78 | HC02_VC78 | HC03_VC78 | HC04_VC78 | HC01_VC79 | HC02_VC79 | HC03_VC79 | HC04_VC79 | HC01_VC80 | HC02_VC80 | HC03_VC80 | HC04_VC80 | HC01_VC81 | HC02_VC81 | HC03_VC81 | HC04_VC81 | HC01_VC85 | HC02_VC85 | HC03_VC85 | HC04_VC85 | HC01_VC86 | HC02_VC86 | HC03_VC86 | HC04_VC86 | HC01_VC87 | HC02_VC87 | HC03_VC87 | HC04_VC87 | HC01_VC88 | HC02_VC88 | HC03_VC88 | HC04_VC88 | HC01_VC89 | HC02_VC89 | HC03_VC89 | HC04_VC89 | HC01_VC90 | HC02_VC90 | HC03_VC90 | HC04_VC90\n",
       "1400000US06001403501 | 6001403501 | 4035.01             | 2583      | 136       | 2583      | (X)       | 789       | 178       | 30.5      | 6.9       | 322       | 140       | 12.5      | 5.3       | 542       | 156       | 21        | 6.1       | 248       | 118       | 9.6       | 4.5       | 53        | 44        | 2.1       | 1.7       | 0         | 12        | 0         | 1.2       | 194       | 116       | 7.5       | 4.5       | 74        | 90        | 2.9       | 3.5       | 1794      | 208       | 69.5      | 6.9       | 1482      | 204       | 57.4      | 6.6       | 445       | 114       | 17.2      | 4.3       | 360       | 143       | 13.9      | 5.5       | 637       | 113       | 24.7      | 4.4       | 1.71      | 0.12      | (X)       | (X)       | 2.63      | 0.23      | (X)       | (X)       | 4406      | 356       | 4406      | (X)       | 2583      | 136       | 58.6      | 4.1       | 545       | 157       | 12.4      | 3.1       | 671       | 242       | 15.2      | 4.8       | 71        | 65        | 1.6       | 1.5       | 536       | 231       | 12.2      | 5.2       | 200       | 104       | 4.5       | 2.5       | 1813      | 200       | 1813      | (X)       | 821       | 190       | 45.3      | 8.5       | 624       | 170       | 34.4      | 9.1       | 112       | 94        | 6.2       | 5         | 79        | 88        | 4.4       | 4.9       | 177       | 73        | 9.8       | 3.8       | 2100      | 261       | 2100      | (X)       | 1027      | 244       | 48.9      | 8.4       | 587       | 159       | 28        | 7.8       | 20        | 26        | 1         | 1.2       | 266       | 130       | 12.7      | 5.8       | 200       | 105       | 9.5       | 5.1       | 14        | 24        | 14        | (X)       | 0         | 12        | 0         | 79.3      | 0         | 36        | (X)       | (X)       | 11        | 21        | (X)       | (X)       | 0         | 415       | (X)       | (X)       | 0         | 50        | (X)       | (X)       | 26        | 47        | (X)       | (X)       | 0         | 12        | 0         | (X)       | 0         | 12        | -         | **        | 0         | 12        | -         | **        | 0         | 12        | -         | **        | 0         | 12        | -         | **        | 0         | 12        | -         | **        | 0         | 12        | 0         | (X)       | 0         | 12        | -         | **        | 0         | 12        | -         | **        | 894       | 267       | 894       | (X)       | 60        | 54        | 6.7       | 6.3       | 78        | 70        | 8.7       | 8.2       | 264       | 223       | 29.5      | 20.6      | 51        | 58        | 5.7       | 6.3       | 441       | 166       | 49.3      | 17.1      | 3713      | 290       | 3713      | (X)       | 313       | 168       | 8.4       | 4.3       | 192       | 98        | 5.2       | 2.6       | 299       | 114       | 8.1       | 3.1       | 679       | 185       | 18.3      | 5         | 374       | 220       | 10.1      | 5.9\n",
       "1400000US06001422400 | 6001422400 | 4224                | 2123      | 141       | 2123      | (X)       | 445       | 127       | 21        | 6         | 81        | 31        | 3.8       | 1.5       | 371       | 111       | 17.5      | 5.3       | 81        | 31        | 3.8       | 1.5       | 45        | 61        | 2.1       | 2.8       | 0         | 12        | 0         | 1.5       | 29        | 33        | 1.4       | 1.5       | 0         | 12        | 0         | 1.5       | 1678      | 183       | 79        | 6         | 1047      | 203       | 49.3      | 7.9       | 168       | 98        | 7.9       | 4.4       | 81        | 31        | 3.8       | 1.5       | 330       | 85        | 15.5      | 3.7       | 1.97      | 0.18      | (X)       | (X)       | 2.49      | 0.15      | (X)       | (X)       | 4185      | 385       | 4185      | (X)       | 2123      | 141       | 50.7      | 4.7       | 380       | 112       | 9.1       | 2.8       | 256       | 133       | 6.1       | 3.1       | 26        | 32        | 0.6       | 0.8       | 1400      | 358       | 33.5      | 6.4       | 152       | 103       | 3.6       | 2.5       | 2399      | 331       | 2399      | (X)       | 1795      | 319       | 74.8      | 6.5       | 431       | 129       | 18        | 5.8       | 47        | 76        | 2         | 3.2       | 0         | 12        | 0         | 1.3       | 126       | 83        | 5.3       | 3.4       | 1642      | 299       | 1642      | (X)       | 1207      | 301       | 73.5      | 8.3       | 377       | 119       | 23        | 7.9       | 0         | 12        | 0         | 2         | 14        | 23        | 0.9       | 1.4       | 44        | 46        | 2.7       | 2.7       | 9         | 15        | 9         | (X)       | 0         | 12        | 0         | 98.9      | 0         | 30        | (X)       | (X)       | 7         | 13        | (X)       | (X)       | 0         | 541       | (X)       | (X)       | 0         | 30        | (X)       | (X)       | 66        | 113       | (X)       | (X)       | 0         | 12        | 0         | (X)       | 0         | 12        | -         | **        | 0         | 12        | -         | **        | 0         | 12        | -         | **        | 0         | 12        | -         | **        | 0         | 12        | -         | **        | 0         | 12        | 0         | (X)       | 0         | 12        | -         | **        | 0         | 12        | -         | **        | 1799      | 384       | 1799      | (X)       | 19        | 21        | 1.1       | 1.2       | 0         | 12        | 0         | 1.8       | 34        | 40        | 1.9       | 2.2       | 36        | 58        | 2         | 3.2       | 1710      | 374       | 95.1      | 4.1       | 2300      | 263       | 2300      | (X)       | 0         | 12        | 0         | 1.4       | 0         | 12        | 0         | 1.4       | 115       | 92        | 5         | 4         | 114       | 100       | 5         | 4.3       | 46        | 45        | 2         | 1.9\n",
       "1400000US06001427200 | 6001427200 | 4272                | 1663      | 66        | 1663      | (X)       | 1056      | 134       | 63.5      | 7.3       | 449       | 105       | 27        | 6.2       | 782       | 146       | 47        | 8.3       | 321       | 73        | 19.3      | 4.3       | 120       | 51        | 7.2       | 3         | 46        | 62        | 2.8       | 3.7       | 154       | 67        | 9.3       | 4         | 82        | 51        | 4.9       | 3         | 607       | 121       | 36.5      | 7.3       | 413       | 100       | 24.8      | 5.8       | 144       | 56        | 8.7       | 3.4       | 511       | 130       | 30.7      | 7.7       | 343       | 60        | 20.6      | 3.4       | 2.47      | 0.19      | (X)       | (X)       | 2.96      | 0.21      | (X)       | (X)       | 4104      | 320       | 4104      | (X)       | 1663      | 66        | 40.5      | 3.1       | 763       | 140       | 18.6      | 3.2       | 892       | 139       | 21.7      | 3.5       | 417       | 221       | 10.2      | 4.9       | 369       | 242       | 9         | 5.7       | 98        | 58        | 2.4       | 1.4       | 1777      | 176       | 1777      | (X)       | 511       | 171       | 28.8      | 8.2       | 869       | 177       | 48.9      | 8.7       | 36        | 42        | 2         | 2.4       | 72        | 52        | 4.1       | 2.9       | 289       | 127       | 16.3      | 7.5       | 1715      | 174       | 1715      | (X)       | 514       | 142       | 30        | 7         | 859       | 177       | 50.1      | 9.6       | 6         | 10        | 0.3       | 0.6       | 56        | 39        | 3.3       | 2.2       | 280       | 130       | 16.3      | 7.6       | 12        | 18        | 12        | (X)       | 0         | 12        | 0         | 85.6      | 0         | 50        | (X)       | (X)       | 11        | 17        | (X)       | (X)       | 0         | 335       | (X)       | (X)       | 36        | 58        | (X)       | (X)       | 0         | 46        | (X)       | (X)       | 44        | 46        | 44        | (X)       | 12        | 18        | 27.3      | 26        | 0         | 12        | 0         | 44.7      | 0         | 12        | 0         | 44.7      | 0         | 12        | 0         | 44.7      | 12        | 18        | 27.3      | 26        | 12        | 18        | 12        | (X)       | 12        | 18        | 100       | 85.6      | 12        | 18        | 100       | 85.6      | 932       | 210       | 932       | (X)       | 115       | 86        | 12.3      | 9.8       | 30        | 33        | 3.2       | 3.8       | 401       | 172       | 43        | 14.6      | 126       | 88        | 13.5      | 7.6       | 260       | 133       | 27.9      | 13.8      | 3262      | 284       | 3262      | (X)       | 150       | 99        | 4.6       | 2.9       | 169       | 84        | 5.2       | 2.6       | 536       | 140       | 16.4      | 4         | 986       | 251       | 30.2      | 6.8       | 220       | 83        | 6.7       | 2.6"
      ]
     },
     "execution_count": 16,
     "metadata": {},
     "output_type": "execute_result"
    }
   ],
   "source": [
    "census_data = Table.read_table('data/ACS_16_5YR_DP02_with_ann.csv', index_col=None)\n",
    "tracts = census_data.apply(fix_tract, 'Census_Tract_Number')\n",
    "census_data.with_column('Census_Tract_Number', tracts)"
   ]
  },
  {
   "cell_type": "code",
   "execution_count": 20,
   "metadata": {},
   "outputs": [
    {
     "name": "stdout",
     "output_type": "stream",
     "text": [
      "Name: folium\r\n",
      "Version: 0.7.0\r\n",
      "Summary: Make beautiful maps with Leaflet.js & Python\r\n",
      "Home-page: https://github.com/python-visualization/folium\r\n",
      "Author: Rob Story\r\n",
      "Author-email: wrobstory@gmail.com\r\n",
      "License: Copyright (C) 2013, Rob Story\r\n",
      "Location: /srv/app/venv/lib/python3.6/site-packages\r\n",
      "Requires: requests, numpy, six, jinja2, branca\r\n"
     ]
    }
   ],
   "source": [
    "!pip show folium"
   ]
  },
  {
   "cell_type": "code",
   "execution_count": 21,
   "metadata": {},
   "outputs": [
    {
     "ename": "NameError",
     "evalue": "name 'census_data_map' is not defined",
     "output_type": "error",
     "traceback": [
      "\u001b[0;31m---------------------------------------------------------------------------\u001b[0m",
      "\u001b[0;31mNameError\u001b[0m                                 Traceback (most recent call last)",
      "\u001b[0;32m<ipython-input-21-68c5d92b0fa2>\u001b[0m in \u001b[0;36m<module>\u001b[0;34m\u001b[0m\n\u001b[1;32m      7\u001b[0m mapa.choropleth(geo_data=alameda, \n\u001b[1;32m      8\u001b[0m              \u001b[0mname\u001b[0m \u001b[0;34m=\u001b[0m \u001b[0;34m'data'\u001b[0m\u001b[0;34m,\u001b[0m\u001b[0;34m\u001b[0m\u001b[0;34m\u001b[0m\u001b[0m\n\u001b[0;32m----> 9\u001b[0;31m              \u001b[0mdata\u001b[0m\u001b[0;34m=\u001b[0m\u001b[0mcensus_data_map\u001b[0m\u001b[0;34m,\u001b[0m\u001b[0;34m\u001b[0m\u001b[0;34m\u001b[0m\u001b[0m\n\u001b[0m\u001b[1;32m     10\u001b[0m              \u001b[0mcolumns\u001b[0m\u001b[0;34m=\u001b[0m\u001b[0;34m[\u001b[0m\u001b[0;34m'Census_Tract_Number'\u001b[0m\u001b[0;34m,\u001b[0m \u001b[0;34m'HC01_VC03'\u001b[0m\u001b[0;34m]\u001b[0m\u001b[0;34m,\u001b[0m\u001b[0;34m\u001b[0m\u001b[0;34m\u001b[0m\u001b[0m\n\u001b[1;32m     11\u001b[0m              \u001b[0mkey_on\u001b[0m\u001b[0;34m=\u001b[0m\u001b[0;34m'feature.properties.name10'\u001b[0m\u001b[0;34m,\u001b[0m\u001b[0;34m\u001b[0m\u001b[0;34m\u001b[0m\u001b[0m\n",
      "\u001b[0;31mNameError\u001b[0m: name 'census_data_map' is not defined"
     ]
    }
   ],
   "source": [
    "# Plot your data here\n",
    "alameda = geojson.load(open(\"Census Tracts.geojson\"))\n",
    "\n",
    "\n",
    "mapa = folium.Map(location=[37.8044, -121.9711], zoom_start=9)\n",
    "\n",
    "mapa.choropleth(geo_data=alameda, \n",
    "             name = 'data',\n",
    "             data=census_data_map,\n",
    "             columns=['Census_Tract_Number', 'HC01_VC03'],\n",
    "             key_on='feature.properties.name10',\n",
    "             nan_fill_color='purple',\n",
    "             nan_fill_opacity = 0.1,\n",
    "             fill_color='YlGn',\n",
    "             fill_opacity=0.7, \n",
    "             line_opacity=0.7,\n",
    "            ).add_to(mapa)\n",
    "\n",
    "mapa.save(\"map2.html\")\n",
    "IFrame('map2.html', width=700, height=400)"
   ]
  },
  {
   "cell_type": "markdown",
   "metadata": {},
   "source": [
    "Lead was banned from household paints in the United States in 1978, and houses constructed before this year are likely to contain lead paint. Is there a difference in the age of housing surrounding your three schools? How does this difference related to the other demographic characteristics of the census tracts where the schools are located (race/poverty/English as a Second Language (ESL))?"
   ]
  },
  {
   "cell_type": "markdown",
   "metadata": {},
   "source": [
    "**Write two to three sentences explaining any relationships that you see across your three school census areas.**"
   ]
  },
  {
   "cell_type": "markdown",
   "metadata": {},
   "source": [
    "**Answer:**\n",
    "YOUR ANSWER HERE"
   ]
  },
  {
   "cell_type": "markdown",
   "metadata": {},
   "source": [
    "# 3) Estimating children’s toxics exposure from traffic"
   ]
  },
  {
   "cell_type": "markdown",
   "metadata": {},
   "source": [
    "Starting in 1970, the USEPA moved to phase-out lead in gasoline. Ethyl Corporation (now known as NewMarket Corporation), the company that produced the lead-containing additive TEL that was regularly added to gasoline to prevent engine-knock and boost octane, attempted to block this process through a lawsuit. The basis for this lawsuit: there was no scientific evidence that lead was any more harmful than the gasoline itself. This reasoning should remind you of other issues we have spoken about in class – such arguments assuring the safety of TEL have their roots in the 1920’s, and in fact in 1926 the US Surgeon General assured the public that TEL was hazardous to human health. The EPA eventually won the suit and the phase-out began 1976. In 1996 lead was completely banned from motor vehicle gasoline in the United States."
   ]
  },
  {
   "cell_type": "markdown",
   "metadata": {},
   "source": [
    "While lead is no longer in our gasoline, soil near roadways still tends to exhibit higher lead concentrations, particularly in urban and higher-traffic areas, and soil is a main route of transmission for small children (who are most susceptible to its neurotoxic effects). In addition to lead, traffic exhaust contains other neuro-developmental toxins, which may lead to worse outcomes when combined with lead exposure, although the science here is still in its infancy. "
   ]
  },
  {
   "cell_type": "markdown",
   "metadata": {},
   "source": [
    "Go to the Cal EnviroScreen 3.0 website: \n",
    "https://oehha.ca.gov/calenviroscreen/report/calenviroscreen-30\n"
   ]
  },
  {
   "cell_type": "markdown",
   "metadata": {},
   "source": [
    "> Scroll down to the CalEnviroScreen 3.0 Map and open the map (where it says “Map of CalEnviroScreen 3.0 Results”). Note that some browsers may not work, and adblockers may disrupt the function of this tool."
   ]
  },
  {
   "cell_type": "markdown",
   "metadata": {},
   "source": [
    "Enter the address of the school and click on the census tract.\n",
    "<img src = 'Images/EnviroScreen Example.png'>"
   ]
  },
  {
   "cell_type": "markdown",
   "metadata": {},
   "source": [
    "**What is the traffic volumes (the data is given in vehicle-km/hr) for each of your schools’ census tracts? What other forms of pollution stand out, and how do they compare across your census tracts? Create a small table of appropriate data.**\n",
    "\n"
   ]
  },
  {
   "cell_type": "markdown",
   "metadata": {},
   "source": [
    "**Answer:**\n",
    "YOUR ANSWER HERE"
   ]
  },
  {
   "cell_type": "markdown",
   "metadata": {},
   "source": [
    "\n",
    "**In two to three sentences, considering housing age and traffic exposure, are schools in neighborhoods with older houses also surrounded by greater traffic density? Do the patterns of cumulative potential sources of lead exposure differ along socioeconomic lines, and if so how?**\n"
   ]
  },
  {
   "cell_type": "markdown",
   "metadata": {},
   "source": [
    "**Answer:**\n",
    "YOUR ANSWER HERE"
   ]
  },
  {
   "cell_type": "markdown",
   "metadata": {},
   "source": [
    "**Some students might find that there is a positive correlation between old housing, traffic, and wealth – why might this be the case? In two to three sentences, explain why this might happen.**\n",
    "<br> \n",
    "Be sure to consider the changing geographies of poverty as well as where kids might be going to school."
   ]
  },
  {
   "cell_type": "markdown",
   "metadata": {},
   "source": [
    "**Answer:**\n",
    "YOUR ANSWER HERE"
   ]
  },
  {
   "cell_type": "code",
   "execution_count": null,
   "metadata": {},
   "outputs": [],
   "source": []
  }
 ],
 "metadata": {
  "kernelspec": {
   "display_name": "Python 3",
   "language": "python",
   "name": "python3"
  },
  "language_info": {
   "codemirror_mode": {
    "name": "ipython",
    "version": 3
   },
   "file_extension": ".py",
   "mimetype": "text/x-python",
   "name": "python",
   "nbconvert_exporter": "python",
   "pygments_lexer": "ipython3",
   "version": "3.6.7"
  }
 },
 "nbformat": 4,
 "nbformat_minor": 2
}

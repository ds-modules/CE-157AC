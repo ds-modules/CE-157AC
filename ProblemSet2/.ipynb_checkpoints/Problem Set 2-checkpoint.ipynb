{
 "cells": [
  {
   "cell_type": "markdown",
   "metadata": {},
   "source": [
    "# CE-157 Problem Set 2\n",
    "**Due**: Friday, March 16, 2018 at 11:59 pm\n",
    "<br>\n",
    "*Submit via bCourses*"
   ]
  },
  {
   "cell_type": "markdown",
   "metadata": {},
   "source": [
    "# Introduction\n",
    "Read this recent news article:\n",
    "https://www.theguardian.com/education/2018/feb/01/schools-across-the-us-exposed-to-air-pollution-hildren-are-facing-risks\n",
    "\n",
    "If you’re so inclined, check out the study they are referencing:\n",
    "https://www.sciencedirect.com/science/article/pii/S0013935117317188\n",
    "\n",
    "In this problem set, we’re going to do some relatively rudimentary analyses of similar issues here in the Bay Area. In the process, you will explore the lasting effects of urban infrastructure (specifically, housing and highways) on the way exposures vary across space and communities. To do this you’ll use a variety of easily-accessible tools provided by various government agencies. One of the purposes here is to familiarize you with these sources of data so that you might take advantage of them in your future work.\n"
   ]
  },
  {
   "cell_type": "markdown",
   "metadata": {},
   "source": [
    "Run the cell below to set up some important libraries you'll be using later on in this problem set."
   ]
  },
  {
   "cell_type": "code",
   "execution_count": 2,
   "metadata": {
    "collapsed": true
   },
   "outputs": [],
   "source": [
    "#import geopandas as gpd\n",
    "import matplotlib.pyplot as plt\n",
    "from datascience import *\n",
    "import shapefile\n",
    "import numpy as np\n",
    "import unittest\n",
    "import folium\n",
    "import json"
   ]
  },
  {
   "cell_type": "markdown",
   "metadata": {},
   "source": [
    "# 1) Exploring the East Bay's census map"
   ]
  },
  {
   "cell_type": "markdown",
   "metadata": {},
   "source": [
    "* Go to the US Census Explorer: http://census.socialexplorer.com/ \n",
    "\n",
    "* Zoom in on the east bay area\n",
    "\n",
    "    * Bound your search between Martinez, Richmond, Hayward, and Pleasanton.\n",
    "    You’ll want to zoom in further within this boundary, but keep your zoomed-in map within this area.\n",
    "\n",
    "** Make sure you are viewing by “Census Tract”**\n",
    "<img src = 'Images/East_Bay_Census_Tract.png'>\n"
   ]
  },
  {
   "cell_type": "markdown",
   "metadata": {},
   "source": [
    "* Under “Select a Measure” – explore!\n",
    "\n",
    "    * **Select one measure that you find interesting, take a screen shot of that map** (see http://www.take-a-screenshot.org/ for a how to), and copy the map into your assignment.\n",
    "        * Note: do not choose “Median Household Income” for this part\n",
    "\n",
    "    * **Write 2-3 sentences** – what is interesting to you about this map and why? How do you interpret it?\n",
    "\n",
    "* Under “Select a Measure” – select “Median Household Income” for the next question"
   ]
  },
  {
   "cell_type": "code",
   "execution_count": null,
   "metadata": {
    "collapsed": true
   },
   "outputs": [],
   "source": []
  },
  {
   "cell_type": "markdown",
   "metadata": {},
   "source": [
    "# 2)  Exploring age of housing as a potential source of lead exposure"
   ]
  },
  {
   "cell_type": "markdown",
   "metadata": {},
   "source": [
    "Find three East Bay elementary schools that fit the following criteria:\n",
    "\n",
    "* At least 250 students\n",
    "* Each is located in a census tract with > $15,000 difference in median income from the other schools you choose \n",
    "<br>\n",
    "\n",
    "> This will take some creative searching – perhaps use google maps to find elementary schools in a specific area, then check the “Median Household Income” image from the previous problem to ensure that the schools are located within census tracts with large income differences. Alternatively – use the tool that you used for the first problem set (http://ejscreen.epa.gov/mapper/) and you can map school locations there as well.\n",
    "\n",
    "> ** Note the addresses and census tract numbers for each school."
   ]
  },
  {
   "cell_type": "markdown",
   "metadata": {},
   "source": [
    "**Create one map showing the location of each school you have chosen.**"
   ]
  },
  {
   "cell_type": "markdown",
   "metadata": {},
   "source": [
    "> There are a number of ways to do this, one straightforward method is to use https://www.google.com/maps/d/u/0/. Simply put: select “Create a new map” from the menu on the top left corner (three bars). Enter the school’s address in the search bar. Click on the green pin that is dropped onto the map, and in the box that appears select “Add to Map”. Do this for each school. You can add a description for each point on the map (i.e. the school name) and display these. Finally, take a screenshot of your map.\n",
    "<img src = 'Images/BerkeleyMap.png'>"
   ]
  },
  {
   "cell_type": "markdown",
   "metadata": {},
   "source": [
    "Go to the US Census Bureau FactFinder: http://factfinder2.census.gov/\n",
    "\n",
    "* Select “Advanced Search” and “Show me all”\n",
    "* On the left side, click “Geographies” and the click “Address”\n",
    "* Enter the address of one of your schools and click “Go”\n",
    "* Click on the appropriate census tract.\n",
    "    * It should be the link with the “Geography Type” listed as “Census Tract”\n",
    "    * After you click the link, this census tract should show up on the left side under “Your Selections”\n",
    "* Now repeat this for the other two schools you have chosen\n",
    "You should now have three census tracts chosen under “Your Selections”\n",
    "\n",
    "<img src = 'Images/CensusTract.png'>\n"
   ]
  },
  {
   "cell_type": "markdown",
   "metadata": {},
   "source": [
    "**Before continuing, save your census tract number below for each of your chosen census tracts. The number should appear in your search results, e.g.\"Census Tract 4229\". Be sure you only include the number.**"
   ]
  },
  {
   "cell_type": "code",
   "execution_count": 56,
   "metadata": {
    "collapsed": true
   },
   "outputs": [],
   "source": [
    "census_tract1 = ...\n",
    "census_tract2 = ...\n",
    "census_tract3 = ..."
   ]
  },
  {
   "cell_type": "markdown",
   "metadata": {},
   "source": [
    "Run the cell below to make sure the census tracts you picked are contained within the data for Alameda County."
   ]
  },
  {
   "cell_type": "code",
   "execution_count": 43,
   "metadata": {
    "collapsed": true
   },
   "outputs": [],
   "source": [
    "#hide this from students once done\n",
    "temp = Table.read_table(\"alameda-tracts-2010.csv\")\n",
    "tracts = temp.column('NAME10')\n",
    "def test_valid():\n",
    "    if not census_tract1 in tracts: raise Exception(\"census_tract1 not a valid census tract\" )\n",
    "    if not census_tract2 in tracts:raise Exception(\"census_tract2 not a valid census tract\" )\n",
    "    if not census_tract3 in tracts:raise Exception(\"census_tract3 not a valid census tract\" )"
   ]
  },
  {
   "cell_type": "code",
   "execution_count": null,
   "metadata": {
    "collapsed": true
   },
   "outputs": [],
   "source": [
    "test_valid()"
   ]
  },
  {
   "cell_type": "markdown",
   "metadata": {},
   "source": [
    "Click on “Topics” and then close the pop-up window that appears \n",
    "<br>\n",
    "> We are going to look at multiple tables:\n",
    "* DP02: SELECTED SOCIAL CHARACTERISTICS…\n",
    "* DP03: SELECTED ECONOMIC CHARACTERISTICS\n",
    "* DP04: SELECTED HOUSING CHARACTERISTICS\n",
    "* DP05: ACS DEMOGRAPHIC AND HOUSING ESTIMATES\n",
    "* S1701: POVERTY STATUS IN THE PAST 12 MONTHS\n"
   ]
  },
  {
   "cell_type": "markdown",
   "metadata": {},
   "source": [
    "Some notes\n",
    "<br>\n",
    "> **(1)** Search for the appropriate data set in the “topic or table name” box\n",
    "<br>\n",
    "**(2)** Capitalization counts\n",
    "<br>\n",
    "**(3)** When you get the list of tables, select the appropriate one (use the 2016 ACS 5-year estimates)\n",
    "<br>\n",
    "**(4)** After selecting the check-box next to the table you are interested in, you need to clear the search before you do the next one – in the “Your Selections” box on the upper left just clear out that search, then perform the next one. Every time you select one of the check-boxes the site remembers your selections.\n",
    "<br>\n",
    "**(5)** After selecting all of the tables, you can click “View” to view each table and then download the data as an Excel file. Note that you must download each table separately (and if you download them immediately from the search page you’ll get them as csv files. Make sure you are downloading them into the same folder as your problem set. Review problem set 1 for instructions on how to read in the files). Note too that from the “View” section you can modify the table and only select the data you are interested in prior to downloading.\n",
    "\n"
   ]
  },
  {
   "cell_type": "markdown",
   "metadata": {},
   "source": [
    "**Create a well-organized table with the following information for each of your school census tracts:**\n",
    "<br>\n",
    "> *This will require exploring within the above tables. For example, to see the % of structures built before or after a certain year, you will need to click on \" DP04: SELECTED HOUSING CHARACTERISTICS\".*\n",
    "\n",
    "> *Do not overload us with data! Presentation and legibility are very important here. Make sure your column names match the labels below.*\n"
   ]
  },
  {
   "cell_type": "markdown",
   "metadata": {},
   "source": [
    "* School Address\n",
    "<br>\n",
    "* Census Tract Number\n",
    "<br>\n",
    "* Total Population\n",
    "<br>\n",
    "* % Population\n",
    "<br>\n",
    "> Under 5 years\n",
    "<br>\n",
    "> 5 to 19 years (you will have to add numbers to get this)\n",
    "<br>\n",
    "* % Population enrolled in elementary school\n",
    "<br>\n",
    "* % Population “Language other than English” spoken at home\n",
    "<br>\n",
    "* % Population with “No health insurance coverage”<br>\n",
    "* % Non-White (Calculate: Total Population - Not Hispanic/Latino White alone) <br>\n",
    "* % of population in each of the top 3 represented racial categories<br>\n",
    "> Focus on the broad categories, not the most-specific breakdowns<br>\n",
    "    > i.e. White, Black or African American, American Indian and Alaskan Native, Asian, etc.<br>\n",
    "> *List these individually – three values – not a sum of these values*<br>\n",
    "* % Hispanic or Latino<br>\n",
    "* % Year Structure Built (you’ll have to add percentages here)<br>\n",
    "> 1980 or later<br>\n",
    "> Before 1980<br>\n",
    "* % Total population below poverty level<br>\n",
    "* % Population under 18 years below poverty level\n"
   ]
  },
  {
   "cell_type": "code",
   "execution_count": null,
   "metadata": {
    "collapsed": true
   },
   "outputs": [],
   "source": [
    "census_info = ..."
   ]
  },
  {
   "cell_type": "code",
   "execution_count": 25,
   "metadata": {
    "collapsed": true
   },
   "outputs": [],
   "source": [
    "#make sure names are the same for columns & data is contained\n",
    "def test_table():\n",
    "    if not 'School Address' in census_info.labels: raise Exception(\"missing school address\" )\n",
    "    if not 'Census Tract Number' in census_info.labels:raise Exception(\"missing census tract number\" )\n",
    "    if not 'Total Population' in census_info.labels:raise Exception(\"missing total population\")\n",
    "    if not '% Population enrolled in elementary school' in census_info.labels: \\\n",
    "        raise Exception(\"missing % Population enrolled in elementary school\")\n",
    "    if not '% Population “Language other than English\" spoken at home' in census_info.labels:\\\n",
    "        raise Exception(\"missing % Population 'Language other than English' spoken at home\")\n",
    "    if not '% Population with “No health insurance coverage”' in census_info.labels: \\\n",
    "        raise Exception(\"% Population with “No health insurance coverage”\")\n",
    "    if not '% Non-White' in census_info.labels: \\\n",
    "        raise Exception(\"% Non-White\")\n",
    "    if not '% Hispanic or Latino' in census_info.labels:\\\n",
    "        raise Exception(\"% Hispanic or Latino\")\n",
    "    if not '% Total population below poverty level' in census_info.labels:\\\n",
    "        raise Exception(\"% Total population below poverty level\")\n",
    "    if not '% Population under 18 years below poverty level' in census_info.labels:\\\n",
    "        raise Exception(\"% Population under 18 years below poverty level\")\n",
    "    if not len(census_info.labels) == 17: raise Exception(\"missing columns of data\")"
   ]
  },
  {
   "cell_type": "code",
   "execution_count": null,
   "metadata": {
    "collapsed": true
   },
   "outputs": [],
   "source": [
    "test_table()"
   ]
  },
  {
   "cell_type": "code",
   "execution_count": 67,
   "metadata": {},
   "outputs": [
    {
     "data": {
      "text/html": [
       "<div style=\"width:100%;\"><div style=\"position:relative;width:100%;height:0;padding-bottom:60%;\"><iframe src=\"data:text/html;charset=utf-8;base64,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\" style=\"position:absolute;width:100%;height:100%;left:0;top:0;border:none !important;\" allowfullscreen webkitallowfullscreen mozallowfullscreen></iframe></div></div>"
      ],
      "text/plain": [
       "<folium.folium.Map at 0x1a21c33630>"
      ]
     },
     "execution_count": 67,
     "metadata": {},
     "output_type": "execute_result"
    }
   ],
   "source": [
    "#Plot your data here\n",
    "\n",
    "from folium.plugins import MarkerCluster\n",
    "alameda_map = folium.Map(location=[37.5, -121], zoom_start=8)\n",
    "marker_cluster = MarkerCluster().add_to(alameda_map)\n",
    "\n",
    "folium.Marker(\n",
    "    location = [float(temp.where('NAME10', are.equal_to(census_tract1))[11]), \\\n",
    "                float(temp.where('NAME10', are.equal_to(census_tract1))[12])],\n",
    "    popup = str(census_tract1)\n",
    ").add_to(marker_cluster)\n",
    "\n",
    "folium.Marker(\n",
    "    location = [float(temp.where('NAME10', are.equal_to(census_tract2))[11]), \\\n",
    "                float(temp.where('NAME10', are.equal_to(census_tract2))[12])],\n",
    "    popup = str(census_tract2)\n",
    ").add_to(marker_cluster)\n",
    "\n",
    "folium.Marker(\n",
    "    location = [float(temp.where('NAME10', are.equal_to(census_tract3))[11]), \\\n",
    "                float(temp.where('NAME10', are.equal_to(census_tract3))[12])],\n",
    "    popup = str(census_tract3)\n",
    ").add_to(marker_cluster)\n",
    "\n",
    "alameda_map"
   ]
  },
  {
   "cell_type": "markdown",
   "metadata": {},
   "source": [
    "Lead was banned from household paints in the United States in 1978, and houses constructed before this year are likely to contain lead paint. Is there a difference in the age of housing surrounding your three schools? How does this difference related to the other demographic characteristics of the census tracts where the schools are located (race/poverty/English as a Second Language (ESL))?"
   ]
  },
  {
   "cell_type": "markdown",
   "metadata": {},
   "source": [
    "**Write two to three sentences explaining any relationships that you see across your three school census areas.**"
   ]
  },
  {
   "cell_type": "code",
   "execution_count": null,
   "metadata": {
    "collapsed": true
   },
   "outputs": [],
   "source": []
  },
  {
   "cell_type": "markdown",
   "metadata": {},
   "source": [
    "# 3) Estimating children’s toxics exposure from traffic"
   ]
  },
  {
   "cell_type": "markdown",
   "metadata": {},
   "source": [
    "Starting in 1970, the USEPA moved to phase-out lead in gasoline. Ethyl Corporation (now known as NewMarket Corporation), the company that produced the lead-containing additive TEL that was regularly added to gasoline to prevent engine-knock and boost octane, attempted to block this process through a lawsuit. The basis for this lawsuit: there was no scientific evidence that lead was any more harmful than the gasoline itself. This reasoning should remind you of other issues we have spoken about in class – such arguments assuring the safety of TEL have their roots in the 1920’s, and in fact in 1926 the US Surgeon General assured the public that TEL was hazardous to human health. The EPA eventually won the suit and the phase-out began 1976. In 1996 lead was completely banned from motor vehicle gasoline in the United States."
   ]
  },
  {
   "cell_type": "markdown",
   "metadata": {},
   "source": [
    "While lead is no longer in our gasoline, soil near roadways still tends to exhibit higher lead concentrations, particularly in urban and higher-traffic areas, and soil is a main route of transmission for small children (who are most susceptible to its neurotoxic effects). In addition to lead, traffic exhaust contains other neuro-developmental toxins, which may lead to worse outcomes when combined with lead exposure, although the science here is still in its infancy. "
   ]
  },
  {
   "cell_type": "markdown",
   "metadata": {},
   "source": [
    "Go to the Cal EnviroScreen 3.0 website: \n",
    "https://oehha.ca.gov/calenviroscreen/report/calenviroscreen-30\n"
   ]
  },
  {
   "cell_type": "markdown",
   "metadata": {},
   "source": [
    "> Scroll down to the CalEnviroScreen 3.0 Map and open the map (where it says “Map of CalEnviroScreen 3.0 Results”). Note that some browsers may not work, and adblockers may disrupt the function of this tool."
   ]
  },
  {
   "cell_type": "markdown",
   "metadata": {},
   "source": [
    "Enter the address of the school and click on the census tract.\n",
    "<img src = 'Images/EnviroScreen Example.png'>"
   ]
  },
  {
   "cell_type": "markdown",
   "metadata": {},
   "source": [
    "**What is the traffic volumes (the data is given in vehicle-km/hr) for each of your schools’ census tracts? What other forms of pollution stand out, and how do they compare across your census tracts? Create a small table of appropriate data.**\n",
    "\n"
   ]
  },
  {
   "cell_type": "code",
   "execution_count": null,
   "metadata": {
    "collapsed": true
   },
   "outputs": [],
   "source": []
  },
  {
   "cell_type": "markdown",
   "metadata": {},
   "source": [
    "\n",
    "**In two to three sentences, considering housing age and traffic exposure, are schools in neighborhoods with older houses also surrounded by greater traffic density? Do the patterns of cumulative potential sources of lead exposure differ along socioeconomic lines, and if so how?**\n"
   ]
  },
  {
   "cell_type": "code",
   "execution_count": null,
   "metadata": {
    "collapsed": true
   },
   "outputs": [],
   "source": []
  },
  {
   "cell_type": "markdown",
   "metadata": {},
   "source": [
    "**Some students might find that there is a positive correlation between old housing, traffic, and wealth – why might this be the case? In two to three sentences, explain why this might happen.**\n",
    "<br> \n",
    "Be sure to consider the changing geographies of poverty as well as where kids might be going to school."
   ]
  },
  {
   "cell_type": "code",
   "execution_count": null,
   "metadata": {
    "collapsed": true
   },
   "outputs": [],
   "source": []
  }
 ],
 "metadata": {
  "kernelspec": {
   "display_name": "Python 3",
   "language": "python",
   "name": "python3"
  },
  "language_info": {
   "codemirror_mode": {
    "name": "ipython",
    "version": 3
   },
   "file_extension": ".py",
   "mimetype": "text/x-python",
   "name": "python",
   "nbconvert_exporter": "python",
   "pygments_lexer": "ipython3",
   "version": "3.6.6"
  }
 },
 "nbformat": 4,
 "nbformat_minor": 2
}

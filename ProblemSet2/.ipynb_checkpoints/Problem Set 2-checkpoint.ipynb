{
 "cells": [
  {
   "cell_type": "markdown",
   "metadata": {},
   "source": [
    "# E 157AC Spring 2019\n",
    "\n",
    "## Assignment: Problem Set 2\n",
    "**Due**: Friday, March 22, 2019 at 11:59 pm\n",
    "<br>\n",
    "*Submit via bCourses*"
   ]
  },
  {
   "cell_type": "markdown",
   "metadata": {},
   "source": [
    "**Before you begin, run the following cell to load the packages needed for the rest of the notebook**"
   ]
  },
  {
   "cell_type": "code",
   "execution_count": null,
   "metadata": {},
   "outputs": [],
   "source": [
    "# RUN THIS CELL or the notebook will not work properly\n",
    "from datascience import *\n",
    "%matplotlib inline\n",
    "import matplotlib.pyplot as plt\n",
    "import numpy as np\n",
    "from scipy.stats.stats import pearsonr\n",
    "corr = lambda x, y: pearsonr(x, y)[0]"
   ]
  },
  {
   "cell_type": "markdown",
   "metadata": {},
   "source": [
    "# Introduction\n",
    "\n",
    "In this problem set, we’re going to do some relatively rudimentary analyses of similar issues here in the Bay Area. In the process, you will explore the lasting effects of urban infrastructure (specifically, housing and highways) on the way exposures vary across space and communities. To do this you’ll use a variety of easily-accessible tools provided by various government agencies. One of the purposes here is to familiarize you with these sources of data so that you might take advantage of them in your future work.\n"
   ]
  },
  {
   "cell_type": "markdown",
   "metadata": {},
   "source": [
    "### Required Reading\n",
    "\n",
    "Read this recent news article:\n",
    "* https://www.theguardian.com/education/2018/feb/01/schools-across-the-us-exposed-to-air-pollution-hildren-are-facing-risks\n",
    "\n",
    "If you’re so inclined, check out the study they are referencing:\n",
    "* https://www.sciencedirect.com/science/article/pii/S0013935117317188"
   ]
  },
  {
   "cell_type": "markdown",
   "metadata": {},
   "source": [
    "# 1) Exploring the East Bay's census map"
   ]
  },
  {
   "cell_type": "markdown",
   "metadata": {},
   "source": [
    "* Go to the US Census Explorer: http://census.socialexplorer.com/ \n",
    "\n",
    "* Zoom in on the east bay area\n",
    "\n",
    "    * Bound your search between Martinez, Richmond, Hayward, and Pleasanton.\n",
    "    You’ll want to zoom in further within this boundary, but keep your zoomed-in map within this area.\n",
    "    \n",
    "    * Make sure you are viewing by “Census Tract”\n",
    "<img src = 'Images/East_Bay_Census_Tract.png'>\n"
   ]
  },
  {
   "cell_type": "markdown",
   "metadata": {},
   "source": [
    "* Under “Select a Measure” – explore!"
   ]
  },
  {
   "cell_type": "markdown",
   "metadata": {},
   "source": [
    "### Question 1a\n",
    "\n",
    "**Select one measure that you find interesting and take a screen shot of that map.** \n",
    "\n",
    "Upload it to Jupyter and display the screenshot in the next cell (Double click on the cell below (the \"markdown cell\") and replace the three dots (…) with the file name of the screenshot. Don’t forget to upload your screenshot to your data hub first!). Feel free to refer to Problem Set 1 for instructions on how to upload files to Jupyter.\n",
    "\n",
    "**Note:** do not choose “Median Household Income” for this part"
   ]
  },
  {
   "cell_type": "markdown",
   "metadata": {},
   "source": [
    "**Screenshot Title**\n",
    "![Screenshot](...)"
   ]
  },
  {
   "cell_type": "markdown",
   "metadata": {},
   "source": [
    "### Question 1b\n",
    "\n",
    "**Write 2-3 sentences** – what is interesting to you about this map and why? How do you interpret it?"
   ]
  },
  {
   "cell_type": "markdown",
   "metadata": {
    "collapsed": true
   },
   "source": [
    "**Answer:**\n",
    "YOUR ANSWER HERE"
   ]
  },
  {
   "cell_type": "markdown",
   "metadata": {},
   "source": [
    "# 2)  Exploring age of housing as a potential source of lead exposure\n",
    "\n",
    "* Under “Select a Measure” – select “Median Household Income” for this question."
   ]
  },
  {
   "cell_type": "markdown",
   "metadata": {},
   "source": [
    "### Question 2a\n",
    "\n",
    "**Find three East Bay elementary schools that fit the following criteria:**\n",
    "* At least 250 students\n",
    "* Each is located in a census tract with > $15,000 difference in median income from the other schools you choose \n",
    "<br>\n",
    "\n",
    "**Write the addresses and census tract numbers for each school**\n",
    "\n",
    "This will take some creative searching – perhaps use google maps to find elementary schools in a specific area, then check the “Median Household Income” image from the previous problem to ensure that the schools are located within census tracts with large income differences. Alternatively – use the tool that you used for the first problem set (http://ejscreen.epa.gov/mapper/) and you can map school locations there as well.\n",
    "\n"
   ]
  },
  {
   "cell_type": "markdown",
   "metadata": {},
   "source": [
    "**Answer:**\n",
    "YOUR ANSWER HERE"
   ]
  },
  {
   "cell_type": "markdown",
   "metadata": {},
   "source": [
    "### Question 2b\n",
    "\n",
    "**Create one map showing the location of each school you have chosen. Upload it to Jupyter and display the screenshot in the next cell.**\n",
    "\n",
    "There are a number of ways to do this, one straightforward method is to use https://www.google.com/maps/d/u/0/.\n",
    "\n",
    "Simply put: select “Create a new map” from the menu on the top left corner (three bars). Enter the school’s address in the search bar. Click on the green pin that is dropped onto the map, and in the box that appears select “Add to Map”. Do this for each school. You can add a description for each point on the map (i.e. the school name) and display these. Finally, take a screenshot of your map. \n",
    "\n",
    "(Double click on the cell below (the \"markdown cell\") and replace the three dots (…) with the file name of the screenshot.\n",
    "\n",
    "Here's an example map showing the locations of different colleges on the Berkeley map. You will create a similar map marking the locations of your schools over the East Bay.\n",
    "![BerkeleyMap](Images/BerkeleyMap.png)"
   ]
  },
  {
   "cell_type": "markdown",
   "metadata": {},
   "source": [
    "**School Map**\n",
    "![Schools Map](...)"
   ]
  },
  {
   "cell_type": "markdown",
   "metadata": {},
   "source": [
    "### Question 2c\n",
    "\n",
    "Go to the US Census Bureau FactFinder: http://factfinder2.census.gov/\n",
    "\n",
    "* Select “Advanced Search” and “Show me all”\n",
    "* On the left side, click “Geographies” and the click “Address”\n",
    "* Enter the address of one of your schools and click “Go”\n",
    "* Click on the appropriate census tract.\n",
    "    * It should be the link with the “Geography Type” listed as “Census Tract”\n",
    "    * After you click the link, this census tract should show up on the left side under “Your Selections”\n",
    "* Now repeat this for the other two schools you have chosen. You should now have three census tracts chosen under “Your Selections”\n",
    "\n",
    "![CensusExamplePic](Images/CensusTract.png)\n"
   ]
  },
  {
   "cell_type": "markdown",
   "metadata": {},
   "source": [
    "* Click on “Topics” and then close the pop-up window that appears \n",
    "<br>\n",
    "* We are going to look at multiple tables:\n",
    "    * DP02: SELECTED SOCIAL CHARACTERISTICS…\n",
    "    * DP03: SELECTED ECONOMIC CHARACTERISTICS\n",
    "    * DP04: SELECTED HOUSING CHARACTERISTICS\n",
    "    * DP05: ACS DEMOGRAPHIC AND HOUSING ESTIMATES\n",
    "    * S1701: POVERTY STATUS IN THE PAST 12 MONTHS"
   ]
  },
  {
   "cell_type": "markdown",
   "metadata": {},
   "source": [
    "Some notes\n",
    "<br>\n",
    "1. Search for the appropriate data set in the “topic or table name” box\n",
    "<br>\n",
    "2. Capitalization counts\n",
    "<br>\n",
    "3. When you get the list of tables, select the appropriate one (use the 2016 ACS 5-year estimates)\n",
    "<br>\n",
    "4. After selecting the check-box next to the table you are interested in, you need to clear the search before you do the next one – in the “Your Selections” box on the upper left just clear out that search, then perform the next one. Every time you select one of the check-boxes the site remembers your selections.\n",
    "<br>\n",
    "5. After selecting all of the tables, you can click “View” to view each table and then download the data as an Excel file. Note that you must download each table separately (and if you download them immediately from the search page you’ll get them as csv files. Make sure you are downloading them into the same folder as your problem set. Review problem set 1 for instructions on how to read in the files). Note too that from the “View” section you can modify the table and only select the data you are interested in prior to downloading.\n",
    "\n"
   ]
  },
  {
   "cell_type": "markdown",
   "metadata": {},
   "source": [
    "**Using MS Excel, Google Sheets or another spreadsheet software of your choice, create a well-organized data table compiling information about each of your school census tracts. Include the following columns:**\n",
    "<br>\n",
    "* School Address\n",
    "<br>\n",
    "* Census Tract Number\n",
    "<br>\n",
    "* Total Population\n",
    "<br>\n",
    "* % Population Under 5 Years\n",
    "<br>\n",
    "* % Population 5 to 19 years (**Note:** you will have to add numbers to get this)\n",
    "<br>\n",
    "* % Population enrolled in elementary school\n",
    "<br>\n",
    "* % Population with “Language other than English” spoken at home\n",
    "<br>\n",
    "* % Population with “No health insurance coverage”\n",
    "<br>\n",
    "* % Non-White (**Note:** Calculate the total population - Not Hispanic/Latino White alone) <br>\n",
    "* % of population in each of the top 3 represented racial categories<br>\n",
    "> Focus on the broad categories, not the most-specific breakdowns<br>\n",
    "    > i.e. White, Black or African American, American Indian and Alaskan Native, Asian, etc.<br>\n",
    "> *List these individually – three values – not a sum of these values*<br>\n",
    "* % Hispanic or Latino\n",
    "<br>\n",
    "* % Year Structure Built 1980 or later (**Note:** you’ll have to add percentages here)\n",
    "<br>\n",
    "* % Year Structure Built Before 1980 (**Note:** you’ll have to add percentages here)\n",
    "<br>\n",
    "* % Total population below poverty level\n",
    "<br>\n",
    "* % Population under 18 years below poverty level\n",
    "\n",
    "This will require exploring within the above tables. For example, to see the % of structures built before or after a certain year, you will need to click on \" DP04: SELECTED HOUSING CHARACTERISTICS\".\n",
    "\n",
    "*Do not overload us with data! Presentation and legibility are very important here.*"
   ]
  },
  {
   "cell_type": "markdown",
   "metadata": {},
   "source": [
    "**Uploading as a CSV**\n",
    "<br>\n",
    "After creating your data table, be sure to convert it to Comma-Separated Values (CSV) format. To do this: \n",
    "* For MS Excel:\n",
    "    1. Go to \"File\"\n",
    "    2. Click on \"Save As\"\n",
    "    3. In the drop down list for \"Save as type:\", choose \"CSV (Comma delimited)\"\n",
    "\n",
    "* For Google Sheets:\n",
    "    1. Go to \"File\"\n",
    "    2. Hover over \"Download As\"\n",
    "    3. Click \"Comma-Separated Values (.csv)\"\n",
    "\n",
    "Upload your .csv file to Jupyter and run the next cell to load your table."
   ]
  },
  {
   "cell_type": "code",
   "execution_count": null,
   "metadata": {},
   "outputs": [],
   "source": [
    "# Replace the ... with the file name of the .csv table you created\n",
    "data = Table.read_table(...)"
   ]
  },
  {
   "cell_type": "markdown",
   "metadata": {},
   "source": [
    "### Reference\n",
    "\n",
    "Here are some tips and functions you might find useful as you answer the next questions.\n",
    "\n",
    "1. To add a cell on top of the current cell, click beside the text area and type `A`. To add a cell on the bottom, type `B`.\n",
    "2. To find the correlation between 2 arrays of the same length, `a` and `b`, use `corr(a, b)`.\n",
    "3. To make a scatter plot of 2 columns in the table `data`, use the function `data.scatter(\"colA\", \"colB\", fit_line = True)`, where `colA` and `colB` are column names in the table `data`. The last argument, `fit_line`, tells the function to draw the line of best line through your points.\n",
    "4. Feel free to refer to Problem Set 0 and 1 to review how to select and add columns."
   ]
  },
  {
   "cell_type": "markdown",
   "metadata": {},
   "source": [
    "### Question 2d\n",
    "\n",
    "**Using the data you've gathered, as well as the skills you learned in your previous problem sets, answer the following questions:**\n",
    "<br>\n",
    "* Lead was banned from household paints in the United States in 1978, and houses constructed before this year are likely to contain lead paint. Is there a difference in the age of housing surrounding your three schools? \n",
    "* How does this difference related to the other demographic characteristics of the census tracts where the schools are located (race/poverty/English as a Second Language (ESL))?\n",
    "\n",
    "**Write two to three sentences explaining any relationships that you see across your three school census areas.**"
   ]
  },
  {
   "cell_type": "markdown",
   "metadata": {},
   "source": [
    "**Answer:**\n",
    "YOUR ANSWER HERE"
   ]
  },
  {
   "cell_type": "markdown",
   "metadata": {},
   "source": [
    "# 3) Estimating children’s toxics exposure from traffic"
   ]
  },
  {
   "cell_type": "markdown",
   "metadata": {},
   "source": [
    "### Background\n",
    "\n",
    "Starting in 1970, the USEPA moved to phase-out lead in gasoline. Ethyl Corporation (now known as NewMarket Corporation), the company that produced the lead-containing additive TEL that was regularly added to gasoline to prevent engine-knock and boost octane, attempted to block this process through a lawsuit. The basis for this lawsuit: there was no scientific evidence that lead was any more harmful than the gasoline itself. This reasoning should remind you of other issues we have spoken about in class – such arguments assuring the safety of TEL have their roots in the 1920’s, and in fact in 1926 the US Surgeon General assured the public that TEL was hazardous to human health. The EPA eventually won the suit and the phase-out began 1976. In 1996 lead was completely banned from motor vehicle gasoline in the United States.\n",
    "\n",
    "While lead is no longer in our gasoline, soil near roadways still tends to exhibit higher lead concentrations, particularly in urban and higher-traffic areas, and soil is a main route of transmission for small children (who are most susceptible to its neurotoxic effects). In addition to lead, traffic exhaust contains other neuro-developmental toxins, which may lead to worse outcomes when combined with lead exposure, although the science here is still in its infancy. "
   ]
  },
  {
   "cell_type": "markdown",
   "metadata": {},
   "source": [
    "### Questions\n",
    "\n",
    "* Go to the Cal EnviroScreen 3.0 website: \n",
    "https://oehha.ca.gov/calenviroscreen/report/calenviroscreen-30\n",
    "\n",
    "* Scroll down to the CalEnviroScreen 3.0 Map and open the map (where it says “Map of CalEnviroScreen 3.0 Results”). \n",
    "    * Note that this may not work for some browsers, and adblockers may disrupt the function of this tool.\n",
    "* Enter the address of the school and click on the census tract.\n",
    "\n",
    "Here is an example below that shows information about the census tract that Emerson Elementary School is located in.\n",
    "\n",
    "![EnviroScreen](Images/emerson_elementary.PNG)"
   ]
  },
  {
   "cell_type": "markdown",
   "metadata": {},
   "source": [
    "### Question 3a\n",
    "\n",
    "**Create a small table of appropriate data and answer the following questions:**\n",
    "* What is the traffic volumes (the data is given in vehicle-km/hr) for each of your schools' census tracts? \n",
    "* What other forms of pollution stand out, and how do they compare across your census tracts?\n",
    "\n",
    "It might be helpful to refer to the \"02_intro_tables\" notebook in Problem Set 0, as well as the hints in the previous question, to review how to create and maniuplate tables."
   ]
  },
  {
   "cell_type": "code",
   "execution_count": null,
   "metadata": {},
   "outputs": [],
   "source": [
    "# Fill in the ... with your values\n",
    "# Feel free to add more columns\n",
    "census_tracts = make_array(..., ..., ...)\n",
    "traffic_vols = make_array(..., ..., ...)\n",
    "enviro_table = Table().with_columns(\"Census Tract\", census_tracts,\n",
    "                                  \"Traffic Volume (vehicle-km/hr)\", traffic_vols)\n",
    "enviro_table"
   ]
  },
  {
   "cell_type": "markdown",
   "metadata": {},
   "source": [
    "**Answer:**\n",
    "YOUR ANSWER HERE"
   ]
  },
  {
   "cell_type": "markdown",
   "metadata": {},
   "source": [
    "### Question 3b\n",
    "\n",
    "\n",
    "**In two to three sentences, considering housing age and traffic exposure, are schools in neighborhoods with older houses also surrounded by greater traffic density? Do the patterns of cumulative potential sources of lead exposure differ along socioeconomic lines, and if so how?**\n"
   ]
  },
  {
   "cell_type": "markdown",
   "metadata": {},
   "source": [
    "**Answer:**\n",
    "YOUR ANSWER HERE"
   ]
  },
  {
   "cell_type": "markdown",
   "metadata": {},
   "source": [
    "### Question 3c\n",
    "\n",
    "**Some students might find that there is a positive correlation between old housing, traffic, and wealth – why might this be the case? In two to three sentences, explain why this might happen.**\n",
    "<br> \n",
    "Be sure to consider the changing geographies of poverty as well as where kids might be going to school."
   ]
  },
  {
   "cell_type": "markdown",
   "metadata": {},
   "source": [
    "**Answer:**\n",
    "YOUR ANSWER HERE"
   ]
  },
  {
   "cell_type": "markdown",
   "metadata": {},
   "source": [
    "## Saving the Notebook as an PDF\n",
    "\n",
    "Congrats on finishing this notebook! As before, you will be submitting this notebook as an PDF file. To turn in this assignment follow the steps below:\n",
    "\n",
    "1. **Important:** Click the Save icon located at the far left on the top toolbar. Make sure to do this before following the next steps.\n",
    "2. Save the webpage as a PDF.\n",
    "    * For Chrome users:\n",
    "        1. Click on the rightmost button on the top toolbar\n",
    "        2. In the drop down, click \"Print\"\n",
    "        3. For \"Destination\", choose \"Save as PDF\"\n",
    "    * For Firefox users:\n",
    "        1. Click on the rightmost button on the top toolbar\n",
    "        2. In the drop down, clikc \"Print\"\n",
    "        3. Click Print and set the destination as \"Adobe PDF\" or \"Microsoft Print to PDF\"\n",
    "5. Once the file downloads, open it using a PDF reader to make sure that everything looks okay.\n",
    "6. If any pages are omitted from the output PDF, make sure that the images that you have uploaded to Jupyter are displaying properly in the notebook and that the correct filenames are specified. **Issues in converting the notebook to PDF format usually happen when an image in the notebook is not displayed/embedded properly.**\n",
    "7. Submit to the Problem Set 2 Assignment on bCourses."
   ]
  }
 ],
 "metadata": {
  "kernelspec": {
   "display_name": "Python 3",
   "language": "python",
   "name": "python3"
  },
  "language_info": {
   "codemirror_mode": {
    "name": "ipython",
    "version": 3
   },
   "file_extension": ".py",
   "mimetype": "text/x-python",
   "name": "python",
   "nbconvert_exporter": "python",
   "pygments_lexer": "ipython3",
   "version": "3.6.7"
  }
 },
 "nbformat": 4,
 "nbformat_minor": 2
}
